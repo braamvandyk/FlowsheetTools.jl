{
 "cells": [
  {
   "cell_type": "markdown",
   "id": "11d02e24-845d-4b01-90cb-9739f542776b",
   "metadata": {},
   "source": [
    "# FlowsheetTools.jl Demonstration"
   ]
  },
  {
   "cell_type": "markdown",
   "id": "80f8b55b-004b-40c4-b8d3-19545f02504c",
   "metadata": {},
   "source": [
    "FlowsheetTools.jl is a simply library for dealing with flowsheets (components, streams, unitops, boundaries and flowsheets). It can be used as a platform for running custom models, for example when fitting kinetic parameters to pilot plant data, where the operating unit is more complicated than a single reactor. The primary purpose however, was for process analytics - generating KPIs on a flowsheet and reconciling mass balances for generic flowsheets."
   ]
  },
  {
   "cell_type": "code",
   "execution_count": 1,
   "id": "43d17065-74e9-4d55-b364-6e93b09d81f8",
   "metadata": {},
   "outputs": [],
   "source": [
    "using FlowsheetTools, Statistics"
   ]
  },
  {
   "cell_type": "markdown",
   "id": "065c1bca-39dd-46c0-806f-021f83457969",
   "metadata": {},
   "source": [
    "## Components\n",
    "\n",
    "We need a component list to hold all the components so we know where to find them later.\n",
    "    ter"
   ]
  },
  {
   "cell_type": "code",
   "execution_count": 2,
   "id": "f81be581-fd28-4c42-9cd1-cbdd4d3ac0a2",
   "metadata": {},
   "outputs": [
    {
     "data": {
      "text/plain": [
       "Component list:\n"
      ]
     },
     "metadata": {},
     "output_type": "display_data"
    }
   ],
   "source": [
    "syscomps = ComponentList()"
   ]
  },
  {
   "cell_type": "markdown",
   "id": "dfedede6-d0ba-4954-9c97-55765ae0881b",
   "metadata": {},
   "source": [
    "You can read them from a folder with saved components (for convenience)."
   ]
  },
  {
   "cell_type": "code",
   "execution_count": 3,
   "id": "5e8c67b1-33f3-4239-ac62-f5e5464c8329",
   "metadata": {},
   "outputs": [
    {
     "data": {
      "text/plain": [
       "3"
      ]
     },
     "metadata": {},
     "output_type": "display_data"
    }
   ],
   "source": [
    "count = readcomponentlist!(syscomps, \"components\", [\"Ethylene\", \"Ethane\", \"Hydrogen\"])"
   ]
  },
  {
   "cell_type": "markdown",
   "id": "8c971b9c-2621-4f02-ab37-d72063ae5db5",
   "metadata": {},
   "source": [
    "Or you can define them directly with the convenience macros"
   ]
  },
  {
   "cell_type": "code",
   "execution_count": 4,
   "id": "b253b507-5c91-4479-bc2d-3fb7286a7a7a",
   "metadata": {},
   "outputs": [
    {
     "data": {
      "text/plain": [
       "Component: Nitrogen\n",
       "\n",
       "  Atom\t\tCount\n",
       "---------------------\n",
       "   N \t\t   2\n"
      ]
     },
     "metadata": {},
     "output_type": "display_data"
    }
   ],
   "source": [
    "@comp begin\n",
    "    N --> 2\n",
    "end \"Nitrogen\" syscomps"
   ]
  },
  {
   "cell_type": "markdown",
   "id": "4f75e5fb-2611-4441-a0da-da19659685fa",
   "metadata": {},
   "source": [
    "And then save them to file for re-sure later:"
   ]
  },
  {
   "cell_type": "code",
   "execution_count": 5,
   "id": "c366871c-e914-47fa-907e-62c0ed439ded",
   "metadata": {},
   "outputs": [
    {
     "data": {
      "text/plain": [
       "22"
      ]
     },
     "metadata": {},
     "output_type": "display_data"
    }
   ],
   "source": [
    "writecomponent(joinpath(\"components/\", \"Nitrogen.comp\"), syscomps[\"Nitrogen\"])"
   ]
  },
  {
   "cell_type": "markdown",
   "id": "5e2bb422-870f-4e7b-b2f5-4e900146674f",
   "metadata": {},
   "source": [
    "## Streams\n",
    "\n",
    "As for components, we create a container stream list to hold the streams so we have something to iterate through later."
   ]
  },
  {
   "cell_type": "code",
   "execution_count": 6,
   "id": "dd9b936c-6329-4b1d-a010-122fe9c1c387",
   "metadata": {},
   "outputs": [
    {
     "data": {
      "text/plain": [
       "Stream list:\n",
       "\n",
       "Streams:\n",
       "\tEmpty list\n"
      ]
     },
     "metadata": {},
     "output_type": "display_data"
    }
   ],
   "source": [
    "sysstreams = StreamList()"
   ]
  },
  {
   "cell_type": "markdown",
   "id": "420f8400-8dad-4a0d-a1f7-0c7e19954529",
   "metadata": {},
   "source": [
    "You can create the streams directly with instantaneous flows. This can be in either mass or molar flows. The units are not specified - if you assume the mass flows are in kg/h, then the molar equivalent is kmol/hr, but this could as easily be lb/week and lbmole/week."
   ]
  },
  {
   "cell_type": "code",
   "execution_count": 7,
   "id": "fa1bf0ea-decd-4d65-92d2-98f09c209359",
   "metadata": {},
   "outputs": [
    {
     "data": {
      "text/plain": [
       "Stream: Test\n",
       "\n",
       "┌─────────────┬──────────┬─────────┬──────────┬──────────┐\n",
       "│\u001b[1m             \u001b[0m│\u001b[1m Ethylene \u001b[0m│\u001b[1m  Ethane \u001b[0m│\u001b[1m Hydrogen \u001b[0m│\u001b[1m Nitrogen \u001b[0m│\n",
       "├─────────────┼──────────┼─────────┼──────────┼──────────┤\n",
       "│ Mass flows  │   2.8053 │ 27.0619 │  2.21738 │      0.0 │\n",
       "│ Molar flows │      0.1 │     0.9 │      1.1 │      0.0 │\n",
       "└─────────────┴──────────┴─────────┴──────────┴──────────┘\n",
       "\n",
       "Total mass flow: 32.085\n",
       "\n",
       "┌──────┬────────────┐\n",
       "│\u001b[1m Atom \u001b[0m│\u001b[1m Molar flow \u001b[0m│\n",
       "├──────┼────────────┤\n",
       "│    C │        2.0 │\n",
       "│    N │        0.0 │\n",
       "│    H │        8.0 │\n",
       "└──────┴────────────┘\n"
      ]
     },
     "metadata": {},
     "output_type": "display_data"
    }
   ],
   "source": [
    "@stream mass begin\n",
    "    \"Ethylene\" --> 2.8053\n",
    "    \"Ethane\" --> 27.06192\n",
    "    \"Hydrogen\" --> 2.21738\n",
    "end \"Test\" syscomps sysstreams"
   ]
  },
  {
   "cell_type": "code",
   "execution_count": 8,
   "id": "a6ac6d4f-848d-4e58-9640-8287c5db165e",
   "metadata": {},
   "outputs": [
    {
     "data": {
      "text/plain": [
       "Stream: Product\n",
       "\n",
       "┌─────────────┬──────────┬─────────┬──────────┬──────────┐\n",
       "│\u001b[1m             \u001b[0m│\u001b[1m Ethylene \u001b[0m│\u001b[1m  Ethane \u001b[0m│\u001b[1m Hydrogen \u001b[0m│\u001b[1m Nitrogen \u001b[0m│\n",
       "├─────────────┼──────────┼─────────┼──────────┼──────────┤\n",
       "│ Mass flows  │   2.8053 │ 27.0619 │  2.21738 │      0.0 │\n",
       "│ Molar flows │      0.1 │     0.9 │      1.1 │      0.0 │\n",
       "└─────────────┴──────────┴─────────┴──────────┴──────────┘\n",
       "\n",
       "Total mass flow: 32.085\n",
       "\n",
       "┌──────┬────────────┐\n",
       "│\u001b[1m Atom \u001b[0m│\u001b[1m Molar flow \u001b[0m│\n",
       "├──────┼────────────┤\n",
       "│    C │        2.0 │\n",
       "│    N │        0.0 │\n",
       "│    H │        8.0 │\n",
       "└──────┴────────────┘\n"
      ]
     },
     "metadata": {},
     "output_type": "display_data"
    }
   ],
   "source": [
    "@stream mole begin \n",
    "    \"Ethane\" --> 0.9\n",
    "    \"Hydrogen\" --> 1.1\n",
    "    \"Ethylene\" --> 0.1\n",
    "end \"Product\" syscomps sysstreams"
   ]
  },
  {
   "cell_type": "markdown",
   "id": "06996e16-005e-4ba1-b1c0-c30b489e9dd5",
   "metadata": {},
   "source": [
    "One stream here was specified as mass flows, the other as molar flows, but there streams are the same and the missing flows (mass/mole) are calculated automatically in the constructor.\n",
    "\n",
    "We can quickly check if the molar flows are identical:"
   ]
  },
  {
   "cell_type": "code",
   "execution_count": 9,
   "id": "1359bcc9-c24d-4e1d-8186-9dff50065eb0",
   "metadata": {},
   "outputs": [
    {
     "data": {
      "text/plain": [
       "1×4 TimeSeries.TimeArray{Bool, 2, Dates.DateTime, BitMatrix} 0000-01-01T00:00:00 to 0000-01-01T00:00:00\n",
       "┌─────────────────────┬───────────────────┬───────────────┬─────────────────────\n",
       "│\u001b[1m                     \u001b[0m│\u001b[1m Ethylene_Ethylene \u001b[0m│\u001b[1m Ethane_Ethane \u001b[0m│\u001b[1m Hydrogen_Hydrogen \u001b[0m ⋯\n",
       "├─────────────────────┼───────────────────┼───────────────┼─────────────────────\n",
       "│ 0000-01-01T00:00:00 │              true │          true │              true  ⋯\n",
       "└─────────────────────┴───────────────────┴───────────────┴─────────────────────\n",
       "\u001b[36m                                                                1 column omitted\u001b[0m"
      ]
     },
     "metadata": {},
     "output_type": "display_data"
    }
   ],
   "source": [
    "sysstreams[\"Test\"].moleflows .≈ sysstreams[\"Product\"].moleflows"
   ]
  },
  {
   "cell_type": "markdown",
   "id": "c176d7b3-13d2-4874-a348-28a4c3d26cc8",
   "metadata": {},
   "source": [
    "And the same for the atomic flows:"
   ]
  },
  {
   "cell_type": "code",
   "execution_count": 10,
   "id": "046bb64d-b2bb-46f0-9e84-e11f3ebde00a",
   "metadata": {},
   "outputs": [
    {
     "data": {
      "text/plain": [
       "true"
      ]
     },
     "metadata": {},
     "output_type": "display_data"
    }
   ],
   "source": [
    "all(getindex.(values(sysstreams[\"Test\"].atomflows), \"C\") .== getindex.(values(sysstreams[\"Product\"].atomflows), \"C\"))"
   ]
  },
  {
   "cell_type": "code",
   "execution_count": 11,
   "id": "2572e800-6290-4534-97b1-5b6d8d28304f",
   "metadata": {},
   "outputs": [
    {
     "data": {
      "text/plain": [
       "true"
      ]
     },
     "metadata": {},
     "output_type": "display_data"
    }
   ],
   "source": [
    "all(getindex.(values(sysstreams[\"Test\"].atomflows), \"H\") .== getindex.(values(sysstreams[\"Product\"].atomflows), \"H\"))"
   ]
  },
  {
   "cell_type": "markdown",
   "id": "fb1f902d-305b-41b9-a1ab-6bc5a336c33b",
   "metadata": {},
   "source": [
    "When we want to deal with streams with multiple historic data points, the best option is to read them from a file:"
   ]
  },
  {
   "cell_type": "code",
   "execution_count": 12,
   "id": "b50ab77f-2126-4d65-835d-6c3aeb303471",
   "metadata": {},
   "outputs": [
    {
     "data": {
      "text/plain": [
       "Stream list:\n",
       "\n",
       "Streams:\n",
       "\tEmpty list\n"
      ]
     },
     "metadata": {},
     "output_type": "display_data"
    }
   ],
   "source": [
    "sysstreams = StreamList() # Create a new container and dump the previous streams"
   ]
  },
  {
   "cell_type": "code",
   "execution_count": 13,
   "id": "2ee51871-e05c-48d7-a69c-6f8c5fe04c91",
   "metadata": {},
   "outputs": [
    {
     "data": {
      "text/plain": [
       "Stream: Product\n",
       "\n",
       "Mass flows:\n",
       "┌─────────────────────┬──────────┬─────────┬──────────┬──────────┐\n",
       "│\u001b[1m           timestamp \u001b[0m│\u001b[1m Ethylene \u001b[0m│\u001b[1m  Ethane \u001b[0m│\u001b[1m Hydrogen \u001b[0m│\u001b[1m Nitrogen \u001b[0m│\n",
       "│\u001b[90m      Dates.DateTime \u001b[0m│\u001b[90m  Float64 \u001b[0m│\u001b[90m Float64 \u001b[0m│\u001b[90m  Float64 \u001b[0m│\u001b[90m  Float64 \u001b[0m│\n",
       "├─────────────────────┼──────────┼─────────┼──────────┼──────────┤\n",
       "│ 2020-01-01T00:00:00 │  2.66076 │ 84.9202 │ 0.215866 │      0.0 │\n",
       "│ 2020-01-01T06:00:00 │  2.99313 │ 93.3901 │ 0.194023 │      0.0 │\n",
       "│ 2020-01-02T00:00:00 │  2.86944 │ 88.1101 │ 0.186885 │      0.0 │\n",
       "│ 2020-01-02T06:00:00 │  2.98391 │ 88.3229 │  0.20051 │      0.0 │\n",
       "│ 2020-01-03T00:00:00 │  3.01277 │ 92.5947 │ 0.217602 │      0.0 │\n",
       "│          ⋮          │    ⋮     │    ⋮    │    ⋮     │    ⋮     │\n",
       "└─────────────────────┴──────────┴─────────┴──────────┴──────────┘\n",
       "\u001b[36m                                                   22 rows omitted\u001b[0m\n",
       "\n",
       "Molar flows:\n",
       "┌─────────────────────┬───────────┬─────────┬───────────┬──────────┐\n",
       "│\u001b[1m           timestamp \u001b[0m│\u001b[1m  Ethylene \u001b[0m│\u001b[1m  Ethane \u001b[0m│\u001b[1m  Hydrogen \u001b[0m│\u001b[1m Nitrogen \u001b[0m│\n",
       "│\u001b[90m      Dates.DateTime \u001b[0m│\u001b[90m   Float64 \u001b[0m│\u001b[90m Float64 \u001b[0m│\u001b[90m   Float64 \u001b[0m│\u001b[90m  Float64 \u001b[0m│\n",
       "├─────────────────────┼───────────┼─────────┼───────────┼──────────┤\n",
       "│ 2020-01-01T00:00:00 │ 0.0948475 │  2.8242 │  0.107087 │      0.0 │\n",
       "│ 2020-01-01T06:00:00 │  0.106695 │ 3.10588 │ 0.0962513 │      0.0 │\n",
       "│ 2020-01-02T00:00:00 │  0.102286 │ 2.93028 │ 0.0927099 │      0.0 │\n",
       "│ 2020-01-02T06:00:00 │  0.106367 │ 2.93736 │ 0.0994692 │      0.0 │\n",
       "│ 2020-01-03T00:00:00 │  0.107396 │ 3.07943 │  0.107948 │      0.0 │\n",
       "│          ⋮          │     ⋮     │    ⋮    │     ⋮     │    ⋮     │\n",
       "└─────────────────────┴───────────┴─────────┴───────────┴──────────┘\n",
       "\u001b[36m                                                     22 rows omitted\u001b[0m\n",
       "\n",
       "\n",
       "Atom Flows:\n",
       "┌─────────────────────┬────────────────────────────────────────────┐\n",
       "│\u001b[1m           timestamp \u001b[0m│\u001b[1m                                  atomflows \u001b[0m│\n",
       "│\u001b[90m      Dates.DateTime \u001b[0m│\u001b[90m                      Dict{String, Float64} \u001b[0m│\n",
       "├─────────────────────┼────────────────────────────────────────────┤\n",
       "│ 2020-01-01T00:00:00 │ Dict(\"C\"=>5.83809, \"N\"=>0.0, \"H\"=>17.5387) │\n",
       "│ 2020-01-01T06:00:00 │ Dict(\"C\"=>6.42515, \"N\"=>0.0, \"H\"=>19.2546) │\n",
       "│ 2020-01-02T00:00:00 │ Dict(\"C\"=>6.06514, \"N\"=>0.0, \"H\"=>18.1763) │\n",
       "│ 2020-01-02T06:00:00 │ Dict(\"C\"=>6.08745, \"N\"=>0.0, \"H\"=>18.2486) │\n",
       "│ 2020-01-03T00:00:00 │  Dict(\"C\"=>6.37365, \"N\"=>0.0, \"H\"=>19.122) │\n",
       "│          ⋮          │                     ⋮                      │\n",
       "└─────────────────────┴────────────────────────────────────────────┘\n",
       "\u001b[36m                                                     22 rows omitted\u001b[0m\n",
       "\n",
       "Data length:\t27\n",
       "Data starts:\t2020-01-01T00:00:00\n",
       "Data ends:\t2020-01-14T00:00:00\n"
      ]
     },
     "metadata": {},
     "output_type": "display_data"
    }
   ],
   "source": [
    "sysstreams[\"Feed\"] = readstreamhistory(joinpath(\"streamhistories\", \"FeedStream.csv\"), \"Feed\", syscomps; ismoleflow=true)\n",
    "sysstreams[\"Product\"] = readstreamhistory(joinpath(\"streamhistories\", \"ProdStream.csv\"), \"Product\", syscomps; ismoleflow=true)"
   ]
  },
  {
   "cell_type": "markdown",
   "id": "b7352b89-3396-40a7-a026-3a02a17f215f",
   "metadata": {},
   "source": [
    "In the data files (*.csv), we had columns of data for ethylene, ethane and hydrogen, but or list of components also include nitrogen. We automatically set zero flows for amy components not in the file, so all the streams contain all of the components (for our sanity)."
   ]
  },
  {
   "cell_type": "markdown",
   "id": "303e19bd-c9b2-4904-8844-9747afbc2a77",
   "metadata": {},
   "source": [
    "We can still add components to the component list after the streams were created, but then we should also call `refreshcomplist(streamlist)` to add zero flows for all of these new components to the existing streams in the stream list.\n",
    "    "
   ]
  },
  {
   "cell_type": "code",
   "execution_count": 14,
   "id": "2ad81bd9-8f72-4677-930e-702e38714311",
   "metadata": {},
   "outputs": [
    {
     "data": {
      "text/plain": [
       "Stream: Feed\n",
       "\n",
       "Mass flows:\n",
       "┌─────────────────────┬──────────┬─────────┬──────────┬──────────┬─────────┐\n",
       "│\u001b[1m           timestamp \u001b[0m│\u001b[1m Ethylene \u001b[0m│\u001b[1m  Ethane \u001b[0m│\u001b[1m Hydrogen \u001b[0m│\u001b[1m Nitrogen \u001b[0m│\u001b[1m   Argon \u001b[0m│\n",
       "│\u001b[90m      Dates.DateTime \u001b[0m│\u001b[90m  Float64 \u001b[0m│\u001b[90m Float64 \u001b[0m│\u001b[90m  Float64 \u001b[0m│\u001b[90m  Float64 \u001b[0m│\u001b[90m Float64 \u001b[0m│\n",
       "├─────────────────────┼──────────┼─────────┼──────────┼──────────┼─────────┤\n",
       "│ 2020-01-01T00:00:00 │  59.1012 │ 30.1711 │  3.99575 │      0.0 │     0.0 │\n",
       "│ 2020-01-01T06:00:00 │  59.7961 │ 30.4876 │  4.15398 │      0.0 │     0.0 │\n",
       "│ 2020-01-02T00:00:00 │  61.2996 │ 27.0851 │  4.21259 │      0.0 │     0.0 │\n",
       "│ 2020-01-02T06:00:00 │  59.5127 │ 29.9669 │  3.93049 │      0.0 │     0.0 │\n",
       "│ 2020-01-03T00:00:00 │  52.4608 │ 27.3167 │  4.30034 │      0.0 │     0.0 │\n",
       "│          ⋮          │    ⋮     │    ⋮    │    ⋮     │    ⋮     │    ⋮    │\n",
       "└─────────────────────┴──────────┴─────────┴──────────┴──────────┴─────────┘\n",
       "\u001b[36m                                                             22 rows omitted\u001b[0m\n",
       "\n",
       "Molar flows:\n",
       "┌─────────────────────┬──────────┬──────────┬──────────┬──────────┬─────────┐\n",
       "│\u001b[1m           timestamp \u001b[0m│\u001b[1m Ethylene \u001b[0m│\u001b[1m   Ethane \u001b[0m│\u001b[1m Hydrogen \u001b[0m│\u001b[1m Nitrogen \u001b[0m│\u001b[1m   Argon \u001b[0m│\n",
       "│\u001b[90m      Dates.DateTime \u001b[0m│\u001b[90m  Float64 \u001b[0m│\u001b[90m  Float64 \u001b[0m│\u001b[90m  Float64 \u001b[0m│\u001b[90m  Float64 \u001b[0m│\u001b[90m Float64 \u001b[0m│\n",
       "├─────────────────────┼──────────┼──────────┼──────────┼──────────┼─────────┤\n",
       "│ 2020-01-01T00:00:00 │  2.10677 │   1.0034 │  1.98222 │      0.0 │     0.0 │\n",
       "│ 2020-01-01T06:00:00 │  2.13154 │  1.01393 │  2.06071 │      0.0 │     0.0 │\n",
       "│ 2020-01-02T00:00:00 │  2.18514 │ 0.900772 │  2.08978 │      0.0 │     0.0 │\n",
       "│ 2020-01-02T06:00:00 │  2.12144 │ 0.996612 │  1.94984 │      0.0 │     0.0 │\n",
       "│ 2020-01-03T00:00:00 │  1.87006 │ 0.908472 │  2.13332 │      0.0 │     0.0 │\n",
       "│          ⋮          │    ⋮     │    ⋮     │    ⋮     │    ⋮     │    ⋮    │\n",
       "└─────────────────────┴──────────┴──────────┴──────────┴──────────┴─────────┘\n",
       "\u001b[36m                                                              22 rows omitted\u001b[0m\n",
       "\n",
       "\n",
       "Atom Flows:\n",
       "┌─────────────────────┬───────────────────────────────────────────────────────┐\n",
       "│\u001b[1m           timestamp \u001b[0m│\u001b[1m                                             atomflows \u001b[0m│\n",
       "│\u001b[90m      Dates.DateTime \u001b[0m│\u001b[90m                                 Dict{String, Float64} \u001b[0m│\n",
       "├─────────────────────┼───────────────────────────────────────────────────────┤\n",
       "│ 2020-01-01T00:00:00 │ Dict(\"C\"=>6.22034, \"N\"=>0.0, \"Ar\"=>0.0, \"H\"=>18.4119) │\n",
       "│ 2020-01-01T06:00:00 │ Dict(\"C\"=>6.29094, \"N\"=>0.0, \"Ar\"=>0.0, \"H\"=>18.7312) │\n",
       "│ 2020-01-02T00:00:00 │ Dict(\"C\"=>6.17181, \"N\"=>0.0, \"Ar\"=>0.0, \"H\"=>18.3247) │\n",
       "│ 2020-01-02T06:00:00 │  Dict(\"C\"=>6.2361, \"N\"=>0.0, \"Ar\"=>0.0, \"H\"=>18.3651) │\n",
       "│ 2020-01-03T00:00:00 │ Dict(\"C\"=>5.55706, \"N\"=>0.0, \"Ar\"=>0.0, \"H\"=>17.1977) │\n",
       "│          ⋮          │                           ⋮                           │\n",
       "└─────────────────────┴───────────────────────────────────────────────────────┘\n",
       "\u001b[36m                                                                22 rows omitted\u001b[0m\n",
       "\n",
       "Data length:\t27\n",
       "Data starts:\t2020-01-01T00:00:00\n",
       "Data ends:\t2020-01-14T00:00:00\n"
      ]
     },
     "metadata": {},
     "output_type": "display_data"
    }
   ],
   "source": [
    "@comp begin\n",
    "    Ar --> 1\n",
    "end \"Argon\" syscomps\n",
    "\n",
    "refreshcomplist(sysstreams)\n",
    "\n",
    "sysstreams[\"Feed\"]"
   ]
  },
  {
   "cell_type": "markdown",
   "id": "097f3de8-e92c-467c-8877-fb7698f82dce",
   "metadata": {},
   "source": [
    "## What can we do with streams?"
   ]
  },
  {
   "cell_type": "markdown",
   "id": "aed0e6fb-8c5a-46a2-9b40-07a17181fc08",
   "metadata": {},
   "source": [
    "Operations defined on streams include addition and multiplication with a scalar. Addition of streams is effectively a mixer unit. Multiplication is used to allow correction factors for mass balance reconciliation."
   ]
  },
  {
   "cell_type": "code",
   "execution_count": 15,
   "id": "9cdd1781-7b3c-433b-b031-28ffbba7e81b",
   "metadata": {},
   "outputs": [
    {
     "data": {
      "text/plain": [
       "Stream: Product\n",
       "\n",
       "Mass flows:\n",
       "┌─────────────────────┬──────────┬─────────┬──────────┬──────────┬─────────┐\n",
       "│\u001b[1m           timestamp \u001b[0m│\u001b[1m Ethylene \u001b[0m│\u001b[1m  Ethane \u001b[0m│\u001b[1m Hydrogen \u001b[0m│\u001b[1m Nitrogen \u001b[0m│\u001b[1m   Argon \u001b[0m│\n",
       "│\u001b[90m      Dates.DateTime \u001b[0m│\u001b[90m  Float64 \u001b[0m│\u001b[90m Float64 \u001b[0m│\u001b[90m  Float64 \u001b[0m│\u001b[90m  Float64 \u001b[0m│\u001b[90m Float64 \u001b[0m│\n",
       "├─────────────────────┼──────────┼─────────┼──────────┼──────────┼─────────┤\n",
       "│ 2020-01-01T00:00:00 │  5.32151 │  169.84 │ 0.431731 │      0.0 │     0.0 │\n",
       "│ 2020-01-01T06:00:00 │  5.98625 │  186.78 │ 0.388047 │      0.0 │     0.0 │\n",
       "│ 2020-01-02T00:00:00 │  5.73888 │  176.22 │ 0.373769 │      0.0 │     0.0 │\n",
       "│ 2020-01-02T06:00:00 │  5.96781 │ 176.646 │  0.40102 │      0.0 │     0.0 │\n",
       "│ 2020-01-03T00:00:00 │  6.02554 │ 185.189 │ 0.435204 │      0.0 │     0.0 │\n",
       "│          ⋮          │    ⋮     │    ⋮    │    ⋮     │    ⋮     │    ⋮    │\n",
       "└─────────────────────┴──────────┴─────────┴──────────┴──────────┴─────────┘\n",
       "\u001b[36m                                                             22 rows omitted\u001b[0m\n",
       "\n",
       "Molar flows:\n",
       "┌─────────────────────┬──────────┬─────────┬──────────┬──────────┬─────────┐\n",
       "│\u001b[1m           timestamp \u001b[0m│\u001b[1m Ethylene \u001b[0m│\u001b[1m  Ethane \u001b[0m│\u001b[1m Hydrogen \u001b[0m│\u001b[1m Nitrogen \u001b[0m│\u001b[1m   Argon \u001b[0m│\n",
       "│\u001b[90m      Dates.DateTime \u001b[0m│\u001b[90m  Float64 \u001b[0m│\u001b[90m Float64 \u001b[0m│\u001b[90m  Float64 \u001b[0m│\u001b[90m  Float64 \u001b[0m│\u001b[90m Float64 \u001b[0m│\n",
       "├─────────────────────┼──────────┼─────────┼──────────┼──────────┼─────────┤\n",
       "│ 2020-01-01T00:00:00 │ 0.189695 │ 5.64839 │ 0.214174 │      0.0 │     0.0 │\n",
       "│ 2020-01-01T06:00:00 │ 0.213391 │ 6.21176 │ 0.192503 │      0.0 │     0.0 │\n",
       "│ 2020-01-02T00:00:00 │ 0.204573 │ 5.86056 │  0.18542 │      0.0 │     0.0 │\n",
       "│ 2020-01-02T06:00:00 │ 0.212734 │ 5.87472 │ 0.198938 │      0.0 │     0.0 │\n",
       "│ 2020-01-03T00:00:00 │ 0.214791 │ 6.15885 │ 0.215896 │      0.0 │     0.0 │\n",
       "│          ⋮          │    ⋮     │    ⋮    │    ⋮     │    ⋮     │    ⋮    │\n",
       "└─────────────────────┴──────────┴─────────┴──────────┴──────────┴─────────┘\n",
       "\u001b[36m                                                             22 rows omitted\u001b[0m\n",
       "\n",
       "\n",
       "Atom Flows:\n",
       "┌─────────────────────┬───────────────────────────────────────────────────────┐\n",
       "│\u001b[1m           timestamp \u001b[0m│\u001b[1m                                             atomflows \u001b[0m│\n",
       "│\u001b[90m      Dates.DateTime \u001b[0m│\u001b[90m                                 Dict{String, Float64} \u001b[0m│\n",
       "├─────────────────────┼───────────────────────────────────────────────────────┤\n",
       "│ 2020-01-01T00:00:00 │ Dict(\"C\"=>11.6762, \"N\"=>0.0, \"Ar\"=>0.0, \"H\"=>35.0775) │\n",
       "│ 2020-01-01T06:00:00 │ Dict(\"C\"=>12.8503, \"N\"=>0.0, \"Ar\"=>0.0, \"H\"=>38.5091) │\n",
       "│ 2020-01-02T00:00:00 │ Dict(\"C\"=>12.1303, \"N\"=>0.0, \"Ar\"=>0.0, \"H\"=>36.3525) │\n",
       "│ 2020-01-02T06:00:00 │ Dict(\"C\"=>12.1749, \"N\"=>0.0, \"Ar\"=>0.0, \"H\"=>36.4971) │\n",
       "│ 2020-01-03T00:00:00 │ Dict(\"C\"=>12.7473, \"N\"=>0.0, \"Ar\"=>0.0, \"H\"=>38.2441) │\n",
       "│          ⋮          │                           ⋮                           │\n",
       "└─────────────────────┴───────────────────────────────────────────────────────┘\n",
       "\u001b[36m                                                                22 rows omitted\u001b[0m\n",
       "\n",
       "Data length:\t27\n",
       "Data starts:\t2020-01-01T00:00:00\n",
       "Data ends:\t2020-01-14T00:00:00\n"
      ]
     },
     "metadata": {},
     "output_type": "display_data"
    }
   ],
   "source": [
    "sysstreams[\"Prod2\"] = 2.0*sysstreams[\"Product\"]"
   ]
  },
  {
   "cell_type": "code",
   "execution_count": 16,
   "id": "9818a2fb-8470-48eb-bab6-2e6e15941fc8",
   "metadata": {},
   "outputs": [
    {
     "data": {
      "text/plain": [
       "true"
      ]
     },
     "metadata": {},
     "output_type": "display_data"
    }
   ],
   "source": [
    "all(values(sysstreams[\"Prod2\"].totalmassflow) .≈ values(2.0 .* sysstreams[\"Product\"].totalmassflow))"
   ]
  },
  {
   "cell_type": "markdown",
   "id": "0728c89e-a8b1-4e04-a1f1-ae992710373a",
   "metadata": {},
   "source": [
    "Note the use of `.≈` and `.*` above. Internally the data are stored in `TimeArrays` from `TimeSeries.jl` and only the broadcasted operators are used on `TimeArray`s. Comparison between `TimeArrays` returns a `TimeArray` and we extract the results as an aray using the `values()` function to get a `BitVector`."
   ]
  },
  {
   "cell_type": "markdown",
   "id": "7eee460f-7dc9-49b8-8f2b-4608adeebc7b",
   "metadata": {},
   "source": [
    "We can also copy streams and copy with a multiplication factor:"
   ]
  },
  {
   "cell_type": "code",
   "execution_count": 17,
   "id": "3ee7b055-cb5b-4974-bd6e-f9b9928ef70a",
   "metadata": {},
   "outputs": [],
   "source": [
    "copystream!(sysstreams, \"Product\", \"MyStream\")\n",
    "copystream!(sysstreams, \"Product\", \"MyStream2\"; factor=2.0)"
   ]
  },
  {
   "cell_type": "code",
   "execution_count": 18,
   "id": "07c8e223-a413-4e81-90e0-817ad0e0ba0e",
   "metadata": {},
   "outputs": [
    {
     "data": {
      "text/plain": [
       "true"
      ]
     },
     "metadata": {},
     "output_type": "display_data"
    }
   ],
   "source": [
    "all(values(sysstreams[\"MyStream2\"].totalmassflow) .≈ values(2.0 .* sysstreams[\"MyStream\"].totalmassflow))"
   ]
  },
  {
   "cell_type": "markdown",
   "id": "2eec96bb-b3a3-40e4-a870-5dd212f0ba4e",
   "metadata": {},
   "source": [
    "We can also compare `MyStream` to its source, `Product`"
   ]
  },
  {
   "cell_type": "code",
   "execution_count": 19,
   "id": "edad1a85-088f-484a-aa6f-74737cdf4045",
   "metadata": {},
   "outputs": [
    {
     "data": {
      "text/plain": [
       "false"
      ]
     },
     "metadata": {},
     "output_type": "display_data"
    }
   ],
   "source": [
    "sysstreams[\"Product\"] == sysstreams[\"MyStream\"]"
   ]
  },
  {
   "cell_type": "markdown",
   "id": "35355281-2050-4c0c-ae59-b3672ea4809f",
   "metadata": {},
   "source": [
    "The streams are NOT identical, since their names are different. But if we compare the flows, we see that these are the same:"
   ]
  },
  {
   "cell_type": "code",
   "execution_count": 20,
   "id": "5ac497b6-9ab6-4f98-a6ee-34f5b4b5cbe9",
   "metadata": {},
   "outputs": [
    {
     "data": {
      "text/plain": [
       "(true, true, true)"
      ]
     },
     "metadata": {},
     "output_type": "display_data"
    }
   ],
   "source": [
    "(all(getindex.(values(sysstreams[\"Product\"].atomflows), \"C\") .== getindex.(values(sysstreams[\"MyStream\"].atomflows), \"C\")),\n",
    "all(getindex.(values(sysstreams[\"Product\"].atomflows), \"H\") .== getindex.(values(sysstreams[\"MyStream\"].atomflows), \"H\")),\n",
    "all(getindex.(values(sysstreams[\"Product\"].atomflows), \"N\") .== getindex.(values(sysstreams[\"MyStream\"].atomflows), \"N\")))"
   ]
  },
  {
   "cell_type": "markdown",
   "id": "b33359a6-c5f9-4587-a82c-4b2e5e53a236",
   "metadata": {},
   "source": [
    "We can also rename or delete streams from the stream list:"
   ]
  },
  {
   "cell_type": "code",
   "execution_count": 21,
   "id": "58c628d4-7b14-433b-b802-4b9f31b55531",
   "metadata": {},
   "outputs": [],
   "source": [
    "renamestream!(sysstreams, \"MyStream\", \"Dummy\")\n",
    "deletestream!(sysstreams, \"Dummy\")"
   ]
  },
  {
   "cell_type": "code",
   "execution_count": 22,
   "id": "bfab97e7-2741-47dd-94bf-a3e20e5eeb97",
   "metadata": {},
   "outputs": [
    {
     "data": {
      "text/plain": [
       "Stream list:\n",
       "\n",
       "Streams:\n",
       "  Feed\n",
       "  Product\n",
       "  Prod2\n",
       "  MyStream2\n",
       "\n",
       "Components:\n",
       "  Ethylene\n",
       "  Ethane\n",
       "  Hydrogen\n",
       "  Nitrogen\n",
       "  Argon\n",
       "\n",
       "Data length:\t27\n",
       "Data starts:\t2020-01-01T00:00:00\n",
       "Data ends:\t2020-01-14T00:00:00\n"
      ]
     },
     "metadata": {},
     "output_type": "display_data"
    }
   ],
   "source": [
    "sysstreams"
   ]
  },
  {
   "cell_type": "markdown",
   "id": "408e27a6-6a92-4def-8d22-0d844520b1cd",
   "metadata": {},
   "source": [
    "## UnitOps, Boundaries and KPIs"
   ]
  },
  {
   "cell_type": "markdown",
   "id": "c3fb5aee-2dd6-4501-bc0d-2bc4aac2ff69",
   "metadata": {},
   "source": [
    "Let's start with an empty stream list"
   ]
  },
  {
   "cell_type": "code",
   "execution_count": 23,
   "id": "0404dfb6-34a7-41ed-96fd-f339b51fea07",
   "metadata": {},
   "outputs": [
    {
     "data": {
      "text/plain": [
       "Stream list:\n",
       "\n",
       "Streams:\n",
       "\tEmpty list\n"
      ]
     },
     "metadata": {},
     "output_type": "display_data"
    }
   ],
   "source": [
    "sysstreams = StreamList()"
   ]
  },
  {
   "cell_type": "code",
   "execution_count": 24,
   "id": "9e266397-3f91-460b-a21a-1610c78d0691",
   "metadata": {},
   "outputs": [
    {
     "data": {
      "text/plain": [
       "Stream: C2\n",
       "\n",
       "┌─────────────┬──────────┬─────────┬──────────┬──────────┬───────┐\n",
       "│\u001b[1m             \u001b[0m│\u001b[1m Ethylene \u001b[0m│\u001b[1m  Ethane \u001b[0m│\u001b[1m Hydrogen \u001b[0m│\u001b[1m Nitrogen \u001b[0m│\u001b[1m Argon \u001b[0m│\n",
       "├─────────────┼──────────┼─────────┼──────────┼──────────┼───────┤\n",
       "│ Mass flows  │   2.8053 │ 27.0619 │      0.0 │      0.0 │   0.0 │\n",
       "│ Molar flows │      0.1 │     0.9 │      0.0 │      0.0 │   0.0 │\n",
       "└─────────────┴──────────┴─────────┴──────────┴──────────┴───────┘\n",
       "\n",
       "Total mass flow: 29.867\n",
       "\n",
       "┌──────┬────────────┐\n",
       "│\u001b[1m Atom \u001b[0m│\u001b[1m Molar flow \u001b[0m│\n",
       "├──────┼────────────┤\n",
       "│    C │        2.0 │\n",
       "│    N │        0.0 │\n",
       "│   Ar │        0.0 │\n",
       "│    H │        5.8 │\n",
       "└──────┴────────────┘\n"
      ]
     },
     "metadata": {},
     "output_type": "display_data"
    }
   ],
   "source": [
    "@stream mole begin\n",
    "    \"Hydrogen\" --> 1.1\n",
    "end \"H2\" syscomps sysstreams\n",
    "\n",
    "@stream mole begin\n",
    "    \"Ethylene\" --> 0.1\n",
    "    \"Ethane\" --> 0.9\n",
    "end \"C2\" syscomps sysstreams"
   ]
  },
  {
   "cell_type": "markdown",
   "id": "cfc847f2-2727-4e4d-bddb-855bd4e6f443",
   "metadata": {},
   "source": [
    "We can also add an empty stream, since we don't measure the mixed stream. We'll calculate it with a mixer model later"
   ]
  },
  {
   "cell_type": "code",
   "execution_count": 25,
   "id": "aa891579-0ea7-4f0b-bec1-625d8b7824d0",
   "metadata": {},
   "outputs": [
    {
     "data": {
      "text/plain": [
       "Stream: Mixed\n",
       "\n",
       "┌─────────────┬──────────┬────────┬──────────┬──────────┬───────┐\n",
       "│\u001b[1m             \u001b[0m│\u001b[1m Ethylene \u001b[0m│\u001b[1m Ethane \u001b[0m│\u001b[1m Hydrogen \u001b[0m│\u001b[1m Nitrogen \u001b[0m│\u001b[1m Argon \u001b[0m│\n",
       "├─────────────┼──────────┼────────┼──────────┼──────────┼───────┤\n",
       "│ Mass flows  │      0.0 │    0.0 │      0.0 │      0.0 │   0.0 │\n",
       "│ Molar flows │      0.0 │    0.0 │      0.0 │      0.0 │   0.0 │\n",
       "└─────────────┴──────────┴────────┴──────────┴──────────┴───────┘\n",
       "\n",
       "Total mass flow: 0.0\n",
       "\n",
       "┌──────┬────────────┐\n",
       "│\u001b[1m Atom \u001b[0m│\u001b[1m Molar flow \u001b[0m│\n",
       "├──────┼────────────┤\n",
       "│    C │        0.0 │\n",
       "│    N │        0.0 │\n",
       "│   Ar │        0.0 │\n",
       "│    H │        0.0 │\n",
       "└──────┴────────────┘\n"
      ]
     },
     "metadata": {},
     "output_type": "display_data"
    }
   ],
   "source": [
    "sysstreams[\"Mixed\"] = emptystream(sysstreams, \"Mixed\")"
   ]
  },
  {
   "cell_type": "code",
   "execution_count": 26,
   "id": "3aa7492b-c3de-4b78-9f8b-95068c9fb507",
   "metadata": {},
   "outputs": [
    {
     "data": {
      "text/plain": [
       "Stream: Product\n",
       "\n",
       "┌─────────────┬──────────┬─────────┬──────────┬──────────┬───────┐\n",
       "│\u001b[1m             \u001b[0m│\u001b[1m Ethylene \u001b[0m│\u001b[1m  Ethane \u001b[0m│\u001b[1m Hydrogen \u001b[0m│\u001b[1m Nitrogen \u001b[0m│\u001b[1m Argon \u001b[0m│\n",
       "├─────────────┼──────────┼─────────┼──────────┼──────────┼───────┤\n",
       "│ Mass flows  │      0.0 │ 30.0688 │   2.0158 │      0.0 │   0.0 │\n",
       "│ Molar flows │      0.0 │     1.0 │      1.0 │      0.0 │   0.0 │\n",
       "└─────────────┴──────────┴─────────┴──────────┴──────────┴───────┘\n",
       "\n",
       "Total mass flow: 32.085\n",
       "\n",
       "┌──────┬────────────┐\n",
       "│\u001b[1m Atom \u001b[0m│\u001b[1m Molar flow \u001b[0m│\n",
       "├──────┼────────────┤\n",
       "│    C │        2.0 │\n",
       "│    N │        0.0 │\n",
       "│   Ar │        0.0 │\n",
       "│    H │        8.0 │\n",
       "└──────┴────────────┘\n"
      ]
     },
     "metadata": {},
     "output_type": "display_data"
    }
   ],
   "source": [
    "@stream mole begin\n",
    "    \"Ethylene\" --> 0.0\n",
    "    \"Ethane\" --> 1.0\n",
    "    \"Hydrogen\" --> 1.0\n",
    "end \"Product\" syscomps sysstreams"
   ]
  },
  {
   "cell_type": "markdown",
   "id": "6877b023-9df8-418e-bb2b-625f33e36e1f",
   "metadata": {},
   "source": [
    "Now we define some unit operations. As with components and streams we need a container to be able to access the streams again later."
   ]
  },
  {
   "cell_type": "code",
   "execution_count": 27,
   "id": "1a1146cd-de00-431c-8d85-fc21c1ee82a7",
   "metadata": {},
   "outputs": [
    {
     "data": {
      "text/plain": [
       "UnitOperation list:\n",
       "Empty list\n"
      ]
     },
     "metadata": {},
     "output_type": "display_data"
    }
   ],
   "source": [
    "sysunitops = UnitOpList()"
   ]
  },
  {
   "cell_type": "code",
   "execution_count": 28,
   "id": "d9c6281c-4a86-4d02-ab20-fd303382cc16",
   "metadata": {},
   "outputs": [],
   "source": [
    "@unitop begin\n",
    "    inlets --> [\"H2\", \"C2\"]\n",
    "    outlets --> [\"Mixed\"]\n",
    "    calc --> mixer!\n",
    "end \"Mixer\" sysstreams sysunitops\n",
    "sysunitops[\"Mixer\"]()"
   ]
  },
  {
   "cell_type": "markdown",
   "id": "2ebc93b6-9627-448b-b6b2-2e112949517e",
   "metadata": {},
   "source": [
    "This `UnitOp` takes the required inlet and outlet streams, but is also assigned a calculation. In this case, it is the predefined `mixer!` function, which is a simple stream mixer. This can however be any user-defined function, with the correct form. These calculations will supply the contents of the outlet streams based on the inlets streams and supplied model parameters. They are only needed if there is no information on the outlet streams."
   ]
  },
  {
   "cell_type": "code",
   "execution_count": 29,
   "id": "fa86964b-0761-41ea-aee4-3e6e63834539",
   "metadata": {},
   "outputs": [
    {
     "data": {
      "text/plain": [
       "Unit Operation:  Reactor\n",
       "Feed streams:    [\"Mixed\"]\n",
       "\n",
       "Product streams: [\"Product\"]\n"
      ]
     },
     "metadata": {},
     "output_type": "display_data"
    }
   ],
   "source": [
    "@unitop begin\n",
    "    inlets --> [\"Mixed\"]\n",
    "    outlets --> [\"Product\"]\n",
    "end \"Reactor\" sysstreams sysunitops"
   ]
  },
  {
   "cell_type": "markdown",
   "id": "6c1df5b9-9892-4036-96b4-cfd05fe53d41",
   "metadata": {},
   "source": [
    "Our `Reactor` does not have an associated calculation. It is just a node in the flowsheet graph, so we shall need information for all of the inlets and outlets."
   ]
  },
  {
   "cell_type": "markdown",
   "id": "54d227f8-fd39-4f07-bfd7-ba7500bc4dfe",
   "metadata": {},
   "source": [
    "Mass balances and KPIs are defined on a boundary around a number of unit operations. We therefore define a `Boundary` and list the contained `UnitOp`s"
   ]
  },
  {
   "cell_type": "code",
   "execution_count": 30,
   "id": "11e058b6-f9b6-47ce-a39a-2a7b3c329a38",
   "metadata": {},
   "outputs": [
    {
     "data": {
      "text/plain": [
       "Balance Boundary:\n",
       "\n",
       "Enclosed units: [\"Mixer\", \"Reactor\"]\n",
       "\n",
       "Closure:\n",
       "┌─────────────────────┬────────────────────┐\n",
       "│\u001b[1m           timestamp \u001b[0m│\u001b[1m Total Mass Closure \u001b[0m│\n",
       "│\u001b[90m      Dates.DateTime \u001b[0m│\u001b[90m            Float64 \u001b[0m│\n",
       "├─────────────────────┼────────────────────┤\n",
       "│ 0000-01-01T00:00:00 │                1.0 │\n",
       "└─────────────────────┴────────────────────┘\n",
       "\n",
       "Combined Feed Mass Flows:\n",
       "┌─────────────────────┬──────────┬─────────┬──────────┬──────────┬─────────┐\n",
       "│\u001b[1m           timestamp \u001b[0m│\u001b[1m Ethylene \u001b[0m│\u001b[1m  Ethane \u001b[0m│\u001b[1m Hydrogen \u001b[0m│\u001b[1m Nitrogen \u001b[0m│\u001b[1m   Argon \u001b[0m│\n",
       "│\u001b[90m      Dates.DateTime \u001b[0m│\u001b[90m  Float64 \u001b[0m│\u001b[90m Float64 \u001b[0m│\u001b[90m  Float64 \u001b[0m│\u001b[90m  Float64 \u001b[0m│\u001b[90m Float64 \u001b[0m│\n",
       "├─────────────────────┼──────────┼─────────┼──────────┼──────────┼─────────┤\n",
       "│ 0000-01-01T00:00:00 │   2.8053 │ 27.0619 │  2.21738 │      0.0 │     0.0 │\n",
       "└─────────────────────┴──────────┴─────────┴──────────┴──────────┴─────────┘\n",
       "Combined Product Mass Flows:\n",
       "┌─────────────────────┬──────────┬─────────┬──────────┬──────────┬─────────┐\n",
       "│\u001b[1m           timestamp \u001b[0m│\u001b[1m Ethylene \u001b[0m│\u001b[1m  Ethane \u001b[0m│\u001b[1m Hydrogen \u001b[0m│\u001b[1m Nitrogen \u001b[0m│\u001b[1m   Argon \u001b[0m│\n",
       "│\u001b[90m      Dates.DateTime \u001b[0m│\u001b[90m  Float64 \u001b[0m│\u001b[90m Float64 \u001b[0m│\u001b[90m  Float64 \u001b[0m│\u001b[90m  Float64 \u001b[0m│\u001b[90m Float64 \u001b[0m│\n",
       "├─────────────────────┼──────────┼─────────┼──────────┼──────────┼─────────┤\n",
       "│ 0000-01-01T00:00:00 │      0.0 │ 30.0688 │   2.0158 │      0.0 │     0.0 │\n",
       "└─────────────────────┴──────────┴─────────┴──────────┴──────────┴─────────┘\n",
       "\n",
       "Elemental closures (-1.0 if not present):\n",
       "┌─────────────────────┬─────────────────────────────────────────────────┐\n",
       "│\u001b[1m           timestamp \u001b[0m│\u001b[1m                              Elemental Closures \u001b[0m│\n",
       "│\u001b[90m      Dates.DateTime \u001b[0m│\u001b[90m                           Dict{String, Float64} \u001b[0m│\n",
       "├─────────────────────┼─────────────────────────────────────────────────┤\n",
       "│ 0000-01-01T00:00:00 │ Dict(\"C\"=>1.0, \"N\"=>-1.0, \"Ar\"=>-1.0, \"H\"=>1.0) │\n",
       "└─────────────────────┴─────────────────────────────────────────────────┘\n"
      ]
     },
     "metadata": {},
     "output_type": "display_data"
    }
   ],
   "source": [
    "@boundary begin\n",
    "    unitops --> [\"Mixer\", \"Reactor\"]\n",
    "end b sysunitops"
   ]
  },
  {
   "cell_type": "markdown",
   "id": "640168be-03f0-4efa-a0e3-1edd4fdda15a",
   "metadata": {},
   "source": [
    "We can look at total mass and elemental closures, as well as the combined in- and outflows."
   ]
  },
  {
   "cell_type": "code",
   "execution_count": 31,
   "id": "d9cf60f4-6cc8-4fe0-87aa-f7902f24c190",
   "metadata": {},
   "outputs": [
    {
     "data": {
      "text/plain": [
       "1×1 TimeSeries.TimeArray{Dict{String, Float64}, 1, Dates.DateTime, Vector{Dict{String, Float64}}} 0000-01-01T00:00:00 to 0000-01-01T00:00:00\n",
       "┌─────────────────────┬─────────────────────────────────────────────────┐\n",
       "│\u001b[1m                     \u001b[0m│\u001b[1m Elemental Closures                              \u001b[0m│\n",
       "├─────────────────────┼─────────────────────────────────────────────────┤\n",
       "│ 0000-01-01T00:00:00 │ Dict(\"C\"=>1.0, \"N\"=>-1.0, \"Ar\"=>-1.0, \"H\"=>1.0) │\n",
       "└─────────────────────┴─────────────────────────────────────────────────┘"
      ]
     },
     "metadata": {},
     "output_type": "display_data"
    }
   ],
   "source": [
    "b.atomclosures"
   ]
  },
  {
   "cell_type": "code",
   "execution_count": 32,
   "id": "e82c4eb1-d6ef-42ed-995e-55b7420964f3",
   "metadata": {},
   "outputs": [
    {
     "data": {
      "text/plain": [
       "1×1 TimeSeries.TimeArray{Float64, 1, Dates.DateTime, Vector{Float64}} 0000-01-01T00:00:00 to 0000-01-01T00:00:00\n",
       "┌─────────────────────┬────────────────────┐\n",
       "│\u001b[1m                     \u001b[0m│\u001b[1m Total Mass Closure \u001b[0m│\n",
       "├─────────────────────┼────────────────────┤\n",
       "│ 0000-01-01T00:00:00 │                1.0 │\n",
       "└─────────────────────┴────────────────────┘"
      ]
     },
     "metadata": {},
     "output_type": "display_data"
    }
   ],
   "source": [
    "b.closure"
   ]
  },
  {
   "cell_type": "code",
   "execution_count": 33,
   "id": "2362b13a-77c8-4374-958e-fe5991ee6427",
   "metadata": {},
   "outputs": [
    {
     "data": {
      "text/plain": [
       "1×1 TimeSeries.TimeArray{Float64, 1, Dates.DateTime, Vector{Float64}} 0000-01-01T00:00:00 to 0000-01-01T00:00:00\n",
       "┌─────────────────────┬────────────────┐\n",
       "│\u001b[1m                     \u001b[0m│\u001b[1m totalmassflows \u001b[0m│\n",
       "├─────────────────────┼────────────────┤\n",
       "│ 0000-01-01T00:00:00 │        32.0846 │\n",
       "└─────────────────────┴────────────────┘"
      ]
     },
     "metadata": {},
     "output_type": "display_data"
    }
   ],
   "source": [
    "b.total_in.totalmassflow"
   ]
  },
  {
   "cell_type": "code",
   "execution_count": 34,
   "id": "6dec670f-0a80-482f-86a2-a812140ab9dd",
   "metadata": {},
   "outputs": [
    {
     "data": {
      "text/plain": [
       "1×1 TimeSeries.TimeArray{Float64, 1, Dates.DateTime, Vector{Float64}} 0000-01-01T00:00:00 to 0000-01-01T00:00:00\n",
       "┌─────────────────────┬────────────────┐\n",
       "│\u001b[1m                     \u001b[0m│\u001b[1m totalmassflows \u001b[0m│\n",
       "├─────────────────────┼────────────────┤\n",
       "│ 0000-01-01T00:00:00 │        32.0846 │\n",
       "└─────────────────────┴────────────────┘"
      ]
     },
     "metadata": {},
     "output_type": "display_data"
    }
   ],
   "source": [
    "b.total_out.totalmassflow"
   ]
  },
  {
   "cell_type": "code",
   "execution_count": 35,
   "id": "8b483cb5-c06e-40c1-a821-9c8cbce25b6e",
   "metadata": {},
   "outputs": [
    {
     "data": {
      "text/plain": [
       "1×1 TimeSeries.TimeArray{Dict{String, Float64}, 1, Dates.DateTime, Vector{Dict{String, Float64}}} 0000-01-01T00:00:00 to 0000-01-01T00:00:00\n",
       "┌─────────────────────┬─────────────────────────────────────────────────┐\n",
       "│\u001b[1m                     \u001b[0m│\u001b[1m Elemental Closures                              \u001b[0m│\n",
       "├─────────────────────┼─────────────────────────────────────────────────┤\n",
       "│ 0000-01-01T00:00:00 │ Dict(\"C\"=>1.0, \"N\"=>-1.0, \"Ar\"=>-1.0, \"H\"=>1.0) │\n",
       "└─────────────────────┴─────────────────────────────────────────────────┘"
      ]
     },
     "metadata": {},
     "output_type": "display_data"
    }
   ],
   "source": [
    "b.atomclosures"
   ]
  },
  {
   "cell_type": "markdown",
   "id": "884e80ed-9aff-4e98-8e86-6327ac0cdbd6",
   "metadata": {},
   "source": [
    "We can also define KPIs on the boundary. Here we use the pre-defined KPIs of `conversion(boundary, component)` and `selectivity(boundary, reactant, product)`"
   ]
  },
  {
   "cell_type": "code",
   "execution_count": 36,
   "id": "3b3dcf49-3954-4f91-a961-0b8784ccf367",
   "metadata": {},
   "outputs": [
    {
     "data": {
      "text/plain": [
       "-0.11111111111111106"
      ]
     },
     "metadata": {},
     "output_type": "display_data"
    }
   ],
   "source": [
    "conversion(b, \"Ethane\")"
   ]
  },
  {
   "cell_type": "markdown",
   "id": "a373e863-6edf-458f-ad03-b91c4b8ff47e",
   "metadata": {},
   "source": [
    "Ethane was produced, not consumed, so has a negative value for conversion."
   ]
  },
  {
   "cell_type": "code",
   "execution_count": 37,
   "id": "3a8e5876-1334-40f6-9a6a-ab57ba87642f",
   "metadata": {},
   "outputs": [
    {
     "data": {
      "text/plain": [
       "(1.0, 0.09090909090909104)"
      ]
     },
     "metadata": {},
     "output_type": "display_data"
    }
   ],
   "source": [
    "(conversion(b, \"Ethylene\"),\n",
    "conversion(b, \"Hydrogen\"))"
   ]
  },
  {
   "cell_type": "markdown",
   "id": "54104a2d-8cf0-4aae-88e0-66527a3197f1",
   "metadata": {},
   "source": [
    "We had complete conversion of ethylene and only ~9% of hydrogen, due to the large excess fed."
   ]
  },
  {
   "cell_type": "code",
   "execution_count": 38,
   "id": "da61bfbb-1686-4272-bfc1-33556bc6a97b",
   "metadata": {},
   "outputs": [
    {
     "data": {
      "text/plain": [
       "0.9999999999999998"
      ]
     },
     "metadata": {},
     "output_type": "display_data"
    }
   ],
   "source": [
    "molar_selectivity(b, \"Ethylene\", \"Ethane\")"
   ]
  },
  {
   "cell_type": "markdown",
   "id": "b346f930-bae9-45e5-b890-40bd711edd25",
   "metadata": {},
   "source": [
    "All of the reacted ethylene was converted to ethane."
   ]
  },
  {
   "cell_type": "markdown",
   "id": "db92e8db-e8c8-41c3-aadf-060e5497d1ba",
   "metadata": {},
   "source": [
    "Now we can repeat this for streams with multiple historic data points attached:"
   ]
  },
  {
   "cell_type": "code",
   "execution_count": 39,
   "id": "1f7cd041-3a27-4931-8441-180fc826b689",
   "metadata": {},
   "outputs": [],
   "source": [
    "sysstreams = StreamList() # Create a new container and dump the previous streams\n",
    "sysstreams[\"C2\"] = readstreamhistory(joinpath(\"streamhistories\", \"C2.csv\"), \"C2\", syscomps; ismoleflow=true)\n",
    "sysstreams[\"H2\"] = readstreamhistory(joinpath(\"streamhistories\", \"Hydrogen.csv\"), \"H2\", syscomps; ismoleflow=true)\n",
    "sysstreams[\"Product\"] = readstreamhistory(joinpath(\"streamhistories\", \"Product.csv\"), \"Product\", syscomps; ismoleflow=true)\n",
    "sysstreams[\"Mixed\"] = emptystream(sysstreams, \"Mixed\");"
   ]
  },
  {
   "cell_type": "code",
   "execution_count": 40,
   "id": "7c1fc5a8-3ac2-406c-bdbb-9e87a16a9722",
   "metadata": {},
   "outputs": [],
   "source": [
    "sysunitops = UnitOpList();"
   ]
  },
  {
   "cell_type": "code",
   "execution_count": 41,
   "id": "6fcc7d21-9d1f-4922-88b3-73701f92886c",
   "metadata": {},
   "outputs": [],
   "source": [
    "@unitop begin\n",
    "    inlets --> [\"H2\", \"C2\"]\n",
    "    outlets --> [\"Mixed\"]\n",
    "    calc --> mixer!\n",
    "end \"Mixer\" sysstreams sysunitops\n",
    "sysunitops[\"Mixer\"]()"
   ]
  },
  {
   "cell_type": "code",
   "execution_count": 42,
   "id": "a1dad4e3-8aaa-49e3-9240-f98998f2f1fc",
   "metadata": {},
   "outputs": [
    {
     "data": {
      "text/plain": [
       "Unit Operation:  Reactor\n",
       "Feed streams:    [\"Mixed\"]\n",
       "\n",
       "Product streams: [\"Product\"]\n",
       "\n",
       "Data length:\t27\n",
       "Data starts:\t2020-01-01T00:00:00\n",
       "Data ends:\t2020-01-14T00:00:00\n"
      ]
     },
     "metadata": {},
     "output_type": "display_data"
    }
   ],
   "source": [
    "@unitop begin\n",
    "    inlets --> [\"Mixed\"]\n",
    "    outlets --> [\"Product\"]\n",
    "end \"Reactor\" sysstreams sysunitops"
   ]
  },
  {
   "cell_type": "code",
   "execution_count": 43,
   "id": "e1aaa2db-10c0-4890-b354-a893ed220896",
   "metadata": {},
   "outputs": [
    {
     "data": {
      "text/plain": [
       "Balance Boundary:\n",
       "\n",
       "Enclosed units: [\"Mixer\", \"Reactor\"]\n",
       "\n",
       "Closure:\n",
       "┌─────────────────────┬────────────────────┐\n",
       "│\u001b[1m           timestamp \u001b[0m│\u001b[1m Total Mass Closure \u001b[0m│\n",
       "│\u001b[90m      Dates.DateTime \u001b[0m│\u001b[90m            Float64 \u001b[0m│\n",
       "├─────────────────────┼────────────────────┤\n",
       "│ 2020-01-01T00:00:00 │                1.0 │\n",
       "│ 2020-01-01T06:00:00 │                1.0 │\n",
       "│ 2020-01-02T00:00:00 │                1.0 │\n",
       "│ 2020-01-02T06:00:00 │                1.0 │\n",
       "│ 2020-01-03T00:00:00 │                1.0 │\n",
       "│          ⋮          │         ⋮          │\n",
       "└─────────────────────┴────────────────────┘\n",
       "\u001b[36m                             22 rows omitted\u001b[0m\n",
       "\n",
       "Combined Feed Mass Flows:\n",
       "┌─────────────────────┬──────────┬─────────┬──────────┬──────────┬─────────┐\n",
       "│\u001b[1m           timestamp \u001b[0m│\u001b[1m Ethylene \u001b[0m│\u001b[1m  Ethane \u001b[0m│\u001b[1m Hydrogen \u001b[0m│\u001b[1m Nitrogen \u001b[0m│\u001b[1m   Argon \u001b[0m│\n",
       "│\u001b[90m      Dates.DateTime \u001b[0m│\u001b[90m  Float64 \u001b[0m│\u001b[90m Float64 \u001b[0m│\u001b[90m  Float64 \u001b[0m│\u001b[90m  Float64 \u001b[0m│\u001b[90m Float64 \u001b[0m│\n",
       "├─────────────────────┼──────────┼─────────┼──────────┼──────────┼─────────┤\n",
       "│ 2020-01-01T00:00:00 │  3.00838 │ 26.8357 │  2.25213 │      0.0 │     0.0 │\n",
       "│ 2020-01-01T06:00:00 │  3.01228 │ 26.9638 │  2.21209 │      0.0 │     0.0 │\n",
       "│ 2020-01-02T00:00:00 │  2.58593 │ 29.6324 │  2.22177 │      0.0 │     0.0 │\n",
       "│ 2020-01-02T06:00:00 │  2.97617 │ 29.1827 │   2.2095 │      0.0 │     0.0 │\n",
       "│ 2020-01-03T00:00:00 │   2.9015 │ 27.7621 │  2.24445 │      0.0 │     0.0 │\n",
       "│          ⋮          │    ⋮     │    ⋮    │    ⋮     │    ⋮     │    ⋮    │\n",
       "└─────────────────────┴──────────┴─────────┴──────────┴──────────┴─────────┘\n",
       "\u001b[36m                                                             22 rows omitted\u001b[0m\n",
       "Combined Product Mass Flows:\n",
       "┌─────────────────────┬──────────┬─────────┬──────────┬──────────┬─────────┐\n",
       "│\u001b[1m           timestamp \u001b[0m│\u001b[1m Ethylene \u001b[0m│\u001b[1m  Ethane \u001b[0m│\u001b[1m Hydrogen \u001b[0m│\u001b[1m Nitrogen \u001b[0m│\u001b[1m   Argon \u001b[0m│\n",
       "│\u001b[90m      Dates.DateTime \u001b[0m│\u001b[90m  Float64 \u001b[0m│\u001b[90m Float64 \u001b[0m│\u001b[90m  Float64 \u001b[0m│\u001b[90m  Float64 \u001b[0m│\u001b[90m Float64 \u001b[0m│\n",
       "├─────────────────────┼──────────┼─────────┼──────────┼──────────┼─────────┤\n",
       "│ 2020-01-01T00:00:00 │      0.0 │ 30.0603 │  2.03596 │      0.0 │     0.0 │\n",
       "│ 2020-01-01T06:00:00 │      0.0 │ 30.1925 │  1.99564 │      0.0 │     0.0 │\n",
       "│ 2020-01-02T00:00:00 │      0.0 │ 32.4041 │  2.03596 │      0.0 │     0.0 │\n",
       "│ 2020-01-02T06:00:00 │      0.0 │ 32.3727 │  1.99564 │      0.0 │     0.0 │\n",
       "│ 2020-01-03T00:00:00 │      0.0 │ 30.8721 │  2.03596 │      0.0 │     0.0 │\n",
       "│          ⋮          │    ⋮     │    ⋮    │    ⋮     │    ⋮     │    ⋮    │\n",
       "└─────────────────────┴──────────┴─────────┴──────────┴──────────┴─────────┘\n",
       "\u001b[36m                                                             22 rows omitted\u001b[0m\n",
       "\n",
       "Elemental closures (-1.0 if not present):\n",
       "┌─────────────────────┬─────────────────────────────────────────────────┐\n",
       "│\u001b[1m           timestamp \u001b[0m│\u001b[1m                              Elemental Closures \u001b[0m│\n",
       "│\u001b[90m      Dates.DateTime \u001b[0m│\u001b[90m                           Dict{String, Float64} \u001b[0m│\n",
       "├─────────────────────┼─────────────────────────────────────────────────┤\n",
       "│ 2020-01-01T00:00:00 │ Dict(\"C\"=>1.0, \"N\"=>-1.0, \"Ar\"=>-1.0, \"H\"=>1.0) │\n",
       "│ 2020-01-01T06:00:00 │ Dict(\"C\"=>1.0, \"N\"=>-1.0, \"Ar\"=>-1.0, \"H\"=>1.0) │\n",
       "│ 2020-01-02T00:00:00 │ Dict(\"C\"=>1.0, \"N\"=>-1.0, \"Ar\"=>-1.0, \"H\"=>1.0) │\n",
       "│ 2020-01-02T06:00:00 │ Dict(\"C\"=>1.0, \"N\"=>-1.0, \"Ar\"=>-1.0, \"H\"=>1.0) │\n",
       "│ 2020-01-03T00:00:00 │ Dict(\"C\"=>1.0, \"N\"=>-1.0, \"Ar\"=>-1.0, \"H\"=>1.0) │\n",
       "│          ⋮          │                        ⋮                        │\n",
       "└─────────────────────┴─────────────────────────────────────────────────┘\n",
       "\u001b[36m                                                          22 rows omitted\u001b[0m\n"
      ]
     },
     "metadata": {},
     "output_type": "display_data"
    }
   ],
   "source": [
    "@boundary begin\n",
    "    unitops --> [\"Mixer\", \"Reactor\"]\n",
    "end b sysunitops"
   ]
  },
  {
   "cell_type": "code",
   "execution_count": 44,
   "id": "ea5d5a54-3e42-4c5e-b9c9-ae2c6ad5497f",
   "metadata": {},
   "outputs": [
    {
     "data": {
      "text/plain": [
       "27×1 TimeSeries.TimeArray{Dict{String, Float64}, 1, Dates.DateTime, Vector{Dict{String, Float64}}} 2020-01-01T00:00:00 to 2020-01-14T00:00:00\n",
       "┌─────────────────────┬─────────────────────────────────────────────────┐\n",
       "│\u001b[1m                     \u001b[0m│\u001b[1m Elemental Closures                              \u001b[0m│\n",
       "├─────────────────────┼─────────────────────────────────────────────────┤\n",
       "│ 2020-01-01T00:00:00 │ Dict(\"C\"=>1.0, \"N\"=>-1.0, \"Ar\"=>-1.0, \"H\"=>1.0) │\n",
       "│ 2020-01-01T06:00:00 │ Dict(\"C\"=>1.0, \"N\"=>-1.0, \"Ar\"=>-1.0, \"H\"=>1.0) │\n",
       "│ 2020-01-02T00:00:00 │ Dict(\"C\"=>1.0, \"N\"=>-1.0, \"Ar\"=>-1.0, \"H\"=>1.0) │\n",
       "│ 2020-01-02T06:00:00 │ Dict(\"C\"=>1.0, \"N\"=>-1.0, \"Ar\"=>-1.0, \"H\"=>1.0) │\n",
       "│ 2020-01-03T00:00:00 │ Dict(\"C\"=>1.0, \"N\"=>-1.0, \"Ar\"=>-1.0, \"H\"=>1.0) │\n",
       "│ 2020-01-03T06:00:00 │ Dict(\"C\"=>1.0, \"N\"=>-1.0, \"Ar\"=>-1.0, \"H\"=>1.0) │\n",
       "│ 2020-01-04T00:00:00 │ Dict(\"C\"=>1.0, \"N\"=>-1.0, \"Ar\"=>-1.0, \"H\"=>1.0) │\n",
       "│ 2020-01-04T06:00:00 │ Dict(\"C\"=>1.0, \"N\"=>-1.0, \"Ar\"=>-1.0, \"H\"=>1.0) │\n",
       "│ 2020-01-05T00:00:00 │ Dict(\"C\"=>1.0, \"N\"=>-1.0, \"Ar\"=>-1.0, \"H\"=>1.0) │\n",
       "│ 2020-01-05T06:00:00 │ Dict(\"C\"=>1.0, \"N\"=>-1.0, \"Ar\"=>-1.0, \"H\"=>1.0) │\n",
       "│ 2020-01-06T00:00:00 │ Dict(\"C\"=>1.0, \"N\"=>-1.0, \"Ar\"=>-1.0, \"H\"=>1.0) │\n",
       "│ 2020-01-06T06:00:00 │ Dict(\"C\"=>1.0, \"N\"=>-1.0, \"Ar\"=>-1.0, \"H\"=>1.0) │\n",
       "│ 2020-01-07T00:00:00 │ Dict(\"C\"=>1.0, \"N\"=>-1.0, \"Ar\"=>-1.0, \"H\"=>1.0) │\n",
       "│ 2020-01-07T06:00:00 │ Dict(\"C\"=>1.0, \"N\"=>-1.0, \"Ar\"=>-1.0, \"H\"=>1.0) │\n",
       "│ 2020-01-08T00:00:00 │ Dict(\"C\"=>1.0, \"N\"=>-1.0, \"Ar\"=>-1.0, \"H\"=>1.0) │\n",
       "│          ⋮          │                        ⋮                        │\n",
       "└─────────────────────┴─────────────────────────────────────────────────┘\n",
       "\u001b[36m                                                          12 rows omitted\u001b[0m"
      ]
     },
     "metadata": {},
     "output_type": "display_data"
    }
   ],
   "source": [
    "b.atomclosures"
   ]
  },
  {
   "cell_type": "code",
   "execution_count": 45,
   "id": "d1d7bb8a-33eb-431d-8526-74d3ba4344df",
   "metadata": {},
   "outputs": [
    {
     "data": {
      "text/plain": [
       "27×1 TimeSeries.TimeArray{Float64, 1, Dates.DateTime, Vector{Float64}} 2020-01-01T00:00:00 to 2020-01-14T00:00:00\n",
       "┌─────────────────────┬────────────────────┐\n",
       "│\u001b[1m                     \u001b[0m│\u001b[1m Total Mass Closure \u001b[0m│\n",
       "├─────────────────────┼────────────────────┤\n",
       "│ 2020-01-01T00:00:00 │                1.0 │\n",
       "│ 2020-01-01T06:00:00 │                1.0 │\n",
       "│ 2020-01-02T00:00:00 │                1.0 │\n",
       "│ 2020-01-02T06:00:00 │                1.0 │\n",
       "│ 2020-01-03T00:00:00 │                1.0 │\n",
       "│ 2020-01-03T06:00:00 │                1.0 │\n",
       "│ 2020-01-04T00:00:00 │                1.0 │\n",
       "│ 2020-01-04T06:00:00 │                1.0 │\n",
       "│ 2020-01-05T00:00:00 │                1.0 │\n",
       "│ 2020-01-05T06:00:00 │                1.0 │\n",
       "│ 2020-01-06T00:00:00 │                1.0 │\n",
       "│ 2020-01-06T06:00:00 │                1.0 │\n",
       "│ 2020-01-07T00:00:00 │                1.0 │\n",
       "│ 2020-01-07T06:00:00 │                1.0 │\n",
       "│ 2020-01-08T00:00:00 │                1.0 │\n",
       "│          ⋮          │         ⋮          │\n",
       "└─────────────────────┴────────────────────┘\n",
       "\u001b[36m                             12 rows omitted\u001b[0m"
      ]
     },
     "metadata": {},
     "output_type": "display_data"
    }
   ],
   "source": [
    "b.closure"
   ]
  },
  {
   "cell_type": "code",
   "execution_count": 46,
   "id": "b2cd0424-a6bb-4562-a5d7-c9d03ef91914",
   "metadata": {},
   "outputs": [
    {
     "data": {
      "text/plain": [
       "27×1 TimeSeries.TimeArray{Float64, 1, Dates.DateTime, Vector{Float64}} 2020-01-01T00:00:00 to 2020-01-14T00:00:00\n",
       "┌─────────────────────┬────────────────┐\n",
       "│\u001b[1m                     \u001b[0m│\u001b[1m totalmassflows \u001b[0m│\n",
       "├─────────────────────┼────────────────┤\n",
       "│ 2020-01-01T00:00:00 │        32.0962 │\n",
       "│ 2020-01-01T06:00:00 │        32.1882 │\n",
       "│ 2020-01-02T00:00:00 │        34.4401 │\n",
       "│ 2020-01-02T06:00:00 │        34.3684 │\n",
       "│ 2020-01-03T00:00:00 │         32.908 │\n",
       "│ 2020-01-03T06:00:00 │        33.6131 │\n",
       "│ 2020-01-04T00:00:00 │         31.962 │\n",
       "│ 2020-01-04T06:00:00 │        32.4573 │\n",
       "│ 2020-01-05T00:00:00 │        29.9464 │\n",
       "│ 2020-01-05T06:00:00 │        34.5206 │\n",
       "│ 2020-01-06T00:00:00 │        31.3315 │\n",
       "│ 2020-01-06T06:00:00 │        31.2868 │\n",
       "│ 2020-01-07T00:00:00 │        29.8643 │\n",
       "│ 2020-01-07T06:00:00 │        32.7567 │\n",
       "│ 2020-01-08T00:00:00 │        29.7265 │\n",
       "│          ⋮          │       ⋮        │\n",
       "└─────────────────────┴────────────────┘\n",
       "\u001b[36m                         12 rows omitted\u001b[0m"
      ]
     },
     "metadata": {},
     "output_type": "display_data"
    }
   ],
   "source": [
    "b.total_in.totalmassflow"
   ]
  },
  {
   "cell_type": "code",
   "execution_count": 47,
   "id": "cf6f79f5-eac2-4d97-a606-4402747503eb",
   "metadata": {},
   "outputs": [
    {
     "data": {
      "text/plain": [
       "27×1 TimeSeries.TimeArray{Float64, 1, Dates.DateTime, Vector{Float64}} 2020-01-01T00:00:00 to 2020-01-14T00:00:00\n",
       "┌─────────────────────┬──────────────────────┐\n",
       "│\u001b[1m                     \u001b[0m│\u001b[1m Conversion: Ethylene \u001b[0m│\n",
       "├─────────────────────┼──────────────────────┤\n",
       "│ 2020-01-01T00:00:00 │                  1.0 │\n",
       "│ 2020-01-01T06:00:00 │                  1.0 │\n",
       "│ 2020-01-02T00:00:00 │                  1.0 │\n",
       "│ 2020-01-02T06:00:00 │                  1.0 │\n",
       "│ 2020-01-03T00:00:00 │                  1.0 │\n",
       "│ 2020-01-03T06:00:00 │                  1.0 │\n",
       "│ 2020-01-04T00:00:00 │                  1.0 │\n",
       "│ 2020-01-04T06:00:00 │                  1.0 │\n",
       "│ 2020-01-05T00:00:00 │             0.989764 │\n",
       "│ 2020-01-05T06:00:00 │                  1.0 │\n",
       "│ 2020-01-06T00:00:00 │                  1.0 │\n",
       "│ 2020-01-06T06:00:00 │                  1.0 │\n",
       "│ 2020-01-07T00:00:00 │             0.979971 │\n",
       "│ 2020-01-07T06:00:00 │               0.9999 │\n",
       "│ 2020-01-08T00:00:00 │                  1.0 │\n",
       "│          ⋮          │          ⋮           │\n",
       "└─────────────────────┴──────────────────────┘\n",
       "\u001b[36m                               12 rows omitted\u001b[0m"
      ]
     },
     "metadata": {},
     "output_type": "display_data"
    }
   ],
   "source": [
    "c1 = conversion(b, \"Ethane\")\n",
    "c2 = conversion(b, \"Ethylene\")"
   ]
  },
  {
   "cell_type": "code",
   "execution_count": 48,
   "id": "b69f64cf-122b-4d00-abfe-27b5edc648a2",
   "metadata": {},
   "outputs": [
    {
     "data": {
      "text/plain": [
       "27×1 TimeSeries.TimeArray{Float64, 1, Dates.DateTime, Vector{Float64}} 2020-01-01T00:00:00 to 2020-01-14T00:00:00\n",
       "┌─────────────────────┬───────────────────────────────────────┐\n",
       "│\u001b[1m                     \u001b[0m│\u001b[1m Molar selectivity: Ethylene -> Ethane \u001b[0m│\n",
       "├─────────────────────┼───────────────────────────────────────┤\n",
       "│ 2020-01-01T00:00:00 │                                   1.0 │\n",
       "│ 2020-01-01T06:00:00 │                                   1.0 │\n",
       "│ 2020-01-02T00:00:00 │                                   1.0 │\n",
       "│ 2020-01-02T06:00:00 │                                   1.0 │\n",
       "│ 2020-01-03T00:00:00 │                                   1.0 │\n",
       "│ 2020-01-03T06:00:00 │                                   1.0 │\n",
       "│ 2020-01-04T00:00:00 │                                   1.0 │\n",
       "│ 2020-01-04T06:00:00 │                                   1.0 │\n",
       "│ 2020-01-05T00:00:00 │                                   1.0 │\n",
       "│ 2020-01-05T06:00:00 │                                   1.0 │\n",
       "│ 2020-01-06T00:00:00 │                                   1.0 │\n",
       "│ 2020-01-06T06:00:00 │                                   1.0 │\n",
       "│ 2020-01-07T00:00:00 │                                   1.0 │\n",
       "│ 2020-01-07T06:00:00 │                                   1.0 │\n",
       "│ 2020-01-08T00:00:00 │                                   1.0 │\n",
       "│          ⋮          │                   ⋮                   │\n",
       "└─────────────────────┴───────────────────────────────────────┘\n",
       "\u001b[36m                                                12 rows omitted\u001b[0m"
      ]
     },
     "metadata": {},
     "output_type": "display_data"
    }
   ],
   "source": [
    "sc2 = molar_selectivity(b, \"Ethylene\", \"Ethane\")"
   ]
  },
  {
   "cell_type": "code",
   "execution_count": 49,
   "id": "0edcca87-dc90-4b74-adea-c5eca7da0f2e",
   "metadata": {},
   "outputs": [
    {
     "data": {
      "text/plain": [
       "(-0.11361804202204312, 0.9988638054742306, 0.9999999999999998)"
      ]
     },
     "metadata": {},
     "output_type": "display_data"
    }
   ],
   "source": [
    "(mean(values(c1)),\n",
    "mean(values(c2)),\n",
    "mean(values(sc2)))"
   ]
  },
  {
   "cell_type": "markdown",
   "id": "f3a0483f-ed81-4e9f-a9b3-cc46d2d17fa8",
   "metadata": {},
   "source": [
    "So, we have average conversions of ethane (-11%, meaning it was produced, not consumed), ethylene (99.9%) and selectivity of ethylene conversion to ethane (~100%) similar to the single data point above."
   ]
  },
  {
   "cell_type": "markdown",
   "id": "4a2e15cc-0d7d-4189-8a29-020b52b2945f",
   "metadata": {},
   "source": [
    "## Mass balance reconciliation"
   ]
  },
  {
   "cell_type": "markdown",
   "id": "e9d3eaba-5da5-4d56-942f-8cc4b3f13342",
   "metadata": {},
   "source": [
    "The mass balance reconciliation algorithm is currently *VERY BASIC*! This will be updated at the first opportunity, but will be invisible to the end-user and will not have major impacts on the user interface unless additional user input is required."
   ]
  },
  {
   "cell_type": "markdown",
   "id": "6be80a40-2c63-4715-97d5-bf2f62259302",
   "metadata": {},
   "source": [
    "To demomstrate the use of the reconciliation tool, we repeat the flowsheet above, but introduce some (artificial) flow measurement errors."
   ]
  },
  {
   "cell_type": "code",
   "execution_count": 50,
   "id": "45808fef-550b-46e6-bf61-7e272d967b7a",
   "metadata": {},
   "outputs": [],
   "source": [
    "copystream!(sysstreams, \"C2\", \"eC2\", factor = 1.05)\n",
    "copystream!(sysstreams, \"H2\", \"eH2\", factor = 0.95)\n",
    "copystream!(sysstreams, \"Product\", \"eProduct\")\n",
    "sysstreams[\"eMixed\"] = emptystream(sysstreams, \"eMixed\"); # We'll calculate this stream with the mixer model"
   ]
  },
  {
   "cell_type": "code",
   "execution_count": 51,
   "id": "0da2c032-bfce-4e1b-ae20-29e322056805",
   "metadata": {},
   "outputs": [],
   "source": [
    "@unitop begin\n",
    "    inlets --> [\"eH2\", \"eC2\"]\n",
    "    outlets --> [\"eMixed\"]\n",
    "    calc --> mixer!\n",
    "end \"eMixer\" sysstreams sysunitops\n",
    "sysunitops[\"eMixer\"]()"
   ]
  },
  {
   "cell_type": "code",
   "execution_count": 52,
   "id": "3308f652-5860-497f-b729-742b16ccdb48",
   "metadata": {},
   "outputs": [
    {
     "data": {
      "text/plain": [
       "Unit Operation:  eReactor\n",
       "Feed streams:    [\"eMixed\"]\n",
       "\n",
       "Product streams: [\"eProduct\"]\n",
       "\n",
       "Data length:\t27\n",
       "Data starts:\t2020-01-01T00:00:00\n",
       "Data ends:\t2020-01-14T00:00:00\n"
      ]
     },
     "metadata": {},
     "output_type": "display_data"
    }
   ],
   "source": [
    "@unitop begin\n",
    "    inlets --> [\"eMixed\"]\n",
    "    outlets --> [\"eProduct\"]\n",
    "end \"eReactor\" sysstreams sysunitops"
   ]
  },
  {
   "cell_type": "code",
   "execution_count": 53,
   "id": "a5c7d09c-0716-4613-bb0e-50c0020116a7",
   "metadata": {},
   "outputs": [
    {
     "data": {
      "text/plain": [
       "Balance Boundary:\n",
       "\n",
       "Enclosed units: [\"eMixer\", \"eReactor\"]\n",
       "\n",
       "Closure:\n",
       "┌─────────────────────┬────────────────────┐\n",
       "│\u001b[1m           timestamp \u001b[0m│\u001b[1m Total Mass Closure \u001b[0m│\n",
       "│\u001b[90m      Dates.DateTime \u001b[0m│\u001b[90m            Float64 \u001b[0m│\n",
       "├─────────────────────┼────────────────────┤\n",
       "│ 2020-01-01T00:00:00 │           0.958788 │\n",
       "│ 2020-01-01T06:00:00 │           0.958655 │\n",
       "│ 2020-01-02T00:00:00 │           0.958268 │\n",
       "│ 2020-01-02T06:00:00 │           0.958248 │\n",
       "│ 2020-01-03T00:00:00 │           0.958608 │\n",
       "│          ⋮          │         ⋮          │\n",
       "└─────────────────────┴────────────────────┘\n",
       "\u001b[36m                             22 rows omitted\u001b[0m\n",
       "\n",
       "Combined Feed Mass Flows:\n",
       "┌─────────────────────┬──────────┬─────────┬──────────┬──────────┬─────────┐\n",
       "│\u001b[1m           timestamp \u001b[0m│\u001b[1m Ethylene \u001b[0m│\u001b[1m  Ethane \u001b[0m│\u001b[1m Hydrogen \u001b[0m│\u001b[1m Nitrogen \u001b[0m│\u001b[1m   Argon \u001b[0m│\n",
       "│\u001b[90m      Dates.DateTime \u001b[0m│\u001b[90m  Float64 \u001b[0m│\u001b[90m Float64 \u001b[0m│\u001b[90m  Float64 \u001b[0m│\u001b[90m  Float64 \u001b[0m│\u001b[90m Float64 \u001b[0m│\n",
       "├─────────────────────┼──────────┼─────────┼──────────┼──────────┼─────────┤\n",
       "│ 2020-01-01T00:00:00 │   3.1588 │ 28.1775 │  2.13952 │      0.0 │     0.0 │\n",
       "│ 2020-01-01T06:00:00 │  3.16289 │  28.312 │  2.10149 │      0.0 │     0.0 │\n",
       "│ 2020-01-02T00:00:00 │  2.71523 │  31.114 │  2.11069 │      0.0 │     0.0 │\n",
       "│ 2020-01-02T06:00:00 │  3.12498 │ 30.6418 │  2.09903 │      0.0 │     0.0 │\n",
       "│ 2020-01-03T00:00:00 │  3.04658 │ 29.1502 │  2.13223 │      0.0 │     0.0 │\n",
       "│          ⋮          │    ⋮     │    ⋮    │    ⋮     │    ⋮     │    ⋮    │\n",
       "└─────────────────────┴──────────┴─────────┴──────────┴──────────┴─────────┘\n",
       "\u001b[36m                                                             22 rows omitted\u001b[0m\n",
       "Combined Product Mass Flows:\n",
       "┌─────────────────────┬──────────┬─────────┬──────────┬──────────┬─────────┐\n",
       "│\u001b[1m           timestamp \u001b[0m│\u001b[1m Ethylene \u001b[0m│\u001b[1m  Ethane \u001b[0m│\u001b[1m Hydrogen \u001b[0m│\u001b[1m Nitrogen \u001b[0m│\u001b[1m   Argon \u001b[0m│\n",
       "│\u001b[90m      Dates.DateTime \u001b[0m│\u001b[90m  Float64 \u001b[0m│\u001b[90m Float64 \u001b[0m│\u001b[90m  Float64 \u001b[0m│\u001b[90m  Float64 \u001b[0m│\u001b[90m Float64 \u001b[0m│\n",
       "├─────────────────────┼──────────┼─────────┼──────────┼──────────┼─────────┤\n",
       "│ 2020-01-01T00:00:00 │      0.0 │ 30.0603 │  2.03596 │      0.0 │     0.0 │\n",
       "│ 2020-01-01T06:00:00 │      0.0 │ 30.1925 │  1.99564 │      0.0 │     0.0 │\n",
       "│ 2020-01-02T00:00:00 │      0.0 │ 32.4041 │  2.03596 │      0.0 │     0.0 │\n",
       "│ 2020-01-02T06:00:00 │      0.0 │ 32.3727 │  1.99564 │      0.0 │     0.0 │\n",
       "│ 2020-01-03T00:00:00 │      0.0 │ 30.8721 │  2.03596 │      0.0 │     0.0 │\n",
       "│          ⋮          │    ⋮     │    ⋮    │    ⋮     │    ⋮     │    ⋮    │\n",
       "└─────────────────────┴──────────┴─────────┴──────────┴──────────┴─────────┘\n",
       "\u001b[36m                                                             22 rows omitted\u001b[0m\n",
       "\n",
       "Elemental closures (-1.0 if not present):\n",
       "┌─────────────────────┬───────────────────────────────────────────────────────────┐\n",
       "│\u001b[1m           timestamp \u001b[0m│\u001b[1m                                        Elemental Closures \u001b[0m│\n",
       "│\u001b[90m      Dates.DateTime \u001b[0m│\u001b[90m                                     Dict{String, Float64} \u001b[0m│\n",
       "├─────────────────────┼───────────────────────────────────────────────────────────┤\n",
       "│ 2020-01-01T00:00:00 │ Dict(\"C\"=>0.952381, \"N\"=>-1.0, \"Ar\"=>-1.0, \"H\"=>0.978346) │\n",
       "│ 2020-01-01T06:00:00 │ Dict(\"C\"=>0.952381, \"N\"=>-1.0, \"Ar\"=>-1.0, \"H\"=>0.977917) │\n",
       "│ 2020-01-02T00:00:00 │  Dict(\"C\"=>0.952381, \"N\"=>-1.0, \"Ar\"=>-1.0, \"H\"=>0.97654) │\n",
       "│ 2020-01-02T06:00:00 │ Dict(\"C\"=>0.952381, \"N\"=>-1.0, \"Ar\"=>-1.0, \"H\"=>0.976538) │\n",
       "│ 2020-01-03T00:00:00 │  Dict(\"C\"=>0.952381, \"N\"=>-1.0, \"Ar\"=>-1.0, \"H\"=>0.97773) │\n",
       "│          ⋮          │                             ⋮                             │\n",
       "└─────────────────────┴───────────────────────────────────────────────────────────┘\n",
       "\u001b[36m                                                                    22 rows omitted\u001b[0m\n"
      ]
     },
     "metadata": {},
     "output_type": "display_data"
    }
   ],
   "source": [
    "@boundary begin\n",
    "    unitops --> [\"eMixer\", \"eReactor\"]\n",
    "end b sysunitops"
   ]
  },
  {
   "cell_type": "markdown",
   "id": "6d31475a-af43-4558-aed8-f897b6765c8a",
   "metadata": {},
   "source": [
    "We can request the correction factors, without applying them:"
   ]
  },
  {
   "cell_type": "code",
   "execution_count": 54,
   "id": "cd0d913d-b5a9-4749-bae8-a7bc040517b2",
   "metadata": {},
   "outputs": [
    {
     "data": {
      "text/plain": [
       "Dict{String, Float64} with 3 entries:\n",
       "  \"eH2\"      => 1.05263\n",
       "  \"eC2\"      => 0.952381\n",
       "  \"eProduct\" => 1.0"
      ]
     },
     "metadata": {},
     "output_type": "display_data"
    }
   ],
   "source": [
    "corrections = calccorrections(b, \"eProduct\")"
   ]
  },
  {
   "cell_type": "markdown",
   "id": "5b269b85-0662-4f97-81f5-b9a005bfa625",
   "metadata": {},
   "source": [
    "`calccorrections` takes a boundary for which to calculate the correction factors, an nachor stream, for which the correction is always 1.0 - no change, and then options weights for the total mass balance error and the elemental errors. These latter values default to 1.0 each.\n",
    "```\n",
    "    function calccorrections(boundary::BalanceBoundary, anchor::String; totalweight=1.0, elementweight=1.0)\n",
    "```"
   ]
  },
  {
   "cell_type": "markdown",
   "id": "ab8dad86-b213-421e-bf2b-3057fd2f2c1b",
   "metadata": {},
   "source": [
    "We can apply the corrections, with `closemb()`, which will either take a `Dict` of correction factors, or calculate them automatically, if not specified."
   ]
  },
  {
   "cell_type": "code",
   "execution_count": 55,
   "id": "e4b223a6-4a4c-49e8-ba17-1b2e501b647c",
   "metadata": {},
   "outputs": [
    {
     "data": {
      "text/plain": [
       "Balance Boundary:\n",
       "\n",
       "Enclosed units: [\"eMixer\", \"eReactor\"]\n",
       "\n",
       "Closure:\n",
       "┌─────────────────────┬────────────────────┐\n",
       "│\u001b[1m           timestamp \u001b[0m│\u001b[1m Total Mass Closure \u001b[0m│\n",
       "│\u001b[90m      Dates.DateTime \u001b[0m│\u001b[90m            Float64 \u001b[0m│\n",
       "├─────────────────────┼────────────────────┤\n",
       "│ 2020-01-01T00:00:00 │                1.0 │\n",
       "│ 2020-01-01T06:00:00 │                1.0 │\n",
       "│ 2020-01-02T00:00:00 │                1.0 │\n",
       "│ 2020-01-02T06:00:00 │                1.0 │\n",
       "│ 2020-01-03T00:00:00 │                1.0 │\n",
       "│          ⋮          │         ⋮          │\n",
       "└─────────────────────┴────────────────────┘\n",
       "\u001b[36m                             22 rows omitted\u001b[0m\n",
       "\n",
       "Combined Feed Mass Flows:\n",
       "┌─────────────────────┬──────────┬─────────┬──────────┬──────────┬─────────┐\n",
       "│\u001b[1m           timestamp \u001b[0m│\u001b[1m Ethylene \u001b[0m│\u001b[1m  Ethane \u001b[0m│\u001b[1m Hydrogen \u001b[0m│\u001b[1m Nitrogen \u001b[0m│\u001b[1m   Argon \u001b[0m│\n",
       "│\u001b[90m      Dates.DateTime \u001b[0m│\u001b[90m  Float64 \u001b[0m│\u001b[90m Float64 \u001b[0m│\u001b[90m  Float64 \u001b[0m│\u001b[90m  Float64 \u001b[0m│\u001b[90m Float64 \u001b[0m│\n",
       "├─────────────────────┼──────────┼─────────┼──────────┼──────────┼─────────┤\n",
       "│ 2020-01-01T00:00:00 │  3.00838 │ 26.8357 │  2.25213 │      0.0 │     0.0 │\n",
       "│ 2020-01-01T06:00:00 │  3.01228 │ 26.9638 │  2.21209 │      0.0 │     0.0 │\n",
       "│ 2020-01-02T00:00:00 │  2.58593 │ 29.6324 │  2.22177 │      0.0 │     0.0 │\n",
       "│ 2020-01-02T06:00:00 │  2.97617 │ 29.1827 │   2.2095 │      0.0 │     0.0 │\n",
       "│ 2020-01-03T00:00:00 │   2.9015 │ 27.7621 │  2.24445 │      0.0 │     0.0 │\n",
       "│          ⋮          │    ⋮     │    ⋮    │    ⋮     │    ⋮     │    ⋮    │\n",
       "└─────────────────────┴──────────┴─────────┴──────────┴──────────┴─────────┘\n",
       "\u001b[36m                                                             22 rows omitted\u001b[0m\n",
       "Combined Product Mass Flows:\n",
       "┌─────────────────────┬──────────┬─────────┬──────────┬──────────┬─────────┐\n",
       "│\u001b[1m           timestamp \u001b[0m│\u001b[1m Ethylene \u001b[0m│\u001b[1m  Ethane \u001b[0m│\u001b[1m Hydrogen \u001b[0m│\u001b[1m Nitrogen \u001b[0m│\u001b[1m   Argon \u001b[0m│\n",
       "│\u001b[90m      Dates.DateTime \u001b[0m│\u001b[90m  Float64 \u001b[0m│\u001b[90m Float64 \u001b[0m│\u001b[90m  Float64 \u001b[0m│\u001b[90m  Float64 \u001b[0m│\u001b[90m Float64 \u001b[0m│\n",
       "├─────────────────────┼──────────┼─────────┼──────────┼──────────┼─────────┤\n",
       "│ 2020-01-01T00:00:00 │      0.0 │ 30.0603 │  2.03596 │      0.0 │     0.0 │\n",
       "│ 2020-01-01T06:00:00 │      0.0 │ 30.1925 │  1.99564 │      0.0 │     0.0 │\n",
       "│ 2020-01-02T00:00:00 │      0.0 │ 32.4041 │  2.03596 │      0.0 │     0.0 │\n",
       "│ 2020-01-02T06:00:00 │      0.0 │ 32.3727 │  1.99564 │      0.0 │     0.0 │\n",
       "│ 2020-01-03T00:00:00 │      0.0 │ 30.8721 │  2.03596 │      0.0 │     0.0 │\n",
       "│          ⋮          │    ⋮     │    ⋮    │    ⋮     │    ⋮     │    ⋮    │\n",
       "└─────────────────────┴──────────┴─────────┴──────────┴──────────┴─────────┘\n",
       "\u001b[36m                                                             22 rows omitted\u001b[0m\n",
       "\n",
       "Elemental closures (-1.0 if not present):\n",
       "┌─────────────────────┬─────────────────────────────────────────────────┐\n",
       "│\u001b[1m           timestamp \u001b[0m│\u001b[1m                              Elemental Closures \u001b[0m│\n",
       "│\u001b[90m      Dates.DateTime \u001b[0m│\u001b[90m                           Dict{String, Float64} \u001b[0m│\n",
       "├─────────────────────┼─────────────────────────────────────────────────┤\n",
       "│ 2020-01-01T00:00:00 │ Dict(\"C\"=>1.0, \"N\"=>-1.0, \"Ar\"=>-1.0, \"H\"=>1.0) │\n",
       "│ 2020-01-01T06:00:00 │ Dict(\"C\"=>1.0, \"N\"=>-1.0, \"Ar\"=>-1.0, \"H\"=>1.0) │\n",
       "│ 2020-01-02T00:00:00 │ Dict(\"C\"=>1.0, \"N\"=>-1.0, \"Ar\"=>-1.0, \"H\"=>1.0) │\n",
       "│ 2020-01-02T06:00:00 │ Dict(\"C\"=>1.0, \"N\"=>-1.0, \"Ar\"=>-1.0, \"H\"=>1.0) │\n",
       "│ 2020-01-03T00:00:00 │ Dict(\"C\"=>1.0, \"N\"=>-1.0, \"Ar\"=>-1.0, \"H\"=>1.0) │\n",
       "│          ⋮          │                        ⋮                        │\n",
       "└─────────────────────┴─────────────────────────────────────────────────┘\n",
       "\u001b[36m                                                          22 rows omitted\u001b[0m\n"
      ]
     },
     "metadata": {},
     "output_type": "display_data"
    }
   ],
   "source": [
    "b2 = closemb(b, anchor = \"eProduct\")  # This is assignd to a new boundary object"
   ]
  },
  {
   "cell_type": "markdown",
   "id": "8c66887f-ba21-4b77-8a7e-447b4577a2fe",
   "metadata": {},
   "source": [
    "Let's compare the raw and reconciled closures:"
   ]
  },
  {
   "cell_type": "code",
   "execution_count": 56,
   "id": "913b2def-9e31-48a6-9677-91ea8263bc01",
   "metadata": {},
   "outputs": [
    {
     "data": {
      "text/plain": [
       "(0.9587129966186322, 0.9999999999713725)"
      ]
     },
     "metadata": {},
     "output_type": "display_data"
    }
   ],
   "source": [
    "(mean(values(b.closure)),\n",
    "mean(values(b2.closure)))"
   ]
  },
  {
   "cell_type": "markdown",
   "id": "72706b8a-4519-4fba-9b3c-8a7b630f908f",
   "metadata": {},
   "source": [
    "We can also request some information from a bounary. This is given in table form, packed into a string."
   ]
  },
  {
   "cell_type": "code",
   "execution_count": 57,
   "id": "394b36f1-8170-4d6e-8ae5-f16287e49819",
   "metadata": {},
   "outputs": [
    {
     "name": "stdout",
     "output_type": "stream",
     "text": [
      "Mass Balance Boundary:\n",
      "----------------------\n",
      "\n",
      "Total Mass Flows In:\n",
      "┌─────────────────────┬──────────┬─────────┬──────────┬──────────┬─────────┐\n",
      "│           timestamp │ Ethylene │  Ethane │ Hydrogen │ Nitrogen │   Argon │\n",
      "│      Dates.DateTime │  Float64 │ Float64 │  Float64 │  Float64 │ Float64 │\n",
      "├─────────────────────┼──────────┼─────────┼──────────┼──────────┼─────────┤\n",
      "│ 2020-01-01T00:00:00 │  3.00838 │ 26.8357 │  2.25213 │      0.0 │     0.0 │\n",
      "│ 2020-01-01T06:00:00 │  3.01228 │ 26.9638 │  2.21209 │      0.0 │     0.0 │\n",
      "│ 2020-01-02T00:00:00 │  2.58593 │ 29.6324 │  2.22177 │      0.0 │     0.0 │\n",
      "│ 2020-01-02T06:00:00 │  2.97617 │ 29.1827 │   2.2095 │      0.0 │     0.0 │\n",
      "│ 2020-01-03T00:00:00 │   2.9015 │ 27.7621 │  2.24445 │      0.0 │     0.0 │\n",
      "│ 2020-01-03T06:00:00 │  2.87429 │ 28.5366 │  2.20218 │      0.0 │     0.0 │\n",
      "│ 2020-01-04T00:00:00 │  3.08111 │ 26.6235 │  2.25736 │      0.0 │     0.0 │\n",
      "│ 2020-01-04T06:00:00 │  3.04934 │ 27.1932 │  2.21476 │      0.0 │     0.0 │\n",
      "│ 2020-01-05T00:00:00 │  2.74071 │ 24.9727 │   2.2329 │      0.0 │     0.0 │\n",
      "│ 2020-01-05T06:00:00 │    2.887 │ 29.4306 │  2.20309 │      0.0 │     0.0 │\n",
      "│ 2020-01-06T00:00:00 │  2.91502 │ 26.1711 │  2.24542 │      0.0 │     0.0 │\n",
      "│ 2020-01-06T06:00:00 │   2.9644 │ 26.1138 │  2.20865 │      0.0 │     0.0 │\n",
      "│ 2020-01-07T00:00:00 │  2.80123 │ 24.8258 │  2.23725 │      0.0 │     0.0 │\n",
      "│ 2020-01-07T06:00:00 │  2.80739 │ 27.7519 │  2.19737 │      0.0 │     0.0 │\n",
      "│ 2020-01-08T00:00:00 │  2.66351 │ 24.8356 │  2.22735 │      0.0 │     0.0 │\n",
      "│ 2020-01-08T06:00:00 │  2.69868 │ 29.6975 │  2.18956 │      0.0 │     0.0 │\n",
      "│ 2020-01-09T00:00:00 │  2.58487 │ 26.7347 │   2.2217 │      0.0 │     0.0 │\n",
      "│ 2020-01-09T06:00:00 │  2.69218 │ 28.9731 │  2.18909 │      0.0 │     0.0 │\n",
      "│ 2020-01-10T00:00:00 │  3.05105 │ 29.1058 │   2.2552 │      0.0 │     0.0 │\n",
      "│ 2020-01-10T06:00:00 │   2.7201 │ 27.9892 │   2.1911 │      0.0 │     0.0 │\n",
      "│ 2020-01-11T00:00:00 │  2.68014 │ 24.7977 │  2.22854 │      0.0 │     0.0 │\n",
      "│ 2020-01-11T06:00:00 │  2.85866 │ 28.3043 │  2.20106 │      0.0 │     0.0 │\n",
      "│ 2020-01-12T00:00:00 │  3.01214 │ 28.1095 │   2.2524 │      0.0 │     0.0 │\n",
      "│ 2020-01-12T06:00:00 │  2.87886 │ 24.5542 │  2.20251 │      0.0 │     0.0 │\n",
      "│ 2020-01-13T00:00:00 │  2.73581 │ 24.4607 │  2.23254 │      0.0 │     0.0 │\n",
      "│ 2020-01-13T06:00:00 │  3.05824 │ 25.2309 │   2.2154 │      0.0 │     0.0 │\n",
      "│ 2020-01-14T00:00:00 │  2.98877 │ 25.7052 │  2.25072 │      0.0 │     0.0 │\n",
      "└─────────────────────┴──────────┴─────────┴──────────┴──────────┴─────────┘\n",
      "\n",
      "\n",
      "Total Mass Flows In:\n",
      "┌─────────────────────┬────────────┬─────────┬──────────┬──────────┬─────────┐\n",
      "│           timestamp │   Ethylene │  Ethane │ Hydrogen │ Nitrogen │   Argon │\n",
      "│      Dates.DateTime │    Float64 │ Float64 │  Float64 │  Float64 │ Float64 │\n",
      "├─────────────────────┼────────────┼─────────┼──────────┼──────────┼─────────┤\n",
      "│ 2020-01-01T00:00:00 │        0.0 │ 30.0603 │  2.03596 │      0.0 │     0.0 │\n",
      "│ 2020-01-01T06:00:00 │        0.0 │ 30.1925 │  1.99564 │      0.0 │     0.0 │\n",
      "│ 2020-01-02T00:00:00 │        0.0 │ 32.4041 │  2.03596 │      0.0 │     0.0 │\n",
      "│ 2020-01-02T06:00:00 │        0.0 │ 32.3727 │  1.99564 │      0.0 │     0.0 │\n",
      "│ 2020-01-03T00:00:00 │        0.0 │ 30.8721 │  2.03596 │      0.0 │     0.0 │\n",
      "│ 2020-01-03T06:00:00 │        0.0 │ 31.6174 │  1.99564 │      0.0 │     0.0 │\n",
      "│ 2020-01-04T00:00:00 │        0.0 │  29.926 │  2.03596 │      0.0 │     0.0 │\n",
      "│ 2020-01-04T06:00:00 │        0.0 │ 30.4616 │  1.99564 │      0.0 │     0.0 │\n",
      "│ 2020-01-05T00:00:00 │   0.028053 │ 27.8803 │  2.03797 │      0.0 │     0.0 │\n",
      "│ 2020-01-05T06:00:00 │        0.0 │  32.525 │  1.99564 │      0.0 │     0.0 │\n",
      "│ 2020-01-06T00:00:00 │        0.0 │ 29.2956 │  2.03596 │      0.0 │     0.0 │\n",
      "│ 2020-01-06T06:00:00 │        0.0 │ 29.2912 │  1.99564 │      0.0 │     0.0 │\n",
      "│ 2020-01-07T00:00:00 │   0.056106 │ 27.7682 │  2.03999 │      0.0 │     0.0 │\n",
      "│ 2020-01-07T06:00:00 │ 0.00028053 │ 30.7608 │  1.99566 │      0.0 │     0.0 │\n",
      "│ 2020-01-08T00:00:00 │        0.0 │ 27.6905 │  2.03596 │      0.0 │     0.0 │\n",
      "│ 2020-01-08T06:00:00 │        0.0 │ 32.5901 │  1.99564 │      0.0 │     0.0 │\n",
      "│ 2020-01-09T00:00:00 │        0.0 │ 29.5053 │  2.03596 │      0.0 │     0.0 │\n",
      "│ 2020-01-09T06:00:00 │ 0.00084159 │ 31.8578 │   1.9957 │      0.0 │     0.0 │\n",
      "│ 2020-01-10T00:00:00 │        0.0 │ 32.3761 │  2.03596 │      0.0 │     0.0 │\n",
      "│ 2020-01-10T06:00:00 │        0.0 │ 30.9048 │  1.99564 │      0.0 │     0.0 │\n",
      "│ 2020-01-11T00:00:00 │        0.0 │ 27.6705 │  2.03596 │      0.0 │     0.0 │\n",
      "│ 2020-01-11T06:00:00 │        0.0 │ 31.3683 │  1.99564 │      0.0 │     0.0 │\n",
      "│ 2020-01-12T00:00:00 │        0.0 │ 31.3381 │  2.03596 │      0.0 │     0.0 │\n",
      "│ 2020-01-12T06:00:00 │        0.0 │   27.64 │  1.99564 │      0.0 │     0.0 │\n",
      "│ 2020-01-13T00:00:00 │        0.0 │ 27.3931 │  2.03596 │      0.0 │     0.0 │\n",
      "│ 2020-01-13T06:00:00 │        0.0 │ 28.5089 │  1.99564 │      0.0 │     0.0 │\n",
      "│ 2020-01-14T00:00:00 │        0.0 │ 28.9087 │  2.03596 │      0.0 │     0.0 │\n",
      "└─────────────────────┴────────────┴─────────┴──────────┴──────────┴─────────┘\n"
     ]
    }
   ],
   "source": [
    "print(showdata(b2))"
   ]
  },
  {
   "cell_type": "markdown",
   "id": "2a1405df-612d-4a91-b280-eea9a3867c77",
   "metadata": {},
   "source": [
    "## Flowsheets"
   ]
  },
  {
   "cell_type": "markdown",
   "id": "8e634b45-fee9-4605-9308-29e5043b177b",
   "metadata": {},
   "source": [
    "Lastly, for convenience, we can creat a `Flowsheet` object, which holds a number of unit operations and an execution order. If the flowsheet is then executed, each unit operation is execute in order, as specified. Unit operations can be added or deleted with utility functions and the execution order can be modified."
   ]
  },
  {
   "cell_type": "code",
   "execution_count": 58,
   "id": "c8af1d47-26ac-49e7-8bc9-318c2e1440e0",
   "metadata": {},
   "outputs": [],
   "source": [
    "fs = Flowsheet(sysunitops, [\"Reactor\"], [1])\n",
    "addunitop!(fs, [\"Mixer\"])\n",
    "fs()"
   ]
  },
  {
   "cell_type": "markdown",
   "id": "ef2b770a-c57f-466c-b4cf-9cbdede1ec2f",
   "metadata": {},
   "source": [
    "Lastly, once a `Flowsheet` object is created, a block flow diagram can also be generated."
   ]
  },
  {
   "cell_type": "code",
   "execution_count": 59,
   "id": "7200b020-ccd6-429e-9e86-9d36ccf28914",
   "metadata": {},
   "outputs": [
    {
     "data": {
      "image/svg+xml": [
       "<svg id=\"mermaid-svg\" width=\"100%\" xmlns=\"http://www.w3.org/2000/svg\" style=\"max-width: 442.59375px;\" viewBox=\"-8 -8 442.59375 100\" role=\"graphics-document document\" aria-roledescription=\"flowchart-v2\" xmlns:xlink=\"http://www.w3.org/1999/xlink\"><style>#mermaid-svg{font-family:\"trebuchet ms\",verdana,arial,sans-serif;font-size:14;fill:#eee;}#mermaid-svg .error-icon{fill:hsl(29.6, 100%, 60.8823529412%);}#mermaid-svg .error-text{fill:rgb(0, 101.0799999999, 199.4999999999);stroke:rgb(0, 101.0799999999, 199.4999999999);}#mermaid-svg .edge-thickness-normal{stroke-width:2px;}#mermaid-svg .edge-thickness-thick{stroke-width:3.5px;}#mermaid-svg .edge-pattern-solid{stroke-dasharray:0;}#mermaid-svg .edge-pattern-dashed{stroke-dasharray:3;}#mermaid-svg .edge-pattern-dotted{stroke-dasharray:2;}#mermaid-svg .marker{fill:#1e90ff;stroke:#1e90ff;}#mermaid-svg .marker.cross{stroke:#1e90ff;}#mermaid-svg svg{font-family:\"trebuchet ms\",verdana,arial,sans-serif;font-size:14;}#mermaid-svg .label{font-family:\"trebuchet ms\",verdana,arial,sans-serif;color:#eee;}#mermaid-svg .cluster-label text{fill:rgb(0, 101.0799999999, 199.4999999999);}#mermaid-svg .cluster-label span,#mermaid-svg p{color:rgb(0, 101.0799999999, 199.4999999999);}#mermaid-svg .label text,#mermaid-svg span,#mermaid-svg p{fill:#eee;color:#eee;}#mermaid-svg .node rect,#mermaid-svg .node circle,#mermaid-svg .node ellipse,#mermaid-svg .node polygon,#mermaid-svg .node path{fill:#1e90ff;stroke:hsl(209.6, 60%, 65.8823529412%);stroke-width:1px;}#mermaid-svg .flowchart-label text{text-anchor:middle;}#mermaid-svg .node .label{text-align:center;}#mermaid-svg .node.clickable{cursor:pointer;}#mermaid-svg .arrowheadPath{fill:#0b0b0b;}#mermaid-svg .edgePath .path{stroke:#1e90ff;stroke-width:2.0px;}#mermaid-svg .flowchart-link{stroke:#1e90ff;fill:none;}#mermaid-svg .edgeLabel{background-color:hsl(89.6, 100%, 25.8823529412%);text-align:center;}#mermaid-svg .edgeLabel rect{opacity:0.5;background-color:hsl(89.6, 100%, 25.8823529412%);fill:hsl(89.6, 100%, 25.8823529412%);}#mermaid-svg .labelBkg{background-color:rgba(66.8800000001, 132.0000000001, 0, 0.5);}#mermaid-svg .cluster rect{fill:hsl(29.6, 100%, 60.8823529412%);stroke:hsl(29.6, 60%, 70.8823529412%);stroke-width:1px;}#mermaid-svg .cluster text{fill:rgb(0, 101.0799999999, 199.4999999999);}#mermaid-svg .cluster span,#mermaid-svg p{color:rgb(0, 101.0799999999, 199.4999999999);}#mermaid-svg div.mermaidTooltip{position:absolute;text-align:center;max-width:200px;padding:2px;font-family:\"trebuchet ms\",verdana,arial,sans-serif;font-size:12px;background:hsl(29.6, 100%, 60.8823529412%);border:1px solid hsl(29.6, 60%, 70.8823529412%);border-radius:2px;pointer-events:none;z-index:100;}#mermaid-svg .flowchartTitleText{text-anchor:middle;font-size:18px;fill:#eee;}#mermaid-svg :root{--mermaid-font-family:\"trebuchet ms\",verdana,arial,sans-serif;}</style><g><marker id=\"mermaid-svg_flowchart-pointEnd\" class=\"marker flowchart\" viewBox=\"0 0 10 10\" refX=\"6\" refY=\"5\" markerUnits=\"userSpaceOnUse\" markerWidth=\"12\" markerHeight=\"12\" orient=\"auto\"><path d=\"M 0 0 L 10 5 L 0 10 z\" class=\"arrowMarkerPath\" style=\"stroke-width: 1; stroke-dasharray: 1, 0;\"></path></marker><marker id=\"mermaid-svg_flowchart-pointStart\" class=\"marker flowchart\" viewBox=\"0 0 10 10\" refX=\"4.5\" refY=\"5\" markerUnits=\"userSpaceOnUse\" markerWidth=\"12\" markerHeight=\"12\" orient=\"auto\"><path d=\"M 0 5 L 10 10 L 10 0 z\" class=\"arrowMarkerPath\" style=\"stroke-width: 1; stroke-dasharray: 1, 0;\"></path></marker><marker id=\"mermaid-svg_flowchart-circleEnd\" class=\"marker flowchart\" viewBox=\"0 0 10 10\" refX=\"11\" refY=\"5\" markerUnits=\"userSpaceOnUse\" markerWidth=\"11\" markerHeight=\"11\" orient=\"auto\"><circle cx=\"5\" cy=\"5\" r=\"5\" class=\"arrowMarkerPath\" style=\"stroke-width: 1; stroke-dasharray: 1, 0;\"></circle></marker><marker id=\"mermaid-svg_flowchart-circleStart\" class=\"marker flowchart\" viewBox=\"0 0 10 10\" refX=\"-1\" refY=\"5\" markerUnits=\"userSpaceOnUse\" markerWidth=\"11\" markerHeight=\"11\" orient=\"auto\"><circle cx=\"5\" cy=\"5\" r=\"5\" class=\"arrowMarkerPath\" style=\"stroke-width: 1; stroke-dasharray: 1, 0;\"></circle></marker><marker id=\"mermaid-svg_flowchart-crossEnd\" class=\"marker cross flowchart\" viewBox=\"0 0 11 11\" refX=\"12\" refY=\"5.2\" markerUnits=\"userSpaceOnUse\" markerWidth=\"11\" markerHeight=\"11\" orient=\"auto\"><path d=\"M 1,1 l 9,9 M 10,1 l -9,9\" class=\"arrowMarkerPath\" style=\"stroke-width: 2; stroke-dasharray: 1, 0;\"></path></marker><marker id=\"mermaid-svg_flowchart-crossStart\" class=\"marker cross flowchart\" viewBox=\"0 0 11 11\" refX=\"-1\" refY=\"5.2\" markerUnits=\"userSpaceOnUse\" markerWidth=\"11\" markerHeight=\"11\" orient=\"auto\"><path d=\"M 1,1 l 9,9 M 10,1 l -9,9\" class=\"arrowMarkerPath\" style=\"stroke-width: 2; stroke-dasharray: 1, 0;\"></path></marker><g class=\"root\"><g class=\"clusters\"></g><g class=\"edgePaths\"><path d=\"M18.75,9.5L24.488,9.5C30.227,9.5,41.703,9.5,52.399,12.126C63.095,14.751,73.01,20.002,77.968,22.628L82.926,25.253\" id=\"L-H2-Mixer-0\" class=\" edge-thickness-normal edge-pattern-solid flowchart-link LS-H2 LE-Mixer\" style=\"fill:none;\" marker-end=\"url(#mermaid-svg_flowchart-pointEnd)\"></path><path d=\"M18.75,74.5L24.488,74.5C30.227,74.5,41.703,74.5,52.399,71.874C63.095,69.249,73.01,63.998,77.968,61.372L82.926,58.747\" id=\"L-C2-Mixer-0\" class=\" edge-thickness-normal edge-pattern-solid flowchart-link LS-C2 LE-Mixer\" style=\"fill:none;\" marker-end=\"url(#mermaid-svg_flowchart-pointEnd)\"></path><path d=\"M141.484,42L149.116,42C156.747,42,172.01,42,186.39,42C200.77,42,214.266,42,221.014,42L227.763,42\" id=\"L-Mixer-Reactor-0\" class=\" edge-thickness-normal edge-pattern-solid flowchart-link LS-Mixer LE-Reactor\" style=\"fill:none;\" marker-end=\"url(#mermaid-svg_flowchart-pointEnd)\"></path><path d=\"M302.938,42L311.68,42C320.422,42,337.906,42,354.507,42C371.108,42,386.826,42,394.685,42L402.544,42\" id=\"L-Reactor-Product-0\" class=\" edge-thickness-normal edge-pattern-solid flowchart-link LS-Reactor LE-Product\" style=\"fill:none;\" marker-end=\"url(#mermaid-svg_flowchart-pointEnd)\"></path></g><g class=\"edgeLabels\"><g class=\"edgeLabel\" transform=\"translate(53.1796875, 9.5)\"><g class=\"label\" transform=\"translate(-9.4296875, -9.5)\"><foreignObject width=\"18.859375\" height=\"19\"><div xmlns=\"http://www.w3.org/1999/xhtml\" style=\"display: inline-block; white-space: nowrap;\"><span class=\"edgeLabel\">H2</span></div></foreignObject></g></g><g class=\"edgeLabel\" transform=\"translate(53.1796875, 74.5)\"><g class=\"label\" transform=\"translate(-8.984375, -9.5)\"><foreignObject width=\"17.96875\" height=\"19\"><div xmlns=\"http://www.w3.org/1999/xhtml\" style=\"display: inline-block; white-space: nowrap;\"><span class=\"edgeLabel\">C2</span></div></foreignObject></g></g><g class=\"edgeLabel\" transform=\"translate(187.2734375, 42)\"><g class=\"label\" transform=\"translate(-20.7890625, -9.5)\"><foreignObject width=\"41.578125\" height=\"19\"><div xmlns=\"http://www.w3.org/1999/xhtml\" style=\"display: inline-block; white-space: nowrap;\"><span class=\"edgeLabel\">Mixed</span></div></foreignObject></g></g><g class=\"edgeLabel\" transform=\"translate(355.390625, 42)\"><g class=\"label\" transform=\"translate(-27.453125, -9.5)\"><foreignObject width=\"54.90625\" height=\"19\"><div xmlns=\"http://www.w3.org/1999/xhtml\" style=\"display: inline-block; white-space: nowrap;\"><span class=\"edgeLabel\">Product</span></div></foreignObject></g></g></g><g class=\"nodes\"><g class=\"node default default flowchart-label\" id=\"flowchart-H2-0\" transform=\"translate(9.375, 9.5)\"><rect style=\"\" rx=\"7.5\" ry=\"7.5\" x=\"-9.375\" y=\"-7.5\" width=\"18.75\" height=\"15\"></rect><g class=\"label\" style=\"\" transform=\"translate(0, 0)\"><rect></rect><foreignObject width=\"0\" height=\"0\"><div xmlns=\"http://www.w3.org/1999/xhtml\" style=\"display: inline-block; white-space: nowrap;\"><span class=\"nodeLabel\"></span></div></foreignObject></g></g><g class=\"node default default flowchart-label\" id=\"flowchart-Mixer-1\" transform=\"translate(114.546875, 42)\"><rect class=\"basic label-container\" style=\"\" rx=\"0\" ry=\"0\" x=\"-26.9375\" y=\"-17\" width=\"53.875\" height=\"34\"></rect><g class=\"label\" style=\"\" transform=\"translate(-19.4375, -9.5)\"><rect></rect><foreignObject width=\"38.875\" height=\"19\"><div xmlns=\"http://www.w3.org/1999/xhtml\" style=\"display: inline-block; white-space: nowrap;\"><span class=\"nodeLabel\">Mixer</span></div></foreignObject></g></g><g class=\"node default default flowchart-label\" id=\"flowchart-C2-2\" transform=\"translate(9.375, 74.5)\"><rect style=\"\" rx=\"7.5\" ry=\"7.5\" x=\"-9.375\" y=\"-7.5\" width=\"18.75\" height=\"15\"></rect><g class=\"label\" style=\"\" transform=\"translate(0, 0)\"><rect></rect><foreignObject width=\"0\" height=\"0\"><div xmlns=\"http://www.w3.org/1999/xhtml\" style=\"display: inline-block; white-space: nowrap;\"><span class=\"nodeLabel\"></span></div></foreignObject></g></g><g class=\"node default default flowchart-label\" id=\"flowchart-Reactor-5\" transform=\"translate(268, 42)\"><rect class=\"basic label-container\" style=\"\" rx=\"0\" ry=\"0\" x=\"-34.9375\" y=\"-17\" width=\"69.875\" height=\"34\"></rect><g class=\"label\" style=\"\" transform=\"translate(-27.4375, -9.5)\"><rect></rect><foreignObject width=\"54.875\" height=\"19\"><div xmlns=\"http://www.w3.org/1999/xhtml\" style=\"display: inline-block; white-space: nowrap;\"><span class=\"nodeLabel\">Reactor</span></div></foreignObject></g></g><g class=\"node default default flowchart-label\" id=\"flowchart-Product-7\" transform=\"translate(417.21875, 42)\"><rect style=\"\" rx=\"7.5\" ry=\"7.5\" x=\"-9.375\" y=\"-7.5\" width=\"18.75\" height=\"15\"></rect><g class=\"label\" style=\"\" transform=\"translate(0, 0)\"><rect></rect><foreignObject width=\"0\" height=\"0\"><div xmlns=\"http://www.w3.org/1999/xhtml\" style=\"display: inline-block; white-space: nowrap;\"><span class=\"nodeLabel\"></span></div></foreignObject></g></g></g></g></g><style>@import url(\"https://cdnjs.cloudflare.com/ajax/libs/font-awesome/6.4.0/css/all.min.css\");</style></svg>"
      ]
     },
     "metadata": {},
     "output_type": "display_data"
    },
    {
     "data": {
      "text/plain": [
       "\"./myflowsheet.svg\""
      ]
     },
     "metadata": {},
     "output_type": "display_data"
    }
   ],
   "source": [
    "generateBFD(fs, \"./myflowsheet.svg\")"
   ]
  },
  {
   "cell_type": "code",
   "execution_count": 60,
   "id": "178eb2f9-a1b4-47a6-aff9-4d7e6dd009d1",
   "metadata": {},
   "outputs": [],
   "source": []
  }
 ],
 "metadata": {
  "kernelspec": {
   "display_name": "Julia 1.9.4",
   "language": "julia",
   "name": "julia-1.9"
  },
  "language_info": {
   "file_extension": ".jl",
   "mimetype": "application/julia",
   "name": "julia",
   "version": "1.9.4"
  }
 },
 "nbformat": 4,
 "nbformat_minor": 5
}
