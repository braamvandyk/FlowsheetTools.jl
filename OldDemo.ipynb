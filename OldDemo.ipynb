{
 "cells": [
  {
   "cell_type": "markdown",
   "id": "11d02e24-845d-4b01-90cb-9739f542776b",
   "metadata": {},
   "source": [
    "# FlowsheetTools.jl Demonstration"
   ]
  },
  {
   "cell_type": "markdown",
   "id": "80f8b55b-004b-40c4-b8d3-19545f02504c",
   "metadata": {},
   "source": [
    "FlowsheetTools.jl is a simply library for dealing with flowsheets (components, streams, unitops, boundaries and flowsheets). It can be used as a platform for running custom models, for example when fitting kinetic parameters to pilot plant data, where the operating unit is more complicated than a single reactor. The primary purpose however, was for process analytics - generating KPIs on a flowsheet and reconciling mass balances for generic flowsheets."
   ]
  },
  {
   "cell_type": "code",
   "execution_count": null,
   "id": "43d17065-74e9-4d55-b364-6e93b09d81f8",
   "metadata": {},
   "outputs": [],
   "source": [
    "using FlowsheetTools, Statistics"
   ]
  },
  {
   "cell_type": "markdown",
   "id": "065c1bca-39dd-46c0-806f-021f83457969",
   "metadata": {},
   "source": [
    "## Components\n",
    "\n",
    "We need a component list to hold all the components so we know where to find them later.\n",
    "    ter"
   ]
  },
  {
   "cell_type": "code",
   "execution_count": null,
   "id": "f81be581-fd28-4c42-9cd1-cbdd4d3ac0a2",
   "metadata": {},
   "outputs": [],
   "source": [
    "syscomps = ComponentList()"
   ]
  },
  {
   "cell_type": "markdown",
   "id": "dfedede6-d0ba-4954-9c97-55765ae0881b",
   "metadata": {},
   "source": [
    "You can read them from a folder with saved components (for convenience)."
   ]
  },
  {
   "cell_type": "code",
   "execution_count": null,
   "id": "5e8c67b1-33f3-4239-ac62-f5e5464c8329",
   "metadata": {},
   "outputs": [],
   "source": [
    "count = readcomponentlist!(syscomps, \"components\", [\"Ethylene\", \"Ethane\", \"Hydrogen\"])"
   ]
  },
  {
   "cell_type": "markdown",
   "id": "8c971b9c-2621-4f02-ab37-d72063ae5db5",
   "metadata": {},
   "source": [
    "Or you can define them directly with the convenience macros"
   ]
  },
  {
   "cell_type": "code",
   "execution_count": null,
   "id": "b253b507-5c91-4479-bc2d-3fb7286a7a7a",
   "metadata": {},
   "outputs": [],
   "source": [
    "@comp begin\n",
    "    N --> 2\n",
    "end \"Nitrogen\" syscomps"
   ]
  },
  {
   "cell_type": "markdown",
   "id": "4f75e5fb-2611-4441-a0da-da19659685fa",
   "metadata": {},
   "source": [
    "And then save them to file for re-sure later:"
   ]
  },
  {
   "cell_type": "code",
   "execution_count": null,
   "id": "c366871c-e914-47fa-907e-62c0ed439ded",
   "metadata": {},
   "outputs": [],
   "source": [
    "writecomponent(joinpath(\"components/\", \"Nitrogen.comp\"), syscomps[\"Nitrogen\"])"
   ]
  },
  {
   "cell_type": "markdown",
   "id": "5e2bb422-870f-4e7b-b2f5-4e900146674f",
   "metadata": {},
   "source": [
    "## Streams\n",
    "\n",
    "As for components, we create a container stream list to hold the streams so we have something to iterate through later."
   ]
  },
  {
   "cell_type": "code",
   "execution_count": null,
   "id": "dd9b936c-6329-4b1d-a010-122fe9c1c387",
   "metadata": {},
   "outputs": [],
   "source": [
    "sysstreams = StreamList()"
   ]
  },
  {
   "cell_type": "markdown",
   "id": "420f8400-8dad-4a0d-a1f7-0c7e19954529",
   "metadata": {},
   "source": [
    "You can create the streams directly with instantaneous flows. This can be in either mass or molar flows. The units are not specified - if you assume the mass flows are in kg/h, then the molar equivalent is kmol/hr, but this could as easily be lb/week and lbmole/week."
   ]
  },
  {
   "cell_type": "code",
   "execution_count": null,
   "id": "fa1bf0ea-decd-4d65-92d2-98f09c209359",
   "metadata": {},
   "outputs": [],
   "source": [
    "@stream mass begin\n",
    "    \"Ethylene\" --> 2.8053\n",
    "    \"Ethane\" --> 27.06192\n",
    "    \"Hydrogen\" --> 2.21738\n",
    "end \"Test\" syscomps sysstreams"
   ]
  },
  {
   "cell_type": "code",
   "execution_count": null,
   "id": "a6ac6d4f-848d-4e58-9640-8287c5db165e",
   "metadata": {},
   "outputs": [],
   "source": [
    "@stream mole begin \n",
    "    \"Ethane\" --> 0.9\n",
    "    \"Hydrogen\" --> 1.1\n",
    "    \"Ethylene\" --> 0.1\n",
    "end \"Product\" syscomps sysstreams"
   ]
  },
  {
   "cell_type": "markdown",
   "id": "06996e16-005e-4ba1-b1c0-c30b489e9dd5",
   "metadata": {},
   "source": [
    "One stream here was specified as mass flows, the other as molar flows, but there streams are the same and the missing flows (mass/mole) are calculated automatically in the constructor.\n",
    "\n",
    "We can quickly check if the molar flows are identical:"
   ]
  },
  {
   "cell_type": "code",
   "execution_count": null,
   "id": "1359bcc9-c24d-4e1d-8186-9dff50065eb0",
   "metadata": {},
   "outputs": [],
   "source": [
    "sysstreams[\"Test\"].moleflows .≈ sysstreams[\"Product\"].moleflows"
   ]
  },
  {
   "cell_type": "markdown",
   "id": "dde53ce9",
   "metadata": {},
   "source": [
    "Or, more conveniently, directly with the `≈` or `==` operators. Keep in mind that using `==` for floating point values is likely to give `false` when you would expect `true`, so it is recommende to rather use `≈` (`\\approx<tab>`)"
   ]
  },
  {
   "cell_type": "code",
   "execution_count": null,
   "id": "8bea67a6",
   "metadata": {},
   "outputs": [],
   "source": [
    "sysstreams[\"Test\"] ≈ sysstreams[\"Product\"]"
   ]
  },
  {
   "cell_type": "markdown",
   "id": "c176d7b3-13d2-4874-a348-28a4c3d26cc8",
   "metadata": {},
   "source": [
    "And the same for the atomic flows:"
   ]
  },
  {
   "cell_type": "code",
   "execution_count": null,
   "id": "046bb64d-b2bb-46f0-9e84-e11f3ebde00a",
   "metadata": {},
   "outputs": [],
   "source": [
    "all(getindex.(values(sysstreams[\"Test\"].atomflows), \"C\") .== getindex.(values(sysstreams[\"Product\"].atomflows), \"C\"))"
   ]
  },
  {
   "cell_type": "code",
   "execution_count": null,
   "id": "2572e800-6290-4534-97b1-5b6d8d28304f",
   "metadata": {},
   "outputs": [],
   "source": [
    "all(getindex.(values(sysstreams[\"Test\"].atomflows), \"H\") .== getindex.(values(sysstreams[\"Product\"].atomflows), \"H\"))"
   ]
  },
  {
   "cell_type": "markdown",
   "id": "fb1f902d-305b-41b9-a1ab-6bc5a336c33b",
   "metadata": {},
   "source": [
    "When we want to deal with streams with multiple historic data points, we read them from a file:"
   ]
  },
  {
   "cell_type": "code",
   "execution_count": null,
   "id": "b50ab77f-2126-4d65-835d-6c3aeb303471",
   "metadata": {},
   "outputs": [],
   "source": [
    "sysstreams = StreamList() # Create a new container and dump the previous streams"
   ]
  },
  {
   "cell_type": "code",
   "execution_count": null,
   "id": "2ee51871-e05c-48d7-a69c-6f8c5fe04c91",
   "metadata": {},
   "outputs": [],
   "source": [
    "sysstreams[\"Feed\"] = readstreamhistory(joinpath(\"streamhistories\", \"FeedStream.csv\"), \"Feed\", syscomps; ismoleflow=true)\n",
    "sysstreams[\"Product\"] = readstreamhistory(joinpath(\"streamhistories\", \"ProdStream.csv\"), \"Product\", syscomps; ismoleflow=true)"
   ]
  },
  {
   "cell_type": "markdown",
   "id": "b7352b89-3396-40a7-a026-3a02a17f215f",
   "metadata": {},
   "source": [
    "In the data files (*.csv), we had columns of data for ethylene, ethane and hydrogen, but or list of components also include nitrogen. We automatically set zero flows for amy components not in the file, so all the streams contain all of the components (for our sanity)."
   ]
  },
  {
   "cell_type": "markdown",
   "id": "303e19bd-c9b2-4904-8844-9747afbc2a77",
   "metadata": {},
   "source": [
    "We can still add components to the component list after the streams were created, but then we should also call `refreshcomplist(streamlist)` to add zero flows for all of these new components to the existing streams in the stream list.\n",
    "    "
   ]
  },
  {
   "cell_type": "code",
   "execution_count": null,
   "id": "2ad81bd9-8f72-4677-930e-702e38714311",
   "metadata": {},
   "outputs": [],
   "source": [
    "@comp begin\n",
    "    Ar --> 1\n",
    "end \"Argon\" syscomps\n",
    "\n",
    "refreshcomplist(sysstreams)\n",
    "\n",
    "sysstreams[\"Feed\"]"
   ]
  },
  {
   "cell_type": "markdown",
   "id": "097f3de8-e92c-467c-8877-fb7698f82dce",
   "metadata": {},
   "source": [
    "## What can we do with streams?"
   ]
  },
  {
   "cell_type": "markdown",
   "id": "aed0e6fb-8c5a-46a2-9b40-07a17181fc08",
   "metadata": {},
   "source": [
    "Operations defined on streams include addition and multiplication with a scalar. Addition of streams is effectively a mixer unit. Multiplication is used to allow correction factors for mass balance reconciliation."
   ]
  },
  {
   "cell_type": "code",
   "execution_count": null,
   "id": "9cdd1781-7b3c-433b-b031-28ffbba7e81b",
   "metadata": {},
   "outputs": [],
   "source": [
    "sysstreams[\"Prod2\"] = 2.0*sysstreams[\"Product\"]"
   ]
  },
  {
   "cell_type": "code",
   "execution_count": null,
   "id": "9818a2fb-8470-48eb-bab6-2e6e15941fc8",
   "metadata": {},
   "outputs": [],
   "source": [
    "all(values(sysstreams[\"Prod2\"].totalmassflow) .≈ values(2.0 .* sysstreams[\"Product\"].totalmassflow))"
   ]
  },
  {
   "cell_type": "code",
   "execution_count": null,
   "id": "9192bc0a",
   "metadata": {},
   "outputs": [],
   "source": [
    "sysstreams[\"Prod2\"] .≈ 2.0*sysstreams[\"Product\"]"
   ]
  },
  {
   "cell_type": "markdown",
   "id": "0728c89e-a8b1-4e04-a1f1-ae992710373a",
   "metadata": {},
   "source": [
    "Note the use of `.≈` and `.*` above. Internally the data are stored in `TimeArrays` from `TimeSeries.jl` and only the broadcasted operators are used on `TimeArray`s. Comparison between `TimeArrays` returns a `TimeArray` and we extract the results as an aray using the `values()` function to get a `BitVector`."
   ]
  },
  {
   "cell_type": "markdown",
   "id": "7eee460f-7dc9-49b8-8f2b-4608adeebc7b",
   "metadata": {},
   "source": [
    "We can also copy streams and copy with a multiplication factor:"
   ]
  },
  {
   "cell_type": "code",
   "execution_count": null,
   "id": "3ee7b055-cb5b-4974-bd6e-f9b9928ef70a",
   "metadata": {},
   "outputs": [],
   "source": [
    "copystream!(sysstreams, \"Product\", \"MyStream\")\n",
    "copystream!(sysstreams, \"Product\", \"MyStream2\"; factor=2.0)"
   ]
  },
  {
   "cell_type": "code",
   "execution_count": null,
   "id": "07c8e223-a413-4e81-90e0-817ad0e0ba0e",
   "metadata": {},
   "outputs": [],
   "source": [
    "all(values(sysstreams[\"MyStream2\"].totalmassflow) .≈ values(2.0 .* sysstreams[\"MyStream\"].totalmassflow))"
   ]
  },
  {
   "cell_type": "code",
   "execution_count": null,
   "id": "f5fab9a0",
   "metadata": {},
   "outputs": [],
   "source": [
    "all(sysstreams[\"MyStream2\"] .≈ 2.0*sysstreams[\"MyStream\"])"
   ]
  },
  {
   "cell_type": "markdown",
   "id": "2eec96bb-b3a3-40e4-a870-5dd212f0ba4e",
   "metadata": {},
   "source": [
    "We can also compare `MyStream` to its source, `Product`"
   ]
  },
  {
   "cell_type": "code",
   "execution_count": null,
   "id": "edad1a85-088f-484a-aa6f-74737cdf4045",
   "metadata": {},
   "outputs": [],
   "source": [
    "sysstreams[\"Product\"] == sysstreams[\"MyStream\"]"
   ]
  },
  {
   "cell_type": "markdown",
   "id": "35355281-2050-4c0c-ae59-b3672ea4809f",
   "metadata": {},
   "source": [
    "The streams are NOT identical, since their names are different. But if we compare the flows, we see that these are the same:"
   ]
  },
  {
   "cell_type": "code",
   "execution_count": null,
   "id": "5ac497b6-9ab6-4f98-a6ee-34f5b4b5cbe9",
   "metadata": {},
   "outputs": [],
   "source": [
    "(all(getindex.(values(sysstreams[\"Product\"].atomflows), \"C\") .== getindex.(values(sysstreams[\"MyStream\"].atomflows), \"C\")),\n",
    "all(getindex.(values(sysstreams[\"Product\"].atomflows), \"H\") .== getindex.(values(sysstreams[\"MyStream\"].atomflows), \"H\")),\n",
    "all(getindex.(values(sysstreams[\"Product\"].atomflows), \"N\") .== getindex.(values(sysstreams[\"MyStream\"].atomflows), \"N\")))"
   ]
  },
  {
   "cell_type": "markdown",
   "id": "b33359a6-c5f9-4587-a82c-4b2e5e53a236",
   "metadata": {},
   "source": [
    "We can also rename or delete streams from the stream list:"
   ]
  },
  {
   "cell_type": "code",
   "execution_count": null,
   "id": "58c628d4-7b14-433b-b802-4b9f31b55531",
   "metadata": {},
   "outputs": [],
   "source": [
    "renamestream!(sysstreams, \"MyStream\", \"Dummy\")\n",
    "deletestream!(sysstreams, \"Dummy\")"
   ]
  },
  {
   "cell_type": "code",
   "execution_count": null,
   "id": "bfab97e7-2741-47dd-94bf-a3e20e5eeb97",
   "metadata": {},
   "outputs": [],
   "source": [
    "sysstreams"
   ]
  },
  {
   "cell_type": "markdown",
   "id": "408e27a6-6a92-4def-8d22-0d844520b1cd",
   "metadata": {},
   "source": [
    "## UnitOps, Boundaries and KPIs"
   ]
  },
  {
   "cell_type": "markdown",
   "id": "c3fb5aee-2dd6-4501-bc0d-2bc4aac2ff69",
   "metadata": {},
   "source": [
    "Let's start with an empty stream list"
   ]
  },
  {
   "cell_type": "code",
   "execution_count": null,
   "id": "0404dfb6-34a7-41ed-96fd-f339b51fea07",
   "metadata": {},
   "outputs": [],
   "source": [
    "sysstreams = StreamList()"
   ]
  },
  {
   "cell_type": "code",
   "execution_count": null,
   "id": "9e266397-3f91-460b-a21a-1610c78d0691",
   "metadata": {},
   "outputs": [],
   "source": [
    "@stream mole begin\n",
    "    \"Hydrogen\" --> 1.1\n",
    "end \"H2\" syscomps sysstreams\n",
    "\n",
    "@stream mole begin\n",
    "    \"Ethylene\" --> 0.1\n",
    "    \"Ethane\" --> 0.9\n",
    "end \"C2\" syscomps sysstreams"
   ]
  },
  {
   "cell_type": "markdown",
   "id": "cfc847f2-2727-4e4d-bddb-855bd4e6f443",
   "metadata": {},
   "source": [
    "We can also add an empty stream, since we don't measure the mixed stream. We'll calculate it with a mixer model later"
   ]
  },
  {
   "cell_type": "code",
   "execution_count": null,
   "id": "aa891579-0ea7-4f0b-bec1-625d8b7824d0",
   "metadata": {},
   "outputs": [],
   "source": [
    "sysstreams[\"Mixed\"] = emptystream(sysstreams, \"Mixed\")"
   ]
  },
  {
   "cell_type": "code",
   "execution_count": null,
   "id": "3aa7492b-c3de-4b78-9f8b-95068c9fb507",
   "metadata": {},
   "outputs": [],
   "source": [
    "@stream mole begin\n",
    "    \"Ethylene\" --> 0.0\n",
    "    \"Ethane\" --> 1.0\n",
    "    \"Hydrogen\" --> 1.0\n",
    "end \"Product\" syscomps sysstreams"
   ]
  },
  {
   "cell_type": "markdown",
   "id": "6877b023-9df8-418e-bb2b-625f33e36e1f",
   "metadata": {},
   "source": [
    "Now we define some unit operations. As with components and streams we need a container to be able to access the streams again later."
   ]
  },
  {
   "cell_type": "code",
   "execution_count": null,
   "id": "1a1146cd-de00-431c-8d85-fc21c1ee82a7",
   "metadata": {},
   "outputs": [],
   "source": [
    "sysunitops = UnitOpList()"
   ]
  },
  {
   "cell_type": "code",
   "execution_count": null,
   "id": "d9c6281c-4a86-4d02-ab20-fd303382cc16",
   "metadata": {},
   "outputs": [],
   "source": [
    "@unitop begin\n",
    "    inlets --> [\"H2\", \"C2\"]\n",
    "    outlets --> [\"Mixed\"]\n",
    "    calc --> mixer!\n",
    "end \"Mixer\" sysstreams sysunitops\n",
    "sysunitops[\"Mixer\"]()"
   ]
  },
  {
   "cell_type": "markdown",
   "id": "2ebc93b6-9627-448b-b6b2-2e112949517e",
   "metadata": {},
   "source": [
    "This `UnitOp` takes the required inlet and outlet streams, but is also assigned a calculation. In this case, it is the predefined `mixer!` function, which is a simple stream mixer. This can however be any user-defined function, with the correct form. These calculations will supply the contents of the outlet streams based on the inlets streams and supplied model parameters. They are only needed if there is no information on the outlet streams."
   ]
  },
  {
   "cell_type": "code",
   "execution_count": null,
   "id": "fa86964b-0761-41ea-aee4-3e6e63834539",
   "metadata": {},
   "outputs": [],
   "source": [
    "@unitop begin\n",
    "    inlets --> [\"Mixed\"]\n",
    "    outlets --> [\"Product\"]\n",
    "end \"Reactor\" sysstreams sysunitops"
   ]
  },
  {
   "cell_type": "markdown",
   "id": "6c1df5b9-9892-4036-96b4-cfd05fe53d41",
   "metadata": {},
   "source": [
    "Our `Reactor` does not have an associated calculation. It is just a node in the flowsheet graph, so we shall need information for all of the inlets and outlets."
   ]
  },
  {
   "cell_type": "markdown",
   "id": "8e285681",
   "metadata": {},
   "source": [
    "Let's split and mix some streams, jsut for fun. We'll need some empty streams."
   ]
  },
  {
   "cell_type": "code",
   "execution_count": null,
   "id": "0be4e3ac",
   "metadata": {},
   "outputs": [],
   "source": [
    "sysstreams[\"Product1\"] = emptystream(sysstreams, \"Product1\");\n",
    "sysstreams[\"Product1a\"] = emptystream(sysstreams, \"Product1a\");\n",
    "sysstreams[\"Product1b\"] = emptystream(sysstreams, \"Product1b\");\n",
    "sysstreams[\"Product2\"] = emptystream(sysstreams, \"Product2\");\n",
    "sysstreams[\"Product3\"] = emptystream(sysstreams, \"Product3\");"
   ]
  },
  {
   "cell_type": "markdown",
   "id": "4cf3bb25",
   "metadata": {},
   "source": [
    "A flow splitter that splits 50% of the product to each of Product1 and Product2.\n",
    "These streams will have identcal compositions."
   ]
  },
  {
   "cell_type": "code",
   "execution_count": null,
   "id": "6cfeaaa0",
   "metadata": {},
   "outputs": [],
   "source": [
    "@unitop begin\n",
    "    inlets --> [\"Product\"]\n",
    "    outlets --> [\"Product1\", \"Product2\"]\n",
    "    calc --> flowsplitter!\n",
    "    params --> [0.5]\n",
    "end \"ProductSplitter\" sysstreams sysunitops\n",
    "sysunitops[\"ProductSplitter\"]()"
   ]
  },
  {
   "cell_type": "markdown",
   "id": "4887c0a8",
   "metadata": {},
   "source": [
    "A component splitter that splits Product1 into Product1a and Product1b.\n",
    "These streams will have different compositions, with the hydrogen split 50:50, 70% of the ethane going to Product1b and the remainder of Product1, going to Product1b (the last stream listed)."
   ]
  },
  {
   "cell_type": "code",
   "execution_count": null,
   "id": "d7223dda",
   "metadata": {},
   "outputs": [],
   "source": [
    "@unitop begin\n",
    "    inlets --> [\"Product1\"]\n",
    "    outlets --> [\"Product1a\", \"Product1b\"]\n",
    "    calc --> componentplitter!\n",
    "    params --> Dict([\n",
    "        \"Hydrogen\" => Dict([\"Product1a\" => 0.5]),\n",
    "        \"Ethane\" => Dict([\"Product1b\" => 0.3])\n",
    "    ])\n",
    "end \"ComponentSplitter\" sysstreams sysunitops\n",
    "sysunitops[\"ComponentSplitter\"]()"
   ]
  },
  {
   "cell_type": "markdown",
   "id": "5a3eb06a",
   "metadata": {},
   "source": [
    "And then we mix it all again and check that we still have the original Product stream"
   ]
  },
  {
   "cell_type": "code",
   "execution_count": null,
   "id": "30d723f5",
   "metadata": {},
   "outputs": [],
   "source": [
    "@unitop begin\n",
    "    inlets --> [\"Product1a\", \"Product1b\", \"Product2\"]\n",
    "    outlets --> [\"Product3\"]\n",
    "    calc --> mixer!\n",
    "end \"Mixer2\" sysstreams sysunitops\n",
    "sysunitops[\"Mixer2\"]()\n",
    "\n",
    "# Check that the two streams have the same flows\n",
    "all(values(sysstreams[\"Product\"].massflows .≈ sysstreams[\"Product3\"].massflows))"
   ]
  },
  {
   "cell_type": "markdown",
   "id": "54d227f8-fd39-4f07-bfd7-ba7500bc4dfe",
   "metadata": {},
   "source": [
    "Mass balances and KPIs are defined on a boundary around a number of unit operations. We therefore define a `Boundary` and list the contained `UnitOp`s"
   ]
  },
  {
   "cell_type": "code",
   "execution_count": null,
   "id": "11e058b6-f9b6-47ce-a39a-2a7b3c329a38",
   "metadata": {},
   "outputs": [],
   "source": [
    "@boundary begin\n",
    "    unitops --> [\"Mixer\", \"Reactor\"]\n",
    "end b sysunitops"
   ]
  },
  {
   "cell_type": "markdown",
   "id": "640168be-03f0-4efa-a0e3-1edd4fdda15a",
   "metadata": {},
   "source": [
    "We can look at total mass and elemental closures, as well as the combined in- and outflows."
   ]
  },
  {
   "cell_type": "code",
   "execution_count": null,
   "id": "d9cf60f4-6cc8-4fe0-87aa-f7902f24c190",
   "metadata": {},
   "outputs": [],
   "source": [
    "b.atomclosures"
   ]
  },
  {
   "cell_type": "code",
   "execution_count": null,
   "id": "e82c4eb1-d6ef-42ed-995e-55b7420964f3",
   "metadata": {},
   "outputs": [],
   "source": [
    "b.closure"
   ]
  },
  {
   "cell_type": "code",
   "execution_count": null,
   "id": "2362b13a-77c8-4374-958e-fe5991ee6427",
   "metadata": {},
   "outputs": [],
   "source": [
    "b.total_in.totalmassflow"
   ]
  },
  {
   "cell_type": "code",
   "execution_count": null,
   "id": "6dec670f-0a80-482f-86a2-a812140ab9dd",
   "metadata": {},
   "outputs": [],
   "source": [
    "b.total_out.totalmassflow"
   ]
  },
  {
   "cell_type": "code",
   "execution_count": null,
   "id": "8b483cb5-c06e-40c1-a821-9c8cbce25b6e",
   "metadata": {},
   "outputs": [],
   "source": [
    "b.atomclosures"
   ]
  },
  {
   "cell_type": "markdown",
   "id": "884e80ed-9aff-4e98-8e86-6327ac0cdbd6",
   "metadata": {},
   "source": [
    "We can also define KPIs on the boundary. Here we use the pre-defined KPIs of `conversion(boundary, component)` and `selectivity(boundary, reactant, product)`"
   ]
  },
  {
   "cell_type": "code",
   "execution_count": null,
   "id": "3b3dcf49-3954-4f91-a961-0b8784ccf367",
   "metadata": {},
   "outputs": [],
   "source": [
    "conversion(b, \"Ethane\")"
   ]
  },
  {
   "cell_type": "markdown",
   "id": "a373e863-6edf-458f-ad03-b91c4b8ff47e",
   "metadata": {},
   "source": [
    "Ethane was produced, not consumed, so has a negative value for conversion."
   ]
  },
  {
   "cell_type": "code",
   "execution_count": null,
   "id": "3a8e5876-1334-40f6-9a6a-ab57ba87642f",
   "metadata": {},
   "outputs": [],
   "source": [
    "(conversion(b, \"Ethylene\"),\n",
    "conversion(b, \"Hydrogen\"))"
   ]
  },
  {
   "cell_type": "markdown",
   "id": "54104a2d-8cf0-4aae-88e0-66527a3197f1",
   "metadata": {},
   "source": [
    "We had complete conversion of ethylene and only ~9% of hydrogen, due to the large excess fed."
   ]
  },
  {
   "cell_type": "code",
   "execution_count": null,
   "id": "da61bfbb-1686-4272-bfc1-33556bc6a97b",
   "metadata": {},
   "outputs": [],
   "source": [
    "molar_selectivity(b, \"Ethylene\", \"Ethane\")"
   ]
  },
  {
   "cell_type": "markdown",
   "id": "b346f930-bae9-45e5-b890-40bd711edd25",
   "metadata": {},
   "source": [
    "All of the reacted ethylene was converted to ethane."
   ]
  },
  {
   "cell_type": "markdown",
   "id": "db92e8db-e8c8-41c3-aadf-060e5497d1ba",
   "metadata": {},
   "source": [
    "Now we can repeat this for streams with multiple historic data points attached:"
   ]
  },
  {
   "cell_type": "code",
   "execution_count": null,
   "id": "1f7cd041-3a27-4931-8441-180fc826b689",
   "metadata": {},
   "outputs": [],
   "source": [
    "sysstreams = StreamList() # Create a new container and dump the previous streams\n",
    "sysstreams[\"C2\"] = readstreamhistory(joinpath(\"streamhistories\", \"C2.csv\"), \"C2\", syscomps; ismoleflow=true)\n",
    "sysstreams[\"H2\"] = readstreamhistory(joinpath(\"streamhistories\", \"Hydrogen.csv\"), \"H2\", syscomps; ismoleflow=true)\n",
    "sysstreams[\"Product\"] = readstreamhistory(joinpath(\"streamhistories\", \"Product.csv\"), \"Product\", syscomps; ismoleflow=true)\n",
    "sysstreams[\"Mixed\"] = emptystream(sysstreams, \"Mixed\");\n",
    "sysstreams[\"Product1\"] = emptystream(sysstreams, \"Product1\");\n",
    "sysstreams[\"Product1a\"] = emptystream(sysstreams, \"Product1a\");\n",
    "sysstreams[\"Product1b\"] = emptystream(sysstreams, \"Product1b\");\n",
    "sysstreams[\"Product2\"] = emptystream(sysstreams, \"Product2\");\n",
    "sysstreams[\"Product3\"] = emptystream(sysstreams, \"Product3\");"
   ]
  },
  {
   "cell_type": "code",
   "execution_count": null,
   "id": "7c1fc5a8-3ac2-406c-bdbb-9e87a16a9722",
   "metadata": {},
   "outputs": [],
   "source": [
    "sysunitops = UnitOpList();"
   ]
  },
  {
   "cell_type": "code",
   "execution_count": null,
   "id": "6fcc7d21-9d1f-4922-88b3-73701f92886c",
   "metadata": {},
   "outputs": [],
   "source": [
    "@unitop begin\n",
    "    inlets --> [\"H2\", \"C2\"]\n",
    "    outlets --> [\"Mixed\"]\n",
    "    calc --> mixer!\n",
    "end \"Mixer\" sysstreams sysunitops\n",
    "sysunitops[\"Mixer\"]()"
   ]
  },
  {
   "cell_type": "code",
   "execution_count": null,
   "id": "a1dad4e3-8aaa-49e3-9240-f98998f2f1fc",
   "metadata": {},
   "outputs": [],
   "source": [
    "@unitop begin\n",
    "    inlets --> [\"Mixed\"]\n",
    "    outlets --> [\"Product\"]\n",
    "end \"Reactor\" sysstreams sysunitops"
   ]
  },
  {
   "cell_type": "code",
   "execution_count": null,
   "id": "0b923deb",
   "metadata": {},
   "outputs": [],
   "source": [
    "sysstreams[\"Product1\"] = emptystream(sysstreams, \"Product1\");\n",
    "sysstreams[\"Product2\"] = emptystream(sysstreams, \"Product2\");\n",
    "@unitop begin\n",
    "    inlets --> [\"Product\"]\n",
    "    outlets --> [\"Product1\", \"Product2\"]\n",
    "    calc --> flowsplitter!\n",
    "    params --> [0.5]\n",
    "end \"ProductSplitter\" sysstreams sysunitops\n",
    "sysunitops[\"ProductSplitter\"]()"
   ]
  },
  {
   "cell_type": "markdown",
   "id": "2b591358",
   "metadata": {},
   "source": [
    "Check that the two streams have the same flows"
   ]
  },
  {
   "cell_type": "code",
   "execution_count": null,
   "id": "1d13e71d",
   "metadata": {},
   "outputs": [],
   "source": [
    "\n",
    "all(values(sysstreams[\"Product1\"].massflows .== sysstreams[\"Product2\"].massflows))"
   ]
  },
  {
   "cell_type": "code",
   "execution_count": null,
   "id": "d4d779c5",
   "metadata": {},
   "outputs": [],
   "source": [
    "@unitop begin\n",
    "    inlets --> [\"Product1\"]\n",
    "    outlets --> [\"Product1a\", \"Product1b\"]\n",
    "    calc --> componentplitter!\n",
    "    params --> Dict([\n",
    "        \"Hydrogen\" => Dict([\"Product1a\" => 0.5]),\n",
    "        \"Ethane\" => Dict([\"Product1b\" => 0.3])\n",
    "    ])\n",
    "end \"ComponentSplitter\" sysstreams sysunitops\n",
    "sysunitops[\"ComponentSplitter\"]()"
   ]
  },
  {
   "cell_type": "code",
   "execution_count": null,
   "id": "c092ce57",
   "metadata": {},
   "outputs": [],
   "source": [
    "@unitop begin\n",
    "    inlets --> [\"Product1a\", \"Product1b\", \"Product2\"]\n",
    "    outlets --> [\"Product3\"]\n",
    "    calc --> mixer!\n",
    "end \"Mixer2\" sysstreams sysunitops\n",
    "sysunitops[\"Mixer2\"]()"
   ]
  },
  {
   "cell_type": "code",
   "execution_count": null,
   "id": "410fa881",
   "metadata": {},
   "outputs": [],
   "source": [
    "all(values(sysstreams[\"Product\"].massflows .≈ sysstreams[\"Product3\"].massflows))"
   ]
  },
  {
   "cell_type": "code",
   "execution_count": null,
   "id": "e1aaa2db-10c0-4890-b354-a893ed220896",
   "metadata": {},
   "outputs": [],
   "source": [
    "@boundary begin\n",
    "    unitops --> [\"Mixer\", \"Reactor\", \"ProductSplitter\"]\n",
    "end b sysunitops"
   ]
  },
  {
   "cell_type": "code",
   "execution_count": null,
   "id": "ea5d5a54-3e42-4c5e-b9c9-ae2c6ad5497f",
   "metadata": {},
   "outputs": [],
   "source": [
    "b.atomclosures"
   ]
  },
  {
   "cell_type": "code",
   "execution_count": null,
   "id": "d1d7bb8a-33eb-431d-8526-74d3ba4344df",
   "metadata": {},
   "outputs": [],
   "source": [
    "b.closure"
   ]
  },
  {
   "cell_type": "code",
   "execution_count": null,
   "id": "b2cd0424-a6bb-4562-a5d7-c9d03ef91914",
   "metadata": {},
   "outputs": [],
   "source": [
    "b.total_in.totalmassflow"
   ]
  },
  {
   "cell_type": "code",
   "execution_count": null,
   "id": "cf6f79f5-eac2-4d97-a606-4402747503eb",
   "metadata": {},
   "outputs": [],
   "source": [
    "c1 = conversion(b, \"Ethane\")\n",
    "c2 = conversion(b, \"Ethylene\")"
   ]
  },
  {
   "cell_type": "code",
   "execution_count": null,
   "id": "b69f64cf-122b-4d00-abfe-27b5edc648a2",
   "metadata": {},
   "outputs": [],
   "source": [
    "sc2 = molar_selectivity(b, \"Ethylene\", \"Ethane\")"
   ]
  },
  {
   "cell_type": "code",
   "execution_count": null,
   "id": "0edcca87-dc90-4b74-adea-c5eca7da0f2e",
   "metadata": {},
   "outputs": [],
   "source": [
    "(mean(values(c1)),\n",
    "mean(values(c2)),\n",
    "mean(values(sc2)))"
   ]
  },
  {
   "cell_type": "markdown",
   "id": "f3a0483f-ed81-4e9f-a9b3-cc46d2d17fa8",
   "metadata": {},
   "source": [
    "So, we have average conversions of ethane (-11%, meaning it was produced, not consumed), ethylene (99.9%) and selectivity of ethylene conversion to ethane (~100%) similar to the single data point above."
   ]
  },
  {
   "cell_type": "markdown",
   "id": "4a2e15cc-0d7d-4189-8a29-020b52b2945f",
   "metadata": {},
   "source": [
    "## Mass balance reconciliation"
   ]
  },
  {
   "cell_type": "markdown",
   "id": "e9d3eaba-5da5-4d56-942f-8cc4b3f13342",
   "metadata": {},
   "source": [
    "The mass balance reconciliation algorithm is currently *VERY BASIC*! This will be updated at the first opportunity, but will be invisible to the end-user and will not have major impacts on the user interface unless additional user input is required."
   ]
  },
  {
   "cell_type": "markdown",
   "id": "6be80a40-2c63-4715-97d5-bf2f62259302",
   "metadata": {},
   "source": [
    "To demomstrate the use of the reconciliation tool, we repeat the flowsheet above, but introduce some (artificial) flow measurement errors."
   ]
  },
  {
   "cell_type": "code",
   "execution_count": null,
   "id": "45808fef-550b-46e6-bf61-7e272d967b7a",
   "metadata": {},
   "outputs": [],
   "source": [
    "copystream!(sysstreams, \"C2\", \"eC2\", factor = 1.05)\n",
    "copystream!(sysstreams, \"H2\", \"eH2\", factor = 0.95)\n",
    "copystream!(sysstreams, \"Product\", \"eProduct\")\n",
    "sysstreams[\"eMixed\"] = emptystream(sysstreams, \"eMixed\"); # We'll calculate this stream with the mixer model"
   ]
  },
  {
   "cell_type": "code",
   "execution_count": null,
   "id": "0da2c032-bfce-4e1b-ae20-29e322056805",
   "metadata": {},
   "outputs": [],
   "source": [
    "@unitop begin\n",
    "    inlets --> [\"eH2\", \"eC2\"]\n",
    "    outlets --> [\"eMixed\"]\n",
    "    calc --> mixer!\n",
    "end \"eMixer\" sysstreams sysunitops\n",
    "sysunitops[\"eMixer\"]()"
   ]
  },
  {
   "cell_type": "code",
   "execution_count": null,
   "id": "3308f652-5860-497f-b729-742b16ccdb48",
   "metadata": {},
   "outputs": [],
   "source": [
    "@unitop begin\n",
    "    inlets --> [\"eMixed\"]\n",
    "    outlets --> [\"eProduct\"]\n",
    "end \"eReactor\" sysstreams sysunitops"
   ]
  },
  {
   "cell_type": "code",
   "execution_count": null,
   "id": "a5c7d09c-0716-4613-bb0e-50c0020116a7",
   "metadata": {},
   "outputs": [],
   "source": [
    "@boundary begin\n",
    "    unitops --> [\"eMixer\", \"eReactor\"]\n",
    "end b sysunitops"
   ]
  },
  {
   "cell_type": "markdown",
   "id": "6d31475a-af43-4558-aed8-f897b6765c8a",
   "metadata": {},
   "source": [
    "We can request the correction factors, without applying them:"
   ]
  },
  {
   "cell_type": "code",
   "execution_count": null,
   "id": "cd0d913d-b5a9-4749-bae8-a7bc040517b2",
   "metadata": {},
   "outputs": [],
   "source": [
    "corrections = calccorrections(b, \"eProduct\")"
   ]
  },
  {
   "cell_type": "markdown",
   "id": "5b269b85-0662-4f97-81f5-b9a005bfa625",
   "metadata": {},
   "source": [
    "`calccorrections` takes a boundary for which to calculate the correction factors, an nachor stream, for which the correction is always 1.0 - no change, and then options weights for the total mass balance error and the elemental errors. These latter values default to 1.0 each.\n",
    "```\n",
    "    function calccorrections(boundary::BalanceBoundary, anchor::String; totalweight=1.0, elementweight=1.0)\n",
    "```"
   ]
  },
  {
   "cell_type": "markdown",
   "id": "ab8dad86-b213-421e-bf2b-3057fd2f2c1b",
   "metadata": {},
   "source": [
    "We can apply the corrections, with `closemb()_simple`, which will either take a `Dict` of correction factors, or calculate them automatically, if not specified."
   ]
  },
  {
   "cell_type": "code",
   "execution_count": null,
   "id": "e4b223a6-4a4c-49e8-ba17-1b2e501b647c",
   "metadata": {},
   "outputs": [],
   "source": [
    "b2 = closemb_simple(b, anchor = \"eProduct\")  # This is assignd to a new boundary object"
   ]
  },
  {
   "cell_type": "markdown",
   "id": "8c66887f-ba21-4b77-8a7e-447b4577a2fe",
   "metadata": {},
   "source": [
    "Let's compare the raw and reconciled closures:"
   ]
  },
  {
   "cell_type": "code",
   "execution_count": null,
   "id": "913b2def-9e31-48a6-9677-91ea8263bc01",
   "metadata": {},
   "outputs": [],
   "source": [
    "(mean(values(b.closure)),\n",
    "mean(values(b2.closure)))"
   ]
  },
  {
   "cell_type": "markdown",
   "id": "72706b8a-4519-4fba-9b3c-8a7b630f908f",
   "metadata": {},
   "source": [
    "We can also request some information from a bounary. This is given in table form, packed into a string."
   ]
  },
  {
   "cell_type": "code",
   "execution_count": null,
   "id": "394b36f1-8170-4d6e-8ae5-f16287e49819",
   "metadata": {},
   "outputs": [],
   "source": [
    "print(showdata(b2))"
   ]
  },
  {
   "cell_type": "markdown",
   "id": "2a1405df-612d-4a91-b280-eea9a3867c77",
   "metadata": {},
   "source": [
    "## Flowsheets"
   ]
  },
  {
   "cell_type": "markdown",
   "id": "8e634b45-fee9-4605-9308-29e5043b177b",
   "metadata": {},
   "source": [
    "Lastly, for convenience, we can creat a `Flowsheet` object, which holds a number of unit operations and an execution order. If the flowsheet is then executed, each unit operation is execute in order, as specified. Unit operations can be added or deleted with utility functions and the execution order can be modified."
   ]
  },
  {
   "cell_type": "code",
   "execution_count": null,
   "id": "c8af1d47-26ac-49e7-8bc9-318c2e1440e0",
   "metadata": {},
   "outputs": [],
   "source": [
    "fs = Flowsheet(sysunitops, [\"Reactor\"], [1])\n",
    "addunitop!(fs, [\"Mixer\", \"ProductSplitter\", \"ComponentSplitter\", \"Mixer2\"])\n",
    "\n",
    "fs()"
   ]
  },
  {
   "cell_type": "markdown",
   "id": "ef2b770a-c57f-466c-b4cf-9cbdede1ec2f",
   "metadata": {},
   "source": [
    "Lastly, once a `Flowsheet` object is created, a block flow diagram can also be generated."
   ]
  },
  {
   "cell_type": "code",
   "execution_count": null,
   "id": "7200b020-ccd6-429e-9e86-9d36ccf28914",
   "metadata": {},
   "outputs": [],
   "source": [
    "generateBFD(fs, \"./myflowsheet.svg\")"
   ]
  }
 ],
 "metadata": {
  "kernelspec": {
   "display_name": "Julia 1.10.0",
   "language": "julia",
   "name": "julia-1.10"
  },
  "language_info": {
   "file_extension": ".jl",
   "mimetype": "application/julia",
   "name": "julia",
   "version": "1.10.0"
  }
 },
 "nbformat": 4,
 "nbformat_minor": 5
}
