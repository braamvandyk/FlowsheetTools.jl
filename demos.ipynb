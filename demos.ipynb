{
 "cells": [
  {
   "cell_type": "markdown",
   "source": [
    "# FlowsheetTools.jl Demonstration"
   ],
   "metadata": {}
  },
  {
   "cell_type": "markdown",
   "source": [
    "FlowsheetTools.jl is a library for dealing with flowsheets (components, streams, unit operations, mass balance boundaries, and flowsheets).\n",
    "It can be used as a platform for running custom models, for example when fitting kinetic parameters to pilot plant data, where the operating unit is more complicated than a single reactor. The primary intended purpose however, was for process analytics - generating KPIs on a flowsheet and reconciling mass balances for generic flowsheets."
   ],
   "metadata": {}
  },
  {
   "cell_type": "markdown",
   "source": [
    "For more convenient analysis of flowsheets with missing measurements, a few utility unit operations are provided: a mixer, a flow splitter, a component splitter (to emulate a separation process with split factors) and a stoichiometric reactor block with specified conversions. Custom unit operations can also be defined, by simply providing a function that calculates the outlet streams from the inlets and an optional list of parameters."
   ],
   "metadata": {}
  },
  {
   "cell_type": "markdown",
   "source": [
    "The intention was not to build a full-on process simulator, but the custom reactor blocks etc can be easily added, when needed."
   ],
   "metadata": {}
  },
  {
   "cell_type": "markdown",
   "source": [
    "Let's have a look at how to use the library."
   ],
   "metadata": {}
  },
  {
   "outputs": [],
   "cell_type": "code",
   "source": [
    "using FlowsheetTools\n",
    "using Statistics: mean"
   ],
   "metadata": {},
   "execution_count": 1
  },
  {
   "cell_type": "markdown",
   "source": [
    "# The Flowsheet"
   ],
   "metadata": {}
  },
  {
   "cell_type": "markdown",
   "source": [
    "The `Flowsheet` is the central object in FlowsheetTools.jl. It contains a list of unit operations, a list of streams, a list of mass balance boundaries, and a list of components. You need only create the flowsheet. It will manange the other components automatically.\n",
    "Let's create an empty flowsheet and then build it out."
   ],
   "metadata": {}
  },
  {
   "outputs": [
    {
     "output_type": "execute_result",
     "data": {
      "text/plain": "Flowsheet:\nUnitOps in Execution Order:\n\nComponents:\n\nStreams:\n\nBoundaries:\n"
     },
     "metadata": {},
     "execution_count": 2
    }
   ],
   "cell_type": "code",
   "source": [
    "fs = Flowsheet()"
   ],
   "metadata": {},
   "execution_count": 2
  },
  {
   "cell_type": "markdown",
   "source": [
    "As you can see, the flowsheet is empty. It has no unit operations, streams, mass balance boundaries, or components yet. You will also see an empty execution order. It is possible to ask the flowsheet to execute all of the unitops it comtains. The execution order sets the order in which they execute.\n",
    "Remember, that this is not a process simulator. There is no flowsheet convergence algorithm. The unit operations are of the types needed to allow missing information to be calculated to close a mass balance.\n",
    "These include mixers, various splitters and a simple stoichiometric reactor."
   ],
   "metadata": {}
  },
  {
   "cell_type": "markdown",
   "source": [
    "## Components\n",
    "The most basic building block we need is a set of components. A component in FlowsheetTools.jl is a fairly simple object. It has a name, so we can refer to it, and contains the list of atoms and the number of each that make up the component. The molar mass of the component is automatically calculated and also stored."
   ],
   "metadata": {}
  },
  {
   "cell_type": "markdown",
   "source": [
    "We store all the components in a `ComponentList`, so we have a container to find them in, when needed.\n",
    "You don't need to directly create and manage a `ComponentList`. The `Flowsheet` manages the `ComponentList` for you.\n",
    "`ComponentList` is a wrapper around a Dict{String, Component} and can be in the same way as such any `Dict` in Julia, using the component names to index. Now that we have a container to put them into, we can add some components."
   ],
   "metadata": {}
  },
  {
   "cell_type": "markdown",
   "source": [
    "Let's look at the component list we have in our flowsheet:"
   ],
   "metadata": {}
  },
  {
   "outputs": [
    {
     "output_type": "execute_result",
     "data": {
      "text/plain": "Component list:\n"
     },
     "metadata": {},
     "execution_count": 3
    }
   ],
   "cell_type": "code",
   "source": [
    "fs.comps"
   ],
   "metadata": {},
   "execution_count": 3
  },
  {
   "cell_type": "markdown",
   "source": [
    "Not much to see. Just an empty list. Let's add some components."
   ],
   "metadata": {}
  },
  {
   "cell_type": "markdown",
   "source": [
    "Since it is likely that we shall re-use components, they can be stored in files, so we don't need to define them every time. Let's read in some components created earlier and stored in the sub-folder `components` under the active folder:"
   ],
   "metadata": {}
  },
  {
   "outputs": [
    {
     "output_type": "execute_result",
     "data": {
      "text/plain": "3"
     },
     "metadata": {},
     "execution_count": 4
    }
   ],
   "cell_type": "code",
   "source": [
    "count = readcomponentlist!(fs, \"components\", [\"Ethylene\", \"Ethane\", \"Hydrogen\"])"
   ],
   "metadata": {},
   "execution_count": 4
  },
  {
   "cell_type": "markdown",
   "source": [
    "The function `readcomponents` returns the number of components read in - 3 in this case. We specified the names of the components to read in from the folder. There can be any number of files stored there. We also supplied the flowsheet (`fs`) as the first argument.\n",
    "Since reading in components modifies (mutates) the flowsheet, the function name is ended in an exclamation mark, as is the convention in Julia."
   ],
   "metadata": {}
  },
  {
   "outputs": [
    {
     "output_type": "execute_result",
     "data": {
      "text/plain": "Component list:\n  Ethylene\n  Ethane\n  Hydrogen\n"
     },
     "metadata": {},
     "execution_count": 5
    }
   ],
   "cell_type": "code",
   "source": [
    "fs.comps"
   ],
   "metadata": {},
   "execution_count": 5
  },
  {
   "cell_type": "markdown",
   "source": [
    "Now we have three components in our flowsheet.\n",
    "To access a component in the component list, we index using the name of the component."
   ],
   "metadata": {}
  },
  {
   "outputs": [
    {
     "output_type": "execute_result",
     "data": {
      "text/plain": "Component: components\\Ethylene.comp\n\n  Atom\t\tCount\n---------------------\n   C \t\t   2\n   H \t\t   4\n"
     },
     "metadata": {},
     "execution_count": 6
    }
   ],
   "cell_type": "code",
   "source": [
    "fs.comps[\"Ethylene\"]"
   ],
   "metadata": {},
   "execution_count": 6
  },
  {
   "cell_type": "markdown",
   "source": [
    "If we need to define new components, ther are two ways to go about this."
   ],
   "metadata": {}
  },
  {
   "cell_type": "markdown",
   "source": [
    "The first is by using the @comp macro. It takes a list of atoms and a number of each, separated by a -->. We also suply a name for the component, so we can find it in the `ComponentList` it will be stored in, and the name of the `Flowsheet` to which this `ComponentList` belongs."
   ],
   "metadata": {}
  },
  {
   "outputs": [
    {
     "output_type": "execute_result",
     "data": {
      "text/plain": "Component: Nitrogen\n\n  Atom\t\tCount\n---------------------\n   N \t\t   2\n"
     },
     "metadata": {},
     "execution_count": 7
    }
   ],
   "cell_type": "code",
   "source": [
    "@comp begin\n",
    "    N --> 2\n",
    "end \"Nitrogen\" fs"
   ],
   "metadata": {},
   "execution_count": 7
  },
  {
   "cell_type": "markdown",
   "source": [
    "And we can check that is was added to our flowsheet:"
   ],
   "metadata": {}
  },
  {
   "outputs": [
    {
     "output_type": "execute_result",
     "data": {
      "text/plain": "Component list:\n  Ethylene\n  Ethane\n  Hydrogen\n  Nitrogen\n"
     },
     "metadata": {},
     "execution_count": 8
    }
   ],
   "cell_type": "code",
   "source": [
    "fs.comps"
   ],
   "metadata": {},
   "execution_count": 8
  },
  {
   "cell_type": "markdown",
   "source": [
    "The second way is to create the components by calling the constructor directly. This is most useful when creating lists of components, such a homologous series. For example, we could create the n-paraffins from C1 to C10 as follows:"
   ],
   "metadata": {}
  },
  {
   "outputs": [
    {
     "output_type": "execute_result",
     "data": {
      "text/plain": "Component list:\n  CH4\n  C2H6\n  C3H8\n  C4H10\n  C5H12\n  C6H14\n  C7H16\n  C8H18\n  C9H20\n  C10H22\n"
     },
     "metadata": {},
     "execution_count": 9
    }
   ],
   "cell_type": "code",
   "source": [
    "cl = ComponentList() # Create a new component list that is NOT in our flowsheet. We are throwing this away when we are done.\n",
    "for n in 1:10\n",
    "    if n == 1\n",
    "        name = \"CH4\"\n",
    "    else\n",
    "        name = \"C$(n)H$(2n+2)\"\n",
    "    end\n",
    "    cl[name] = Component(name, [\"C\", \"H\"], [n, 2n+2])\n",
    "end\n",
    "cl"
   ],
   "metadata": {},
   "execution_count": 9
  },
  {
   "outputs": [
    {
     "output_type": "execute_result",
     "data": {
      "text/plain": "Component: C10H22\n\n  Atom\t\tCount\n---------------------\n   C \t\t  10\n   H \t\t  22\n"
     },
     "metadata": {},
     "execution_count": 10
    }
   ],
   "cell_type": "code",
   "source": [
    "cl[\"C10H22\"]"
   ],
   "metadata": {},
   "execution_count": 10
  },
  {
   "cell_type": "markdown",
   "source": [
    "Here we created a \"dummy\" component list, so as to not add these components to our flowsheet. If we wanted to add them to the flowsheet, the code would look like this:"
   ],
   "metadata": {}
  },
  {
   "outputs": [],
   "cell_type": "code",
   "source": [
    "for n in 1:10\n",
    "    if n == 1\n",
    "        name = \"CH4\"\n",
    "    else\n",
    "        name = \"C$(n)H$(2n+2)\"\n",
    "    end\n",
    "    fs.comps[name] = Component(name, [\"C\", \"H\"], [n, 2n+2])\n",
    "end"
   ],
   "metadata": {},
   "execution_count": 11
  },
  {
   "outputs": [
    {
     "output_type": "execute_result",
     "data": {
      "text/plain": "Component list:\n  Ethylene\n  Ethane\n  Hydrogen\n  Nitrogen\n  CH4\n  C2H6\n  C3H8\n  C4H10\n  C5H12\n  C6H14\n  C7H16\n  C8H18\n  C9H20\n  C10H22\n"
     },
     "metadata": {},
     "execution_count": 12
    }
   ],
   "cell_type": "code",
   "source": [
    "fs.comps"
   ],
   "metadata": {},
   "execution_count": 12
  },
  {
   "cell_type": "markdown",
   "source": [
    "We can delete these components again:"
   ],
   "metadata": {}
  },
  {
   "outputs": [],
   "cell_type": "code",
   "source": [
    "deletecomponent!(fs, \"CH4\")\n",
    "for n in 2:10\n",
    "    name = \"C$(n)H$(2n+2)\"\n",
    "    deletecomponent!(fs, name)\n",
    "end"
   ],
   "metadata": {},
   "execution_count": 13
  },
  {
   "outputs": [
    {
     "output_type": "execute_result",
     "data": {
      "text/plain": "Component list:\n  Ethylene\n  Ethane\n  Hydrogen\n  Nitrogen\n"
     },
     "metadata": {},
     "execution_count": 14
    }
   ],
   "cell_type": "code",
   "source": [
    "fs.comps"
   ],
   "metadata": {},
   "execution_count": 14
  },
  {
   "cell_type": "markdown",
   "source": [
    "We can also clear the whole components list by calling `clearcomponents!(fs)`."
   ],
   "metadata": {}
  },
  {
   "cell_type": "markdown",
   "source": [
    "As you can see, the internal `ComponentList` in our flowsheet is called `fs.comps`, where `fs` is of course the name of our flowsheet."
   ],
   "metadata": {}
  },
  {
   "cell_type": "markdown",
   "source": [
    "We can save the components to file to re-use later. `writecomponents` takes the path to write to, and the specific component to write. It returns the number of bytes written."
   ],
   "metadata": {}
  },
  {
   "outputs": [
    {
     "output_type": "execute_result",
     "data": {
      "text/plain": "13"
     },
     "metadata": {},
     "execution_count": 15
    }
   ],
   "cell_type": "code",
   "source": [
    "writecomponent(joinpath(\"components/\", \"Nitrogen.comp\"), fs.comps[\"Nitrogen\"])"
   ],
   "metadata": {},
   "execution_count": 15
  },
  {
   "cell_type": "markdown",
   "source": [
    "## Streams"
   ],
   "metadata": {}
  },
  {
   "cell_type": "markdown",
   "source": [
    "Now that we have components, we can create streams for our process. Each stream contains a list of components and their flowrates. You can specify either the mass or moalr flows when creating the stream and the other will be automatically calculated. The constructor will also calculate the flowrates for each type of atom in the stream."
   ],
   "metadata": {}
  },
  {
   "cell_type": "markdown",
   "source": [
    "There are two ways in which we would use streams. Either with a single, current value for the flowrate and composition, or with a set of historical values of these. The former is useful for simulations, while the latter is useful for analysis. In either case, the flows are stored in `TimeArrays` from `TimeSeries.jl`. In cases where we only have a single flowrate, this is a simply `TimeArray` of length 1, with a (zero) timestamp asigned to the value."
   ],
   "metadata": {}
  },
  {
   "cell_type": "markdown",
   "source": [
    "As was the case with components, we need a container (a stream list) to hold the streams so we have something to iterate through later. Similar to a `ComponentList`, a `StreamList` is a wrapper around a `Dict{String, Stream}`. Again, you do not need to create or manage the `ComponentList`, as the `Flowsheet` will do that for you. You can access the StreamList via `fs.streams`, where `fs` is the `Flowsheet` object."
   ],
   "metadata": {}
  },
  {
   "cell_type": "markdown",
   "source": [
    "We can create the streams directly with instantaneous flows using the `@stream` macro.\n",
    "The first parameter passed to the macro indicates whether the flows are mass or molar flows. Similarly to what we did for components with `@comp`, we then provide a list of components and their flowrates, separated with a -->. We also supply a name for the stream, and the name of the `Flowsheet` to which to add the new stream.\n",
    "*The units are not specified* - if you assume the mass flows are in kg/h, then the molar equivalent is kmol/hr, but this could as easily be lb/week and lbmole/week."
   ],
   "metadata": {}
  },
  {
   "cell_type": "markdown",
   "source": [
    "Here we specify two streams, of identical composition and flows, but by specifying mass flows for the first and molar flows for the second."
   ],
   "metadata": {}
  },
  {
   "outputs": [
    {
     "output_type": "execute_result",
     "data": {
      "text/plain": "Stream: Product\n\n┌─────────────┬──────────┬─────────┬──────────┬──────────┐\n│\u001b[1m             \u001b[0m│\u001b[1m Ethylene \u001b[0m│\u001b[1m  Ethane \u001b[0m│\u001b[1m Hydrogen \u001b[0m│\u001b[1m Nitrogen \u001b[0m│\n├─────────────┼──────────┼─────────┼──────────┼──────────┤\n│ Mass flows  │   2.8053 │ 27.0619 │  2.21738 │      0.0 │\n│ Molar flows │      0.1 │     0.9 │      1.1 │      0.0 │\n└─────────────┴──────────┴─────────┴──────────┴──────────┘\n\nTotal mass flow: 32.085\n\n┌──────┬────────────┐\n│\u001b[1m Atom \u001b[0m│\u001b[1m Molar flow \u001b[0m│\n├──────┼────────────┤\n│    C │        2.0 │\n│    N │        0.0 │\n│    H │        8.0 │\n└──────┴────────────┘\n"
     },
     "metadata": {},
     "execution_count": 16
    }
   ],
   "cell_type": "code",
   "source": [
    "@stream mass begin\n",
    "    \"Ethylene\" --> 2.8053\n",
    "    \"Ethane\" --> 27.06192\n",
    "    \"Hydrogen\" --> 2.21738\n",
    "end \"Test\" fs\n",
    "\n",
    "@stream mole begin\n",
    "    \"Ethane\" --> 0.9\n",
    "    \"Hydrogen\" --> 1.1\n",
    "    \"Ethylene\" --> 0.1\n",
    "end \"Product\" fs"
   ],
   "metadata": {},
   "execution_count": 16
  },
  {
   "cell_type": "markdown",
   "source": [
    "One stream here was specified as mass flows, the other as molar flows, but there streams are the same and the missing flows (mass/mole) are calculated automatically in the constructor.\n",
    "We can quickly check if the molar flows are identical:"
   ],
   "metadata": {}
  },
  {
   "outputs": [
    {
     "output_type": "execute_result",
     "data": {
      "text/plain": "1×4 TimeSeries.TimeArray{Bool, 2, Dates.DateTime, BitMatrix} 0000-01-01T00:00:00 to 0000-01-01T00:00:00\n┌─────────────────────┬───────────────────┬───────────────┬─────────────────────\n│\u001b[1m                     \u001b[0m│\u001b[1m Ethylene_Ethylene \u001b[0m│\u001b[1m Ethane_Ethane \u001b[0m│\u001b[1m Hydrogen_Hydrogen \u001b[0m ⋯\n├─────────────────────┼───────────────────┼───────────────┼─────────────────────\n│ 0000-01-01T00:00:00 │              true │          true │              true  ⋯\n└─────────────────────┴───────────────────┴───────────────┴─────────────────────\n\u001b[36m                                                                1 column omitted\u001b[0m"
     },
     "metadata": {},
     "execution_count": 17
    }
   ],
   "cell_type": "code",
   "source": [
    "fs.streams[\"Test\"].moleflows .≈ fs.streams[\"Product\"].moleflows"
   ],
   "metadata": {},
   "execution_count": 17
  },
  {
   "cell_type": "markdown",
   "source": [
    "Or, more conveniently, directly with the `≈` or `==` operators.\n",
    "The `==` operator will insist on identical flows and names, i.e. of a stream passes through a unit unchanged, but gets a new name, '==' will return false when comparing the inlet and outlet.\n",
    "The `≈` operator will return true if the flows are approximately the same (within numerical precision), and the names are the same.\n",
    "Due to numerical precision, it is generally not a good idea to use `==` to compare floating point values in any event."
   ],
   "metadata": {}
  },
  {
   "outputs": [
    {
     "output_type": "execute_result",
     "data": {
      "text/plain": "true"
     },
     "metadata": {},
     "execution_count": 18
    }
   ],
   "cell_type": "code",
   "source": [
    "fs.streams[\"Test\"] ≈ fs.streams[\"Product\"]"
   ],
   "metadata": {},
   "execution_count": 18
  },
  {
   "outputs": [
    {
     "output_type": "execute_result",
     "data": {
      "text/plain": "false"
     },
     "metadata": {},
     "execution_count": 19
    }
   ],
   "cell_type": "code",
   "source": [
    "fs.streams[\"Test\"] == fs.streams[\"Product\"]"
   ],
   "metadata": {},
   "execution_count": 19
  },
  {
   "cell_type": "markdown",
   "source": [
    "And, for the skeptical members of the audience, we can also check the atomic flows:"
   ],
   "metadata": {}
  },
  {
   "outputs": [
    {
     "output_type": "execute_result",
     "data": {
      "text/plain": "true"
     },
     "metadata": {},
     "execution_count": 20
    }
   ],
   "cell_type": "code",
   "source": [
    "all(getindex.(values(fs.streams[\"Test\"].atomflows), \"C\") .== getindex.(values(fs.streams[\"Product\"].atomflows), \"C\"))"
   ],
   "metadata": {},
   "execution_count": 20
  },
  {
   "outputs": [
    {
     "output_type": "execute_result",
     "data": {
      "text/plain": "true"
     },
     "metadata": {},
     "execution_count": 21
    }
   ],
   "cell_type": "code",
   "source": [
    "all(getindex.(values(fs.streams[\"Test\"].atomflows), \"H\") .== getindex.(values(fs.streams[\"Product\"].atomflows), \"H\"))"
   ],
   "metadata": {},
   "execution_count": 21
  },
  {
   "cell_type": "markdown",
   "source": [
    "These comparisons also showed that we can access the flows using the `massflows`, `molarflows` and `atomflows` properties."
   ],
   "metadata": {}
  },
  {
   "outputs": [
    {
     "output_type": "execute_result",
     "data": {
      "text/plain": "1×4 TimeSeries.TimeArray{Float64, 2, Dates.DateTime, Matrix{Float64}} 0000-01-01T00:00:00 to 0000-01-01T00:00:00\n┌─────────────────────┬──────────┬─────────┬──────────┬──────────┐\n│\u001b[1m                     \u001b[0m│\u001b[1m Ethylene \u001b[0m│\u001b[1m Ethane  \u001b[0m│\u001b[1m Hydrogen \u001b[0m│\u001b[1m Nitrogen \u001b[0m│\n├─────────────────────┼──────────┼─────────┼──────────┼──────────┤\n│ 0000-01-01T00:00:00 │   2.8053 │ 27.0619 │  2.21738 │      0.0 │\n└─────────────────────┴──────────┴─────────┴──────────┴──────────┘"
     },
     "metadata": {},
     "execution_count": 22
    }
   ],
   "cell_type": "code",
   "source": [
    "fs.streams[\"Product\"].massflows"
   ],
   "metadata": {},
   "execution_count": 22
  },
  {
   "outputs": [
    {
     "output_type": "execute_result",
     "data": {
      "text/plain": "1×4 TimeSeries.TimeArray{Float64, 2, Dates.DateTime, Matrix{Float64}} 0000-01-01T00:00:00 to 0000-01-01T00:00:00\n┌─────────────────────┬──────────┬────────┬──────────┬──────────┐\n│\u001b[1m                     \u001b[0m│\u001b[1m Ethylene \u001b[0m│\u001b[1m Ethane \u001b[0m│\u001b[1m Hydrogen \u001b[0m│\u001b[1m Nitrogen \u001b[0m│\n├─────────────────────┼──────────┼────────┼──────────┼──────────┤\n│ 0000-01-01T00:00:00 │      0.1 │    0.9 │      1.1 │      0.0 │\n└─────────────────────┴──────────┴────────┴──────────┴──────────┘"
     },
     "metadata": {},
     "execution_count": 23
    }
   ],
   "cell_type": "code",
   "source": [
    "fs.streams[\"Product\"].moleflows"
   ],
   "metadata": {},
   "execution_count": 23
  },
  {
   "outputs": [
    {
     "output_type": "execute_result",
     "data": {
      "text/plain": "1×1 TimeSeries.TimeArray{Dict{String, Float64}, 1, Dates.DateTime, Vector{Dict{String, Float64}}} 0000-01-01T00:00:00 to 0000-01-01T00:00:00\n┌─────────────────────┬────────────────────────────────────┐\n│\u001b[1m                     \u001b[0m│\u001b[1m atomflows                          \u001b[0m│\n├─────────────────────┼────────────────────────────────────┤\n│ 0000-01-01T00:00:00 │ Dict(\"C\"=>2.0, \"N\"=>0.0, \"H\"=>8.0) │\n└─────────────────────┴────────────────────────────────────┘"
     },
     "metadata": {},
     "execution_count": 24
    }
   ],
   "cell_type": "code",
   "source": [
    "fs.streams[\"Product\"].atomflows"
   ],
   "metadata": {},
   "execution_count": 24
  },
  {
   "cell_type": "markdown",
   "source": [
    "When we want to deal with streams with multiple historic data points, to analyse plant data, we can use the `readstreamhistory` function, to read the stream from a file."
   ],
   "metadata": {}
  },
  {
   "cell_type": "markdown",
   "source": [
    "First, let's start with a new, empty stream list, to get rid of the streams we have created earlier. Note that `deletestreams!(fs)` will delete all the streams in the `Flowsheet`, deletestream(fs, name) will delete a single stream."
   ],
   "metadata": {}
  },
  {
   "outputs": [
    {
     "output_type": "execute_result",
     "data": {
      "text/plain": "Stream list:\n\nStreams:\n\tEmpty list\n"
     },
     "metadata": {},
     "execution_count": 25
    }
   ],
   "cell_type": "code",
   "source": [
    "deletestreams!(fs)\n",
    "fs.streams"
   ],
   "metadata": {},
   "execution_count": 25
  },
  {
   "cell_type": "markdown",
   "source": [
    "Then we in read the streams. We need to specify the folderpath to the CSV files, the name of the stream, the component list in which the components are defined and the stream list to which to add the new stream. We also specify whether the flows in the CSV files are mass or molar flows. `ismoleflow` has a default value of false, so need not be specified for mass flows."
   ],
   "metadata": {}
  },
  {
   "outputs": [
    {
     "output_type": "execute_result",
     "data": {
      "text/plain": "Stream: Feed\n\nMass flows:\n┌─────────────────────┬──────────┬─────────┬──────────┬──────────┐\n│\u001b[1m           timestamp \u001b[0m│\u001b[1m Ethylene \u001b[0m│\u001b[1m  Ethane \u001b[0m│\u001b[1m Hydrogen \u001b[0m│\u001b[1m Nitrogen \u001b[0m│\n│\u001b[90m      Dates.DateTime \u001b[0m│\u001b[90m  Float64 \u001b[0m│\u001b[90m Float64 \u001b[0m│\u001b[90m  Float64 \u001b[0m│\u001b[90m  Float64 \u001b[0m│\n├─────────────────────┼──────────┼─────────┼──────────┼──────────┤\n│ 2020-01-01T00:00:00 │  59.1012 │ 30.1711 │  3.99575 │      0.0 │\n│ 2020-01-01T06:00:00 │  59.7961 │ 30.4876 │  4.15398 │      0.0 │\n│ 2020-01-02T00:00:00 │  61.2996 │ 27.0851 │  4.21259 │      0.0 │\n│ 2020-01-02T06:00:00 │  59.5127 │ 29.9669 │  3.93049 │      0.0 │\n│ 2020-01-03T00:00:00 │  52.4608 │ 27.3167 │  4.30034 │      0.0 │\n│          ⋮          │    ⋮     │    ⋮    │    ⋮     │    ⋮     │\n└─────────────────────┴──────────┴─────────┴──────────┴──────────┘\n\u001b[36m                                                   22 rows omitted\u001b[0m\n\nMolar flows:\n┌─────────────────────┬──────────┬──────────┬──────────┬──────────┐\n│\u001b[1m           timestamp \u001b[0m│\u001b[1m Ethylene \u001b[0m│\u001b[1m   Ethane \u001b[0m│\u001b[1m Hydrogen \u001b[0m│\u001b[1m Nitrogen \u001b[0m│\n│\u001b[90m      Dates.DateTime \u001b[0m│\u001b[90m  Float64 \u001b[0m│\u001b[90m  Float64 \u001b[0m│\u001b[90m  Float64 \u001b[0m│\u001b[90m  Float64 \u001b[0m│\n├─────────────────────┼──────────┼──────────┼──────────┼──────────┤\n│ 2020-01-01T00:00:00 │  2.10677 │   1.0034 │  1.98222 │      0.0 │\n│ 2020-01-01T06:00:00 │  2.13154 │  1.01393 │  2.06071 │      0.0 │\n│ 2020-01-02T00:00:00 │  2.18514 │ 0.900772 │  2.08978 │      0.0 │\n│ 2020-01-02T06:00:00 │  2.12144 │ 0.996612 │  1.94984 │      0.0 │\n│ 2020-01-03T00:00:00 │  1.87006 │ 0.908472 │  2.13332 │      0.0 │\n│          ⋮          │    ⋮     │    ⋮     │    ⋮     │    ⋮     │\n└─────────────────────┴──────────┴──────────┴──────────┴──────────┘\n\u001b[36m                                                    22 rows omitted\u001b[0m\n\n\nAtom Flows:\n┌─────────────────────┬────────────────────────────────────────────┐\n│\u001b[1m           timestamp \u001b[0m│\u001b[1m                                  atomflows \u001b[0m│\n│\u001b[90m      Dates.DateTime \u001b[0m│\u001b[90m                      Dict{String, Float64} \u001b[0m│\n├─────────────────────┼────────────────────────────────────────────┤\n│ 2020-01-01T00:00:00 │ Dict(\"C\"=>6.22034, \"N\"=>0.0, \"H\"=>18.4119) │\n│ 2020-01-01T06:00:00 │ Dict(\"C\"=>6.29094, \"N\"=>0.0, \"H\"=>18.7312) │\n│ 2020-01-02T00:00:00 │ Dict(\"C\"=>6.17181, \"N\"=>0.0, \"H\"=>18.3247) │\n│ 2020-01-02T06:00:00 │  Dict(\"C\"=>6.2361, \"N\"=>0.0, \"H\"=>18.3651) │\n│ 2020-01-03T00:00:00 │ Dict(\"C\"=>5.55706, \"N\"=>0.0, \"H\"=>17.1977) │\n│          ⋮          │                     ⋮                      │\n└─────────────────────┴────────────────────────────────────────────┘\n\u001b[36m                                                     22 rows omitted\u001b[0m\n\nData length:\t27\nData starts:\t2020-01-01T00:00:00\nData ends:\t2020-01-14T00:00:00\n\nVariance in total mass flow:\t14.535\n"
     },
     "metadata": {},
     "execution_count": 26
    }
   ],
   "cell_type": "code",
   "source": [
    "readstreamhistory!(fs, \"Feed\", joinpath(\"streamhistories\", \"FeedStream.csv\"); ismoleflow=true)\n",
    "readstreamhistory!(fs, \"Product\", joinpath(\"streamhistories\", \"ProdStream.csv\"); ismoleflow=true)\n",
    "fs.streams[\"Feed\"]"
   ],
   "metadata": {},
   "execution_count": 26
  },
  {
   "cell_type": "markdown",
   "source": [
    "In the data files (*.csv), we had columns of data for ethylene, ethane and hydrogen, but our list of components also includes nitrogen.\n",
    "We automatically set zero flows for amy components not in the file, so all the streams contain all of the components (for our continued sanity...)."
   ],
   "metadata": {}
  },
  {
   "cell_type": "markdown",
   "source": [
    "We can still add components to the component list after the streams were created. If we do, then zero flows for all of these new components are added to the existing streams in the stream list."
   ],
   "metadata": {}
  },
  {
   "outputs": [
    {
     "output_type": "execute_result",
     "data": {
      "text/plain": "Stream: Feed\n\nMass flows:\n┌─────────────────────┬──────────┬─────────┬──────────┬──────────┬─────────┐\n│\u001b[1m           timestamp \u001b[0m│\u001b[1m Ethylene \u001b[0m│\u001b[1m  Ethane \u001b[0m│\u001b[1m Hydrogen \u001b[0m│\u001b[1m Nitrogen \u001b[0m│\u001b[1m   Argon \u001b[0m│\n│\u001b[90m      Dates.DateTime \u001b[0m│\u001b[90m  Float64 \u001b[0m│\u001b[90m Float64 \u001b[0m│\u001b[90m  Float64 \u001b[0m│\u001b[90m  Float64 \u001b[0m│\u001b[90m Float64 \u001b[0m│\n├─────────────────────┼──────────┼─────────┼──────────┼──────────┼─────────┤\n│ 2020-01-01T00:00:00 │  59.1012 │ 30.1711 │  3.99575 │      0.0 │     0.0 │\n│ 2020-01-01T06:00:00 │  59.7961 │ 30.4876 │  4.15398 │      0.0 │     0.0 │\n│ 2020-01-02T00:00:00 │  61.2996 │ 27.0851 │  4.21259 │      0.0 │     0.0 │\n│ 2020-01-02T06:00:00 │  59.5127 │ 29.9669 │  3.93049 │      0.0 │     0.0 │\n│ 2020-01-03T00:00:00 │  52.4608 │ 27.3167 │  4.30034 │      0.0 │     0.0 │\n│          ⋮          │    ⋮     │    ⋮    │    ⋮     │    ⋮     │    ⋮    │\n└─────────────────────┴──────────┴─────────┴──────────┴──────────┴─────────┘\n\u001b[36m                                                             22 rows omitted\u001b[0m\n\nMolar flows:\n┌─────────────────────┬──────────┬──────────┬──────────┬──────────┬─────────┐\n│\u001b[1m           timestamp \u001b[0m│\u001b[1m Ethylene \u001b[0m│\u001b[1m   Ethane \u001b[0m│\u001b[1m Hydrogen \u001b[0m│\u001b[1m Nitrogen \u001b[0m│\u001b[1m   Argon \u001b[0m│\n│\u001b[90m      Dates.DateTime \u001b[0m│\u001b[90m  Float64 \u001b[0m│\u001b[90m  Float64 \u001b[0m│\u001b[90m  Float64 \u001b[0m│\u001b[90m  Float64 \u001b[0m│\u001b[90m Float64 \u001b[0m│\n├─────────────────────┼──────────┼──────────┼──────────┼──────────┼─────────┤\n│ 2020-01-01T00:00:00 │  2.10677 │   1.0034 │  1.98222 │      0.0 │     0.0 │\n│ 2020-01-01T06:00:00 │  2.13154 │  1.01393 │  2.06071 │      0.0 │     0.0 │\n│ 2020-01-02T00:00:00 │  2.18514 │ 0.900772 │  2.08978 │      0.0 │     0.0 │\n│ 2020-01-02T06:00:00 │  2.12144 │ 0.996612 │  1.94984 │      0.0 │     0.0 │\n│ 2020-01-03T00:00:00 │  1.87006 │ 0.908472 │  2.13332 │      0.0 │     0.0 │\n│          ⋮          │    ⋮     │    ⋮     │    ⋮     │    ⋮     │    ⋮    │\n└─────────────────────┴──────────┴──────────┴──────────┴──────────┴─────────┘\n\u001b[36m                                                              22 rows omitted\u001b[0m\n\n\nAtom Flows:\n┌─────────────────────┬───────────────────────────────────────────────────────┐\n│\u001b[1m           timestamp \u001b[0m│\u001b[1m                                             atomflows \u001b[0m│\n│\u001b[90m      Dates.DateTime \u001b[0m│\u001b[90m                                 Dict{String, Float64} \u001b[0m│\n├─────────────────────┼───────────────────────────────────────────────────────┤\n│ 2020-01-01T00:00:00 │ Dict(\"C\"=>6.22034, \"N\"=>0.0, \"Ar\"=>0.0, \"H\"=>18.4119) │\n│ 2020-01-01T06:00:00 │ Dict(\"C\"=>6.29094, \"N\"=>0.0, \"Ar\"=>0.0, \"H\"=>18.7312) │\n│ 2020-01-02T00:00:00 │ Dict(\"C\"=>6.17181, \"N\"=>0.0, \"Ar\"=>0.0, \"H\"=>18.3247) │\n│ 2020-01-02T06:00:00 │  Dict(\"C\"=>6.2361, \"N\"=>0.0, \"Ar\"=>0.0, \"H\"=>18.3651) │\n│ 2020-01-03T00:00:00 │ Dict(\"C\"=>5.55706, \"N\"=>0.0, \"Ar\"=>0.0, \"H\"=>17.1977) │\n│          ⋮          │                           ⋮                           │\n└─────────────────────┴───────────────────────────────────────────────────────┘\n\u001b[36m                                                                22 rows omitted\u001b[0m\n\nData length:\t27\nData starts:\t2020-01-01T00:00:00\nData ends:\t2020-01-14T00:00:00\n\nVariance in total mass flow:\t14.535\n"
     },
     "metadata": {},
     "execution_count": 27
    }
   ],
   "cell_type": "code",
   "source": [
    "@comp begin\n",
    "    Ar --> 1\n",
    "end \"Argon\" fs\n",
    "\n",
    "fs.streams[\"Feed\"]"
   ],
   "metadata": {},
   "execution_count": 27
  },
  {
   "cell_type": "markdown",
   "source": [
    "## What can we do with streams?"
   ],
   "metadata": {}
  },
  {
   "cell_type": "markdown",
   "source": [
    "Operations defined on streams include adding streams together and multiplying a stream with a scalar value. Addition of streams is effectively a mixer unit.\n",
    "Multiplication is used to allow correction factors for mass balance reconciliation."
   ],
   "metadata": {}
  },
  {
   "outputs": [
    {
     "output_type": "execute_result",
     "data": {
      "text/plain": "Stream: Product\n\nMass flows:\n┌─────────────────────┬──────────┬─────────┬──────────┬──────────┬─────────┐\n│\u001b[1m           timestamp \u001b[0m│\u001b[1m Ethylene \u001b[0m│\u001b[1m  Ethane \u001b[0m│\u001b[1m Hydrogen \u001b[0m│\u001b[1m Nitrogen \u001b[0m│\u001b[1m   Argon \u001b[0m│\n│\u001b[90m      Dates.DateTime \u001b[0m│\u001b[90m  Float64 \u001b[0m│\u001b[90m Float64 \u001b[0m│\u001b[90m  Float64 \u001b[0m│\u001b[90m  Float64 \u001b[0m│\u001b[90m Float64 \u001b[0m│\n├─────────────────────┼──────────┼─────────┼──────────┼──────────┼─────────┤\n│ 2020-01-01T00:00:00 │  5.32151 │  169.84 │ 0.431731 │      0.0 │     0.0 │\n│ 2020-01-01T06:00:00 │  5.98625 │  186.78 │ 0.388047 │      0.0 │     0.0 │\n│ 2020-01-02T00:00:00 │  5.73888 │  176.22 │ 0.373769 │      0.0 │     0.0 │\n│ 2020-01-02T06:00:00 │  5.96781 │ 176.646 │  0.40102 │      0.0 │     0.0 │\n│ 2020-01-03T00:00:00 │  6.02554 │ 185.189 │ 0.435204 │      0.0 │     0.0 │\n│          ⋮          │    ⋮     │    ⋮    │    ⋮     │    ⋮     │    ⋮    │\n└─────────────────────┴──────────┴─────────┴──────────┴──────────┴─────────┘\n\u001b[36m                                                             22 rows omitted\u001b[0m\n\nMolar flows:\n┌─────────────────────┬──────────┬─────────┬──────────┬──────────┬─────────┐\n│\u001b[1m           timestamp \u001b[0m│\u001b[1m Ethylene \u001b[0m│\u001b[1m  Ethane \u001b[0m│\u001b[1m Hydrogen \u001b[0m│\u001b[1m Nitrogen \u001b[0m│\u001b[1m   Argon \u001b[0m│\n│\u001b[90m      Dates.DateTime \u001b[0m│\u001b[90m  Float64 \u001b[0m│\u001b[90m Float64 \u001b[0m│\u001b[90m  Float64 \u001b[0m│\u001b[90m  Float64 \u001b[0m│\u001b[90m Float64 \u001b[0m│\n├─────────────────────┼──────────┼─────────┼──────────┼──────────┼─────────┤\n│ 2020-01-01T00:00:00 │ 0.189695 │ 5.64839 │ 0.214174 │      0.0 │     0.0 │\n│ 2020-01-01T06:00:00 │ 0.213391 │ 6.21176 │ 0.192503 │      0.0 │     0.0 │\n│ 2020-01-02T00:00:00 │ 0.204573 │ 5.86056 │  0.18542 │      0.0 │     0.0 │\n│ 2020-01-02T06:00:00 │ 0.212734 │ 5.87472 │ 0.198938 │      0.0 │     0.0 │\n│ 2020-01-03T00:00:00 │ 0.214791 │ 6.15885 │ 0.215896 │      0.0 │     0.0 │\n│          ⋮          │    ⋮     │    ⋮    │    ⋮     │    ⋮     │    ⋮    │\n└─────────────────────┴──────────┴─────────┴──────────┴──────────┴─────────┘\n\u001b[36m                                                             22 rows omitted\u001b[0m\n\n\nAtom Flows:\n┌─────────────────────┬───────────────────────────────────────────────────────┐\n│\u001b[1m           timestamp \u001b[0m│\u001b[1m                                             atomflows \u001b[0m│\n│\u001b[90m      Dates.DateTime \u001b[0m│\u001b[90m                                 Dict{String, Float64} \u001b[0m│\n├─────────────────────┼───────────────────────────────────────────────────────┤\n│ 2020-01-01T00:00:00 │ Dict(\"C\"=>11.6762, \"N\"=>0.0, \"Ar\"=>0.0, \"H\"=>35.0775) │\n│ 2020-01-01T06:00:00 │ Dict(\"C\"=>12.8503, \"N\"=>0.0, \"Ar\"=>0.0, \"H\"=>38.5091) │\n│ 2020-01-02T00:00:00 │ Dict(\"C\"=>12.1303, \"N\"=>0.0, \"Ar\"=>0.0, \"H\"=>36.3525) │\n│ 2020-01-02T06:00:00 │ Dict(\"C\"=>12.1749, \"N\"=>0.0, \"Ar\"=>0.0, \"H\"=>36.4971) │\n│ 2020-01-03T00:00:00 │ Dict(\"C\"=>12.7473, \"N\"=>0.0, \"Ar\"=>0.0, \"H\"=>38.2441) │\n│          ⋮          │                           ⋮                           │\n└─────────────────────┴───────────────────────────────────────────────────────┘\n\u001b[36m                                                                22 rows omitted\u001b[0m\n\nData length:\t27\nData starts:\t2020-01-01T00:00:00\nData ends:\t2020-01-14T00:00:00\n\nVariance in total mass flow:\t83.02\n"
     },
     "metadata": {},
     "execution_count": 28
    }
   ],
   "cell_type": "code",
   "source": [
    "fs.streams[\"Prod2\"] = 2.0*fs.streams[\"Product\"]"
   ],
   "metadata": {},
   "execution_count": 28
  },
  {
   "cell_type": "markdown",
   "source": [
    "This creates a new stream, Prod2, that has double the flow of the Product stream.\n",
    "Let's check the answer:"
   ],
   "metadata": {}
  },
  {
   "outputs": [
    {
     "output_type": "execute_result",
     "data": {
      "text/plain": "true"
     },
     "metadata": {},
     "execution_count": 29
    }
   ],
   "cell_type": "code",
   "source": [
    "fs.streams[\"Prod2\"] ≈ 2.0*fs.streams[\"Product\"]"
   ],
   "metadata": {},
   "execution_count": 29
  },
  {
   "cell_type": "markdown",
   "source": [
    "Alternatively,"
   ],
   "metadata": {}
  },
  {
   "outputs": [
    {
     "output_type": "execute_result",
     "data": {
      "text/plain": "true"
     },
     "metadata": {},
     "execution_count": 30
    }
   ],
   "cell_type": "code",
   "source": [
    "all(values(fs.streams[\"Prod2\"].totalmassflow) .== values(2.0 .* fs.streams[\"Product\"].totalmassflow))"
   ],
   "metadata": {},
   "execution_count": 30
  },
  {
   "cell_type": "markdown",
   "source": [
    "Note the use of `.==` and `.*` above. Internally the flows are stored in `TimeArray`s from `TimeSeries.jl` and only the broadcasted operators are used on `TimeArray`s.\n",
    "Comparison between `TimeArrays` returns a `TimeArray` with the comparison for each timestamp and we extract the results as an aray using the `values()` function to get a `BitVector`."
   ],
   "metadata": {}
  },
  {
   "cell_type": "markdown",
   "source": [
    "We can also copy streams and optionally copy and do scalar multiplication in a single call:"
   ],
   "metadata": {}
  },
  {
   "outputs": [
    {
     "output_type": "execute_result",
     "data": {
      "text/plain": "true"
     },
     "metadata": {},
     "execution_count": 31
    }
   ],
   "cell_type": "code",
   "source": [
    "copystream!(fs, \"Product\", \"MyStream\")\n",
    "copystream!(fs, \"Product\", \"MyStream2\"; factor=2.0) # double the flow!\n",
    "fs.streams[\"MyStream2\"] ≈ 2.0 * fs.streams[\"MyStream\"]"
   ],
   "metadata": {},
   "execution_count": 31
  },
  {
   "cell_type": "markdown",
   "source": [
    "The streams have different names, but `==` and `≈` only check the flows of each component, so we get the expected answer."
   ],
   "metadata": {}
  },
  {
   "cell_type": "markdown",
   "source": [
    "Since the atomic flows are automatically calculated, they will also match"
   ],
   "metadata": {}
  },
  {
   "outputs": [
    {
     "output_type": "execute_result",
     "data": {
      "text/plain": "true"
     },
     "metadata": {},
     "execution_count": 32
    }
   ],
   "cell_type": "code",
   "source": [
    "all(getindex.(values(fs.streams[\"Product\"].atomflows), \"C\") .== getindex.(values(fs.streams[\"MyStream\"].atomflows), \"C\"))"
   ],
   "metadata": {},
   "execution_count": 32
  },
  {
   "outputs": [
    {
     "output_type": "execute_result",
     "data": {
      "text/plain": "true"
     },
     "metadata": {},
     "execution_count": 33
    }
   ],
   "cell_type": "code",
   "source": [
    "all(getindex.(values(fs.streams[\"Product\"].atomflows), \"H\") .== getindex.(values(fs.streams[\"MyStream\"].atomflows), \"H\"))"
   ],
   "metadata": {},
   "execution_count": 33
  },
  {
   "outputs": [
    {
     "output_type": "execute_result",
     "data": {
      "text/plain": "true"
     },
     "metadata": {},
     "execution_count": 34
    }
   ],
   "cell_type": "code",
   "source": [
    "all(getindex.(values(fs.streams[\"Product\"].atomflows), \"N\") .== getindex.(values(fs.streams[\"MyStream\"].atomflows), \"N\"))"
   ],
   "metadata": {},
   "execution_count": 34
  },
  {
   "cell_type": "markdown",
   "source": [
    "We can also rename or delete streams from the stream list:"
   ],
   "metadata": {}
  },
  {
   "outputs": [
    {
     "output_type": "execute_result",
     "data": {
      "text/plain": "Stream list:\n\nStreams:\n  Feed\n  Product\n  Prod2\n  MyStream2\n  Dummy\n\nComponents:\n  Ethylene\n  Ethane\n  Hydrogen\n  Nitrogen\n  Argon\n\nData length:\t27\nData starts:\t2020-01-01T00:00:00\nData ends:\t2020-01-14T00:00:00\n"
     },
     "metadata": {},
     "execution_count": 35
    }
   ],
   "cell_type": "code",
   "source": [
    "renamestream!(fs, \"MyStream\", \"Dummy\")\n",
    "fs.streams"
   ],
   "metadata": {},
   "execution_count": 35
  },
  {
   "outputs": [
    {
     "output_type": "execute_result",
     "data": {
      "text/plain": "Stream list:\n\nStreams:\n  Feed\n  Product\n  Prod2\n  MyStream2\n\nComponents:\n  Ethylene\n  Ethane\n  Hydrogen\n  Nitrogen\n  Argon\n\nData length:\t27\nData starts:\t2020-01-01T00:00:00\nData ends:\t2020-01-14T00:00:00\n"
     },
     "metadata": {},
     "execution_count": 36
    }
   ],
   "cell_type": "code",
   "source": [
    "deletestream!(fs, \"Dummy\")\n",
    "fs.streams"
   ],
   "metadata": {},
   "execution_count": 36
  },
  {
   "cell_type": "markdown",
   "source": [
    "## UnitOps, Boundaries and KPIs"
   ],
   "metadata": {}
  },
  {
   "cell_type": "markdown",
   "source": [
    "Let's start with an empty stream list again"
   ],
   "metadata": {}
  },
  {
   "outputs": [],
   "cell_type": "code",
   "source": [
    "deletestreams!(fs)"
   ],
   "metadata": {},
   "execution_count": 37
  },
  {
   "cell_type": "markdown",
   "source": [
    "We'll add some instantaneous flow streams."
   ],
   "metadata": {}
  },
  {
   "outputs": [
    {
     "output_type": "execute_result",
     "data": {
      "text/plain": "Stream: Product\n\n┌─────────────┬──────────┬─────────┬──────────┬──────────┬───────┐\n│\u001b[1m             \u001b[0m│\u001b[1m Ethylene \u001b[0m│\u001b[1m  Ethane \u001b[0m│\u001b[1m Hydrogen \u001b[0m│\u001b[1m Nitrogen \u001b[0m│\u001b[1m Argon \u001b[0m│\n├─────────────┼──────────┼─────────┼──────────┼──────────┼───────┤\n│ Mass flows  │      0.0 │ 30.0688 │   2.0158 │      0.0 │   0.0 │\n│ Molar flows │      0.0 │     1.0 │      1.0 │      0.0 │   0.0 │\n└─────────────┴──────────┴─────────┴──────────┴──────────┴───────┘\n\nTotal mass flow: 32.085\n\n┌──────┬────────────┐\n│\u001b[1m Atom \u001b[0m│\u001b[1m Molar flow \u001b[0m│\n├──────┼────────────┤\n│    C │        2.0 │\n│    N │        0.0 │\n│   Ar │        0.0 │\n│    H │        8.0 │\n└──────┴────────────┘\n"
     },
     "metadata": {},
     "execution_count": 38
    }
   ],
   "cell_type": "code",
   "source": [
    "@stream mole begin\n",
    "    \"Hydrogen\" --> 1.1\n",
    "end \"H2\" fs\n",
    "\n",
    "@stream mole begin\n",
    "    \"Ethylene\" --> 0.1\n",
    "    \"Ethane\" --> 0.9\n",
    "end \"C2\" fs\n",
    "\n",
    "@stream mole begin\n",
    "    \"Ethylene\" --> 0.0\n",
    "    \"Ethane\" --> 1.0\n",
    "    \"Hydrogen\" --> 1.0\n",
    "end \"Product\" fs"
   ],
   "metadata": {},
   "execution_count": 38
  },
  {
   "cell_type": "markdown",
   "source": [
    "We can also add an empty stream as a placeholder. We'll calculate it with a mixer model later."
   ],
   "metadata": {}
  },
  {
   "outputs": [],
   "cell_type": "code",
   "source": [
    "addemptystream!(fs, \"Mixed\")"
   ],
   "metadata": {},
   "execution_count": 39
  },
  {
   "cell_type": "markdown",
   "source": [
    "*Note!* You cannot add an empty stream as the first stream. The empty stream will take the components and timestamps from the first stream added - all streams MUST have the same components and timestamps. This cannot happen if the first stream is empty.\n",
    "If you attempt to do this, the code will throw an execption."
   ],
   "metadata": {}
  },
  {
   "cell_type": "markdown",
   "source": [
    "Now we can define some unit operations for our flowsheet. As with components and streams we need a container to be able to conveniently access them again later. A `UnitOpList` is automatically created by the `Flowsheet` and works the same way as a `ComponentList` or `StreamList` - it is a wrapper around a `Dict{String, UnitOp}`."
   ],
   "metadata": {}
  },
  {
   "outputs": [],
   "cell_type": "code",
   "source": [
    "@unitop begin\n",
    "    inlets --> [\"H2\", \"C2\"]\n",
    "    outlets --> [\"Mixed\"]\n",
    "    calc --> mixer!\n",
    "end \"Mixer\" fs"
   ],
   "metadata": {},
   "execution_count": 40
  },
  {
   "cell_type": "markdown",
   "source": [
    "The `@unitop` macro creates a `UnitOp` object and adds it to the `Flowsheet`. We can then refer to it by its name, like we do with `Component` and `Stream` objects. The `UnitOpList` in the Flowsheet is called `unitops`, so we refer to `fs.unitops` in our running example.\n",
    "The macro takes an array of `Stream` names for inlets, and another for outlets.\n",
    "The `calc` field is optional. If we are only calculating KPIs for our process or reconciling mass balances, unit operations do not need to do calculations. They only serve as nodes where streams are connected.\n",
    "If we want to do calculations, like for mixers and splitters, we need to specifiy the name of the function to call in the `calc` field."
   ],
   "metadata": {}
  },
  {
   "cell_type": "markdown",
   "source": [
    "The function takes the form:\n",
    "    function functionname!(streamlist::StreamList, outlets::Vector{String}, inlets::Vector{String}, params)\n",
    "As per Julia convention, we add a `!` at the end of the function name, which means the function modifies some of the variables passed - the outlet(s).\n",
    "There can be multiple inlets and outlets, but even single inlets and outlets must be passed in an array.\n",
    "All streams passed to a unit operation must be in the stream list. And all streams in a stream list must use the same component list. This keeps things consistent.\n",
    "The `params` field does not have a defined type and can be anything needed for the calculation. We'll look at this in more detail later."
   ],
   "metadata": {}
  },
  {
   "cell_type": "markdown",
   "source": [
    "To execute the unit operation, we simply call it."
   ],
   "metadata": {}
  },
  {
   "outputs": [],
   "cell_type": "code",
   "source": [
    "fs.unitops[\"Mixer\"]()"
   ],
   "metadata": {},
   "execution_count": 41
  },
  {
   "cell_type": "markdown",
   "source": [
    "This `UnitOp` takes the required inlet and outlet streams, and is also assigned a calculation: `calc --> mixer!`.\n",
    "In this case, it is the predefined `mixer!` function, which is a simple stream mixer.\n",
    "This can however be any user-defined function, with the correct form.\n",
    "These calculations will supply the contents of the outlet streams based on the inlets streams and supplied model parameters.\n",
    "They are only needed if there is no information on the outlet streams, and these are needed to complete a mass balance or calculate a KPI."
   ],
   "metadata": {}
  },
  {
   "cell_type": "markdown",
   "source": [
    "Another example:"
   ],
   "metadata": {}
  },
  {
   "outputs": [],
   "cell_type": "code",
   "source": [
    "@unitop begin\n",
    "    inlets --> [\"Mixed\"]\n",
    "    outlets --> [\"Product\"]\n",
    "end \"Reactor\" fs"
   ],
   "metadata": {},
   "execution_count": 42
  },
  {
   "cell_type": "markdown",
   "source": [
    "Our `Reactor` does not have an associated calculation. It is just a node in the flowsheet graph, so we shall need information for all of the inlets and outlets."
   ],
   "metadata": {}
  },
  {
   "cell_type": "markdown",
   "source": [
    "Let's split the product into several streams. We'll need some empty streams to put the results in."
   ],
   "metadata": {}
  },
  {
   "outputs": [],
   "cell_type": "code",
   "source": [
    "addemptystream!(fs, \"Product1\");\n",
    "addemptystream!(fs, \"Product1a\");\n",
    "addemptystream!(fs, \"Product1b\");\n",
    "addemptystream!(fs, \"Product2\");\n",
    "addemptystream!(fs, \"Product3\");"
   ],
   "metadata": {},
   "execution_count": 43
  },
  {
   "cell_type": "markdown",
   "source": [
    "You can also add a stream with a fixed composition at every timestamp. We don't need it here, but it is easy to do"
   ],
   "metadata": {}
  },
  {
   "outputs": [
    {
     "output_type": "execute_result",
     "data": {
      "text/plain": "Stream: Dummy\n\n┌─────────────┬──────────┬────────┬──────────┬──────────┬────────────┐\n│\u001b[1m             \u001b[0m│\u001b[1m Ethylene \u001b[0m│\u001b[1m Ethane \u001b[0m│\u001b[1m Hydrogen \u001b[0m│\u001b[1m Nitrogen \u001b[0m│\u001b[1m      Argon \u001b[0m│\n├─────────────┼──────────┼────────┼──────────┼──────────┼────────────┤\n│ Mass flows  │     10.0 │    0.0 │      0.0 │      0.0 │        0.1 │\n│ Molar flows │ 0.356468 │    0.0 │      0.0 │      0.0 │ 0.00250325 │\n└─────────────┴──────────┴────────┴──────────┴──────────┴────────────┘\n\nTotal mass flow: 10.1\n\n┌──────┬────────────┐\n│\u001b[1m Atom \u001b[0m│\u001b[1m Molar flow \u001b[0m│\n├──────┼────────────┤\n│    C │   0.712936 │\n│    N │        0.0 │\n│   Ar │ 0.00250325 │\n│    H │    1.42587 │\n└──────┴────────────┘\n"
     },
     "metadata": {},
     "execution_count": 44
    }
   ],
   "cell_type": "code",
   "source": [
    "addfixedstream!(fs, \"Dummy\", [10.0, 0.0, 0.0, 0.0, 0.1])\n",
    "fs.streams[\"Dummy\"]"
   ],
   "metadata": {},
   "execution_count": 44
  },
  {
   "cell_type": "markdown",
   "source": [
    "If you wanted to specify molar flows, just tell the function:"
   ],
   "metadata": {}
  },
  {
   "outputs": [
    {
     "output_type": "execute_result",
     "data": {
      "text/plain": "Stream: Dummy\n\n┌─────────────┬──────────┬────────┬──────────┬──────────┬────────┐\n│\u001b[1m             \u001b[0m│\u001b[1m Ethylene \u001b[0m│\u001b[1m Ethane \u001b[0m│\u001b[1m Hydrogen \u001b[0m│\u001b[1m Nitrogen \u001b[0m│\u001b[1m  Argon \u001b[0m│\n├─────────────┼──────────┼────────┼──────────┼──────────┼────────┤\n│ Mass flows  │   280.53 │    0.0 │      0.0 │      0.0 │ 3.9948 │\n│ Molar flows │     10.0 │    0.0 │      0.0 │      0.0 │    0.1 │\n└─────────────┴──────────┴────────┴──────────┴──────────┴────────┘\n\nTotal mass flow: 284.525\n\n┌──────┬────────────┐\n│\u001b[1m Atom \u001b[0m│\u001b[1m Molar flow \u001b[0m│\n├──────┼────────────┤\n│    C │       20.0 │\n│    N │        0.0 │\n│   Ar │        0.1 │\n│    H │       40.0 │\n└──────┴────────────┘\n"
     },
     "metadata": {},
     "execution_count": 45
    }
   ],
   "cell_type": "code",
   "source": [
    "addfixedstream!(fs, \"Dummy\", [10.0, 0.0, 0.0, 0.0, 0.1], ismoleflow=true)\n",
    "fs.streams[\"Dummy\"]"
   ],
   "metadata": {},
   "execution_count": 45
  },
  {
   "cell_type": "markdown",
   "source": [
    "Let's get rid of the dummy stream before we continue:"
   ],
   "metadata": {}
  },
  {
   "outputs": [],
   "cell_type": "code",
   "source": [
    "deletestream!(fs, \"Dummy\")"
   ],
   "metadata": {},
   "execution_count": 46
  },
  {
   "cell_type": "markdown",
   "source": [
    "And we can start splitting up those streams!"
   ],
   "metadata": {}
  },
  {
   "cell_type": "markdown",
   "source": [
    "A flow splitter that splits 50% of the product to each of Product1 and Product2. These streams will have identcal compositions"
   ],
   "metadata": {}
  },
  {
   "outputs": [],
   "cell_type": "code",
   "source": [
    "@unitop begin\n",
    "    inlets --> [\"Product\"]\n",
    "    outlets --> [\"Product1\", \"Product2\"]\n",
    "    calc --> flowsplitter!\n",
    "    params --> [0.5]\n",
    "end \"ProductSplitter\" fs\n",
    "fs.unitops[\"ProductSplitter\"]()"
   ],
   "metadata": {},
   "execution_count": 47
  },
  {
   "cell_type": "markdown",
   "source": [
    "And we can check that it worked. We'll take a bit of a short-cut and ask for all three of the streams at one. We can do this by just passing a vector of the stream names."
   ],
   "metadata": {}
  },
  {
   "outputs": [
    {
     "output_type": "execute_result",
     "data": {
      "text/plain": "3-element Vector{Stream}:\n Stream: Product\n\n┌─────────────┬──────────┬─────────┬──────────┬──────────┬───────┐\n│\u001b[1m             \u001b[0m│\u001b[1m Ethylene \u001b[0m│\u001b[1m  Ethane \u001b[0m│\u001b[1m Hydrogen \u001b[0m│\u001b[1m Nitrogen \u001b[0m│\u001b[1m Argon \u001b[0m│\n├─────────────┼──────────┼─────────┼──────────┼──────────┼───────┤\n│ Mass flows  │      0.0 │ 30.0688 │   2.0158 │      0.0 │   0.0 │\n│ Molar flows │      0.0 │     1.0 │      1.0 │      0.0 │   0.0 │\n└─────────────┴──────────┴─────────┴──────────┴──────────┴───────┘\n\nTotal mass flow: 32.085\n\n┌──────┬────────────┐\n│\u001b[1m Atom \u001b[0m│\u001b[1m Molar flow \u001b[0m│\n├──────┼────────────┤\n│    C │        2.0 │\n│    N │        0.0 │\n│   Ar │        0.0 │\n│    H │        8.0 │\n└──────┴────────────┘\n\n Stream: Product1\n\n┌─────────────┬──────────┬─────────┬──────────┬──────────┬───────┐\n│\u001b[1m             \u001b[0m│\u001b[1m Ethylene \u001b[0m│\u001b[1m  Ethane \u001b[0m│\u001b[1m Hydrogen \u001b[0m│\u001b[1m Nitrogen \u001b[0m│\u001b[1m Argon \u001b[0m│\n├─────────────┼──────────┼─────────┼──────────┼──────────┼───────┤\n│ Mass flows  │      0.0 │ 15.0344 │   1.0079 │      0.0 │   0.0 │\n│ Molar flows │      0.0 │     0.5 │      0.5 │      0.0 │   0.0 │\n└─────────────┴──────────┴─────────┴──────────┴──────────┴───────┘\n\nTotal mass flow: 16.042\n\n┌──────┬────────────┐\n│\u001b[1m Atom \u001b[0m│\u001b[1m Molar flow \u001b[0m│\n├──────┼────────────┤\n│    C │        1.0 │\n│    N │        0.0 │\n│   Ar │        0.0 │\n│    H │        4.0 │\n└──────┴────────────┘\n\n Stream: Product2\n\n┌─────────────┬──────────┬─────────┬──────────┬──────────┬───────┐\n│\u001b[1m             \u001b[0m│\u001b[1m Ethylene \u001b[0m│\u001b[1m  Ethane \u001b[0m│\u001b[1m Hydrogen \u001b[0m│\u001b[1m Nitrogen \u001b[0m│\u001b[1m Argon \u001b[0m│\n├─────────────┼──────────┼─────────┼──────────┼──────────┼───────┤\n│ Mass flows  │      0.0 │ 15.0344 │   1.0079 │      0.0 │   0.0 │\n│ Molar flows │      0.0 │     0.5 │      0.5 │      0.0 │   0.0 │\n└─────────────┴──────────┴─────────┴──────────┴──────────┴───────┘\n\nTotal mass flow: 16.042\n\n┌──────┬────────────┐\n│\u001b[1m Atom \u001b[0m│\u001b[1m Molar flow \u001b[0m│\n├──────┼────────────┤\n│    C │        1.0 │\n│    N │        0.0 │\n│   Ar │        0.0 │\n│    H │        4.0 │\n└──────┴────────────┘\n"
     },
     "metadata": {},
     "execution_count": 48
    }
   ],
   "cell_type": "code",
   "source": [
    "fs.streams[[\"Product\", \"Product1\", \"Product2\"]]"
   ],
   "metadata": {},
   "execution_count": 48
  },
  {
   "cell_type": "markdown",
   "source": [
    "A component splitter that splits Product1 into Product1a and Product1b.\n",
    "These streams will have different compositions, with the hydrogen split 50:50, 70% of the ethane going to Product1b and the remainder of Product1, going to Product1b (the last stream listed)."
   ],
   "metadata": {}
  },
  {
   "outputs": [],
   "cell_type": "code",
   "source": [
    "@unitop begin\n",
    "    inlets --> [\"Product1\"]\n",
    "    outlets --> [\"Product1a\", \"Product1b\"]\n",
    "    calc --> componentplitter!\n",
    "    params --> Dict([\n",
    "        \"Hydrogen\" => Dict([\"Product1a\" => 0.5]),\n",
    "        \"Ethane\" => Dict([\"Product1b\" => 0.3])\n",
    "    ])\n",
    "end \"ComponentSplitter\" fs\n",
    "\n",
    "fs.unitops[\"ComponentSplitter\"]()"
   ],
   "metadata": {},
   "execution_count": 49
  },
  {
   "cell_type": "markdown",
   "source": [
    "And we can check again:"
   ],
   "metadata": {}
  },
  {
   "outputs": [
    {
     "output_type": "execute_result",
     "data": {
      "text/plain": "3-element Vector{Stream}:\n Stream: Product1\n\n┌─────────────┬──────────┬─────────┬──────────┬──────────┬───────┐\n│\u001b[1m             \u001b[0m│\u001b[1m Ethylene \u001b[0m│\u001b[1m  Ethane \u001b[0m│\u001b[1m Hydrogen \u001b[0m│\u001b[1m Nitrogen \u001b[0m│\u001b[1m Argon \u001b[0m│\n├─────────────┼──────────┼─────────┼──────────┼──────────┼───────┤\n│ Mass flows  │      0.0 │ 15.0344 │   1.0079 │      0.0 │   0.0 │\n│ Molar flows │      0.0 │     0.5 │      0.5 │      0.0 │   0.0 │\n└─────────────┴──────────┴─────────┴──────────┴──────────┴───────┘\n\nTotal mass flow: 16.042\n\n┌──────┬────────────┐\n│\u001b[1m Atom \u001b[0m│\u001b[1m Molar flow \u001b[0m│\n├──────┼────────────┤\n│    C │        1.0 │\n│    N │        0.0 │\n│   Ar │        0.0 │\n│    H │        4.0 │\n└──────┴────────────┘\n\n Stream: Product1a\n\n┌─────────────┬──────────┬─────────┬──────────┬──────────┬───────┐\n│\u001b[1m             \u001b[0m│\u001b[1m Ethylene \u001b[0m│\u001b[1m  Ethane \u001b[0m│\u001b[1m Hydrogen \u001b[0m│\u001b[1m Nitrogen \u001b[0m│\u001b[1m Argon \u001b[0m│\n├─────────────┼──────────┼─────────┼──────────┼──────────┼───────┤\n│ Mass flows  │      0.0 │ 10.5241 │  0.50395 │      0.0 │   0.0 │\n│ Molar flows │      0.0 │    0.35 │     0.25 │      0.0 │   0.0 │\n└─────────────┴──────────┴─────────┴──────────┴──────────┴───────┘\n\nTotal mass flow: 11.028\n\n┌──────┬────────────┐\n│\u001b[1m Atom \u001b[0m│\u001b[1m Molar flow \u001b[0m│\n├──────┼────────────┤\n│    C │        0.7 │\n│    N │        0.0 │\n│   Ar │        0.0 │\n│    H │        2.6 │\n└──────┴────────────┘\n\n Stream: Product1b\n\n┌─────────────┬──────────┬─────────┬──────────┬──────────┬───────┐\n│\u001b[1m             \u001b[0m│\u001b[1m Ethylene \u001b[0m│\u001b[1m  Ethane \u001b[0m│\u001b[1m Hydrogen \u001b[0m│\u001b[1m Nitrogen \u001b[0m│\u001b[1m Argon \u001b[0m│\n├─────────────┼──────────┼─────────┼──────────┼──────────┼───────┤\n│ Mass flows  │      0.0 │ 4.51032 │  0.50395 │      0.0 │   0.0 │\n│ Molar flows │      0.0 │    0.15 │     0.25 │      0.0 │   0.0 │\n└─────────────┴──────────┴─────────┴──────────┴──────────┴───────┘\n\nTotal mass flow: 5.014\n\n┌──────┬────────────┐\n│\u001b[1m Atom \u001b[0m│\u001b[1m Molar flow \u001b[0m│\n├──────┼────────────┤\n│    C │        0.3 │\n│    N │        0.0 │\n│   Ar │        0.0 │\n│    H │        1.4 │\n└──────┴────────────┘\n"
     },
     "metadata": {},
     "execution_count": 50
    }
   ],
   "cell_type": "code",
   "source": [
    "fs.streams[[\"Product1\", \"Product1a\", \"Product1b\"]]"
   ],
   "metadata": {},
   "execution_count": 50
  },
  {
   "cell_type": "markdown",
   "source": [
    "And then we mix it all again and check that we still have the original Product stream"
   ],
   "metadata": {}
  },
  {
   "outputs": [],
   "cell_type": "code",
   "source": [
    "@unitop begin\n",
    "    inlets --> [\"Product1a\", \"Product1b\", \"Product2\"]\n",
    "    outlets --> [\"Product3\"]\n",
    "    calc --> mixer!\n",
    "end \"Mixer2\" fs\n",
    "\n",
    "fs.unitops[\"Mixer2\"]()"
   ],
   "metadata": {},
   "execution_count": 51
  },
  {
   "cell_type": "markdown",
   "source": [
    "Check that the two streams have the same flows"
   ],
   "metadata": {}
  },
  {
   "outputs": [
    {
     "output_type": "execute_result",
     "data": {
      "text/plain": "true"
     },
     "metadata": {},
     "execution_count": 52
    }
   ],
   "cell_type": "code",
   "source": [
    "fs.streams[\"Product\"] ≈ fs.streams[\"Product3\"]"
   ],
   "metadata": {},
   "execution_count": 52
  },
  {
   "cell_type": "markdown",
   "source": [
    "## Executing Unit Operations in Sequence"
   ],
   "metadata": {}
  },
  {
   "cell_type": "markdown",
   "source": [
    "We can execute all of the unit operations in sequence by simply calling `fs()`. This will execute all of the unit operations in the flowsheet graph in the order that they are added.\n",
    "As units are added, their names are added to the `rununits` array in the `Flowsheet` and the next value in the `runorder` array is set to the number of the unit operation."
   ],
   "metadata": {}
  },
  {
   "outputs": [
    {
     "name": "stdout",
     "output_type": "stream",
     "text": [
      "Executing:\n",
      "1  Mixer\n",
      "2  Reactor\n",
      "3  ProductSplitter\n",
      "4  ComponentSplitter\n",
      "5  Mixer2\n"
     ]
    }
   ],
   "cell_type": "code",
   "source": [
    "fs()"
   ],
   "metadata": {},
   "execution_count": 53
  },
  {
   "cell_type": "markdown",
   "source": [
    "You can suppress output, by specifying `showoutput=false`:"
   ],
   "metadata": {}
  },
  {
   "outputs": [],
   "cell_type": "code",
   "source": [
    "fs(showoutput=false)"
   ],
   "metadata": {},
   "execution_count": 54
  },
  {
   "cell_type": "markdown",
   "source": [
    "You can also temporarily change the order of execution by passing an array with the new execution order. This is an array of integers for each entry in the `rununits` array, that sets the order of execution."
   ],
   "metadata": {}
  },
  {
   "outputs": [
    {
     "output_type": "execute_result",
     "data": {
      "text/plain": "5-element Vector{String}:\n \"Mixer\"\n \"Reactor\"\n \"ProductSplitter\"\n \"ComponentSplitter\"\n \"Mixer2\""
     },
     "metadata": {},
     "execution_count": 55
    }
   ],
   "cell_type": "code",
   "source": [
    "fs.rununits"
   ],
   "metadata": {},
   "execution_count": 55
  },
  {
   "outputs": [
    {
     "name": "stdout",
     "output_type": "stream",
     "text": [
      "Executing:\n",
      "1  Reactor\n",
      "2  ProductSplitter\n",
      "3  Mixer\n",
      "4  ComponentSplitter\n",
      "5  Mixer2\n"
     ]
    }
   ],
   "cell_type": "code",
   "source": [
    "fs([3, 1, 2, 4, 5])"
   ],
   "metadata": {},
   "execution_count": 56
  },
  {
   "cell_type": "markdown",
   "source": [
    "Or permanently change the order:"
   ],
   "metadata": {}
  },
  {
   "outputs": [
    {
     "output_type": "execute_result",
     "data": {
      "text/plain": "5-element Vector{Int64}:\n 1\n 2\n 3\n 4\n 5"
     },
     "metadata": {},
     "execution_count": 57
    }
   ],
   "cell_type": "code",
   "source": [
    "fs.runorder"
   ],
   "metadata": {},
   "execution_count": 57
  },
  {
   "outputs": [
    {
     "output_type": "execute_result",
     "data": {
      "text/plain": "5-element Vector{Int64}:\n 5\n 4\n 3\n 2\n 1"
     },
     "metadata": {},
     "execution_count": 58
    }
   ],
   "cell_type": "code",
   "source": [
    "setorder!(fs, [5, 4, 3, 2, 1])\n",
    "fs.runorder"
   ],
   "metadata": {},
   "execution_count": 58
  },
  {
   "cell_type": "markdown",
   "source": [
    "Keep in mind that YOU need to ensure that the order of execution makes sense. `FlowsheetTools.jl` is not a process simulator. It will not converge recycles etc."
   ],
   "metadata": {}
  },
  {
   "cell_type": "markdown",
   "source": [
    "Defining a flowsheet with a lot of streams and unitoperations can be confusing. To help you keep track of everything, you can generate a block flow diagram of your flowsheet:"
   ],
   "metadata": {}
  },
  {
   "outputs": [
    {
     "output_type": "display_data",
     "data": {
      "image/png": "[encoded data removed]"
     },
     "metadata": {}
    },
    {
     "output_type": "execute_result",
     "data": {
      "text/plain": "\"./myflowsheet.png\""
     },
     "metadata": {},
     "execution_count": 59
    }
   ],
   "cell_type": "code",
   "source": [
    "generateBFD(fs, \"./myflowsheet.png\") # Or .svg"
   ],
   "metadata": {},
   "execution_count": 59
  },
  {
   "cell_type": "markdown",
   "source": [
    "## Mass balance boundaries"
   ],
   "metadata": {}
  },
  {
   "cell_type": "markdown",
   "source": [
    "Mass balances and KPIs are defined on a boundary around a number of unit operations. We therefore define a `Boundary` and list the contained `UnitOp`s. Just like everything before, the `Flowsheet` has already created a `BoundaryList` for you: `fs.boundaries`"
   ],
   "metadata": {}
  },
  {
   "outputs": [
    {
     "output_type": "execute_result",
     "data": {
      "text/plain": "Balance Boundary:\n\nEnclosed units: [\"Mixer\", \"Reactor\"]\n\nClosure:\n┌─────────────────────┬────────────────────┐\n│\u001b[1m           timestamp \u001b[0m│\u001b[1m Total Mass Closure \u001b[0m│\n│\u001b[90m      Dates.DateTime \u001b[0m│\u001b[90m            Float64 \u001b[0m│\n├─────────────────────┼────────────────────┤\n│ 0000-01-01T00:00:00 │                1.0 │\n└─────────────────────┴────────────────────┘\n\nCombined Feed Mass Flows:\n┌─────────────────────┬──────────┬─────────┬──────────┬──────────┬─────────┐\n│\u001b[1m           timestamp \u001b[0m│\u001b[1m Ethylene \u001b[0m│\u001b[1m  Ethane \u001b[0m│\u001b[1m Hydrogen \u001b[0m│\u001b[1m Nitrogen \u001b[0m│\u001b[1m   Argon \u001b[0m│\n│\u001b[90m      Dates.DateTime \u001b[0m│\u001b[90m  Float64 \u001b[0m│\u001b[90m Float64 \u001b[0m│\u001b[90m  Float64 \u001b[0m│\u001b[90m  Float64 \u001b[0m│\u001b[90m Float64 \u001b[0m│\n├─────────────────────┼──────────┼─────────┼──────────┼──────────┼─────────┤\n│ 0000-01-01T00:00:00 │   2.8053 │ 27.0619 │  2.21738 │      0.0 │     0.0 │\n└─────────────────────┴──────────┴─────────┴──────────┴──────────┴─────────┘\nCombined Product Mass Flows:\n┌─────────────────────┬──────────┬─────────┬──────────┬──────────┬─────────┐\n│\u001b[1m           timestamp \u001b[0m│\u001b[1m Ethylene \u001b[0m│\u001b[1m  Ethane \u001b[0m│\u001b[1m Hydrogen \u001b[0m│\u001b[1m Nitrogen \u001b[0m│\u001b[1m   Argon \u001b[0m│\n│\u001b[90m      Dates.DateTime \u001b[0m│\u001b[90m  Float64 \u001b[0m│\u001b[90m Float64 \u001b[0m│\u001b[90m  Float64 \u001b[0m│\u001b[90m  Float64 \u001b[0m│\u001b[90m Float64 \u001b[0m│\n├─────────────────────┼──────────┼─────────┼──────────┼──────────┼─────────┤\n│ 0000-01-01T00:00:00 │      0.0 │ 30.0688 │   2.0158 │      0.0 │     0.0 │\n└─────────────────────┴──────────┴─────────┴──────────┴──────────┴─────────┘\n\nElemental closures (0.0 if not present):\n┌─────────────────────┬───────────────────────────────────────────────┐\n│\u001b[1m           timestamp \u001b[0m│\u001b[1m                            Elemental Closures \u001b[0m│\n│\u001b[90m      Dates.DateTime \u001b[0m│\u001b[90m                         Dict{String, Float64} \u001b[0m│\n├─────────────────────┼───────────────────────────────────────────────┤\n│ 0000-01-01T00:00:00 │ Dict(\"C\"=>1.0, \"N\"=>0.0, \"Ar\"=>0.0, \"H\"=>1.0) │\n└─────────────────────┴───────────────────────────────────────────────┘\n"
     },
     "metadata": {},
     "execution_count": 60
    }
   ],
   "cell_type": "code",
   "source": [
    "@boundary begin\n",
    "    unitops --> [\"Mixer\", \"Reactor\"]\n",
    "end \"B1\" fs"
   ],
   "metadata": {},
   "execution_count": 60
  },
  {
   "cell_type": "markdown",
   "source": [
    "We can look at total mass and elemental closures, as well as the combined in- and outflows."
   ],
   "metadata": {}
  },
  {
   "outputs": [
    {
     "output_type": "execute_result",
     "data": {
      "text/plain": "1×1 TimeSeries.TimeArray{Dict{String, Float64}, 1, Dates.DateTime, Vector{Dict{String, Float64}}} 0000-01-01T00:00:00 to 0000-01-01T00:00:00\n┌─────────────────────┬───────────────────────────────────────────────┐\n│\u001b[1m                     \u001b[0m│\u001b[1m Elemental Closures                            \u001b[0m│\n├─────────────────────┼───────────────────────────────────────────────┤\n│ 0000-01-01T00:00:00 │ Dict(\"C\"=>1.0, \"N\"=>0.0, \"Ar\"=>0.0, \"H\"=>1.0) │\n└─────────────────────┴───────────────────────────────────────────────┘"
     },
     "metadata": {},
     "execution_count": 61
    }
   ],
   "cell_type": "code",
   "source": [
    "fs.boundaries[\"B1\"].atomclosures"
   ],
   "metadata": {},
   "execution_count": 61
  },
  {
   "outputs": [
    {
     "output_type": "execute_result",
     "data": {
      "text/plain": "1×1 TimeSeries.TimeArray{Float64, 1, Dates.DateTime, Vector{Float64}} 0000-01-01T00:00:00 to 0000-01-01T00:00:00\n┌─────────────────────┬────────────────────┐\n│\u001b[1m                     \u001b[0m│\u001b[1m Total Mass Closure \u001b[0m│\n├─────────────────────┼────────────────────┤\n│ 0000-01-01T00:00:00 │                1.0 │\n└─────────────────────┴────────────────────┘"
     },
     "metadata": {},
     "execution_count": 62
    }
   ],
   "cell_type": "code",
   "source": [
    "fs.boundaries[\"B1\"].closure"
   ],
   "metadata": {},
   "execution_count": 62
  },
  {
   "outputs": [
    {
     "output_type": "execute_result",
     "data": {
      "text/plain": "1×1 TimeSeries.TimeArray{Float64, 1, Dates.DateTime, Vector{Float64}} 0000-01-01T00:00:00 to 0000-01-01T00:00:00\n┌─────────────────────┬────────────────┐\n│\u001b[1m                     \u001b[0m│\u001b[1m totalmassflows \u001b[0m│\n├─────────────────────┼────────────────┤\n│ 0000-01-01T00:00:00 │        32.0846 │\n└─────────────────────┴────────────────┘"
     },
     "metadata": {},
     "execution_count": 63
    }
   ],
   "cell_type": "code",
   "source": [
    "fs.boundaries[\"B1\"].total_in.totalmassflow"
   ],
   "metadata": {},
   "execution_count": 63
  },
  {
   "outputs": [
    {
     "output_type": "execute_result",
     "data": {
      "text/plain": "1×1 TimeSeries.TimeArray{Float64, 1, Dates.DateTime, Vector{Float64}} 0000-01-01T00:00:00 to 0000-01-01T00:00:00\n┌─────────────────────┬────────────────┐\n│\u001b[1m                     \u001b[0m│\u001b[1m totalmassflows \u001b[0m│\n├─────────────────────┼────────────────┤\n│ 0000-01-01T00:00:00 │        32.0846 │\n└─────────────────────┴────────────────┘"
     },
     "metadata": {},
     "execution_count": 64
    }
   ],
   "cell_type": "code",
   "source": [
    "fs.boundaries[\"B1\"].total_out.totalmassflow"
   ],
   "metadata": {},
   "execution_count": 64
  },
  {
   "cell_type": "markdown",
   "source": [
    "We can also define KPIs on the boundary. Here we use the pre-defined KPIs of `conversion(boundary, component)` and `selectivity(boundary, reactant, product)`"
   ],
   "metadata": {}
  },
  {
   "outputs": [
    {
     "output_type": "execute_result",
     "data": {
      "text/plain": "-0.11111111111111106"
     },
     "metadata": {},
     "execution_count": 65
    }
   ],
   "cell_type": "code",
   "source": [
    "conversion(fs.boundaries[\"B1\"], \"Ethane\")"
   ],
   "metadata": {},
   "execution_count": 65
  },
  {
   "cell_type": "markdown",
   "source": [
    "Note the convention: ethane was produced, not consumed, so has a negative value for conversion."
   ],
   "metadata": {}
  },
  {
   "cell_type": "markdown",
   "source": [
    "We can also get a number of KPIs in one call, buy passing the call in a `Tuple`, by simply separating the calls with commas:"
   ],
   "metadata": {}
  },
  {
   "outputs": [
    {
     "output_type": "execute_result",
     "data": {
      "text/plain": "(1.0, 0.09090909090909104)"
     },
     "metadata": {},
     "execution_count": 66
    }
   ],
   "cell_type": "code",
   "source": [
    "conversion(fs.boundaries[\"B1\"], \"Ethylene\"), conversion(fs.boundaries[\"B1\"], \"Hydrogen\")"
   ],
   "metadata": {},
   "execution_count": 66
  },
  {
   "cell_type": "markdown",
   "source": [
    "We had complete conversion of ethylene and only ~9% of hydrogen, due to the large excess fed."
   ],
   "metadata": {}
  },
  {
   "cell_type": "markdown",
   "source": [
    "What is the selectivity of converted ethylene to ethane?"
   ],
   "metadata": {}
  },
  {
   "outputs": [
    {
     "output_type": "execute_result",
     "data": {
      "text/plain": "0.9999999999999998"
     },
     "metadata": {},
     "execution_count": 67
    }
   ],
   "cell_type": "code",
   "source": [
    "molar_selectivity(fs.boundaries[\"B1\"], \"Ethylene\", \"Ethane\")"
   ],
   "metadata": {},
   "execution_count": 67
  },
  {
   "cell_type": "markdown",
   "source": [
    "All of the reacted ethylene was converted to ethane, to within the 64-bit precision we use to calculate the results."
   ],
   "metadata": {}
  },
  {
   "cell_type": "markdown",
   "source": [
    "### For streams with time series data"
   ],
   "metadata": {}
  },
  {
   "cell_type": "markdown",
   "source": [
    "Now we can repeat this for streams with multiple historic data points attached to them.\n",
    "Remember that a `Flowsheet` enforces that all streams share the same components and timestamps. This means that we can't add streams with multiple data to our current flowsheet.\n",
    "We first need to delete all of our streams. These streams were connected to unit ops, and the unit ops were in mass balance boundaries, so we need to also delete all of those.\n",
    "We are only keeping the components!"
   ],
   "metadata": {}
  },
  {
   "cell_type": "markdown",
   "source": [
    "There are a few functions we can call to delete things:\n",
    "- `deletestreams!(fs)` to delete all the streams\n",
    "- `deletestream!(fs, name)` to delete only a single stream (specified by name)\n",
    "- `deleteunitops!(fs)` to delete all of the unit operations\n",
    "- `deleteunitop!(fs, name)` to delete only the single specified unit operation\n",
    "- `deleteboundary!(fs, name)` to delete only the single specified mass balance boundary\n",
    "- `deleteboundaries!(fs)` to delete all of the mass balance boundaries"
   ],
   "metadata": {}
  },
  {
   "cell_type": "markdown",
   "source": [
    "Since deleting a stream will corrupt any unit operations it is connected to, the function will also delete all of these streams\n",
    "Similarly, deleting a unit operation will corrupt any mass balance boundaries it is included in, so they also get deleted.\n",
    "This means that a call to `deletestreams()` will delete all of the streams, and all of the mass balance boundaries as well!"
   ],
   "metadata": {}
  },
  {
   "outputs": [],
   "cell_type": "code",
   "source": [
    "deletestreams!(fs)"
   ],
   "metadata": {},
   "execution_count": 68
  },
  {
   "cell_type": "markdown",
   "source": [
    "We can also delete components with:\n",
    "- `deletecomponent!(fs, name)` to delete only the specified component\n",
    "- `deletecomponents!(fs)` to delete all of the components"
   ],
   "metadata": {}
  },
  {
   "cell_type": "markdown",
   "source": [
    "Remember however that all streams contain all components, so deleting any component will cascade into deleting all streams, unit operations and boundaries as well!"
   ],
   "metadata": {}
  },
  {
   "outputs": [],
   "cell_type": "code",
   "source": [
    "readstreamhistory!(fs, \"C2\", joinpath(\"streamhistories\", \"C2.csv\"); ismoleflow=true)\n",
    "readstreamhistory!(fs, \"H2\", joinpath(\"streamhistories\", \"Hydrogen.csv\"); ismoleflow=true)\n",
    "readstreamhistory!(fs, \"Product\", joinpath(\"streamhistories\", \"Product.csv\"); ismoleflow=true)\n",
    "addemptystream!(fs, \"Mixed\");\n",
    "addemptystream!(fs, \"Product1\");\n",
    "addemptystream!(fs, \"Product1a\");\n",
    "addemptystream!(fs, \"Product1b\");\n",
    "addemptystream!(fs, \"Product2\");\n",
    "addemptystream!(fs, \"Product3\");"
   ],
   "metadata": {},
   "execution_count": 69
  },
  {
   "cell_type": "markdown",
   "source": [
    "And just to show what happens when we create a fixed composition stream when the streams in the flowsheet have time series data:"
   ],
   "metadata": {}
  },
  {
   "outputs": [
    {
     "output_type": "execute_result",
     "data": {
      "text/plain": "Stream: Dummy\n\nMass flows:\n┌─────────────────────┬──────────┬─────────┬──────────┬──────────┬─────────┐\n│\u001b[1m           timestamp \u001b[0m│\u001b[1m Ethylene \u001b[0m│\u001b[1m  Ethane \u001b[0m│\u001b[1m Hydrogen \u001b[0m│\u001b[1m Nitrogen \u001b[0m│\u001b[1m   Argon \u001b[0m│\n│\u001b[90m      Dates.DateTime \u001b[0m│\u001b[90m  Float64 \u001b[0m│\u001b[90m Float64 \u001b[0m│\u001b[90m  Float64 \u001b[0m│\u001b[90m  Float64 \u001b[0m│\u001b[90m Float64 \u001b[0m│\n├─────────────────────┼──────────┼─────────┼──────────┼──────────┼─────────┤\n│ 2020-01-01T00:00:00 │     10.0 │     0.0 │      0.0 │      0.0 │     0.1 │\n│ 2020-01-01T06:00:00 │     10.0 │     0.0 │      0.0 │      0.0 │     0.1 │\n│ 2020-01-02T00:00:00 │     10.0 │     0.0 │      0.0 │      0.0 │     0.1 │\n│ 2020-01-02T06:00:00 │     10.0 │     0.0 │      0.0 │      0.0 │     0.1 │\n│ 2020-01-03T00:00:00 │     10.0 │     0.0 │      0.0 │      0.0 │     0.1 │\n│          ⋮          │    ⋮     │    ⋮    │    ⋮     │    ⋮     │    ⋮    │\n└─────────────────────┴──────────┴─────────┴──────────┴──────────┴─────────┘\n\u001b[36m                                                             22 rows omitted\u001b[0m\n\nMolar flows:\n┌─────────────────────┬──────────┬─────────┬──────────┬──────────┬────────────┐\n│\u001b[1m           timestamp \u001b[0m│\u001b[1m Ethylene \u001b[0m│\u001b[1m  Ethane \u001b[0m│\u001b[1m Hydrogen \u001b[0m│\u001b[1m Nitrogen \u001b[0m│\u001b[1m      Argon \u001b[0m│\n│\u001b[90m      Dates.DateTime \u001b[0m│\u001b[90m  Float64 \u001b[0m│\u001b[90m Float64 \u001b[0m│\u001b[90m  Float64 \u001b[0m│\u001b[90m  Float64 \u001b[0m│\u001b[90m    Float64 \u001b[0m│\n├─────────────────────┼──────────┼─────────┼──────────┼──────────┼────────────┤\n│ 2020-01-01T00:00:00 │ 0.356468 │     0.0 │      0.0 │      0.0 │ 0.00250325 │\n│ 2020-01-01T06:00:00 │ 0.356468 │     0.0 │      0.0 │      0.0 │ 0.00250325 │\n│ 2020-01-02T00:00:00 │ 0.356468 │     0.0 │      0.0 │      0.0 │ 0.00250325 │\n│ 2020-01-02T06:00:00 │ 0.356468 │     0.0 │      0.0 │      0.0 │ 0.00250325 │\n│ 2020-01-03T00:00:00 │ 0.356468 │     0.0 │      0.0 │      0.0 │ 0.00250325 │\n│          ⋮          │    ⋮     │    ⋮    │    ⋮     │    ⋮     │     ⋮      │\n└─────────────────────┴──────────┴─────────┴──────────┴──────────┴────────────┘\n\u001b[36m                                                                22 rows omitted\u001b[0m\n\n\nAtom Flows:\n┌─────────────────────┬───────────────────────────────────────────────────────────────┐\n│\u001b[1m           timestamp \u001b[0m│\u001b[1m                                                     atomflows \u001b[0m│\n│\u001b[90m      Dates.DateTime \u001b[0m│\u001b[90m                                         Dict{String, Float64} \u001b[0m│\n├─────────────────────┼───────────────────────────────────────────────────────────────┤\n│ 2020-01-01T00:00:00 │ Dict(\"C\"=>0.712936, \"N\"=>0.0, \"Ar\"=>0.00250325, \"H\"=>1.42587) │\n│ 2020-01-01T06:00:00 │ Dict(\"C\"=>0.712936, \"N\"=>0.0, \"Ar\"=>0.00250325, \"H\"=>1.42587) │\n│ 2020-01-02T00:00:00 │ Dict(\"C\"=>0.712936, \"N\"=>0.0, \"Ar\"=>0.00250325, \"H\"=>1.42587) │\n│ 2020-01-02T06:00:00 │ Dict(\"C\"=>0.712936, \"N\"=>0.0, \"Ar\"=>0.00250325, \"H\"=>1.42587) │\n│ 2020-01-03T00:00:00 │ Dict(\"C\"=>0.712936, \"N\"=>0.0, \"Ar\"=>0.00250325, \"H\"=>1.42587) │\n│          ⋮          │                               ⋮                               │\n└─────────────────────┴───────────────────────────────────────────────────────────────┘\n\u001b[36m                                                                        22 rows omitted\u001b[0m\n\nData length:\t27\nData starts:\t2020-01-01T00:00:00\nData ends:\t2020-01-14T00:00:00\n\nVariance in total mass flow:\t0.0\n"
     },
     "metadata": {},
     "execution_count": 70
    }
   ],
   "cell_type": "code",
   "source": [
    "addfixedstream!(fs, \"Dummy\", [10.0, 0.0, 0.0, 0.0, 0.1])\n",
    "fs.streams[\"Dummy\"]"
   ],
   "metadata": {},
   "execution_count": 70
  },
  {
   "outputs": [],
   "cell_type": "code",
   "source": [
    "deletestream!(fs, \"Dummy\")"
   ],
   "metadata": {},
   "execution_count": 71
  },
  {
   "outputs": [],
   "cell_type": "code",
   "source": [
    "@unitop begin\n",
    "    inlets --> [\"H2\", \"C2\"]\n",
    "    outlets --> [\"Mixed\"]\n",
    "    calc --> mixer!\n",
    "end \"Mixer\" fs\n",
    "fs.unitops[\"Mixer\"]()\n",
    "\n",
    "@unitop begin\n",
    "    inlets --> [\"Mixed\"]\n",
    "    outlets --> [\"Product\"]\n",
    "end \"Reactor\" fs\n",
    "\n",
    "@unitop begin\n",
    "    inlets --> [\"Product\"]\n",
    "    outlets --> [\"Product1\", \"Product2\"]\n",
    "    calc --> flowsplitter!\n",
    "    params --> [0.5]\n",
    "end \"ProductSplitter\" fs\n",
    "fs.unitops[\"ProductSplitter\"]()\n",
    "\n",
    "@unitop begin\n",
    "    inlets --> [\"Product1\"]\n",
    "    outlets --> [\"Product1a\", \"Product1b\"]\n",
    "    calc --> componentplitter!\n",
    "    params --> Dict([\n",
    "        \"Hydrogen\" => Dict([\"Product1a\" => 0.5]),\n",
    "        \"Ethane\" => Dict([\"Product1b\" => 0.3])\n",
    "    ])\n",
    "end \"ComponentSplitter\" fs\n",
    "fs.unitops[\"ComponentSplitter\"]()\n",
    "\n",
    "@unitop begin\n",
    "    inlets --> [\"Product1a\", \"Product1b\", \"Product2\"]\n",
    "    outlets --> [\"Product3\"]\n",
    "    calc --> mixer!\n",
    "end \"Mixer2\" fs\n",
    "fs.unitops[\"Mixer2\"]()"
   ],
   "metadata": {},
   "execution_count": 72
  },
  {
   "cell_type": "markdown",
   "source": [
    "Check that the two streams have the same flows."
   ],
   "metadata": {}
  },
  {
   "outputs": [
    {
     "output_type": "execute_result",
     "data": {
      "text/plain": "true"
     },
     "metadata": {},
     "execution_count": 73
    }
   ],
   "cell_type": "code",
   "source": [
    "fs.streams[\"Product\"] ≈ fs.streams[\"Product3\"]"
   ],
   "metadata": {},
   "execution_count": 73
  },
  {
   "cell_type": "markdown",
   "source": [
    "Define the mass balance boundary for closures and KPIs"
   ],
   "metadata": {}
  },
  {
   "outputs": [
    {
     "output_type": "execute_result",
     "data": {
      "text/plain": "(-0.11361804202204312, 0.9988638054742306, 0.9999999999999998)"
     },
     "metadata": {},
     "execution_count": 74
    }
   ],
   "cell_type": "code",
   "source": [
    "@boundary begin\n",
    "    unitops --> [\"Mixer\", \"Reactor\"]\n",
    "end \"B1\" fs\n",
    "\n",
    "fs.boundaries[\"B1\"].atomclosures\n",
    "\n",
    "fs.boundaries[\"B1\"].closure\n",
    "\n",
    "fs.boundaries[\"B1\"].total_in.totalmassflow\n",
    "\n",
    "fs.boundaries[\"B1\"].total_out.totalmassflow\n",
    "\n",
    "c1 = conversion(fs.boundaries[\"B1\"], \"Ethane\")\n",
    "\n",
    "c2 = conversion(fs.boundaries[\"B1\"], \"Ethylene\")\n",
    "\n",
    "sc2 = molar_selectivity(fs.boundaries[\"B1\"], \"Ethylene\", \"Ethane\")\n",
    "\n",
    "(mean(values(c1)), mean(values(c2)), mean(values(sc2)))"
   ],
   "metadata": {},
   "execution_count": 74
  },
  {
   "cell_type": "markdown",
   "source": [
    "So, we have average conversions of ethane (-11.36%, meaning it was produced, not consumed), ethylene (99.9%) and selectivity of ethylene conversion to ethane (~100%) similar to the single data point above."
   ],
   "metadata": {}
  },
  {
   "cell_type": "markdown",
   "source": [
    "## Mass balance reconciliation"
   ],
   "metadata": {}
  },
  {
   "cell_type": "markdown",
   "source": [
    "A robust mass balance reconciliation method is provded, but additional methods can be easily added, in a way that is mostly transparent to the end-user.\n",
    "To demomstrate the use of the reconciliation tool, let's start with a new flowsheet, similar to what we have been looking at so far."
   ],
   "metadata": {}
  },
  {
   "outputs": [],
   "cell_type": "code",
   "source": [
    "fs = Flowsheet()\n",
    "\n",
    "count = readcomponentlist!(fs, \"components\", [\"Ethylene\", \"Ethane\", \"Hydrogen\", \"Nitrogen\", \"Argon\"])\n",
    "\n",
    "readstreamhistory!(fs, \"C2\", joinpath(\"streamhistories\", \"C2.csv\"); ismoleflow=true)\n",
    "readstreamhistory!(fs, \"H2\", joinpath(\"streamhistories\", \"Hydrogen.csv\"); ismoleflow=true)\n",
    "readstreamhistory!(fs, \"Product\", joinpath(\"streamhistories\", \"Product.csv\"); ismoleflow=true)\n",
    "addemptystream!(fs, \"Mixed\");\n",
    "addemptystream!(fs, \"Product1\");\n",
    "addemptystream!(fs, \"Product1a\");\n",
    "addemptystream!(fs, \"Product1b\");\n",
    "addemptystream!(fs, \"Product2\");\n",
    "addemptystream!(fs, \"Product3\");\n",
    "addemptystream!(fs, \"Product4\");\n",
    "\n",
    "addfixedstream!(fs, \"Dummy\", [10.0, 0.0, 0.0, 0.0, 0.1])"
   ],
   "metadata": {},
   "execution_count": 75
  },
  {
   "cell_type": "markdown",
   "source": [
    "Now add the flowsheet\n",
    "The two feed streams are mixed:"
   ],
   "metadata": {}
  },
  {
   "outputs": [],
   "cell_type": "code",
   "source": [
    "@unitop begin\n",
    "    inlets --> [\"H2\", \"C2\"]\n",
    "    outlets --> [\"Mixed\"]\n",
    "    calc --> mixer!\n",
    "end \"Mixer\" fs\n",
    "fs.unitops[\"Mixer\"]()"
   ],
   "metadata": {},
   "execution_count": 76
  },
  {
   "cell_type": "markdown",
   "source": [
    "Now an undefined reactor block. We don't need more detail, since we have the data for the outlet stream, Product."
   ],
   "metadata": {}
  },
  {
   "outputs": [],
   "cell_type": "code",
   "source": [
    "@unitop begin\n",
    "    inlets --> [\"Mixed\"]\n",
    "    outlets --> [\"Product\"]\n",
    "end \"Reactor\" fs"
   ],
   "metadata": {},
   "execution_count": 77
  },
  {
   "cell_type": "markdown",
   "source": [
    "We split this stream 50:50 intop Product1 and Product2."
   ],
   "metadata": {}
  },
  {
   "outputs": [],
   "cell_type": "code",
   "source": [
    "@unitop begin\n",
    "    inlets --> [\"Product\"]\n",
    "    outlets --> [\"Product1\", \"Product2\"]\n",
    "    calc --> flowsplitter!\n",
    "    params --> [0.5]\n",
    "end \"ProductSplitter\" fs\n",
    "fs.unitops[\"ProductSplitter\"]()"
   ],
   "metadata": {},
   "execution_count": 78
  },
  {
   "cell_type": "markdown",
   "source": [
    "Now we have a separation train that splits the Product stream. The Hydrogen splits 50:50, the Ethane 30:70 and everything else 0:100 into Product1a and Product1b"
   ],
   "metadata": {}
  },
  {
   "outputs": [],
   "cell_type": "code",
   "source": [
    "@unitop begin\n",
    "    inlets --> [\"Product1\"]\n",
    "    outlets --> [\"Product1a\", \"Product1b\"]\n",
    "    calc --> componentplitter!\n",
    "    params --> Dict([\n",
    "        \"Hydrogen\" => Dict([\"Product1a\" => 0.5]),\n",
    "        \"Ethane\" => Dict([\"Product1b\" => 0.3])\n",
    "    ])\n",
    "end \"ComponentSplitter\" fs\n",
    "fs.unitops[\"ComponentSplitter\"]()"
   ],
   "metadata": {},
   "execution_count": 79
  },
  {
   "cell_type": "markdown",
   "source": [
    "For reasons unknown, we mix three of the streams again."
   ],
   "metadata": {}
  },
  {
   "outputs": [
    {
     "output_type": "execute_result",
     "data": {
      "text/plain": "true"
     },
     "metadata": {},
     "execution_count": 80
    }
   ],
   "cell_type": "code",
   "source": [
    "@unitop begin\n",
    "    inlets --> [\"Product1a\", \"Product1b\", \"Product2\"]\n",
    "    outlets --> [\"Product3\"]\n",
    "    calc --> mixer!\n",
    "end \"Mixer2\" fs\n",
    "fs.unitops[\"Mixer2\"]()\n",
    "\n",
    "fs.streams[\"Product\"] ≈ fs.streams[\"Product3\"]"
   ],
   "metadata": {},
   "execution_count": 80
  },
  {
   "cell_type": "markdown",
   "source": [
    "And now, for something new, we add a stoichiometric reactor block.\n",
    "This block takes an array of reactions and a fractional conversion for a key component for each of these reactions.\n",
    "Let's define one reaction as an example:"
   ],
   "metadata": {}
  },
  {
   "outputs": [
    {
     "output_type": "execute_result",
     "data": {
      "text/plain": "EthyleneHydrogenation (generic function with 1 method)"
     },
     "metadata": {},
     "execution_count": 81
    }
   ],
   "cell_type": "code",
   "source": [
    "EthyleneHydrogenation(frac) = Reaction(fs, [\"Ethylene\", \"Hydrogen\"], [\"Ethane\"], [1.0, 1.0], [1.0], \"Ethylene\", frac)"
   ],
   "metadata": {},
   "execution_count": 81
  },
  {
   "cell_type": "markdown",
   "source": [
    "We define the reaction in the form of a Julia function, that takes a parameter for the fractional conversion of the key component.\n",
    "    `EthyleneHydrogenation(frac) = ...`\n",
    "In the body of the function, we call the constructor for a Reaction object.\n",
    "Because we use this function form, reactions are not stored in a container, as we did with components, streams and boundaries.\n",
    "We do need to pass a flowsheet object, since the components are defined in the flowsheet. We then specify an array of reactant names, an array of product names, the stoichiometric coefficients for the reactants, and for the products.\n",
    "We also specify the name of the key component and its fractional conversion. All of these variables are \"captured\" in the function.\n",
    "The constructor for a Reactio object will do a stoichiometry check to make sure the reaction is balanced."
   ],
   "metadata": {}
  },
  {
   "cell_type": "markdown",
   "source": [
    "To specify that the `UnitOp` is a stoichiometric reactor, we use the `calc` keyword, and pass an array of reaction functions as the `params`. Here, this array only has the single entry.\n",
    "Reaction will be execute in parallel. If more than one reaction has the same key component, the reactor will verify that there is at most complete conversion.\n",
    "This means that if you specify two reactions with the same key component, where the concersions add up to more than 1.0, you will get an error."
   ],
   "metadata": {}
  },
  {
   "outputs": [],
   "cell_type": "code",
   "source": [
    "@unitop begin\n",
    "    inlets --> [\"Product3\"]\n",
    "    outlets --> [\"Product4\"]\n",
    "    calc --> stoichiometric_reactor!\n",
    "    params --> [EthyleneHydrogenation(0.5)]\n",
    "end \"Reactor2\" fs\n",
    "fs.unitops[\"Reactor2\"]()"
   ],
   "metadata": {},
   "execution_count": 82
  },
  {
   "cell_type": "markdown",
   "source": [
    "We can do a quick check on our flowsheet:"
   ],
   "metadata": {}
  },
  {
   "outputs": [
    {
     "output_type": "display_data",
     "data": {
      "image/png": "[encoded data removed]"
     },
     "metadata": {}
    },
    {
     "output_type": "execute_result",
     "data": {
      "text/plain": "\"./myflowsheet2.png\""
     },
     "metadata": {},
     "execution_count": 83
    }
   ],
   "cell_type": "code",
   "source": [
    "generateBFD(fs, \"./myflowsheet2.png\") # Or .svg"
   ],
   "metadata": {},
   "execution_count": 83
  },
  {
   "cell_type": "markdown",
   "source": [
    "Now let's introduce a measurement error in the 'Mixed' stream:"
   ],
   "metadata": {}
  },
  {
   "outputs": [
    {
     "output_type": "execute_result",
     "data": {
      "text/plain": "Stream: Mixed\n\nMass flows:\n┌─────────────────────┬──────────┬─────────┬──────────┬──────────┬─────────┐\n│\u001b[1m           timestamp \u001b[0m│\u001b[1m Ethylene \u001b[0m│\u001b[1m  Ethane \u001b[0m│\u001b[1m Hydrogen \u001b[0m│\u001b[1m Nitrogen \u001b[0m│\u001b[1m   Argon \u001b[0m│\n│\u001b[90m      Dates.DateTime \u001b[0m│\u001b[90m  Float64 \u001b[0m│\u001b[90m Float64 \u001b[0m│\u001b[90m  Float64 \u001b[0m│\u001b[90m  Float64 \u001b[0m│\u001b[90m Float64 \u001b[0m│\n├─────────────────────┼──────────┼─────────┼──────────┼──────────┼─────────┤\n│ 2020-01-01T00:00:00 │  3.30921 │ 29.5193 │  2.47734 │      0.0 │     0.0 │\n│ 2020-01-01T06:00:00 │   3.3135 │ 29.6602 │   2.4333 │      0.0 │     0.0 │\n│ 2020-01-02T00:00:00 │  2.84452 │ 32.5956 │  2.44395 │      0.0 │     0.0 │\n│ 2020-01-02T06:00:00 │  3.27379 │  32.101 │  2.43045 │      0.0 │     0.0 │\n│ 2020-01-03T00:00:00 │  3.19165 │ 30.5383 │   2.4689 │      0.0 │     0.0 │\n│          ⋮          │    ⋮     │    ⋮    │    ⋮     │    ⋮     │    ⋮    │\n└─────────────────────┴──────────┴─────────┴──────────┴──────────┴─────────┘\n\u001b[36m                                                             22 rows omitted\u001b[0m\n\nMolar flows:\n┌─────────────────────┬──────────┬──────────┬──────────┬──────────┬─────────┐\n│\u001b[1m           timestamp \u001b[0m│\u001b[1m Ethylene \u001b[0m│\u001b[1m   Ethane \u001b[0m│\u001b[1m Hydrogen \u001b[0m│\u001b[1m Nitrogen \u001b[0m│\u001b[1m   Argon \u001b[0m│\n│\u001b[90m      Dates.DateTime \u001b[0m│\u001b[90m  Float64 \u001b[0m│\u001b[90m  Float64 \u001b[0m│\u001b[90m  Float64 \u001b[0m│\u001b[90m  Float64 \u001b[0m│\u001b[90m Float64 \u001b[0m│\n├─────────────────────┼──────────┼──────────┼──────────┼──────────┼─────────┤\n│ 2020-01-01T00:00:00 │ 0.117963 │ 0.981726 │  1.22896 │      0.0 │     0.0 │\n│ 2020-01-01T06:00:00 │ 0.118116 │  0.98641 │  1.20712 │      0.0 │     0.0 │\n│ 2020-01-02T00:00:00 │ 0.101398 │  1.08403 │   1.2124 │      0.0 │     0.0 │\n│ 2020-01-02T06:00:00 │   0.1167 │  1.06758 │   1.2057 │      0.0 │     0.0 │\n│ 2020-01-03T00:00:00 │ 0.113772 │  1.01561 │  1.22477 │      0.0 │     0.0 │\n│          ⋮          │    ⋮     │    ⋮     │    ⋮     │    ⋮     │    ⋮    │\n└─────────────────────┴──────────┴──────────┴──────────┴──────────┴─────────┘\n\u001b[36m                                                              22 rows omitted\u001b[0m\n\n\nAtom Flows:\n┌─────────────────────┬───────────────────────────────────────────────────────┐\n│\u001b[1m           timestamp \u001b[0m│\u001b[1m                                             atomflows \u001b[0m│\n│\u001b[90m      Dates.DateTime \u001b[0m│\u001b[90m                                 Dict{String, Float64} \u001b[0m│\n├─────────────────────┼───────────────────────────────────────────────────────┤\n│ 2020-01-01T00:00:00 │ Dict(\"C\"=>2.19938, \"N\"=>0.0, \"Ar\"=>0.0, \"H\"=>8.82013) │\n│ 2020-01-01T06:00:00 │ Dict(\"C\"=>2.20905, \"N\"=>0.0, \"Ar\"=>0.0, \"H\"=>8.80516) │\n│ 2020-01-02T00:00:00 │ Dict(\"C\"=>2.37086, \"N\"=>0.0, \"Ar\"=>0.0, \"H\"=>9.33459) │\n│ 2020-01-02T06:00:00 │ Dict(\"C\"=>2.36857, \"N\"=>0.0, \"Ar\"=>0.0, \"H\"=>9.28371) │\n│ 2020-01-03T00:00:00 │ Dict(\"C\"=>2.25877, \"N\"=>0.0, \"Ar\"=>0.0, \"H\"=>8.99832) │\n│          ⋮          │                           ⋮                           │\n└─────────────────────┴───────────────────────────────────────────────────────┘\n\u001b[36m                                                                22 rows omitted\u001b[0m\n\nData length:\t27\nData starts:\t2020-01-01T00:00:00\nData ends:\t2020-01-14T00:00:00\n\nVariance in total mass flow:\t3.634\n"
     },
     "metadata": {},
     "execution_count": 84
    }
   ],
   "cell_type": "code",
   "source": [
    "fs.streams[\"Mixed\"] = 1.1*fs.streams[\"Mixed\"]"
   ],
   "metadata": {},
   "execution_count": 84
  },
  {
   "cell_type": "markdown",
   "source": [
    "We are going to define two balance boundaries.\n",
    "- B1 includes the first mixer: 'Mixer'\n",
    "- B2 includes the first reactor ('Reactor') and the first splitter (`ProductSplitter`)\n",
    "This means that our stream with the measurement error is a stream linking the two boundaries."
   ],
   "metadata": {}
  },
  {
   "outputs": [
    {
     "output_type": "execute_result",
     "data": {
      "text/plain": "Balance Boundary:\n\nEnclosed units: [\"Mixer\"]\n\nClosure:\n┌─────────────────────┬────────────────────┐\n│\u001b[1m           timestamp \u001b[0m│\u001b[1m Total Mass Closure \u001b[0m│\n│\u001b[90m      Dates.DateTime \u001b[0m│\u001b[90m            Float64 \u001b[0m│\n├─────────────────────┼────────────────────┤\n│ 2020-01-01T00:00:00 │                1.1 │\n│ 2020-01-01T06:00:00 │                1.1 │\n│ 2020-01-02T00:00:00 │                1.1 │\n│ 2020-01-02T06:00:00 │                1.1 │\n│ 2020-01-03T00:00:00 │                1.1 │\n│          ⋮          │         ⋮          │\n└─────────────────────┴────────────────────┘\n\u001b[36m                             22 rows omitted\u001b[0m\n\nCombined Feed Mass Flows:\n┌─────────────────────┬──────────┬─────────┬──────────┬──────────┬─────────┐\n│\u001b[1m           timestamp \u001b[0m│\u001b[1m Ethylene \u001b[0m│\u001b[1m  Ethane \u001b[0m│\u001b[1m Hydrogen \u001b[0m│\u001b[1m Nitrogen \u001b[0m│\u001b[1m   Argon \u001b[0m│\n│\u001b[90m      Dates.DateTime \u001b[0m│\u001b[90m  Float64 \u001b[0m│\u001b[90m Float64 \u001b[0m│\u001b[90m  Float64 \u001b[0m│\u001b[90m  Float64 \u001b[0m│\u001b[90m Float64 \u001b[0m│\n├─────────────────────┼──────────┼─────────┼──────────┼──────────┼─────────┤\n│ 2020-01-01T00:00:00 │  3.00838 │ 26.8357 │  2.25213 │      0.0 │     0.0 │\n│ 2020-01-01T06:00:00 │  3.01228 │ 26.9638 │  2.21209 │      0.0 │     0.0 │\n│ 2020-01-02T00:00:00 │  2.58593 │ 29.6324 │  2.22177 │      0.0 │     0.0 │\n│ 2020-01-02T06:00:00 │  2.97617 │ 29.1827 │   2.2095 │      0.0 │     0.0 │\n│ 2020-01-03T00:00:00 │   2.9015 │ 27.7621 │  2.24445 │      0.0 │     0.0 │\n│          ⋮          │    ⋮     │    ⋮    │    ⋮     │    ⋮     │    ⋮    │\n└─────────────────────┴──────────┴─────────┴──────────┴──────────┴─────────┘\n\u001b[36m                                                             22 rows omitted\u001b[0m\nCombined Product Mass Flows:\n┌─────────────────────┬──────────┬─────────┬──────────┬──────────┬─────────┐\n│\u001b[1m           timestamp \u001b[0m│\u001b[1m Ethylene \u001b[0m│\u001b[1m  Ethane \u001b[0m│\u001b[1m Hydrogen \u001b[0m│\u001b[1m Nitrogen \u001b[0m│\u001b[1m   Argon \u001b[0m│\n│\u001b[90m      Dates.DateTime \u001b[0m│\u001b[90m  Float64 \u001b[0m│\u001b[90m Float64 \u001b[0m│\u001b[90m  Float64 \u001b[0m│\u001b[90m  Float64 \u001b[0m│\u001b[90m Float64 \u001b[0m│\n├─────────────────────┼──────────┼─────────┼──────────┼──────────┼─────────┤\n│ 2020-01-01T00:00:00 │  3.30921 │ 29.5193 │  2.47734 │      0.0 │     0.0 │\n│ 2020-01-01T06:00:00 │   3.3135 │ 29.6602 │   2.4333 │      0.0 │     0.0 │\n│ 2020-01-02T00:00:00 │  2.84452 │ 32.5956 │  2.44395 │      0.0 │     0.0 │\n│ 2020-01-02T06:00:00 │  3.27379 │  32.101 │  2.43045 │      0.0 │     0.0 │\n│ 2020-01-03T00:00:00 │  3.19165 │ 30.5383 │   2.4689 │      0.0 │     0.0 │\n│          ⋮          │    ⋮     │    ⋮    │    ⋮     │    ⋮     │    ⋮    │\n└─────────────────────┴──────────┴─────────┴──────────┴──────────┴─────────┘\n\u001b[36m                                                             22 rows omitted\u001b[0m\n\nElemental closures (0.0 if not present):\n┌─────────────────────┬───────────────────────────────────────────────┐\n│\u001b[1m           timestamp \u001b[0m│\u001b[1m                            Elemental Closures \u001b[0m│\n│\u001b[90m      Dates.DateTime \u001b[0m│\u001b[90m                         Dict{String, Float64} \u001b[0m│\n├─────────────────────┼───────────────────────────────────────────────┤\n│ 2020-01-01T00:00:00 │ Dict(\"C\"=>1.1, \"N\"=>0.0, \"Ar\"=>0.0, \"H\"=>1.1) │\n│ 2020-01-01T06:00:00 │ Dict(\"C\"=>1.1, \"N\"=>0.0, \"Ar\"=>0.0, \"H\"=>1.1) │\n│ 2020-01-02T00:00:00 │ Dict(\"C\"=>1.1, \"N\"=>0.0, \"Ar\"=>0.0, \"H\"=>1.1) │\n│ 2020-01-02T06:00:00 │ Dict(\"C\"=>1.1, \"N\"=>0.0, \"Ar\"=>0.0, \"H\"=>1.1) │\n│ 2020-01-03T00:00:00 │ Dict(\"C\"=>1.1, \"N\"=>0.0, \"Ar\"=>0.0, \"H\"=>1.1) │\n│          ⋮          │                       ⋮                       │\n└─────────────────────┴───────────────────────────────────────────────┘\n\u001b[36m                                                        22 rows omitted\u001b[0m\n"
     },
     "metadata": {},
     "execution_count": 85
    }
   ],
   "cell_type": "code",
   "source": [
    "@boundary begin\n",
    "    unitops --> [\"Mixer\"]\n",
    "end \"B1\" fs\n",
    "\n",
    "@boundary begin\n",
    "    unitops --> [\"Reactor\", \"ProductSplitter\"]\n",
    "end \"B2\" fs\n",
    "\n",
    "fs.boundaries[\"B1\"]"
   ],
   "metadata": {},
   "execution_count": 85
  },
  {
   "outputs": [
    {
     "output_type": "execute_result",
     "data": {
      "text/plain": "Balance Boundary:\n\nEnclosed units: [\"Reactor\", \"ProductSplitter\"]\n\nClosure:\n┌─────────────────────┬────────────────────┐\n│\u001b[1m           timestamp \u001b[0m│\u001b[1m Total Mass Closure \u001b[0m│\n│\u001b[90m      Dates.DateTime \u001b[0m│\u001b[90m            Float64 \u001b[0m│\n├─────────────────────┼────────────────────┤\n│ 2020-01-01T00:00:00 │           0.909091 │\n│ 2020-01-01T06:00:00 │           0.909091 │\n│ 2020-01-02T00:00:00 │           0.909091 │\n│ 2020-01-02T06:00:00 │           0.909091 │\n│ 2020-01-03T00:00:00 │           0.909091 │\n│          ⋮          │         ⋮          │\n└─────────────────────┴────────────────────┘\n\u001b[36m                             22 rows omitted\u001b[0m\n\nCombined Feed Mass Flows:\n┌─────────────────────┬──────────┬─────────┬──────────┬──────────┬─────────┐\n│\u001b[1m           timestamp \u001b[0m│\u001b[1m Ethylene \u001b[0m│\u001b[1m  Ethane \u001b[0m│\u001b[1m Hydrogen \u001b[0m│\u001b[1m Nitrogen \u001b[0m│\u001b[1m   Argon \u001b[0m│\n│\u001b[90m      Dates.DateTime \u001b[0m│\u001b[90m  Float64 \u001b[0m│\u001b[90m Float64 \u001b[0m│\u001b[90m  Float64 \u001b[0m│\u001b[90m  Float64 \u001b[0m│\u001b[90m Float64 \u001b[0m│\n├─────────────────────┼──────────┼─────────┼──────────┼──────────┼─────────┤\n│ 2020-01-01T00:00:00 │  3.30921 │ 29.5193 │  2.47734 │      0.0 │     0.0 │\n│ 2020-01-01T06:00:00 │   3.3135 │ 29.6602 │   2.4333 │      0.0 │     0.0 │\n│ 2020-01-02T00:00:00 │  2.84452 │ 32.5956 │  2.44395 │      0.0 │     0.0 │\n│ 2020-01-02T06:00:00 │  3.27379 │  32.101 │  2.43045 │      0.0 │     0.0 │\n│ 2020-01-03T00:00:00 │  3.19165 │ 30.5383 │   2.4689 │      0.0 │     0.0 │\n│          ⋮          │    ⋮     │    ⋮    │    ⋮     │    ⋮     │    ⋮    │\n└─────────────────────┴──────────┴─────────┴──────────┴──────────┴─────────┘\n\u001b[36m                                                             22 rows omitted\u001b[0m\nCombined Product Mass Flows:\n┌─────────────────────┬──────────┬─────────┬──────────┬──────────┬─────────┐\n│\u001b[1m           timestamp \u001b[0m│\u001b[1m Ethylene \u001b[0m│\u001b[1m  Ethane \u001b[0m│\u001b[1m Hydrogen \u001b[0m│\u001b[1m Nitrogen \u001b[0m│\u001b[1m   Argon \u001b[0m│\n│\u001b[90m      Dates.DateTime \u001b[0m│\u001b[90m  Float64 \u001b[0m│\u001b[90m Float64 \u001b[0m│\u001b[90m  Float64 \u001b[0m│\u001b[90m  Float64 \u001b[0m│\u001b[90m Float64 \u001b[0m│\n├─────────────────────┼──────────┼─────────┼──────────┼──────────┼─────────┤\n│ 2020-01-01T00:00:00 │      0.0 │ 30.0603 │  2.03596 │      0.0 │     0.0 │\n│ 2020-01-01T06:00:00 │      0.0 │ 30.1925 │  1.99564 │      0.0 │     0.0 │\n│ 2020-01-02T00:00:00 │      0.0 │ 32.4041 │  2.03596 │      0.0 │     0.0 │\n│ 2020-01-02T06:00:00 │      0.0 │ 32.3727 │  1.99564 │      0.0 │     0.0 │\n│ 2020-01-03T00:00:00 │      0.0 │ 30.8721 │  2.03596 │      0.0 │     0.0 │\n│          ⋮          │    ⋮     │    ⋮    │    ⋮     │    ⋮     │    ⋮    │\n└─────────────────────┴──────────┴─────────┴──────────┴──────────┴─────────┘\n\u001b[36m                                                             22 rows omitted\u001b[0m\n\nElemental closures (0.0 if not present):\n┌─────────────────────┬─────────────────────────────────────────────────────────┐\n│\u001b[1m           timestamp \u001b[0m│\u001b[1m                                      Elemental Closures \u001b[0m│\n│\u001b[90m      Dates.DateTime \u001b[0m│\u001b[90m                                   Dict{String, Float64} \u001b[0m│\n├─────────────────────┼─────────────────────────────────────────────────────────┤\n│ 2020-01-01T00:00:00 │ Dict(\"C\"=>0.909091, \"N\"=>0.0, \"Ar\"=>0.0, \"H\"=>0.909091) │\n│ 2020-01-01T06:00:00 │ Dict(\"C\"=>0.909091, \"N\"=>0.0, \"Ar\"=>0.0, \"H\"=>0.909091) │\n│ 2020-01-02T00:00:00 │ Dict(\"C\"=>0.909091, \"N\"=>0.0, \"Ar\"=>0.0, \"H\"=>0.909091) │\n│ 2020-01-02T06:00:00 │ Dict(\"C\"=>0.909091, \"N\"=>0.0, \"Ar\"=>0.0, \"H\"=>0.909091) │\n│ 2020-01-03T00:00:00 │ Dict(\"C\"=>0.909091, \"N\"=>0.0, \"Ar\"=>0.0, \"H\"=>0.909091) │\n│          ⋮          │                            ⋮                            │\n└─────────────────────┴─────────────────────────────────────────────────────────┘\n\u001b[36m                                                                  22 rows omitted\u001b[0m\n"
     },
     "metadata": {},
     "execution_count": 86
    }
   ],
   "cell_type": "code",
   "source": [
    "fs.boundaries[\"B2\"]"
   ],
   "metadata": {},
   "execution_count": 86
  },
  {
   "cell_type": "markdown",
   "source": [
    "This choice of the boundaries is not ideal, as there is no unique solution. We can however tell the optimiser that we have faith in one stream. This stream may be measured by a high fidelity instrument like a coriolis type flow meter.\n",
    "We call a stream that will remain fixed during the reconciliation an 'anchor' stream. Specifying an anchor is optional."
   ],
   "metadata": {}
  },
  {
   "outputs": [],
   "cell_type": "code",
   "source": [
    "corrections = calccorrections(fs; λ = 0.0, anchor = \"H2\");"
   ],
   "metadata": {},
   "execution_count": 87
  },
  {
   "cell_type": "markdown",
   "source": [
    "This returns a `Dictionary` of stream => correction factor.\n",
    "You may be wondering what the `λ` parameter is. The 'calccorrections' function takes quite a few paramaters, but most of them have default values:\n",
    "    function calccorrections(fs; customerror=nothing, anchor = nothing, totalweight=1.0, elementweight = 1.0,\n",
    "      setelements = false, elementweights::Dict{String, Float64} = Dict{String, Float64}(), λ = 0.1)\n",
    "- customerror: a user-supplied function that can add a custom error to be minimised during the reconciliation. For example, you may want to ensure that the reconiled result for your reactor outlet is in chemical equilibrium. You can then pass the deviation from equilibrium as the custom error.\n",
    "- anchor: a stream that will remain fixed during the reconciliation.\n",
    "- totalweight: the weight applied the total mass balance error. Default value is 1.0\n",
    "- elementweight: the weight applied to each element balance error. Each element error gets the same weight with a default value of 1.0.\n",
    "- setelements: if true, the dictionary of weights for each element is applied, rather than value of *elementweights*. This dictionary is passed in `elementweights`.\n",
    "- elementweights: (note the plural!) a dictionary of element => weight. Default value is an empty dictionary. This allows each element closure error to be weighted separately and some elements errors to be ignored, by setting these weights to 0.0.\n",
    "- λ: the regularisation parameter for (L₂ Regularisation)[https://en.wikipedia.org/wiki/Ridge_regression#Tikhonov_regularization]. Default value is 0.1."
   ],
   "metadata": {}
  },
  {
   "cell_type": "markdown",
   "source": [
    "The regularisation adds the sum of the squared corrections to the error that is to be minimised, weighted by λ. This means that the solver strives to minimise the adjustments to the flows while reconciling the mass balance.\n",
    "Regularisation is a trade-off. Use it when you see suspiciouly large corrections. If used when not needed, it will may worse reconciliations."
   ],
   "metadata": {}
  },
  {
   "outputs": [
    {
     "output_type": "execute_result",
     "data": {
      "text/plain": "Dict{String, Float64} with 4 entries:\n  \"C2\"       => 1.0\n  \"Product1\" => 1.0\n  \"Mixed\"    => 0.909091\n  \"Product2\" => 1.0"
     },
     "metadata": {},
     "execution_count": 88
    }
   ],
   "cell_type": "code",
   "source": [
    "corrections"
   ],
   "metadata": {},
   "execution_count": 88
  },
  {
   "cell_type": "markdown",
   "source": [
    "Now that we have the corrections, we can choose to apply them to our streams by calling `closemb!(fs, corrections)`.\n",
    "We'll apply the correction in a short while, but first, lets look at what else `calccorrections` can do."
   ],
   "metadata": {}
  },
  {
   "cell_type": "markdown",
   "source": [
    "Let's first look at that custom error function in a bit more detail.\n",
    "This function takes the form:"
   ],
   "metadata": {}
  },
  {
   "outputs": [
    {
     "output_type": "execute_result",
     "data": {
      "text/plain": "myerr (generic function with 1 method)"
     },
     "metadata": {},
     "execution_count": 89
    }
   ],
   "cell_type": "code",
   "source": [
    "myerr(dict) = 0.01 * sum(abs2, 1.0 .- (values(dict))) # Fudging the Ridge Regression, with a lambda of 0.01."
   ],
   "metadata": {},
   "execution_count": 89
  },
  {
   "cell_type": "markdown",
   "source": [
    "where the dict is a dictionary of stream => correction factor pairs. These corrections are the values at each step in the optimisation and the custom error function must multiply the stream flows with them before doing any additional calculations.\n",
    "This is needed, since we won't know what the final resuls of the corrections will be, and hence cannot apply the factors to the streams before the end.\n",
    "The function can now calculate any value from the streams flows and compositions, e.g. a distance from equilibrium for a reaction. It returns a scalar value, that is added to the weighted sum of errors for the total mass balance and elemental balance errors. No further weighting is done.\n",
    "We just pass the function in the `customerror` argument."
   ],
   "metadata": {}
  },
  {
   "outputs": [
    {
     "output_type": "execute_result",
     "data": {
      "text/plain": "Dict{String, Float64} with 4 entries:\n  \"C2\"       => 1.00127\n  \"Product1\" => 1.00114\n  \"Mixed\"    => 0.910132\n  \"Product2\" => 1.00114"
     },
     "metadata": {},
     "execution_count": 90
    }
   ],
   "cell_type": "code",
   "source": [
    "corrections2 = calccorrections(fs, anchor=\"H2\", customerror=myerr)"
   ],
   "metadata": {},
   "execution_count": 90
  },
  {
   "cell_type": "markdown",
   "source": [
    "The previous examples uses a constant weight for all elements, but we can specifiy individual weights as well."
   ],
   "metadata": {}
  },
  {
   "outputs": [],
   "cell_type": "code",
   "source": [
    "weights = Dict([\"H\" => 1.0, \"C\" => 1.5, \"O\" => 1.0, \"Ar\" => 0.0, \"N\" => 0.0])\n",
    "corrections3 = calccorrections(fs, λ = 0.0, anchor = \"H2\", setelements=true, elementweights=weights)\n",
    "\n",
    "closemb!(fs, corrections)"
   ],
   "metadata": {},
   "execution_count": 91
  },
  {
   "cell_type": "markdown",
   "source": [
    "This modifies the streams. We can check the result:"
   ],
   "metadata": {}
  },
  {
   "outputs": [
    {
     "output_type": "execute_result",
     "data": {
      "text/plain": "Balance Boundary:\n\nEnclosed units: [\"Reactor\", \"ProductSplitter\"]\n\nClosure:\n┌─────────────────────┬────────────────────┐\n│\u001b[1m           timestamp \u001b[0m│\u001b[1m Total Mass Closure \u001b[0m│\n│\u001b[90m      Dates.DateTime \u001b[0m│\u001b[90m            Float64 \u001b[0m│\n├─────────────────────┼────────────────────┤\n│ 2020-01-01T00:00:00 │                1.0 │\n│ 2020-01-01T06:00:00 │                1.0 │\n│ 2020-01-02T00:00:00 │                1.0 │\n│ 2020-01-02T06:00:00 │                1.0 │\n│ 2020-01-03T00:00:00 │                1.0 │\n│          ⋮          │         ⋮          │\n└─────────────────────┴────────────────────┘\n\u001b[36m                             22 rows omitted\u001b[0m\n\nCombined Feed Mass Flows:\n┌─────────────────────┬──────────┬─────────┬──────────┬──────────┬─────────┐\n│\u001b[1m           timestamp \u001b[0m│\u001b[1m Ethylene \u001b[0m│\u001b[1m  Ethane \u001b[0m│\u001b[1m Hydrogen \u001b[0m│\u001b[1m Nitrogen \u001b[0m│\u001b[1m   Argon \u001b[0m│\n│\u001b[90m      Dates.DateTime \u001b[0m│\u001b[90m  Float64 \u001b[0m│\u001b[90m Float64 \u001b[0m│\u001b[90m  Float64 \u001b[0m│\u001b[90m  Float64 \u001b[0m│\u001b[90m Float64 \u001b[0m│\n├─────────────────────┼──────────┼─────────┼──────────┼──────────┼─────────┤\n│ 2020-01-01T00:00:00 │  3.00838 │ 26.8357 │  2.25213 │      0.0 │     0.0 │\n│ 2020-01-01T06:00:00 │  3.01228 │ 26.9638 │  2.21209 │      0.0 │     0.0 │\n│ 2020-01-02T00:00:00 │  2.58593 │ 29.6324 │  2.22177 │      0.0 │     0.0 │\n│ 2020-01-02T06:00:00 │  2.97617 │ 29.1827 │   2.2095 │      0.0 │     0.0 │\n│ 2020-01-03T00:00:00 │   2.9015 │ 27.7621 │  2.24445 │      0.0 │     0.0 │\n│          ⋮          │    ⋮     │    ⋮    │    ⋮     │    ⋮     │    ⋮    │\n└─────────────────────┴──────────┴─────────┴──────────┴──────────┴─────────┘\n\u001b[36m                                                             22 rows omitted\u001b[0m\nCombined Product Mass Flows:\n┌─────────────────────┬──────────┬─────────┬──────────┬──────────┬─────────┐\n│\u001b[1m           timestamp \u001b[0m│\u001b[1m Ethylene \u001b[0m│\u001b[1m  Ethane \u001b[0m│\u001b[1m Hydrogen \u001b[0m│\u001b[1m Nitrogen \u001b[0m│\u001b[1m   Argon \u001b[0m│\n│\u001b[90m      Dates.DateTime \u001b[0m│\u001b[90m  Float64 \u001b[0m│\u001b[90m Float64 \u001b[0m│\u001b[90m  Float64 \u001b[0m│\u001b[90m  Float64 \u001b[0m│\u001b[90m Float64 \u001b[0m│\n├─────────────────────┼──────────┼─────────┼──────────┼──────────┼─────────┤\n│ 2020-01-01T00:00:00 │      0.0 │ 30.0603 │  2.03596 │      0.0 │     0.0 │\n│ 2020-01-01T06:00:00 │      0.0 │ 30.1925 │  1.99564 │      0.0 │     0.0 │\n│ 2020-01-02T00:00:00 │      0.0 │ 32.4041 │  2.03596 │      0.0 │     0.0 │\n│ 2020-01-02T06:00:00 │      0.0 │ 32.3727 │  1.99564 │      0.0 │     0.0 │\n│ 2020-01-03T00:00:00 │      0.0 │ 30.8721 │  2.03596 │      0.0 │     0.0 │\n│          ⋮          │    ⋮     │    ⋮    │    ⋮     │    ⋮     │    ⋮    │\n└─────────────────────┴──────────┴─────────┴──────────┴──────────┴─────────┘\n\u001b[36m                                                             22 rows omitted\u001b[0m\n\nElemental closures (0.0 if not present):\n┌─────────────────────┬───────────────────────────────────────────────┐\n│\u001b[1m           timestamp \u001b[0m│\u001b[1m                            Elemental Closures \u001b[0m│\n│\u001b[90m      Dates.DateTime \u001b[0m│\u001b[90m                         Dict{String, Float64} \u001b[0m│\n├─────────────────────┼───────────────────────────────────────────────┤\n│ 2020-01-01T00:00:00 │ Dict(\"C\"=>1.0, \"N\"=>0.0, \"Ar\"=>0.0, \"H\"=>1.0) │\n│ 2020-01-01T06:00:00 │ Dict(\"C\"=>1.0, \"N\"=>0.0, \"Ar\"=>0.0, \"H\"=>1.0) │\n│ 2020-01-02T00:00:00 │ Dict(\"C\"=>1.0, \"N\"=>0.0, \"Ar\"=>0.0, \"H\"=>1.0) │\n│ 2020-01-02T06:00:00 │ Dict(\"C\"=>1.0, \"N\"=>0.0, \"Ar\"=>0.0, \"H\"=>1.0) │\n│ 2020-01-03T00:00:00 │ Dict(\"C\"=>1.0, \"N\"=>0.0, \"Ar\"=>0.0, \"H\"=>1.0) │\n│          ⋮          │                       ⋮                       │\n└─────────────────────┴───────────────────────────────────────────────┘\n\u001b[36m                                                        22 rows omitted\u001b[0m\n"
     },
     "metadata": {},
     "execution_count": 92
    }
   ],
   "cell_type": "code",
   "source": [
    "fs.boundaries[\"B1\"]\n",
    "fs.boundaries[\"B2\"]"
   ],
   "metadata": {},
   "execution_count": 92
  },
  {
   "cell_type": "markdown",
   "source": [
    "We can now write corrected streams back to file"
   ],
   "metadata": {}
  },
  {
   "outputs": [],
   "cell_type": "code",
   "source": [
    "writestreamhistory(fs.streams[\"C2\"], \"corrected.csv\")"
   ],
   "metadata": {},
   "execution_count": 93
  },
  {
   "cell_type": "markdown",
   "source": [
    "We can also request some information from a bounary. This is given in table form, packed into a string."
   ],
   "metadata": {}
  },
  {
   "outputs": [
    {
     "name": "stdout",
     "output_type": "stream",
     "text": [
      "Mass Balance Boundary:\n",
      "----------------------\n",
      "\n",
      "Total Mass Flows In:\n",
      "┌─────────────────────┬──────────┬─────────┬──────────┬──────────┬─────────┐\n",
      "│           timestamp │ Ethylene │  Ethane │ Hydrogen │ Nitrogen │   Argon │\n",
      "│      Dates.DateTime │  Float64 │ Float64 │  Float64 │  Float64 │ Float64 │\n",
      "├─────────────────────┼──────────┼─────────┼──────────┼──────────┼─────────┤\n",
      "│ 2020-01-01T00:00:00 │  3.00838 │ 26.8357 │  2.25213 │      0.0 │     0.0 │\n",
      "│ 2020-01-01T06:00:00 │  3.01228 │ 26.9638 │  2.21209 │      0.0 │     0.0 │\n",
      "│ 2020-01-02T00:00:00 │  2.58593 │ 29.6324 │  2.22177 │      0.0 │     0.0 │\n",
      "│ 2020-01-02T06:00:00 │  2.97617 │ 29.1827 │   2.2095 │      0.0 │     0.0 │\n",
      "│ 2020-01-03T00:00:00 │   2.9015 │ 27.7621 │  2.24445 │      0.0 │     0.0 │\n",
      "│ 2020-01-03T06:00:00 │  2.87429 │ 28.5366 │  2.20218 │      0.0 │     0.0 │\n",
      "│ 2020-01-04T00:00:00 │  3.08111 │ 26.6235 │  2.25736 │      0.0 │     0.0 │\n",
      "│ 2020-01-04T06:00:00 │  3.04934 │ 27.1932 │  2.21476 │      0.0 │     0.0 │\n",
      "│ 2020-01-05T00:00:00 │  2.74071 │ 24.9727 │   2.2329 │      0.0 │     0.0 │\n",
      "│ 2020-01-05T06:00:00 │    2.887 │ 29.4306 │  2.20309 │      0.0 │     0.0 │\n",
      "│ 2020-01-06T00:00:00 │  2.91502 │ 26.1711 │  2.24542 │      0.0 │     0.0 │\n",
      "│ 2020-01-06T06:00:00 │   2.9644 │ 26.1138 │  2.20865 │      0.0 │     0.0 │\n",
      "│ 2020-01-07T00:00:00 │  2.80123 │ 24.8258 │  2.23725 │      0.0 │     0.0 │\n",
      "│ 2020-01-07T06:00:00 │  2.80739 │ 27.7519 │  2.19737 │      0.0 │     0.0 │\n",
      "│ 2020-01-08T00:00:00 │  2.66351 │ 24.8356 │  2.22735 │      0.0 │     0.0 │\n",
      "│ 2020-01-08T06:00:00 │  2.69868 │ 29.6975 │  2.18956 │      0.0 │     0.0 │\n",
      "│ 2020-01-09T00:00:00 │  2.58487 │ 26.7347 │   2.2217 │      0.0 │     0.0 │\n",
      "│ 2020-01-09T06:00:00 │  2.69218 │ 28.9731 │  2.18909 │      0.0 │     0.0 │\n",
      "│ 2020-01-10T00:00:00 │  3.05105 │ 29.1058 │   2.2552 │      0.0 │     0.0 │\n",
      "│ 2020-01-10T06:00:00 │   2.7201 │ 27.9892 │   2.1911 │      0.0 │     0.0 │\n",
      "│ 2020-01-11T00:00:00 │  2.68014 │ 24.7977 │  2.22854 │      0.0 │     0.0 │\n",
      "│ 2020-01-11T06:00:00 │  2.85866 │ 28.3043 │  2.20106 │      0.0 │     0.0 │\n",
      "│ 2020-01-12T00:00:00 │  3.01214 │ 28.1095 │   2.2524 │      0.0 │     0.0 │\n",
      "│ 2020-01-12T06:00:00 │  2.87886 │ 24.5542 │  2.20251 │      0.0 │     0.0 │\n",
      "│ 2020-01-13T00:00:00 │  2.73581 │ 24.4607 │  2.23254 │      0.0 │     0.0 │\n",
      "│ 2020-01-13T06:00:00 │  3.05824 │ 25.2309 │   2.2154 │      0.0 │     0.0 │\n",
      "│ 2020-01-14T00:00:00 │  2.98877 │ 25.7052 │  2.25072 │      0.0 │     0.0 │\n",
      "└─────────────────────┴──────────┴─────────┴──────────┴──────────┴─────────┘\n",
      "\n",
      "\n",
      "Total Mass Flows Out:\n",
      "┌─────────────────────┬────────────┬─────────┬──────────┬──────────┬─────────┐\n",
      "│           timestamp │   Ethylene │  Ethane │ Hydrogen │ Nitrogen │   Argon │\n",
      "│      Dates.DateTime │    Float64 │ Float64 │  Float64 │  Float64 │ Float64 │\n",
      "├─────────────────────┼────────────┼─────────┼──────────┼──────────┼─────────┤\n",
      "│ 2020-01-01T00:00:00 │        0.0 │ 30.0603 │  2.03596 │      0.0 │     0.0 │\n",
      "│ 2020-01-01T06:00:00 │        0.0 │ 30.1925 │  1.99564 │      0.0 │     0.0 │\n",
      "│ 2020-01-02T00:00:00 │        0.0 │ 32.4041 │  2.03596 │      0.0 │     0.0 │\n",
      "│ 2020-01-02T06:00:00 │        0.0 │ 32.3727 │  1.99564 │      0.0 │     0.0 │\n",
      "│ 2020-01-03T00:00:00 │        0.0 │ 30.8721 │  2.03596 │      0.0 │     0.0 │\n",
      "│ 2020-01-03T06:00:00 │        0.0 │ 31.6174 │  1.99564 │      0.0 │     0.0 │\n",
      "│ 2020-01-04T00:00:00 │        0.0 │  29.926 │  2.03596 │      0.0 │     0.0 │\n",
      "│ 2020-01-04T06:00:00 │        0.0 │ 30.4616 │  1.99564 │      0.0 │     0.0 │\n",
      "│ 2020-01-05T00:00:00 │   0.028053 │ 27.8803 │  2.03797 │      0.0 │     0.0 │\n",
      "│ 2020-01-05T06:00:00 │        0.0 │  32.525 │  1.99564 │      0.0 │     0.0 │\n",
      "│ 2020-01-06T00:00:00 │        0.0 │ 29.2956 │  2.03596 │      0.0 │     0.0 │\n",
      "│ 2020-01-06T06:00:00 │        0.0 │ 29.2912 │  1.99564 │      0.0 │     0.0 │\n",
      "│ 2020-01-07T00:00:00 │   0.056106 │ 27.7682 │  2.03999 │      0.0 │     0.0 │\n",
      "│ 2020-01-07T06:00:00 │ 0.00028053 │ 30.7608 │  1.99566 │      0.0 │     0.0 │\n",
      "│ 2020-01-08T00:00:00 │        0.0 │ 27.6905 │  2.03596 │      0.0 │     0.0 │\n",
      "│ 2020-01-08T06:00:00 │        0.0 │ 32.5901 │  1.99564 │      0.0 │     0.0 │\n",
      "│ 2020-01-09T00:00:00 │        0.0 │ 29.5053 │  2.03596 │      0.0 │     0.0 │\n",
      "│ 2020-01-09T06:00:00 │ 0.00084159 │ 31.8578 │   1.9957 │      0.0 │     0.0 │\n",
      "│ 2020-01-10T00:00:00 │        0.0 │ 32.3761 │  2.03596 │      0.0 │     0.0 │\n",
      "│ 2020-01-10T06:00:00 │        0.0 │ 30.9048 │  1.99564 │      0.0 │     0.0 │\n",
      "│ 2020-01-11T00:00:00 │        0.0 │ 27.6705 │  2.03596 │      0.0 │     0.0 │\n",
      "│ 2020-01-11T06:00:00 │        0.0 │ 31.3683 │  1.99564 │      0.0 │     0.0 │\n",
      "│ 2020-01-12T00:00:00 │        0.0 │ 31.3381 │  2.03596 │      0.0 │     0.0 │\n",
      "│ 2020-01-12T06:00:00 │        0.0 │   27.64 │  1.99564 │      0.0 │     0.0 │\n",
      "│ 2020-01-13T00:00:00 │        0.0 │ 27.3931 │  2.03596 │      0.0 │     0.0 │\n",
      "│ 2020-01-13T06:00:00 │        0.0 │ 28.5089 │  1.99564 │      0.0 │     0.0 │\n",
      "│ 2020-01-14T00:00:00 │        0.0 │ 28.9087 │  2.03596 │      0.0 │     0.0 │\n",
      "└─────────────────────┴────────────┴─────────┴──────────┴──────────┴─────────┘\n"
     ]
    }
   ],
   "cell_type": "code",
   "source": [
    "print(showdata(fs.boundaries[\"B2\"]))"
   ],
   "metadata": {},
   "execution_count": 94
  },
  {
   "cell_type": "markdown",
   "source": [
    "---\n",
    "\n",
    "*This notebook was generated using [Literate.jl](https://github.com/fredrikekre/Literate.jl).*"
   ],
   "metadata": {}
  }
 ],
 "nbformat_minor": 3,
 "metadata": {
  "language_info": {
   "file_extension": ".jl",
   "mimetype": "application/julia",
   "name": "julia",
   "version": "1.11.3"
  },
  "kernelspec": {
   "name": "julia-1.11",
   "display_name": "Julia 1.11.3",
   "language": "julia"
  }
 },
 "nbformat": 4
}
