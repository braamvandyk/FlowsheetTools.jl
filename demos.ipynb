{
 "cells": [
  {
   "cell_type": "markdown",
   "source": [
    "# FlowsheetTools.jl Demonstration\n",
    "FlowsheetTools.jl is a library for dealing with flowsheets (components, streams, unit operations, mass balance boundaries, and flowsheets).\n",
    "It can be used as a platform for running custom models, for example when fitting kinetic parameters to pilot plant data, where the operating unit is more complicated than a single reactor. The primary intended purpose however, was for process analytics - generating KPIs on a flowsheet and reconciling mass balances for generic flowsheets."
   ],
   "metadata": {}
  },
  {
   "cell_type": "markdown",
   "source": [
    "For more convenient analysis of flowsheets with missing measurements, a few utility unit operations are provided: a mixer, a flow splitter, a component splitter (to emulate a separation process with split factors) and a stoichiometric reactor block with specified conversions. Custom unit operations can also be defined, by simply providing a function that calculates the outlet streams from the inlets and an optional list of parameters."
   ],
   "metadata": {}
  },
  {
   "cell_type": "markdown",
   "source": [
    "The intention was not to build a full-on process simulator, but the custom reactor blocks etc can be easily added, when needed."
   ],
   "metadata": {}
  },
  {
   "cell_type": "markdown",
   "source": [
    "Let's have a look at how to use the library."
   ],
   "metadata": {}
  },
  {
   "outputs": [],
   "cell_type": "code",
   "source": [
    "using FlowsheetTools, Statistics"
   ],
   "metadata": {},
   "execution_count": 1
  },
  {
   "cell_type": "markdown",
   "source": [
    "## Components\n",
    "The most basic building block we need is a set of components. A component in FlowsheetTools.jl is a fairly simple object. It has a name, so we can refer to it, and contains the list of atoms and the number of each that make up the component. The molar mass of the component is automatically calculated and also stored."
   ],
   "metadata": {}
  },
  {
   "cell_type": "markdown",
   "source": [
    "We store all the components in a ComponentList, so we have a container to find them in, when needed. This makes things a lot easier than trying to keep track of a host of \"loose\" component variables. While nothing stops you from defining multiple ComponentLists, having more than one is not best practise.\n",
    "In fact, to keep things consistent, the containers for streams (a `StreamList`) will insist that all streams contained in it refer to a single `ComponentList`, so it is much better to stick to one `ComponentList` at a time."
   ],
   "metadata": {}
  },
  {
   "cell_type": "markdown",
   "source": [
    "Let's start by creating our `ComponentList` to hold all of the components we have present in our flowsheet."
   ],
   "metadata": {}
  },
  {
   "outputs": [
    {
     "output_type": "execute_result",
     "data": {
      "text/plain": "Component list:\n"
     },
     "metadata": {},
     "execution_count": 2
    }
   ],
   "cell_type": "code",
   "source": [
    "syscomps = ComponentList()"
   ],
   "metadata": {},
   "execution_count": 2
  },
  {
   "cell_type": "markdown",
   "source": [
    "`ComponentList` is a wrapper around a Dict{String, Component} and can be in the same way as such a `Dict`, using the component names to index. Now that we have a container to put them into, we can add some components."
   ],
   "metadata": {}
  },
  {
   "cell_type": "markdown",
   "source": [
    "Since it is likely that we shall re-use components, they can be stored in files, so we don't need to define them every time. Let's read in some components created earlier and stored in the sub-folder `components` under the active folder:"
   ],
   "metadata": {}
  },
  {
   "outputs": [
    {
     "output_type": "execute_result",
     "data": {
      "text/plain": "3"
     },
     "metadata": {},
     "execution_count": 3
    }
   ],
   "cell_type": "code",
   "source": [
    "count = readcomponentlist!(syscomps, \"components\", [\"Ethylene\", \"Ethane\", \"Hydrogen\"])"
   ],
   "metadata": {},
   "execution_count": 3
  },
  {
   "cell_type": "markdown",
   "source": [
    "The function `readcomponents` returns the number of components read in - 3 in this case. We specified the names of the components to read in from the folder. There can be any number of files stored there. We also supplied the empty component list (`syscomps`) as the first argument. This container is modified in-place."
   ],
   "metadata": {}
  },
  {
   "outputs": [
    {
     "output_type": "execute_result",
     "data": {
      "text/plain": "Component list:\n  Ethylene\n  Ethane\n  Hydrogen\n"
     },
     "metadata": {},
     "execution_count": 4
    }
   ],
   "cell_type": "code",
   "source": [
    "syscomps"
   ],
   "metadata": {},
   "execution_count": 4
  },
  {
   "cell_type": "markdown",
   "source": [
    "To access a component in the component list, we index using the name of the component."
   ],
   "metadata": {}
  },
  {
   "outputs": [
    {
     "output_type": "execute_result",
     "data": {
      "text/plain": "Component: Ethylene\n\n  Atom\t\tCount\n---------------------\n   C \t\t   2\n   H \t\t   4\n"
     },
     "metadata": {},
     "execution_count": 5
    }
   ],
   "cell_type": "code",
   "source": [
    "syscomps[\"Ethylene\"]"
   ],
   "metadata": {},
   "execution_count": 5
  },
  {
   "cell_type": "markdown",
   "source": [
    "If we need to define new components, ther are two ways to go about this."
   ],
   "metadata": {}
  },
  {
   "cell_type": "markdown",
   "source": [
    "The first is by using the @comp macro. It takes a list of atoms and a number of each, separated by a -->. We also suply a name for the component, which is stored in the `ComponentList`, and the `ComponentList` to which to add it."
   ],
   "metadata": {}
  },
  {
   "outputs": [
    {
     "output_type": "execute_result",
     "data": {
      "text/plain": "Component: Nitrogen\n\n  Atom\t\tCount\n---------------------\n   N \t\t   2\n"
     },
     "metadata": {},
     "execution_count": 6
    }
   ],
   "cell_type": "code",
   "source": [
    "@comp begin\n",
    "    N --> 2\n",
    "end \"Nitrogen\" syscomps"
   ],
   "metadata": {},
   "execution_count": 6
  },
  {
   "cell_type": "markdown",
   "source": [
    "The second way is to create the components by calling the constructor directly. This is most useful when creating lists of components, such a homologous series. For example, we could create the n-paraffins from C1 to C10 as follows:"
   ],
   "metadata": {}
  },
  {
   "outputs": [
    {
     "output_type": "execute_result",
     "data": {
      "text/plain": "Component list:\n  CH4\n  C2H6\n  C3H8\n  C4H10\n  C5H12\n  C6H14\n  C7H16\n  C8H18\n  C9H20\n  C10H22\n"
     },
     "metadata": {},
     "execution_count": 7
    }
   ],
   "cell_type": "code",
   "source": [
    "cl = ComponentList()\n",
    "for n in 1:10\n",
    "    if n == 1\n",
    "        name = \"CH4\"\n",
    "    else\n",
    "        name = \"C$(n)H$(2n+2)\"\n",
    "    end\n",
    "    cl[name] = Component(name, [\"C\", \"H\"], [n, 2n+2])\n",
    "end\n",
    "cl"
   ],
   "metadata": {},
   "execution_count": 7
  },
  {
   "outputs": [
    {
     "output_type": "execute_result",
     "data": {
      "text/plain": "Component: C10H22\n\n  Atom\t\tCount\n---------------------\n   C \t\t  10\n   H \t\t  22\n"
     },
     "metadata": {},
     "execution_count": 8
    }
   ],
   "cell_type": "code",
   "source": [
    "cl[\"C10H22\"]"
   ],
   "metadata": {},
   "execution_count": 8
  },
  {
   "cell_type": "markdown",
   "source": [
    "We can save the components to file to re-use later. `writecomponents` takes the path to write to, and the specific component to write. It returns the number of bytes written."
   ],
   "metadata": {}
  },
  {
   "outputs": [
    {
     "output_type": "execute_result",
     "data": {
      "text/plain": "22"
     },
     "metadata": {},
     "execution_count": 9
    }
   ],
   "cell_type": "code",
   "source": [
    "writecomponent(joinpath(\"components/\", \"Nitrogen.comp\"), syscomps[\"Nitrogen\"])"
   ],
   "metadata": {},
   "execution_count": 9
  },
  {
   "cell_type": "markdown",
   "source": [
    "## Streams"
   ],
   "metadata": {}
  },
  {
   "cell_type": "markdown",
   "source": [
    "Now that we have components (and a handy container to store them in), we can create streams for our process. Each stream contains a list of components and their flowrates. You can specify either the mass or moalr flows when creating the stream and the other will be automatically calculated. The constructor will also calculate the flowrates for each type of atom in the stream."
   ],
   "metadata": {}
  },
  {
   "cell_type": "markdown",
   "source": [
    "There are of course two ways in which we would use streams. Either with a single, current value for the flowrate and composition, or with a set of historical values of these. The former is useful for simulations, while the latter is useful for analysis. In either case, the flows are stored in `TimeArrays` from `TimeSeries.jl`. In cases where we only have a single flowrate, this is a simply `TimeArray` of length 1, with an arbitrary (zero) timestamp asigned to the value."
   ],
   "metadata": {}
  },
  {
   "cell_type": "markdown",
   "source": [
    "As was the case with components, we need a container (a stream list) to hold the streams so we have something to iterate through later. Just like `ComponentList`, `StreamList` is a wrapper around a `Dict{String, Stream}`."
   ],
   "metadata": {}
  },
  {
   "outputs": [
    {
     "output_type": "execute_result",
     "data": {
      "text/plain": "Stream list:\n\nStreams:\n\tEmpty list\n"
     },
     "metadata": {},
     "execution_count": 10
    }
   ],
   "cell_type": "code",
   "source": [
    "sysstreams = StreamList()"
   ],
   "metadata": {},
   "execution_count": 10
  },
  {
   "cell_type": "markdown",
   "source": [
    "We can create the streams directly with instantaneous flows. This can be in either mass or molar flows. While we could call the constructor directly, using the `@stream` macro is more convenient."
   ],
   "metadata": {}
  },
  {
   "cell_type": "markdown",
   "source": [
    "The first parameter indicates whether the flows are mass or molar flows. Similarly to what we did for components with `@comp`, we then provide a list of components and their flowrates, separated with a -->. We also supply a name for the stream, against which it is stored in the `StreamList`, the component list in which the components are defined, and lastly the `StreamList` to which to add the new stream."
   ],
   "metadata": {}
  },
  {
   "cell_type": "markdown",
   "source": [
    "The units are not specified - if you assume the mass flows are in kg/h, then the molar equivalent is kmol/hr, but this could as easily be lb/week and lbmole/week."
   ],
   "metadata": {}
  },
  {
   "cell_type": "markdown",
   "source": [
    "Here we specify two stream, of identical composition and flows, but by specifying mass flows for the first and molar flows for the second."
   ],
   "metadata": {}
  },
  {
   "outputs": [
    {
     "output_type": "execute_result",
     "data": {
      "text/plain": "Stream: Product\n\n┌─────────────┬──────────┬─────────┬──────────┬──────────┐\n│\u001b[1m             \u001b[0m│\u001b[1m Ethylene \u001b[0m│\u001b[1m  Ethane \u001b[0m│\u001b[1m Hydrogen \u001b[0m│\u001b[1m Nitrogen \u001b[0m│\n├─────────────┼──────────┼─────────┼──────────┼──────────┤\n│ Mass flows  │   2.8053 │ 27.0619 │  2.21738 │      0.0 │\n│ Molar flows │      0.1 │     0.9 │      1.1 │      0.0 │\n└─────────────┴──────────┴─────────┴──────────┴──────────┘\n\nTotal mass flow: 32.085\n\n┌──────┬────────────┐\n│\u001b[1m Atom \u001b[0m│\u001b[1m Molar flow \u001b[0m│\n├──────┼────────────┤\n│    C │        2.0 │\n│    N │        0.0 │\n│    H │        8.0 │\n└──────┴────────────┘\n"
     },
     "metadata": {},
     "execution_count": 11
    }
   ],
   "cell_type": "code",
   "source": [
    "@stream mass begin\n",
    "    \"Ethylene\" --> 2.8053\n",
    "    \"Ethane\" --> 27.06192\n",
    "    \"Hydrogen\" --> 2.21738\n",
    "end \"Test\" syscomps sysstreams\n",
    "\n",
    "@stream mole begin\n",
    "    \"Ethane\" --> 0.9\n",
    "    \"Hydrogen\" --> 1.1\n",
    "    \"Ethylene\" --> 0.1\n",
    "end \"Product\" syscomps sysstreams"
   ],
   "metadata": {},
   "execution_count": 11
  },
  {
   "cell_type": "markdown",
   "source": [
    "One stream here was specified as mass flows, the other as molar flows, but there streams are the same and the missing flows (mass/mole) are calculated automatically in the constructor."
   ],
   "metadata": {}
  },
  {
   "cell_type": "markdown",
   "source": [
    "We can quickly check if the molar flows are identical:"
   ],
   "metadata": {}
  },
  {
   "outputs": [
    {
     "output_type": "execute_result",
     "data": {
      "text/plain": "1×4 TimeSeries.TimeArray{Bool, 2, Dates.DateTime, BitMatrix} 0000-01-01T00:00:00 to 0000-01-01T00:00:00\n┌─────────────────────┬───────────────────┬───────────────┬─────────────────────\n│\u001b[1m                     \u001b[0m│\u001b[1m Ethylene_Ethylene \u001b[0m│\u001b[1m Ethane_Ethane \u001b[0m│\u001b[1m Hydrogen_Hydrogen \u001b[0m ⋯\n├─────────────────────┼───────────────────┼───────────────┼─────────────────────\n│ 0000-01-01T00:00:00 │              true │          true │              true  ⋯\n└─────────────────────┴───────────────────┴───────────────┴─────────────────────\n\u001b[36m                                                                1 column omitted\u001b[0m"
     },
     "metadata": {},
     "execution_count": 12
    }
   ],
   "cell_type": "code",
   "source": [
    "sysstreams[\"Test\"].moleflows .≈ sysstreams[\"Product\"].moleflows"
   ],
   "metadata": {},
   "execution_count": 12
  },
  {
   "cell_type": "markdown",
   "source": [
    "Or, more conveniently, directly with the `≈` or `==` operators.\n",
    "Keep in mind that using `==` for floating point values is likely to give `false` when you would expect `true`, so it is recommende to rather use `≈` (`\\approx<tab>`)"
   ],
   "metadata": {}
  },
  {
   "outputs": [
    {
     "output_type": "execute_result",
     "data": {
      "text/plain": "true"
     },
     "metadata": {},
     "execution_count": 13
    }
   ],
   "cell_type": "code",
   "source": [
    "sysstreams[\"Test\"] ≈ sysstreams[\"Product\"]"
   ],
   "metadata": {},
   "execution_count": 13
  },
  {
   "outputs": [
    {
     "output_type": "execute_result",
     "data": {
      "text/plain": "false"
     },
     "metadata": {},
     "execution_count": 14
    }
   ],
   "cell_type": "code",
   "source": [
    "sysstreams[\"Test\"] == sysstreams[\"Product\"]"
   ],
   "metadata": {},
   "execution_count": 14
  },
  {
   "cell_type": "markdown",
   "source": [
    "And, for the skeptical members of the audience, we can also check the atomic flows:"
   ],
   "metadata": {}
  },
  {
   "outputs": [
    {
     "output_type": "execute_result",
     "data": {
      "text/plain": "true"
     },
     "metadata": {},
     "execution_count": 15
    }
   ],
   "cell_type": "code",
   "source": [
    "all(getindex.(values(sysstreams[\"Test\"].atomflows), \"C\") .== getindex.(values(sysstreams[\"Product\"].atomflows), \"C\"))"
   ],
   "metadata": {},
   "execution_count": 15
  },
  {
   "outputs": [
    {
     "output_type": "execute_result",
     "data": {
      "text/plain": "true"
     },
     "metadata": {},
     "execution_count": 16
    }
   ],
   "cell_type": "code",
   "source": [
    "all(getindex.(values(sysstreams[\"Test\"].atomflows), \"H\") .== getindex.(values(sysstreams[\"Product\"].atomflows), \"H\"))"
   ],
   "metadata": {},
   "execution_count": 16
  },
  {
   "cell_type": "markdown",
   "source": [
    "These comparisons also showed that we can access the flows using the `massflows`, `molarflows` and `atomflows` properties."
   ],
   "metadata": {}
  },
  {
   "outputs": [
    {
     "output_type": "execute_result",
     "data": {
      "text/plain": "1×4 TimeSeries.TimeArray{Float64, 2, Dates.DateTime, Matrix{Float64}} 0000-01-01T00:00:00 to 0000-01-01T00:00:00\n┌─────────────────────┬──────────┬─────────┬──────────┬──────────┐\n│\u001b[1m                     \u001b[0m│\u001b[1m Ethylene \u001b[0m│\u001b[1m Ethane  \u001b[0m│\u001b[1m Hydrogen \u001b[0m│\u001b[1m Nitrogen \u001b[0m│\n├─────────────────────┼──────────┼─────────┼──────────┼──────────┤\n│ 0000-01-01T00:00:00 │   2.8053 │ 27.0619 │  2.21738 │      0.0 │\n└─────────────────────┴──────────┴─────────┴──────────┴──────────┘"
     },
     "metadata": {},
     "execution_count": 17
    }
   ],
   "cell_type": "code",
   "source": [
    "sysstreams[\"Product\"].massflows"
   ],
   "metadata": {},
   "execution_count": 17
  },
  {
   "outputs": [
    {
     "output_type": "execute_result",
     "data": {
      "text/plain": "1×4 TimeSeries.TimeArray{Float64, 2, Dates.DateTime, Matrix{Float64}} 0000-01-01T00:00:00 to 0000-01-01T00:00:00\n┌─────────────────────┬──────────┬────────┬──────────┬──────────┐\n│\u001b[1m                     \u001b[0m│\u001b[1m Ethylene \u001b[0m│\u001b[1m Ethane \u001b[0m│\u001b[1m Hydrogen \u001b[0m│\u001b[1m Nitrogen \u001b[0m│\n├─────────────────────┼──────────┼────────┼──────────┼──────────┤\n│ 0000-01-01T00:00:00 │      0.1 │    0.9 │      1.1 │      0.0 │\n└─────────────────────┴──────────┴────────┴──────────┴──────────┘"
     },
     "metadata": {},
     "execution_count": 18
    }
   ],
   "cell_type": "code",
   "source": [
    "sysstreams[\"Product\"].moleflows"
   ],
   "metadata": {},
   "execution_count": 18
  },
  {
   "outputs": [
    {
     "output_type": "execute_result",
     "data": {
      "text/plain": "1×1 TimeSeries.TimeArray{Dict{String, Float64}, 1, Dates.DateTime, Vector{Dict{String, Float64}}} 0000-01-01T00:00:00 to 0000-01-01T00:00:00\n┌─────────────────────┬────────────────────────────────────┐\n│\u001b[1m                     \u001b[0m│\u001b[1m atomflows                          \u001b[0m│\n├─────────────────────┼────────────────────────────────────┤\n│ 0000-01-01T00:00:00 │ Dict(\"C\"=>2.0, \"N\"=>0.0, \"H\"=>8.0) │\n└─────────────────────┴────────────────────────────────────┘"
     },
     "metadata": {},
     "execution_count": 19
    }
   ],
   "cell_type": "code",
   "source": [
    "sysstreams[\"Product\"].atomflows"
   ],
   "metadata": {},
   "execution_count": 19
  },
  {
   "cell_type": "markdown",
   "source": [
    "When we want to deal with streams with multiple historic data points, to analyse plant data, we can use the `readstreamhistory` function, to read the stream from a file."
   ],
   "metadata": {}
  },
  {
   "cell_type": "markdown",
   "source": [
    "First, let's start with a new, empty stream list, to get rid of the streams we have created earlier:"
   ],
   "metadata": {}
  },
  {
   "outputs": [
    {
     "output_type": "execute_result",
     "data": {
      "text/plain": "Stream list:\n\nStreams:\n\tEmpty list\n"
     },
     "metadata": {},
     "execution_count": 20
    }
   ],
   "cell_type": "code",
   "source": [
    "sysstreams = StreamList()"
   ],
   "metadata": {},
   "execution_count": 20
  },
  {
   "cell_type": "markdown",
   "source": [
    "Then we in read the streams. We need to specify the folderpath to the CSV files, the name of the stream, the component list in which the components are defined and the stream list to which to add the new stream. We also specify whether the flows in the CSV files are mass or molar flows. `ismoleflow` has a default value of false, so need not be specified for mass flows."
   ],
   "metadata": {}
  },
  {
   "outputs": [
    {
     "output_type": "execute_result",
     "data": {
      "text/plain": "Stream: Product\n\nMass flows:\n┌─────────────────────┬──────────┬─────────┬──────────┬──────────┐\n│\u001b[1m           timestamp \u001b[0m│\u001b[1m Ethylene \u001b[0m│\u001b[1m  Ethane \u001b[0m│\u001b[1m Hydrogen \u001b[0m│\u001b[1m Nitrogen \u001b[0m│\n│\u001b[90m      Dates.DateTime \u001b[0m│\u001b[90m  Float64 \u001b[0m│\u001b[90m Float64 \u001b[0m│\u001b[90m  Float64 \u001b[0m│\u001b[90m  Float64 \u001b[0m│\n├─────────────────────┼──────────┼─────────┼──────────┼──────────┤\n│ 2020-01-01T00:00:00 │  2.66076 │ 84.9202 │ 0.215866 │      0.0 │\n│ 2020-01-01T06:00:00 │  2.99313 │ 93.3901 │ 0.194023 │      0.0 │\n│ 2020-01-02T00:00:00 │  2.86944 │ 88.1101 │ 0.186885 │      0.0 │\n│ 2020-01-02T06:00:00 │  2.98391 │ 88.3229 │  0.20051 │      0.0 │\n│ 2020-01-03T00:00:00 │  3.01277 │ 92.5947 │ 0.217602 │      0.0 │\n│          ⋮          │    ⋮     │    ⋮    │    ⋮     │    ⋮     │\n└─────────────────────┴──────────┴─────────┴──────────┴──────────┘\n\u001b[36m                                                   22 rows omitted\u001b[0m\n\nMolar flows:\n┌─────────────────────┬───────────┬─────────┬───────────┬──────────┐\n│\u001b[1m           timestamp \u001b[0m│\u001b[1m  Ethylene \u001b[0m│\u001b[1m  Ethane \u001b[0m│\u001b[1m  Hydrogen \u001b[0m│\u001b[1m Nitrogen \u001b[0m│\n│\u001b[90m      Dates.DateTime \u001b[0m│\u001b[90m   Float64 \u001b[0m│\u001b[90m Float64 \u001b[0m│\u001b[90m   Float64 \u001b[0m│\u001b[90m  Float64 \u001b[0m│\n├─────────────────────┼───────────┼─────────┼───────────┼──────────┤\n│ 2020-01-01T00:00:00 │ 0.0948475 │  2.8242 │  0.107087 │      0.0 │\n│ 2020-01-01T06:00:00 │  0.106695 │ 3.10588 │ 0.0962513 │      0.0 │\n│ 2020-01-02T00:00:00 │  0.102286 │ 2.93028 │ 0.0927099 │      0.0 │\n│ 2020-01-02T06:00:00 │  0.106367 │ 2.93736 │ 0.0994692 │      0.0 │\n│ 2020-01-03T00:00:00 │  0.107396 │ 3.07943 │  0.107948 │      0.0 │\n│          ⋮          │     ⋮     │    ⋮    │     ⋮     │    ⋮     │\n└─────────────────────┴───────────┴─────────┴───────────┴──────────┘\n\u001b[36m                                                     22 rows omitted\u001b[0m\n\n\nAtom Flows:\n┌─────────────────────┬────────────────────────────────────────────┐\n│\u001b[1m           timestamp \u001b[0m│\u001b[1m                                  atomflows \u001b[0m│\n│\u001b[90m      Dates.DateTime \u001b[0m│\u001b[90m                      Dict{String, Float64} \u001b[0m│\n├─────────────────────┼────────────────────────────────────────────┤\n│ 2020-01-01T00:00:00 │ Dict(\"C\"=>5.83809, \"N\"=>0.0, \"H\"=>17.5387) │\n│ 2020-01-01T06:00:00 │ Dict(\"C\"=>6.42515, \"N\"=>0.0, \"H\"=>19.2546) │\n│ 2020-01-02T00:00:00 │ Dict(\"C\"=>6.06514, \"N\"=>0.0, \"H\"=>18.1763) │\n│ 2020-01-02T06:00:00 │ Dict(\"C\"=>6.08745, \"N\"=>0.0, \"H\"=>18.2486) │\n│ 2020-01-03T00:00:00 │  Dict(\"C\"=>6.37365, \"N\"=>0.0, \"H\"=>19.122) │\n│          ⋮          │                     ⋮                      │\n└─────────────────────┴────────────────────────────────────────────┘\n\u001b[36m                                                     22 rows omitted\u001b[0m\n\nData length:\t27\nData starts:\t2020-01-01T00:00:00\nData ends:\t2020-01-14T00:00:00\n"
     },
     "metadata": {},
     "execution_count": 21
    }
   ],
   "cell_type": "code",
   "source": [
    "sysstreams[\"Feed\"] = readstreamhistory(joinpath(\"streamhistories\", \"FeedStream.csv\"), \"Feed\", syscomps; ismoleflow=true)\n",
    "sysstreams[\"Product\"] = readstreamhistory(joinpath(\"streamhistories\", \"ProdStream.csv\"), \"Product\", syscomps; ismoleflow=true)"
   ],
   "metadata": {},
   "execution_count": 21
  },
  {
   "cell_type": "markdown",
   "source": [
    "In the data files (*.csv), we had columns of data for ethylene, ethane and hydrogen, but or list of components also include nitrogen.\n",
    "We automatically set zero flows for amy components not in the file, so all the streams contain all of the components (for our sanity)."
   ],
   "metadata": {}
  },
  {
   "cell_type": "markdown",
   "source": [
    "In the data files (*.csv), we had columns of data for ethylene, ethane and hydrogen, but our list of components also include nitrogen. We automatically set zero flows for amy components not in the file, so all the streams contain all of the components (for our sanity)."
   ],
   "metadata": {}
  },
  {
   "cell_type": "markdown",
   "source": [
    "We can still add components to the component list after the streams were created. If we do, then we should also call `refreshcomplist(streamlist)` to add zero flows for all of these new components to the existing streams in the stream list."
   ],
   "metadata": {}
  },
  {
   "outputs": [
    {
     "output_type": "execute_result",
     "data": {
      "text/plain": "Stream: Feed\n\nMass flows:\n┌─────────────────────┬──────────┬─────────┬──────────┬──────────┬─────────┐\n│\u001b[1m           timestamp \u001b[0m│\u001b[1m Ethylene \u001b[0m│\u001b[1m  Ethane \u001b[0m│\u001b[1m Hydrogen \u001b[0m│\u001b[1m Nitrogen \u001b[0m│\u001b[1m   Argon \u001b[0m│\n│\u001b[90m      Dates.DateTime \u001b[0m│\u001b[90m  Float64 \u001b[0m│\u001b[90m Float64 \u001b[0m│\u001b[90m  Float64 \u001b[0m│\u001b[90m  Float64 \u001b[0m│\u001b[90m Float64 \u001b[0m│\n├─────────────────────┼──────────┼─────────┼──────────┼──────────┼─────────┤\n│ 2020-01-01T00:00:00 │  59.1012 │ 30.1711 │  3.99575 │      0.0 │     0.0 │\n│ 2020-01-01T06:00:00 │  59.7961 │ 30.4876 │  4.15398 │      0.0 │     0.0 │\n│ 2020-01-02T00:00:00 │  61.2996 │ 27.0851 │  4.21259 │      0.0 │     0.0 │\n│ 2020-01-02T06:00:00 │  59.5127 │ 29.9669 │  3.93049 │      0.0 │     0.0 │\n│ 2020-01-03T00:00:00 │  52.4608 │ 27.3167 │  4.30034 │      0.0 │     0.0 │\n│          ⋮          │    ⋮     │    ⋮    │    ⋮     │    ⋮     │    ⋮    │\n└─────────────────────┴──────────┴─────────┴──────────┴──────────┴─────────┘\n\u001b[36m                                                             22 rows omitted\u001b[0m\n\nMolar flows:\n┌─────────────────────┬──────────┬──────────┬──────────┬──────────┬─────────┐\n│\u001b[1m           timestamp \u001b[0m│\u001b[1m Ethylene \u001b[0m│\u001b[1m   Ethane \u001b[0m│\u001b[1m Hydrogen \u001b[0m│\u001b[1m Nitrogen \u001b[0m│\u001b[1m   Argon \u001b[0m│\n│\u001b[90m      Dates.DateTime \u001b[0m│\u001b[90m  Float64 \u001b[0m│\u001b[90m  Float64 \u001b[0m│\u001b[90m  Float64 \u001b[0m│\u001b[90m  Float64 \u001b[0m│\u001b[90m Float64 \u001b[0m│\n├─────────────────────┼──────────┼──────────┼──────────┼──────────┼─────────┤\n│ 2020-01-01T00:00:00 │  2.10677 │   1.0034 │  1.98222 │      0.0 │     0.0 │\n│ 2020-01-01T06:00:00 │  2.13154 │  1.01393 │  2.06071 │      0.0 │     0.0 │\n│ 2020-01-02T00:00:00 │  2.18514 │ 0.900772 │  2.08978 │      0.0 │     0.0 │\n│ 2020-01-02T06:00:00 │  2.12144 │ 0.996612 │  1.94984 │      0.0 │     0.0 │\n│ 2020-01-03T00:00:00 │  1.87006 │ 0.908472 │  2.13332 │      0.0 │     0.0 │\n│          ⋮          │    ⋮     │    ⋮     │    ⋮     │    ⋮     │    ⋮    │\n└─────────────────────┴──────────┴──────────┴──────────┴──────────┴─────────┘\n\u001b[36m                                                              22 rows omitted\u001b[0m\n\n\nAtom Flows:\n┌─────────────────────┬───────────────────────────────────────────────────────┐\n│\u001b[1m           timestamp \u001b[0m│\u001b[1m                                             atomflows \u001b[0m│\n│\u001b[90m      Dates.DateTime \u001b[0m│\u001b[90m                                 Dict{String, Float64} \u001b[0m│\n├─────────────────────┼───────────────────────────────────────────────────────┤\n│ 2020-01-01T00:00:00 │ Dict(\"C\"=>6.22034, \"N\"=>0.0, \"Ar\"=>0.0, \"H\"=>18.4119) │\n│ 2020-01-01T06:00:00 │ Dict(\"C\"=>6.29094, \"N\"=>0.0, \"Ar\"=>0.0, \"H\"=>18.7312) │\n│ 2020-01-02T00:00:00 │ Dict(\"C\"=>6.17181, \"N\"=>0.0, \"Ar\"=>0.0, \"H\"=>18.3247) │\n│ 2020-01-02T06:00:00 │  Dict(\"C\"=>6.2361, \"N\"=>0.0, \"Ar\"=>0.0, \"H\"=>18.3651) │\n│ 2020-01-03T00:00:00 │ Dict(\"C\"=>5.55706, \"N\"=>0.0, \"Ar\"=>0.0, \"H\"=>17.1977) │\n│          ⋮          │                           ⋮                           │\n└─────────────────────┴───────────────────────────────────────────────────────┘\n\u001b[36m                                                                22 rows omitted\u001b[0m\n\nData length:\t27\nData starts:\t2020-01-01T00:00:00\nData ends:\t2020-01-14T00:00:00\n"
     },
     "metadata": {},
     "execution_count": 22
    }
   ],
   "cell_type": "code",
   "source": [
    "@comp begin\n",
    "    Ar --> 1\n",
    "end \"Argon\" syscomps\n",
    "\n",
    "refreshcomplist(sysstreams)\n",
    "\n",
    "sysstreams[\"Feed\"]"
   ],
   "metadata": {},
   "execution_count": 22
  },
  {
   "cell_type": "markdown",
   "source": [
    "## What can we do with streams?"
   ],
   "metadata": {}
  },
  {
   "cell_type": "markdown",
   "source": [
    "Operations defined on streams include adding streams together and multiplying a stream with a scalar value. Addition of streams is effectively a mixer unit.\n",
    "Multiplication is used to allow correction factors for mass balance reconciliation."
   ],
   "metadata": {}
  },
  {
   "outputs": [
    {
     "output_type": "execute_result",
     "data": {
      "text/plain": "Stream: Product\n\nMass flows:\n┌─────────────────────┬──────────┬─────────┬──────────┬──────────┬─────────┐\n│\u001b[1m           timestamp \u001b[0m│\u001b[1m Ethylene \u001b[0m│\u001b[1m  Ethane \u001b[0m│\u001b[1m Hydrogen \u001b[0m│\u001b[1m Nitrogen \u001b[0m│\u001b[1m   Argon \u001b[0m│\n│\u001b[90m      Dates.DateTime \u001b[0m│\u001b[90m  Float64 \u001b[0m│\u001b[90m Float64 \u001b[0m│\u001b[90m  Float64 \u001b[0m│\u001b[90m  Float64 \u001b[0m│\u001b[90m Float64 \u001b[0m│\n├─────────────────────┼──────────┼─────────┼──────────┼──────────┼─────────┤\n│ 2020-01-01T00:00:00 │  5.32151 │  169.84 │ 0.431731 │      0.0 │     0.0 │\n│ 2020-01-01T06:00:00 │  5.98625 │  186.78 │ 0.388047 │      0.0 │     0.0 │\n│ 2020-01-02T00:00:00 │  5.73888 │  176.22 │ 0.373769 │      0.0 │     0.0 │\n│ 2020-01-02T06:00:00 │  5.96781 │ 176.646 │  0.40102 │      0.0 │     0.0 │\n│ 2020-01-03T00:00:00 │  6.02554 │ 185.189 │ 0.435204 │      0.0 │     0.0 │\n│          ⋮          │    ⋮     │    ⋮    │    ⋮     │    ⋮     │    ⋮    │\n└─────────────────────┴──────────┴─────────┴──────────┴──────────┴─────────┘\n\u001b[36m                                                             22 rows omitted\u001b[0m\n\nMolar flows:\n┌─────────────────────┬──────────┬─────────┬──────────┬──────────┬─────────┐\n│\u001b[1m           timestamp \u001b[0m│\u001b[1m Ethylene \u001b[0m│\u001b[1m  Ethane \u001b[0m│\u001b[1m Hydrogen \u001b[0m│\u001b[1m Nitrogen \u001b[0m│\u001b[1m   Argon \u001b[0m│\n│\u001b[90m      Dates.DateTime \u001b[0m│\u001b[90m  Float64 \u001b[0m│\u001b[90m Float64 \u001b[0m│\u001b[90m  Float64 \u001b[0m│\u001b[90m  Float64 \u001b[0m│\u001b[90m Float64 \u001b[0m│\n├─────────────────────┼──────────┼─────────┼──────────┼──────────┼─────────┤\n│ 2020-01-01T00:00:00 │ 0.189695 │ 5.64839 │ 0.214174 │      0.0 │     0.0 │\n│ 2020-01-01T06:00:00 │ 0.213391 │ 6.21176 │ 0.192503 │      0.0 │     0.0 │\n│ 2020-01-02T00:00:00 │ 0.204573 │ 5.86056 │  0.18542 │      0.0 │     0.0 │\n│ 2020-01-02T06:00:00 │ 0.212734 │ 5.87472 │ 0.198938 │      0.0 │     0.0 │\n│ 2020-01-03T00:00:00 │ 0.214791 │ 6.15885 │ 0.215896 │      0.0 │     0.0 │\n│          ⋮          │    ⋮     │    ⋮    │    ⋮     │    ⋮     │    ⋮    │\n└─────────────────────┴──────────┴─────────┴──────────┴──────────┴─────────┘\n\u001b[36m                                                             22 rows omitted\u001b[0m\n\n\nAtom Flows:\n┌─────────────────────┬───────────────────────────────────────────────────────┐\n│\u001b[1m           timestamp \u001b[0m│\u001b[1m                                             atomflows \u001b[0m│\n│\u001b[90m      Dates.DateTime \u001b[0m│\u001b[90m                                 Dict{String, Float64} \u001b[0m│\n├─────────────────────┼───────────────────────────────────────────────────────┤\n│ 2020-01-01T00:00:00 │ Dict(\"C\"=>11.6762, \"N\"=>0.0, \"Ar\"=>0.0, \"H\"=>35.0775) │\n│ 2020-01-01T06:00:00 │ Dict(\"C\"=>12.8503, \"N\"=>0.0, \"Ar\"=>0.0, \"H\"=>38.5091) │\n│ 2020-01-02T00:00:00 │ Dict(\"C\"=>12.1303, \"N\"=>0.0, \"Ar\"=>0.0, \"H\"=>36.3525) │\n│ 2020-01-02T06:00:00 │ Dict(\"C\"=>12.1749, \"N\"=>0.0, \"Ar\"=>0.0, \"H\"=>36.4971) │\n│ 2020-01-03T00:00:00 │ Dict(\"C\"=>12.7473, \"N\"=>0.0, \"Ar\"=>0.0, \"H\"=>38.2441) │\n│          ⋮          │                           ⋮                           │\n└─────────────────────┴───────────────────────────────────────────────────────┘\n\u001b[36m                                                                22 rows omitted\u001b[0m\n\nData length:\t27\nData starts:\t2020-01-01T00:00:00\nData ends:\t2020-01-14T00:00:00\n"
     },
     "metadata": {},
     "execution_count": 23
    }
   ],
   "cell_type": "code",
   "source": [
    "sysstreams[\"Prod2\"] = 2.0*sysstreams[\"Product\"]"
   ],
   "metadata": {},
   "execution_count": 23
  },
  {
   "cell_type": "markdown",
   "source": [
    "Let's check the answer:"
   ],
   "metadata": {}
  },
  {
   "outputs": [
    {
     "output_type": "execute_result",
     "data": {
      "text/plain": "true"
     },
     "metadata": {},
     "execution_count": 24
    }
   ],
   "cell_type": "code",
   "source": [
    "sysstreams[\"Prod2\"] == 2.0*sysstreams[\"Product\"]"
   ],
   "metadata": {},
   "execution_count": 24
  },
  {
   "cell_type": "markdown",
   "source": [
    "Alternatively,"
   ],
   "metadata": {}
  },
  {
   "outputs": [
    {
     "output_type": "execute_result",
     "data": {
      "text/plain": "true"
     },
     "metadata": {},
     "execution_count": 25
    }
   ],
   "cell_type": "code",
   "source": [
    "all(values(sysstreams[\"Prod2\"].totalmassflow) .== values(2.0 .* sysstreams[\"Product\"].totalmassflow))"
   ],
   "metadata": {},
   "execution_count": 25
  },
  {
   "cell_type": "markdown",
   "source": [
    "Note the use of `.==` and `.*` above. Internally the data are stored in `TimeArrays` from `TimeSeries.jl` and only the broadcasted operators are used on `TimeArray`s."
   ],
   "metadata": {}
  },
  {
   "cell_type": "markdown",
   "source": [
    "Comparison between `TimeArrays` returns a `TimeArray` with the comparison for each timestamp and we extract the results as an aray using the `values()` function to get a `BitVector`."
   ],
   "metadata": {}
  },
  {
   "cell_type": "markdown",
   "source": [
    "We can also copy streams and combine the two streams by copy with a scalar multiplication in a single call:"
   ],
   "metadata": {}
  },
  {
   "outputs": [
    {
     "output_type": "execute_result",
     "data": {
      "text/plain": "true"
     },
     "metadata": {},
     "execution_count": 26
    }
   ],
   "cell_type": "code",
   "source": [
    "copystream!(sysstreams, \"Product\", \"MyStream\")\n",
    "copystream!(sysstreams, \"Product\", \"MyStream2\"; factor=2.0) # double the flow!\n",
    "sysstreams[\"MyStream2\"] ≈ 2.0 * sysstreams[\"MyStream\"]"
   ],
   "metadata": {},
   "execution_count": 26
  },
  {
   "cell_type": "markdown",
   "source": [
    "The streams have different names, but we overload `==` to only check the molar flows of each component, so we get the expected answer."
   ],
   "metadata": {}
  },
  {
   "cell_type": "markdown",
   "source": [
    "Since the atomic flows are automatically calculated, they will also match"
   ],
   "metadata": {}
  },
  {
   "outputs": [
    {
     "output_type": "execute_result",
     "data": {
      "text/plain": "true"
     },
     "metadata": {},
     "execution_count": 27
    }
   ],
   "cell_type": "code",
   "source": [
    "all(getindex.(values(sysstreams[\"Product\"].atomflows), \"C\") .== getindex.(values(sysstreams[\"MyStream\"].atomflows), \"C\"))"
   ],
   "metadata": {},
   "execution_count": 27
  },
  {
   "outputs": [
    {
     "output_type": "execute_result",
     "data": {
      "text/plain": "true"
     },
     "metadata": {},
     "execution_count": 28
    }
   ],
   "cell_type": "code",
   "source": [
    "all(getindex.(values(sysstreams[\"Product\"].atomflows), \"H\") .== getindex.(values(sysstreams[\"MyStream\"].atomflows), \"H\"))"
   ],
   "metadata": {},
   "execution_count": 28
  },
  {
   "outputs": [
    {
     "output_type": "execute_result",
     "data": {
      "text/plain": "true"
     },
     "metadata": {},
     "execution_count": 29
    }
   ],
   "cell_type": "code",
   "source": [
    "all(getindex.(values(sysstreams[\"Product\"].atomflows), \"N\") .== getindex.(values(sysstreams[\"MyStream\"].atomflows), \"N\"))"
   ],
   "metadata": {},
   "execution_count": 29
  },
  {
   "cell_type": "markdown",
   "source": [
    "We can also rename or delete streams from the stream list:"
   ],
   "metadata": {}
  },
  {
   "outputs": [
    {
     "output_type": "execute_result",
     "data": {
      "text/plain": "Stream list:\n\nStreams:\n  Feed\n  Product\n  Prod2\n  MyStream2\n  Dummy\n\nComponents:\n  Ethylene\n  Ethane\n  Hydrogen\n  Nitrogen\n  Argon\n\nData length:\t27\nData starts:\t2020-01-01T00:00:00\nData ends:\t2020-01-14T00:00:00\n"
     },
     "metadata": {},
     "execution_count": 30
    }
   ],
   "cell_type": "code",
   "source": [
    "renamestream!(sysstreams, \"MyStream\", \"Dummy\")\n",
    "sysstreams"
   ],
   "metadata": {},
   "execution_count": 30
  },
  {
   "outputs": [
    {
     "output_type": "execute_result",
     "data": {
      "text/plain": "Stream list:\n\nStreams:\n  Feed\n  Product\n  Prod2\n  MyStream2\n\nComponents:\n  Ethylene\n  Ethane\n  Hydrogen\n  Nitrogen\n  Argon\n\nData length:\t27\nData starts:\t2020-01-01T00:00:00\nData ends:\t2020-01-14T00:00:00\n"
     },
     "metadata": {},
     "execution_count": 31
    }
   ],
   "cell_type": "code",
   "source": [
    "deletestream!(sysstreams, \"Dummy\")\n",
    "sysstreams"
   ],
   "metadata": {},
   "execution_count": 31
  },
  {
   "cell_type": "markdown",
   "source": [
    "# UnitOps, Boundaries and KPIs"
   ],
   "metadata": {}
  },
  {
   "cell_type": "markdown",
   "source": [
    "Let's start with an empty stream list again"
   ],
   "metadata": {}
  },
  {
   "outputs": [
    {
     "output_type": "execute_result",
     "data": {
      "text/plain": "Stream list:\n\nStreams:\n\tEmpty list\n"
     },
     "metadata": {},
     "execution_count": 32
    }
   ],
   "cell_type": "code",
   "source": [
    "sysstreams = StreamList()"
   ],
   "metadata": {},
   "execution_count": 32
  },
  {
   "cell_type": "markdown",
   "source": [
    "We'll add some instantaneous flow streams."
   ],
   "metadata": {}
  },
  {
   "outputs": [
    {
     "output_type": "execute_result",
     "data": {
      "text/plain": "Stream: Product\n\n┌─────────────┬──────────┬─────────┬──────────┬──────────┬───────┐\n│\u001b[1m             \u001b[0m│\u001b[1m Ethylene \u001b[0m│\u001b[1m  Ethane \u001b[0m│\u001b[1m Hydrogen \u001b[0m│\u001b[1m Nitrogen \u001b[0m│\u001b[1m Argon \u001b[0m│\n├─────────────┼──────────┼─────────┼──────────┼──────────┼───────┤\n│ Mass flows  │      0.0 │ 30.0688 │   2.0158 │      0.0 │   0.0 │\n│ Molar flows │      0.0 │     1.0 │      1.0 │      0.0 │   0.0 │\n└─────────────┴──────────┴─────────┴──────────┴──────────┴───────┘\n\nTotal mass flow: 32.085\n\n┌──────┬────────────┐\n│\u001b[1m Atom \u001b[0m│\u001b[1m Molar flow \u001b[0m│\n├──────┼────────────┤\n│    C │        2.0 │\n│    N │        0.0 │\n│   Ar │        0.0 │\n│    H │        8.0 │\n└──────┴────────────┘\n"
     },
     "metadata": {},
     "execution_count": 33
    }
   ],
   "cell_type": "code",
   "source": [
    "@stream mole begin\n",
    "    \"Hydrogen\" --> 1.1\n",
    "end \"H2\" syscomps sysstreams\n",
    "\n",
    "@stream mole begin\n",
    "    \"Ethylene\" --> 0.1\n",
    "    \"Ethane\" --> 0.9\n",
    "end \"C2\" syscomps sysstreams\n",
    "\n",
    "@stream mole begin\n",
    "    \"Ethylene\" --> 0.0\n",
    "    \"Ethane\" --> 1.0\n",
    "    \"Hydrogen\" --> 1.0\n",
    "end \"Product\" syscomps sysstreams"
   ],
   "metadata": {},
   "execution_count": 33
  },
  {
   "cell_type": "markdown",
   "source": [
    "We can also add an empty stream as a placeholder. We'll calculate it with a mixer model later."
   ],
   "metadata": {}
  },
  {
   "outputs": [
    {
     "output_type": "execute_result",
     "data": {
      "text/plain": "Stream: Mixed\n\n┌─────────────┬──────────┬────────┬──────────┬──────────┬───────┐\n│\u001b[1m             \u001b[0m│\u001b[1m Ethylene \u001b[0m│\u001b[1m Ethane \u001b[0m│\u001b[1m Hydrogen \u001b[0m│\u001b[1m Nitrogen \u001b[0m│\u001b[1m Argon \u001b[0m│\n├─────────────┼──────────┼────────┼──────────┼──────────┼───────┤\n│ Mass flows  │      0.0 │    0.0 │      0.0 │      0.0 │   0.0 │\n│ Molar flows │      0.0 │    0.0 │      0.0 │      0.0 │   0.0 │\n└─────────────┴──────────┴────────┴──────────┴──────────┴───────┘\n\nTotal mass flow: 0.0\n\n┌──────┬────────────┐\n│\u001b[1m Atom \u001b[0m│\u001b[1m Molar flow \u001b[0m│\n├──────┼────────────┤\n│    C │        0.0 │\n│    N │        0.0 │\n│   Ar │        0.0 │\n│    H │        0.0 │\n└──────┴────────────┘\n"
     },
     "metadata": {},
     "execution_count": 34
    }
   ],
   "cell_type": "code",
   "source": [
    "sysstreams[\"Mixed\"] = emptystream(sysstreams, \"Mixed\")"
   ],
   "metadata": {},
   "execution_count": 34
  },
  {
   "cell_type": "markdown",
   "source": [
    "Now we define some unit operations. As with components and streams we create a container to be able to conveniently access them again later. A `UnitOpList` works the same way as a `ComponentList` or `StreamList` - it is a wrapper around a `Dict{String, UnitOp}`."
   ],
   "metadata": {}
  },
  {
   "outputs": [
    {
     "output_type": "execute_result",
     "data": {
      "text/plain": "Unit Operation:  Mixer\nFeed streams:    [\"H2\", \"C2\"]\n\nProduct streams: [\"Mixed\"]\n"
     },
     "metadata": {},
     "execution_count": 35
    }
   ],
   "cell_type": "code",
   "source": [
    "sysunitops = UnitOpList()\n",
    "\n",
    "@unitop begin\n",
    "    inlets --> [\"H2\", \"C2\"]\n",
    "    outlets --> [\"Mixed\"]\n",
    "    calc --> mixer!\n",
    "end \"Mixer\" sysstreams sysunitops"
   ],
   "metadata": {},
   "execution_count": 35
  },
  {
   "cell_type": "markdown",
   "source": [
    "The `@unitop` macro creates a `UnitOp` object and adds it to the `UnitOpList`. We can then refer to it by its name, like we do with `Component` and `Stream` objects.\n",
    "The macro takes an array of `Stream` names for inlets, and another for outlets. The `calc` field is optional. If we are only calculating KPIs for our process or reconciling mass balances, unit operations do not need to do calculations. They only serve as nodes where streams are connected.\n",
    "If we want to do calculations, like for mixers and splitters, we need to specifiy the name of the function to call in the `calc` field.\n",
    "The function takes the form:\n",
    "    function functionname!(streamlist::StreamList, outlets::Vector{String}, inlets::Vector{String}, params)\n",
    "As per Julia convention, we add a `!` at the end of the function name, which means the function modifies some of the variables passed - the outlet(s).\n",
    "There can be multiple inlets and outlets, but even single inlets and outlets must be passed in an array.\n",
    "All streams passed to a unit operation must be in the stream list. And all streams in a stream list must use the same component list. This keeps things consistent.\n",
    "The `params` field does not have a defined type and can be anything needed for the calculation. We'll look at this in more detail later."
   ],
   "metadata": {}
  },
  {
   "cell_type": "markdown",
   "source": [
    "To execute the unit operation, we simply call it."
   ],
   "metadata": {}
  },
  {
   "outputs": [],
   "cell_type": "code",
   "source": [
    "sysunitops[\"Mixer\"]()"
   ],
   "metadata": {},
   "execution_count": 36
  },
  {
   "cell_type": "markdown",
   "source": [
    "This `UnitOp` takes the required inlet and outlet streams, but is also assigned a calculation.\n",
    "In this case, it is the predefined `mixer!` function, which is a simple stream mixer.\n",
    "This can however be any user-defined function, with the correct form.\n",
    "These calculations will supply the contents of the outlet streams based on the inlets streams and supplied model parameters.\n",
    "They are only needed if there is no information on the outlet streams."
   ],
   "metadata": {}
  },
  {
   "outputs": [
    {
     "output_type": "execute_result",
     "data": {
      "text/plain": "Unit Operation:  Reactor\nFeed streams:    [\"Mixed\"]\n\nProduct streams: [\"Product\"]\n"
     },
     "metadata": {},
     "execution_count": 37
    }
   ],
   "cell_type": "code",
   "source": [
    "@unitop begin\n",
    "    inlets --> [\"Mixed\"]\n",
    "    outlets --> [\"Product\"]\n",
    "end \"Reactor\" sysstreams sysunitops"
   ],
   "metadata": {},
   "execution_count": 37
  },
  {
   "cell_type": "markdown",
   "source": [
    "Our `Reactor` does not have an associated calculation. It is just a node in the flowsheet graph, so we shall need information for all of the inlets and outlets."
   ],
   "metadata": {}
  },
  {
   "cell_type": "markdown",
   "source": [
    "Let's split the product a little. We'll need some empty streams."
   ],
   "metadata": {}
  },
  {
   "outputs": [],
   "cell_type": "code",
   "source": [
    "sysstreams[\"Product1\"] = emptystream(sysstreams, \"Product1\");\n",
    "sysstreams[\"Product1a\"] = emptystream(sysstreams, \"Product1a\");\n",
    "sysstreams[\"Product1b\"] = emptystream(sysstreams, \"Product1b\");\n",
    "sysstreams[\"Product2\"] = emptystream(sysstreams, \"Product2\");\n",
    "sysstreams[\"Product3\"] = emptystream(sysstreams, \"Product3\");"
   ],
   "metadata": {},
   "execution_count": 38
  },
  {
   "cell_type": "markdown",
   "source": [
    "Let's also add a dummy stream with a fixed composition. We don't need it here, but it is easy to do"
   ],
   "metadata": {}
  },
  {
   "outputs": [
    {
     "output_type": "execute_result",
     "data": {
      "text/plain": "Stream: Dummy\n\n┌─────────────┬──────────┬────────┬──────────┬──────────┬────────────┐\n│\u001b[1m             \u001b[0m│\u001b[1m Ethylene \u001b[0m│\u001b[1m Ethane \u001b[0m│\u001b[1m Hydrogen \u001b[0m│\u001b[1m Nitrogen \u001b[0m│\u001b[1m      Argon \u001b[0m│\n├─────────────┼──────────┼────────┼──────────┼──────────┼────────────┤\n│ Mass flows  │     10.0 │    0.0 │      0.0 │      0.0 │        0.1 │\n│ Molar flows │ 0.356468 │    0.0 │      0.0 │      0.0 │ 0.00250325 │\n└─────────────┴──────────┴────────┴──────────┴──────────┴────────────┘\n\nTotal mass flow: 10.1\n\n┌──────┬────────────┐\n│\u001b[1m Atom \u001b[0m│\u001b[1m Molar flow \u001b[0m│\n├──────┼────────────┤\n│    C │   0.712936 │\n│    N │        0.0 │\n│   Ar │ 0.00250325 │\n│    H │    1.42587 │\n└──────┴────────────┘\n"
     },
     "metadata": {},
     "execution_count": 39
    }
   ],
   "cell_type": "code",
   "source": [
    "sysstreams[\"Dummy\"] = fixedstream(sysstreams, \"Dummy\", [10.0, 0.0, 0.0, 0.0, 0.1])"
   ],
   "metadata": {},
   "execution_count": 39
  },
  {
   "cell_type": "markdown",
   "source": [
    "A flow splitter that splits 50% of the product to each of Product1 and Product2. These streams will have identcal compositions"
   ],
   "metadata": {}
  },
  {
   "outputs": [],
   "cell_type": "code",
   "source": [
    "@unitop begin\n",
    "    inlets --> [\"Product\"]\n",
    "    outlets --> [\"Product1\", \"Product2\"]\n",
    "    calc --> flowsplitter!\n",
    "    params --> [0.5]\n",
    "end \"ProductSplitter\" sysstreams sysunitops\n",
    "\n",
    "sysunitops[\"ProductSplitter\"]()"
   ],
   "metadata": {},
   "execution_count": 40
  },
  {
   "cell_type": "markdown",
   "source": [
    "A component splitter that splits Product1 into Product1a and Product1b.\n",
    "These streams will have different compositions, with the hydrogen split 50:50, 70% of the ethane going to Product1b and the remainder of Product1, going to Product1b (the last stream listed)."
   ],
   "metadata": {}
  },
  {
   "outputs": [],
   "cell_type": "code",
   "source": [
    "@unitop begin\n",
    "    inlets --> [\"Product1\"]\n",
    "    outlets --> [\"Product1a\", \"Product1b\"]\n",
    "    calc --> componentplitter!\n",
    "    params --> Dict([\n",
    "        \"Hydrogen\" => Dict([\"Product1a\" => 0.5]),\n",
    "        \"Ethane\" => Dict([\"Product1b\" => 0.3])\n",
    "    ])\n",
    "end \"ComponentSplitter\" sysstreams sysunitops\n",
    "\n",
    "sysunitops[\"ComponentSplitter\"]()"
   ],
   "metadata": {},
   "execution_count": 41
  },
  {
   "cell_type": "markdown",
   "source": [
    "And then we mix it all again and check that we still have the original Product stream"
   ],
   "metadata": {}
  },
  {
   "outputs": [],
   "cell_type": "code",
   "source": [
    "@unitop begin\n",
    "    inlets --> [\"Product1a\", \"Product1b\", \"Product2\"]\n",
    "    outlets --> [\"Product3\"]\n",
    "    calc --> mixer!\n",
    "end \"Mixer2\" sysstreams sysunitops\n",
    "\n",
    "sysunitops[\"Mixer2\"]()"
   ],
   "metadata": {},
   "execution_count": 42
  },
  {
   "cell_type": "markdown",
   "source": [
    "Check that the two streams have the same flows"
   ],
   "metadata": {}
  },
  {
   "outputs": [
    {
     "output_type": "execute_result",
     "data": {
      "text/plain": "true"
     },
     "metadata": {},
     "execution_count": 43
    }
   ],
   "cell_type": "code",
   "source": [
    "sysstreams[\"Product\"] ≈ sysstreams[\"Product3\"]"
   ],
   "metadata": {},
   "execution_count": 43
  },
  {
   "cell_type": "markdown",
   "source": [
    "Mass balances and KPIs are defined on a boundary around a number of unit operations. We therefore define a `Boundary` and list the contained `UnitOp`s"
   ],
   "metadata": {}
  },
  {
   "outputs": [
    {
     "output_type": "execute_result",
     "data": {
      "text/plain": "Balance Boundary:\n\nEnclosed units: [\"Mixer\", \"Reactor\"]\n\nClosure:\n┌─────────────────────┬────────────────────┐\n│\u001b[1m           timestamp \u001b[0m│\u001b[1m Total Mass Closure \u001b[0m│\n│\u001b[90m      Dates.DateTime \u001b[0m│\u001b[90m            Float64 \u001b[0m│\n├─────────────────────┼────────────────────┤\n│ 0000-01-01T00:00:00 │                1.0 │\n└─────────────────────┴────────────────────┘\n\nCombined Feed Mass Flows:\n┌─────────────────────┬──────────┬─────────┬──────────┬──────────┬─────────┐\n│\u001b[1m           timestamp \u001b[0m│\u001b[1m Ethylene \u001b[0m│\u001b[1m  Ethane \u001b[0m│\u001b[1m Hydrogen \u001b[0m│\u001b[1m Nitrogen \u001b[0m│\u001b[1m   Argon \u001b[0m│\n│\u001b[90m      Dates.DateTime \u001b[0m│\u001b[90m  Float64 \u001b[0m│\u001b[90m Float64 \u001b[0m│\u001b[90m  Float64 \u001b[0m│\u001b[90m  Float64 \u001b[0m│\u001b[90m Float64 \u001b[0m│\n├─────────────────────┼──────────┼─────────┼──────────┼──────────┼─────────┤\n│ 0000-01-01T00:00:00 │   2.8053 │ 27.0619 │  2.21738 │      0.0 │     0.0 │\n└─────────────────────┴──────────┴─────────┴──────────┴──────────┴─────────┘\nCombined Product Mass Flows:\n┌─────────────────────┬──────────┬─────────┬──────────┬──────────┬─────────┐\n│\u001b[1m           timestamp \u001b[0m│\u001b[1m Ethylene \u001b[0m│\u001b[1m  Ethane \u001b[0m│\u001b[1m Hydrogen \u001b[0m│\u001b[1m Nitrogen \u001b[0m│\u001b[1m   Argon \u001b[0m│\n│\u001b[90m      Dates.DateTime \u001b[0m│\u001b[90m  Float64 \u001b[0m│\u001b[90m Float64 \u001b[0m│\u001b[90m  Float64 \u001b[0m│\u001b[90m  Float64 \u001b[0m│\u001b[90m Float64 \u001b[0m│\n├─────────────────────┼──────────┼─────────┼──────────┼──────────┼─────────┤\n│ 0000-01-01T00:00:00 │      0.0 │ 30.0688 │   2.0158 │      0.0 │     0.0 │\n└─────────────────────┴──────────┴─────────┴──────────┴──────────┴─────────┘\n\nElemental closures (-1.0 if not present):\n┌─────────────────────┬───────────────────────────────────────────────┐\n│\u001b[1m           timestamp \u001b[0m│\u001b[1m                            Elemental Closures \u001b[0m│\n│\u001b[90m      Dates.DateTime \u001b[0m│\u001b[90m                         Dict{String, Float64} \u001b[0m│\n├─────────────────────┼───────────────────────────────────────────────┤\n│ 0000-01-01T00:00:00 │ Dict(\"C\"=>1.0, \"N\"=>0.0, \"Ar\"=>0.0, \"H\"=>1.0) │\n└─────────────────────┴───────────────────────────────────────────────┘\n"
     },
     "metadata": {},
     "execution_count": 44
    }
   ],
   "cell_type": "code",
   "source": [
    "sysboundaries = BoundaryList()\n",
    "\n",
    "@boundary begin\n",
    "    unitops --> [\"Mixer\", \"Reactor\"]\n",
    "end \"B1\" sysunitops sysboundaries"
   ],
   "metadata": {},
   "execution_count": 44
  },
  {
   "cell_type": "markdown",
   "source": [
    "We can look at total mass and elemental closures, as well as the combined in- and outflows."
   ],
   "metadata": {}
  },
  {
   "outputs": [
    {
     "output_type": "execute_result",
     "data": {
      "text/plain": "1×1 TimeSeries.TimeArray{Dict{String, Float64}, 1, Dates.DateTime, Vector{Dict{String, Float64}}} 0000-01-01T00:00:00 to 0000-01-01T00:00:00\n┌─────────────────────┬───────────────────────────────────────────────┐\n│\u001b[1m                     \u001b[0m│\u001b[1m Elemental Closures                            \u001b[0m│\n├─────────────────────┼───────────────────────────────────────────────┤\n│ 0000-01-01T00:00:00 │ Dict(\"C\"=>1.0, \"N\"=>0.0, \"Ar\"=>0.0, \"H\"=>1.0) │\n└─────────────────────┴───────────────────────────────────────────────┘"
     },
     "metadata": {},
     "execution_count": 45
    }
   ],
   "cell_type": "code",
   "source": [
    "sysboundaries[\"B1\"].atomclosures"
   ],
   "metadata": {},
   "execution_count": 45
  },
  {
   "outputs": [
    {
     "output_type": "execute_result",
     "data": {
      "text/plain": "1×1 TimeSeries.TimeArray{Float64, 1, Dates.DateTime, Vector{Float64}} 0000-01-01T00:00:00 to 0000-01-01T00:00:00\n┌─────────────────────┬────────────────────┐\n│\u001b[1m                     \u001b[0m│\u001b[1m Total Mass Closure \u001b[0m│\n├─────────────────────┼────────────────────┤\n│ 0000-01-01T00:00:00 │                1.0 │\n└─────────────────────┴────────────────────┘"
     },
     "metadata": {},
     "execution_count": 46
    }
   ],
   "cell_type": "code",
   "source": [
    "sysboundaries[\"B1\"].closure"
   ],
   "metadata": {},
   "execution_count": 46
  },
  {
   "outputs": [
    {
     "output_type": "execute_result",
     "data": {
      "text/plain": "1×1 TimeSeries.TimeArray{Float64, 1, Dates.DateTime, Vector{Float64}} 0000-01-01T00:00:00 to 0000-01-01T00:00:00\n┌─────────────────────┬────────────────┐\n│\u001b[1m                     \u001b[0m│\u001b[1m totalmassflows \u001b[0m│\n├─────────────────────┼────────────────┤\n│ 0000-01-01T00:00:00 │        32.0846 │\n└─────────────────────┴────────────────┘"
     },
     "metadata": {},
     "execution_count": 47
    }
   ],
   "cell_type": "code",
   "source": [
    "sysboundaries[\"B1\"].total_in.totalmassflow"
   ],
   "metadata": {},
   "execution_count": 47
  },
  {
   "outputs": [
    {
     "output_type": "execute_result",
     "data": {
      "text/plain": "1×1 TimeSeries.TimeArray{Float64, 1, Dates.DateTime, Vector{Float64}} 0000-01-01T00:00:00 to 0000-01-01T00:00:00\n┌─────────────────────┬────────────────┐\n│\u001b[1m                     \u001b[0m│\u001b[1m totalmassflows \u001b[0m│\n├─────────────────────┼────────────────┤\n│ 0000-01-01T00:00:00 │        32.0846 │\n└─────────────────────┴────────────────┘"
     },
     "metadata": {},
     "execution_count": 48
    }
   ],
   "cell_type": "code",
   "source": [
    "sysboundaries[\"B1\"].total_out.totalmassflow"
   ],
   "metadata": {},
   "execution_count": 48
  },
  {
   "cell_type": "markdown",
   "source": [
    "We can also define KPIs on the boundary. Here we use the pre-defined KPIs of `conversion(boundary, component)` and `selectivity(boundary, reactant, product)`"
   ],
   "metadata": {}
  },
  {
   "outputs": [
    {
     "output_type": "execute_result",
     "data": {
      "text/plain": "-0.11111111111111106"
     },
     "metadata": {},
     "execution_count": 49
    }
   ],
   "cell_type": "code",
   "source": [
    "conversion(sysboundaries[\"B1\"], \"Ethane\")"
   ],
   "metadata": {},
   "execution_count": 49
  },
  {
   "cell_type": "markdown",
   "source": [
    "Ethane was produced, not consumed, so has a negative value for conversion."
   ],
   "metadata": {}
  },
  {
   "outputs": [
    {
     "output_type": "execute_result",
     "data": {
      "text/plain": "(1.0, 0.09090909090909104)"
     },
     "metadata": {},
     "execution_count": 50
    }
   ],
   "cell_type": "code",
   "source": [
    "(conversion(sysboundaries[\"B1\"], \"Ethylene\"), conversion(sysboundaries[\"B1\"], \"Hydrogen\"))"
   ],
   "metadata": {},
   "execution_count": 50
  },
  {
   "cell_type": "markdown",
   "source": [
    "We had complete conversion of ethylene and only ~9% of hydrogen, due to the large excess fed."
   ],
   "metadata": {}
  },
  {
   "outputs": [
    {
     "output_type": "execute_result",
     "data": {
      "text/plain": "0.9999999999999998"
     },
     "metadata": {},
     "execution_count": 51
    }
   ],
   "cell_type": "code",
   "source": [
    "molar_selectivity(sysboundaries[\"B1\"], \"Ethylene\", \"Ethane\")"
   ],
   "metadata": {},
   "execution_count": 51
  },
  {
   "cell_type": "markdown",
   "source": [
    "All of the reacted ethylene was converted to ethane."
   ],
   "metadata": {}
  },
  {
   "cell_type": "markdown",
   "source": [
    "### For streams with time series data"
   ],
   "metadata": {}
  },
  {
   "cell_type": "markdown",
   "source": [
    "Now we can repeat this for streams with multiple historic data points attached:"
   ],
   "metadata": {}
  },
  {
   "outputs": [],
   "cell_type": "code",
   "source": [
    "sysstreams = StreamList() # Create a new container and dump the previous streams\n",
    "sysstreams[\"C2\"] = readstreamhistory(joinpath(\"streamhistories\", \"C2.csv\"), \"C2\", syscomps; ismoleflow=true)\n",
    "sysstreams[\"H2\"] = readstreamhistory(joinpath(\"streamhistories\", \"Hydrogen.csv\"), \"H2\", syscomps; ismoleflow=true)\n",
    "sysstreams[\"Product\"] = readstreamhistory(joinpath(\"streamhistories\", \"Product.csv\"), \"Product\", syscomps; ismoleflow=true)\n",
    "sysstreams[\"Mixed\"] = emptystream(sysstreams, \"Mixed\");\n",
    "sysstreams[\"Product1\"] = emptystream(sysstreams, \"Product1\");\n",
    "sysstreams[\"Product1a\"] = emptystream(sysstreams, \"Product1a\");\n",
    "sysstreams[\"Product1b\"] = emptystream(sysstreams, \"Product1b\");\n",
    "sysstreams[\"Product2\"] = emptystream(sysstreams, \"Product2\");\n",
    "sysstreams[\"Product3\"] = emptystream(sysstreams, \"Product3\");"
   ],
   "metadata": {},
   "execution_count": 52
  },
  {
   "cell_type": "markdown",
   "source": [
    "And just to show what happens when we create a fixed composition stream when the streams in the StreamList have time series data"
   ],
   "metadata": {}
  },
  {
   "outputs": [
    {
     "output_type": "execute_result",
     "data": {
      "text/plain": "Stream: Dummy\n\nMass flows:\n┌─────────────────────┬──────────┬─────────┬──────────┬──────────┬─────────┐\n│\u001b[1m           timestamp \u001b[0m│\u001b[1m Ethylene \u001b[0m│\u001b[1m  Ethane \u001b[0m│\u001b[1m Hydrogen \u001b[0m│\u001b[1m Nitrogen \u001b[0m│\u001b[1m   Argon \u001b[0m│\n│\u001b[90m      Dates.DateTime \u001b[0m│\u001b[90m  Float64 \u001b[0m│\u001b[90m Float64 \u001b[0m│\u001b[90m  Float64 \u001b[0m│\u001b[90m  Float64 \u001b[0m│\u001b[90m Float64 \u001b[0m│\n├─────────────────────┼──────────┼─────────┼──────────┼──────────┼─────────┤\n│ 2020-01-01T00:00:00 │     10.0 │     0.0 │      0.0 │      0.0 │     0.1 │\n│ 2020-01-01T06:00:00 │     10.0 │     0.0 │      0.0 │      0.0 │     0.1 │\n│ 2020-01-02T00:00:00 │     10.0 │     0.0 │      0.0 │      0.0 │     0.1 │\n│ 2020-01-02T06:00:00 │     10.0 │     0.0 │      0.0 │      0.0 │     0.1 │\n│ 2020-01-03T00:00:00 │     10.0 │     0.0 │      0.0 │      0.0 │     0.1 │\n│          ⋮          │    ⋮     │    ⋮    │    ⋮     │    ⋮     │    ⋮    │\n└─────────────────────┴──────────┴─────────┴──────────┴──────────┴─────────┘\n\u001b[36m                                                             22 rows omitted\u001b[0m\n\nMolar flows:\n┌─────────────────────┬──────────┬─────────┬──────────┬──────────┬────────────┐\n│\u001b[1m           timestamp \u001b[0m│\u001b[1m Ethylene \u001b[0m│\u001b[1m  Ethane \u001b[0m│\u001b[1m Hydrogen \u001b[0m│\u001b[1m Nitrogen \u001b[0m│\u001b[1m      Argon \u001b[0m│\n│\u001b[90m      Dates.DateTime \u001b[0m│\u001b[90m  Float64 \u001b[0m│\u001b[90m Float64 \u001b[0m│\u001b[90m  Float64 \u001b[0m│\u001b[90m  Float64 \u001b[0m│\u001b[90m    Float64 \u001b[0m│\n├─────────────────────┼──────────┼─────────┼──────────┼──────────┼────────────┤\n│ 2020-01-01T00:00:00 │ 0.356468 │     0.0 │      0.0 │      0.0 │ 0.00250325 │\n│ 2020-01-01T06:00:00 │ 0.356468 │     0.0 │      0.0 │      0.0 │ 0.00250325 │\n│ 2020-01-02T00:00:00 │ 0.356468 │     0.0 │      0.0 │      0.0 │ 0.00250325 │\n│ 2020-01-02T06:00:00 │ 0.356468 │     0.0 │      0.0 │      0.0 │ 0.00250325 │\n│ 2020-01-03T00:00:00 │ 0.356468 │     0.0 │      0.0 │      0.0 │ 0.00250325 │\n│          ⋮          │    ⋮     │    ⋮    │    ⋮     │    ⋮     │     ⋮      │\n└─────────────────────┴──────────┴─────────┴──────────┴──────────┴────────────┘\n\u001b[36m                                                                22 rows omitted\u001b[0m\n\n\nAtom Flows:\n┌─────────────────────┬───────────────────────────────────────────────────────────────┐\n│\u001b[1m           timestamp \u001b[0m│\u001b[1m                                                     atomflows \u001b[0m│\n│\u001b[90m      Dates.DateTime \u001b[0m│\u001b[90m                                         Dict{String, Float64} \u001b[0m│\n├─────────────────────┼───────────────────────────────────────────────────────────────┤\n│ 2020-01-01T00:00:00 │ Dict(\"C\"=>0.712936, \"N\"=>0.0, \"Ar\"=>0.00250325, \"H\"=>1.42587) │\n│ 2020-01-01T06:00:00 │ Dict(\"C\"=>0.712936, \"N\"=>0.0, \"Ar\"=>0.00250325, \"H\"=>1.42587) │\n│ 2020-01-02T00:00:00 │ Dict(\"C\"=>0.712936, \"N\"=>0.0, \"Ar\"=>0.00250325, \"H\"=>1.42587) │\n│ 2020-01-02T06:00:00 │ Dict(\"C\"=>0.712936, \"N\"=>0.0, \"Ar\"=>0.00250325, \"H\"=>1.42587) │\n│ 2020-01-03T00:00:00 │ Dict(\"C\"=>0.712936, \"N\"=>0.0, \"Ar\"=>0.00250325, \"H\"=>1.42587) │\n│          ⋮          │                               ⋮                               │\n└─────────────────────┴───────────────────────────────────────────────────────────────┘\n\u001b[36m                                                                        22 rows omitted\u001b[0m\n\nData length:\t27\nData starts:\t2020-01-01T00:00:00\nData ends:\t2020-01-14T00:00:00\n"
     },
     "metadata": {},
     "execution_count": 53
    }
   ],
   "cell_type": "code",
   "source": [
    "sysstreams[\"Dummy\"] = fixedstream(sysstreams, \"Dummy\", [10.0, 0.0, 0.0, 0.0, 0.1])"
   ],
   "metadata": {},
   "execution_count": 53
  },
  {
   "cell_type": "markdown",
   "source": [
    "Empty the unit operation list as well, so we start fresh."
   ],
   "metadata": {}
  },
  {
   "outputs": [],
   "cell_type": "code",
   "source": [
    "sysunitops = UnitOpList()\n",
    "\n",
    "@unitop begin\n",
    "    inlets --> [\"H2\", \"C2\"]\n",
    "    outlets --> [\"Mixed\"]\n",
    "    calc --> mixer!\n",
    "end \"Mixer\" sysstreams sysunitops\n",
    "sysunitops[\"Mixer\"]()\n",
    "\n",
    "@unitop begin\n",
    "    inlets --> [\"Mixed\"]\n",
    "    outlets --> [\"Product\"]\n",
    "end \"Reactor\" sysstreams sysunitops\n",
    "\n",
    "@unitop begin\n",
    "    inlets --> [\"Product\"]\n",
    "    outlets --> [\"Product1\", \"Product2\"]\n",
    "    calc --> flowsplitter!\n",
    "    params --> [0.5]\n",
    "end \"ProductSplitter\" sysstreams sysunitops\n",
    "sysunitops[\"ProductSplitter\"]()\n",
    "\n",
    "@unitop begin\n",
    "    inlets --> [\"Product1\"]\n",
    "    outlets --> [\"Product1a\", \"Product1b\"]\n",
    "    calc --> componentplitter!\n",
    "    params --> Dict([\n",
    "        \"Hydrogen\" => Dict([\"Product1a\" => 0.5]),\n",
    "        \"Ethane\" => Dict([\"Product1b\" => 0.3])\n",
    "    ])\n",
    "end \"ComponentSplitter\" sysstreams sysunitops\n",
    "sysunitops[\"ComponentSplitter\"]()\n",
    "\n",
    "@unitop begin\n",
    "    inlets --> [\"Product1a\", \"Product1b\", \"Product2\"]\n",
    "    outlets --> [\"Product3\"]\n",
    "    calc --> mixer!\n",
    "end \"Mixer2\" sysstreams sysunitops\n",
    "sysunitops[\"Mixer2\"]()"
   ],
   "metadata": {},
   "execution_count": 54
  },
  {
   "cell_type": "markdown",
   "source": [
    "Check that the two streams have the same flows."
   ],
   "metadata": {}
  },
  {
   "outputs": [
    {
     "output_type": "execute_result",
     "data": {
      "text/plain": "true"
     },
     "metadata": {},
     "execution_count": 55
    }
   ],
   "cell_type": "code",
   "source": [
    "sysstreams[\"Product\"] ≈ sysstreams[\"Product3\"]"
   ],
   "metadata": {},
   "execution_count": 55
  },
  {
   "cell_type": "markdown",
   "source": [
    "Define the mass balance boundary for closures and KPIs"
   ],
   "metadata": {}
  },
  {
   "outputs": [
    {
     "output_type": "execute_result",
     "data": {
      "text/plain": "(-0.11361804202204312, 0.9988638054742306, 0.9999999999999998)"
     },
     "metadata": {},
     "execution_count": 56
    }
   ],
   "cell_type": "code",
   "source": [
    "sysboundaries = BoundaryList()\n",
    "@boundary begin\n",
    "    unitops --> [\"Mixer\", \"Reactor\"]\n",
    "end \"B1\" sysunitops sysboundaries\n",
    "\n",
    "sysboundaries[\"B1\"].atomclosures\n",
    "\n",
    "sysboundaries[\"B1\"].closure\n",
    "\n",
    "sysboundaries[\"B1\"].total_in.totalmassflow\n",
    "\n",
    "sysboundaries[\"B1\"].total_out.totalmassflow\n",
    "\n",
    "c1 = conversion(sysboundaries[\"B1\"], \"Ethane\")\n",
    "c2 = conversion(sysboundaries[\"B1\"], \"Ethylene\")\n",
    "\n",
    "sc2 = molar_selectivity(sysboundaries[\"B1\"], \"Ethylene\", \"Ethane\")\n",
    "\n",
    "(mean(values(c1)), mean(values(c2)), mean(values(sc2)))"
   ],
   "metadata": {},
   "execution_count": 56
  },
  {
   "cell_type": "markdown",
   "source": [
    "So, we have average conversions of ethane (-11%, meaning it was produced, not consumed), ethylene (99.9%) and selectivity of ethylene conversion to ethane (~100%) similar to the single data point above."
   ],
   "metadata": {}
  },
  {
   "cell_type": "markdown",
   "source": [
    "## Mass balance reconciliation"
   ],
   "metadata": {}
  },
  {
   "cell_type": "markdown",
   "source": [
    "The mass balance reconciliation algorithm is currently *VERY BASIC*! This will be updated at the first opportunity, but will be invisible to the end-user and will not have major impacts on the user interface unless additional user input is required."
   ],
   "metadata": {}
  },
  {
   "cell_type": "markdown",
   "source": [
    "To demomstrate the use of the reconciliation tool, we repeat the flowsheet above, but introduce some (artificial) flow measurement errors."
   ],
   "metadata": {}
  },
  {
   "outputs": [
    {
     "output_type": "execute_result",
     "data": {
      "text/plain": "Balance Boundary:\n\nEnclosed units: [\"eMixer\", \"eReactor\"]\n\nClosure:\n┌─────────────────────┬────────────────────┐\n│\u001b[1m           timestamp \u001b[0m│\u001b[1m Total Mass Closure \u001b[0m│\n│\u001b[90m      Dates.DateTime \u001b[0m│\u001b[90m            Float64 \u001b[0m│\n├─────────────────────┼────────────────────┤\n│ 2020-01-01T00:00:00 │           0.958788 │\n│ 2020-01-01T06:00:00 │           0.958655 │\n│ 2020-01-02T00:00:00 │           0.958268 │\n│ 2020-01-02T06:00:00 │           0.958248 │\n│ 2020-01-03T00:00:00 │           0.958608 │\n│          ⋮          │         ⋮          │\n└─────────────────────┴────────────────────┘\n\u001b[36m                             22 rows omitted\u001b[0m\n\nCombined Feed Mass Flows:\n┌─────────────────────┬──────────┬─────────┬──────────┬──────────┬─────────┐\n│\u001b[1m           timestamp \u001b[0m│\u001b[1m Ethylene \u001b[0m│\u001b[1m  Ethane \u001b[0m│\u001b[1m Hydrogen \u001b[0m│\u001b[1m Nitrogen \u001b[0m│\u001b[1m   Argon \u001b[0m│\n│\u001b[90m      Dates.DateTime \u001b[0m│\u001b[90m  Float64 \u001b[0m│\u001b[90m Float64 \u001b[0m│\u001b[90m  Float64 \u001b[0m│\u001b[90m  Float64 \u001b[0m│\u001b[90m Float64 \u001b[0m│\n├─────────────────────┼──────────┼─────────┼──────────┼──────────┼─────────┤\n│ 2020-01-01T00:00:00 │   3.1588 │ 28.1775 │  2.13952 │      0.0 │     0.0 │\n│ 2020-01-01T06:00:00 │  3.16289 │  28.312 │  2.10149 │      0.0 │     0.0 │\n│ 2020-01-02T00:00:00 │  2.71523 │  31.114 │  2.11069 │      0.0 │     0.0 │\n│ 2020-01-02T06:00:00 │  3.12498 │ 30.6418 │  2.09903 │      0.0 │     0.0 │\n│ 2020-01-03T00:00:00 │  3.04658 │ 29.1502 │  2.13223 │      0.0 │     0.0 │\n│          ⋮          │    ⋮     │    ⋮    │    ⋮     │    ⋮     │    ⋮    │\n└─────────────────────┴──────────┴─────────┴──────────┴──────────┴─────────┘\n\u001b[36m                                                             22 rows omitted\u001b[0m\nCombined Product Mass Flows:\n┌─────────────────────┬──────────┬─────────┬──────────┬──────────┬─────────┐\n│\u001b[1m           timestamp \u001b[0m│\u001b[1m Ethylene \u001b[0m│\u001b[1m  Ethane \u001b[0m│\u001b[1m Hydrogen \u001b[0m│\u001b[1m Nitrogen \u001b[0m│\u001b[1m   Argon \u001b[0m│\n│\u001b[90m      Dates.DateTime \u001b[0m│\u001b[90m  Float64 \u001b[0m│\u001b[90m Float64 \u001b[0m│\u001b[90m  Float64 \u001b[0m│\u001b[90m  Float64 \u001b[0m│\u001b[90m Float64 \u001b[0m│\n├─────────────────────┼──────────┼─────────┼──────────┼──────────┼─────────┤\n│ 2020-01-01T00:00:00 │      0.0 │ 30.0603 │  2.03596 │      0.0 │     0.0 │\n│ 2020-01-01T06:00:00 │      0.0 │ 30.1925 │  1.99564 │      0.0 │     0.0 │\n│ 2020-01-02T00:00:00 │      0.0 │ 32.4041 │  2.03596 │      0.0 │     0.0 │\n│ 2020-01-02T06:00:00 │      0.0 │ 32.3727 │  1.99564 │      0.0 │     0.0 │\n│ 2020-01-03T00:00:00 │      0.0 │ 30.8721 │  2.03596 │      0.0 │     0.0 │\n│          ⋮          │    ⋮     │    ⋮    │    ⋮     │    ⋮     │    ⋮    │\n└─────────────────────┴──────────┴─────────┴──────────┴──────────┴─────────┘\n\u001b[36m                                                             22 rows omitted\u001b[0m\n\nElemental closures (-1.0 if not present):\n┌─────────────────────┬─────────────────────────────────────────────────────────┐\n│\u001b[1m           timestamp \u001b[0m│\u001b[1m                                      Elemental Closures \u001b[0m│\n│\u001b[90m      Dates.DateTime \u001b[0m│\u001b[90m                                   Dict{String, Float64} \u001b[0m│\n├─────────────────────┼─────────────────────────────────────────────────────────┤\n│ 2020-01-01T00:00:00 │ Dict(\"C\"=>0.952381, \"N\"=>0.0, \"Ar\"=>0.0, \"H\"=>0.978346) │\n│ 2020-01-01T06:00:00 │ Dict(\"C\"=>0.952381, \"N\"=>0.0, \"Ar\"=>0.0, \"H\"=>0.977917) │\n│ 2020-01-02T00:00:00 │  Dict(\"C\"=>0.952381, \"N\"=>0.0, \"Ar\"=>0.0, \"H\"=>0.97654) │\n│ 2020-01-02T06:00:00 │ Dict(\"C\"=>0.952381, \"N\"=>0.0, \"Ar\"=>0.0, \"H\"=>0.976538) │\n│ 2020-01-03T00:00:00 │  Dict(\"C\"=>0.952381, \"N\"=>0.0, \"Ar\"=>0.0, \"H\"=>0.97773) │\n│          ⋮          │                            ⋮                            │\n└─────────────────────┴─────────────────────────────────────────────────────────┘\n\u001b[36m                                                                  22 rows omitted\u001b[0m\n"
     },
     "metadata": {},
     "execution_count": 57
    }
   ],
   "cell_type": "code",
   "source": [
    "copystream!(sysstreams, \"C2\", \"eC2\", factor = 1.05)\n",
    "copystream!(sysstreams, \"H2\", \"eH2\", factor = 0.95)\n",
    "copystream!(sysstreams, \"Product\", \"eProduct\")\n",
    "sysstreams[\"eMixed\"] = emptystream(sysstreams, \"eMixed\") # We'll calculate this stream with the mixer model\n",
    "\n",
    "@unitop begin\n",
    "    inlets --> [\"eH2\", \"eC2\"]\n",
    "    outlets --> [\"eMixed\"]\n",
    "    calc --> mixer!\n",
    "end \"eMixer\" sysstreams sysunitops\n",
    "sysunitops[\"eMixer\"]()\n",
    "\n",
    "@unitop begin\n",
    "    inlets --> [\"eMixed\"]\n",
    "    outlets --> [\"eProduct\"]\n",
    "end \"eReactor\" sysstreams sysunitops\n",
    "\n",
    "@boundary begin\n",
    "    unitops --> [\"eMixer\", \"eReactor\"]\n",
    "end \"B2\" sysunitops sysboundaries"
   ],
   "metadata": {},
   "execution_count": 57
  },
  {
   "cell_type": "markdown",
   "source": [
    "We can request the correction factors, without applying them."
   ],
   "metadata": {}
  },
  {
   "outputs": [
    {
     "output_type": "execute_result",
     "data": {
      "text/plain": "Dict{String, Float64} with 6 entries:\n  \"C2\"       => 1.0\n  \"Product\"  => 1.0\n  \"eC2\"      => 0.95095\n  \"eH2\"      => 1.04648\n  \"eProduct\" => 0.998\n  \"H2\"       => 1.0"
     },
     "metadata": {},
     "execution_count": 58
    }
   ],
   "cell_type": "code",
   "source": [
    "corrections = calccorrections(sysboundaries)"
   ],
   "metadata": {},
   "execution_count": 58
  },
  {
   "cell_type": "markdown",
   "source": [
    "We can also pass through a custom additional error function to minimize.\n",
    "We have a custom function that receives a dictionary of the correction factors and can do any arbitrary calculation.\n",
    "The retured value is added to the weighted square errors of the total mass and element balances.\n",
    "You can, for example, add distance from equilibrium for a reaction to the reconciliation."
   ],
   "metadata": {}
  },
  {
   "outputs": [
    {
     "output_type": "execute_result",
     "data": {
      "text/plain": "Dict{String, Float64} with 6 entries:\n  \"C2\"       => 1.0\n  \"Product\"  => 1.0\n  \"eC2\"      => 0.988278\n  \"eH2\"      => 0.999576\n  \"eProduct\" => 1.01187\n  \"H2\"       => 1.0"
     },
     "metadata": {},
     "execution_count": 59
    }
   ],
   "cell_type": "code",
   "source": [
    "myerr(factorDict) = 100.0 * sum(abs2, 1.0 .- values(factorDict))\n",
    "corrections = calccorrections(sysboundaries, customerror=myerr)"
   ],
   "metadata": {},
   "execution_count": 59
  },
  {
   "cell_type": "markdown",
   "source": [
    "The previous example uses a constant weight for all elements, but we can specifiy individual weights as well."
   ],
   "metadata": {}
  },
  {
   "outputs": [
    {
     "output_type": "execute_result",
     "data": {
      "text/plain": "Dict{String, Float64} with 6 entries:\n  \"C2\"       => 1.0\n  \"Product\"  => 1.0\n  \"eC2\"      => 0.986905\n  \"eH2\"      => 0.99976\n  \"eProduct\" => 1.01299\n  \"H2\"       => 1.0"
     },
     "metadata": {},
     "execution_count": 60
    }
   ],
   "cell_type": "code",
   "source": [
    "weights = Dict([\"H\" => 1.0, \"C\" => 1.5, \"O\" => 1.0, \"Ar\" => 0.0, \"N\" => 0.0])\n",
    "corrections2 = calccorrections(sysboundaries, customerror=myerr, setelements=true, elementweights=weights)"
   ],
   "metadata": {},
   "execution_count": 60
  },
  {
   "cell_type": "markdown",
   "source": [
    "`calccorrections` takes a boundary for which to calculate the correction factors, and then optional weights for the total mass balance error and the elemental errors.\n",
    "These latter values default to 1.0 each. It uses [Ridge Regression](https://www.ibm.com/topics/ridge-regression?_sm_au_=iF5HM658VZnjn6Sr0GLqHKHB1jtC6) with a default λ = 0.1\n",
    "\n",
    "  function calccorrections_anchor(boundary::BalanceBoundary, anchor::String; totalweight=1.0, elementweight = 1.0,\n",
    "        setelements = false, elementweights::Dict{String, Float64} = Dict{String, Float64}())"
   ],
   "metadata": {}
  },
  {
   "cell_type": "markdown",
   "source": [
    "An alternative option is to use an anchor stream, rather than Ridge Regression. The correction factor for the anchor stream will be 1.0, i.e. there is no adjustment."
   ],
   "metadata": {}
  },
  {
   "cell_type": "markdown",
   "source": [
    "corrections_a = calccorrections_anchor(sysboundaries[\"B2\"], \"eProduct\")\n",
    "corrections_a = calccorrections_anchor(sysboundaries[\"B2\"], \"eProduct\", myerr)"
   ],
   "metadata": {}
  },
  {
   "cell_type": "markdown",
   "source": [
    "Or again, with inidividual element weights"
   ],
   "metadata": {}
  },
  {
   "cell_type": "markdown",
   "source": [
    "corrections_a = calccorrections_anchor(sysboundaries[\"B2\"], \"eProduct\", setelements=true, elementweights=weights)"
   ],
   "metadata": {}
  },
  {
   "cell_type": "markdown",
   "source": [
    "`calccorrections_anchor` takes a boundary for which to calculate the correction factors, an anchor stream, for which the correction is always 1.0 - no change, and then optional weights for the total mass balance error and the elemental errors.\n",
    "These latter values default to 1.0 each.\n",
    "\n",
    "  `function calccorrections(boundary::BalanceBoundary, anchor::String; totalweight=1.0, elementweight=1.0)`"
   ],
   "metadata": {}
  },
  {
   "cell_type": "markdown",
   "source": [
    "We can apply the corrections, with `closemb()`, which will take a `Dict` of correction factors."
   ],
   "metadata": {}
  },
  {
   "cell_type": "markdown",
   "source": [
    "b2 = closemb(sysboundaries[\"B2\"], corrections)\n",
    "b3 = closemb(sysboundaries[\"B2\"], corrections_a)"
   ],
   "metadata": {}
  },
  {
   "cell_type": "markdown",
   "source": [
    "Let's compare the raw and reconciled closures:"
   ],
   "metadata": {}
  },
  {
   "cell_type": "markdown",
   "source": [
    "(mean(values(b.closure)), mean(values(b2.closure)), mean(values(b3.closure)))"
   ],
   "metadata": {}
  },
  {
   "cell_type": "markdown",
   "source": [
    "We can now write corrected streams back to file"
   ],
   "metadata": {}
  },
  {
   "cell_type": "markdown",
   "source": [
    "writestreamhistory(sysstreams[\"C2\"], \"corrected.csv\")"
   ],
   "metadata": {}
  },
  {
   "cell_type": "markdown",
   "source": [
    "We can also request some information from a bounary. This is given in table form, packed into a string."
   ],
   "metadata": {}
  },
  {
   "cell_type": "markdown",
   "source": [
    "#  nb print(showdata(b2))"
   ],
   "metadata": {}
  },
  {
   "cell_type": "markdown",
   "source": [
    "## Flowsheets"
   ],
   "metadata": {}
  },
  {
   "cell_type": "markdown",
   "source": [
    "Lastly, for convenience, we can creat a `Flowsheet` object, which holds a number of unit operations and an execution order.\n",
    "If the flowsheet is then executed, each unit operation is execute in order, as specified.\n",
    "Unit operations can be added or deleted with utility functions and the execution order can be modified."
   ],
   "metadata": {}
  },
  {
   "cell_type": "markdown",
   "source": [
    "fs = Flowsheet(sysunitops, [\"Reactor\"], [1])\n",
    "addunitop!(fs, [\"Mixer\", \"ProductSplitter\", \"ComponentSplitter\", \"Mixer2\"])"
   ],
   "metadata": {}
  },
  {
   "cell_type": "markdown",
   "source": [
    "#nb fs()"
   ],
   "metadata": {}
  },
  {
   "cell_type": "markdown",
   "source": [
    "Lastly, once a `Flowsheet` object is created, a block flow diagram can also be generated."
   ],
   "metadata": {}
  },
  {
   "cell_type": "markdown",
   "source": [
    "#nb generateBFD(fs, \"./myflowsheet.svg\")"
   ],
   "metadata": {}
  },
  {
   "cell_type": "markdown",
   "source": [
    "---\n",
    "\n",
    "*This notebook was generated using [Literate.jl](https://github.com/fredrikekre/Literate.jl).*"
   ],
   "metadata": {}
  }
 ],
 "nbformat_minor": 3,
 "metadata": {
  "language_info": {
   "file_extension": ".jl",
   "mimetype": "application/julia",
   "name": "julia",
   "version": "1.10.4"
  },
  "kernelspec": {
   "name": "julia-1.10",
   "display_name": "Julia 1.10.4",
   "language": "julia"
  }
 },
 "nbformat": 4
}
