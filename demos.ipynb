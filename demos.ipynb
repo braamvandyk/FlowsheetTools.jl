{
 "cells": [
  {
   "cell_type": "markdown",
   "source": [
    "# FlowsheetTools.jl Demonstration\n",
    "FlowsheetTools.jl is a simply library for dealing with flowsheets (components, streams, unitops, boundaries and flowsheets).\n",
    "It can be used as a platform for running custom models, for example when fitting kinetic parameters to pilot plant data, where the operating unit is more complicated than a single reactor.\n",
    "The primary intended purpose however, was for process analytics - generating KPIs on a flowsheet and reconciling mass balances for generic flowsheets."
   ],
   "metadata": {}
  },
  {
   "outputs": [],
   "cell_type": "code",
   "source": [
    "using FlowsheetTools, Statistics"
   ],
   "metadata": {},
   "execution_count": 1
  },
  {
   "cell_type": "markdown",
   "source": [
    "## Components"
   ],
   "metadata": {}
  },
  {
   "cell_type": "markdown",
   "source": [
    "We need a ComponentList to hold all the components, so we know where to find them later"
   ],
   "metadata": {}
  },
  {
   "outputs": [
    {
     "output_type": "execute_result",
     "data": {
      "text/plain": "Component list:\n"
     },
     "metadata": {},
     "execution_count": 2
    }
   ],
   "cell_type": "code",
   "source": [
    "syscomps = ComponentList()"
   ],
   "metadata": {},
   "execution_count": 2
  },
  {
   "cell_type": "markdown",
   "source": [
    "You can read them from a folder with saved components"
   ],
   "metadata": {}
  },
  {
   "outputs": [
    {
     "output_type": "execute_result",
     "data": {
      "text/plain": "3"
     },
     "metadata": {},
     "execution_count": 3
    }
   ],
   "cell_type": "code",
   "source": [
    "count = readcomponentlist!(syscomps, \"components\", [\"Ethylene\", \"Ethane\", \"Hydrogen\"])"
   ],
   "metadata": {},
   "execution_count": 3
  },
  {
   "cell_type": "markdown",
   "source": [
    "Or define them directly"
   ],
   "metadata": {}
  },
  {
   "outputs": [
    {
     "output_type": "execute_result",
     "data": {
      "text/plain": "Component: Nitrogen\n\n  Atom\t\tCount\n---------------------\n   N \t\t   2\n"
     },
     "metadata": {},
     "execution_count": 4
    }
   ],
   "cell_type": "code",
   "source": [
    "@comp begin\n",
    "    N --> 2\n",
    "end \"Nitrogen\" syscomps"
   ],
   "metadata": {},
   "execution_count": 4
  },
  {
   "cell_type": "markdown",
   "source": [
    "And then save them to file to re-use later."
   ],
   "metadata": {}
  },
  {
   "outputs": [
    {
     "output_type": "execute_result",
     "data": {
      "text/plain": "22"
     },
     "metadata": {},
     "execution_count": 5
    }
   ],
   "cell_type": "code",
   "source": [
    "writecomponent(joinpath(\"components/\", \"Nitrogen.comp\"), syscomps[\"Nitrogen\"])"
   ],
   "metadata": {},
   "execution_count": 5
  },
  {
   "cell_type": "markdown",
   "source": [
    "## Streams"
   ],
   "metadata": {}
  },
  {
   "cell_type": "markdown",
   "source": [
    "As for components, we create a container stream list to hold the streams so we have something to iterate through later."
   ],
   "metadata": {}
  },
  {
   "outputs": [
    {
     "output_type": "execute_result",
     "data": {
      "text/plain": "Stream list:\n\nStreams:\n\tEmpty list\n"
     },
     "metadata": {},
     "execution_count": 6
    }
   ],
   "cell_type": "code",
   "source": [
    "sysstreams = StreamList()"
   ],
   "metadata": {},
   "execution_count": 6
  },
  {
   "cell_type": "markdown",
   "source": [
    "You can create the streams directly with instantaneous flows.\n",
    "This can be in either mass or molar flows.\n",
    "The units are not specified - if you assume the mass flows are in kg/h, then the molar equivalent is kmol/hr, but this could as easily be lb/week and lbmole/week."
   ],
   "metadata": {}
  },
  {
   "outputs": [
    {
     "output_type": "execute_result",
     "data": {
      "text/plain": "Stream: Product\n\n┌─────────────┬──────────┬─────────┬──────────┬──────────┐\n│\u001b[1m             \u001b[0m│\u001b[1m Ethylene \u001b[0m│\u001b[1m  Ethane \u001b[0m│\u001b[1m Hydrogen \u001b[0m│\u001b[1m Nitrogen \u001b[0m│\n├─────────────┼──────────┼─────────┼──────────┼──────────┤\n│ Mass flows  │   2.8053 │ 27.0619 │  2.21738 │      0.0 │\n│ Molar flows │      0.1 │     0.9 │      1.1 │      0.0 │\n└─────────────┴──────────┴─────────┴──────────┴──────────┘\n\nTotal mass flow: 32.085\n\n┌──────┬────────────┐\n│\u001b[1m Atom \u001b[0m│\u001b[1m Molar flow \u001b[0m│\n├──────┼────────────┤\n│    C │        2.0 │\n│    N │        0.0 │\n│    H │        8.0 │\n└──────┴────────────┘\n"
     },
     "metadata": {},
     "execution_count": 7
    }
   ],
   "cell_type": "code",
   "source": [
    "@stream mass begin\n",
    "    \"Ethylene\" --> 2.8053\n",
    "    \"Ethane\" --> 27.06192\n",
    "    \"Hydrogen\" --> 2.21738\n",
    "end \"Test\" syscomps sysstreams\n",
    "\n",
    "@stream mole begin\n",
    "    \"Ethane\" --> 0.9\n",
    "    \"Hydrogen\" --> 1.1\n",
    "    \"Ethylene\" --> 0.1\n",
    "end \"Product\" syscomps sysstreams"
   ],
   "metadata": {},
   "execution_count": 7
  },
  {
   "cell_type": "markdown",
   "source": [
    "One stream here was specified as mass flows, the other as molar flows, but there streams are the same and the missing flows (mass/mole) are calculated automatically in the constructor."
   ],
   "metadata": {}
  },
  {
   "cell_type": "markdown",
   "source": [
    "We can quickly check if the molar flows are identical:"
   ],
   "metadata": {}
  },
  {
   "outputs": [
    {
     "output_type": "execute_result",
     "data": {
      "text/plain": "1×4 TimeSeries.TimeArray{Bool, 2, Dates.DateTime, BitMatrix} 0000-01-01T00:00:00 to 0000-01-01T00:00:00\n┌─────────────────────┬───────────────────┬───────────────┬─────────────────────\n│\u001b[1m                     \u001b[0m│\u001b[1m Ethylene_Ethylene \u001b[0m│\u001b[1m Ethane_Ethane \u001b[0m│\u001b[1m Hydrogen_Hydrogen \u001b[0m ⋯\n├─────────────────────┼───────────────────┼───────────────┼─────────────────────\n│ 0000-01-01T00:00:00 │              true │          true │              true  ⋯\n└─────────────────────┴───────────────────┴───────────────┴─────────────────────\n\u001b[36m                                                                1 column omitted\u001b[0m"
     },
     "metadata": {},
     "execution_count": 8
    }
   ],
   "cell_type": "code",
   "source": [
    "sysstreams[\"Test\"].moleflows .≈ sysstreams[\"Product\"].moleflows"
   ],
   "metadata": {},
   "execution_count": 8
  },
  {
   "cell_type": "markdown",
   "source": [
    "Or, more conveniently, directly with the `≈` or `==` operators.\n",
    "Keep in mind that using `==` for floating point values is likely to give `false` when you would expect `true`, so it is recommende to rather use `≈` (`\\approx<tab>`)"
   ],
   "metadata": {}
  },
  {
   "outputs": [
    {
     "output_type": "execute_result",
     "data": {
      "text/plain": "true"
     },
     "metadata": {},
     "execution_count": 9
    }
   ],
   "cell_type": "code",
   "source": [
    "sysstreams[\"Test\"] ≈ sysstreams[\"Product\"]"
   ],
   "metadata": {},
   "execution_count": 9
  },
  {
   "outputs": [
    {
     "output_type": "execute_result",
     "data": {
      "text/plain": "false"
     },
     "metadata": {},
     "execution_count": 10
    }
   ],
   "cell_type": "code",
   "source": [
    "sysstreams[\"Test\"] == sysstreams[\"Product\"]"
   ],
   "metadata": {},
   "execution_count": 10
  },
  {
   "cell_type": "markdown",
   "source": [
    "And, for the skeptical members of the audience, we can also check the atomic flows:"
   ],
   "metadata": {}
  },
  {
   "outputs": [
    {
     "output_type": "execute_result",
     "data": {
      "text/plain": "true"
     },
     "metadata": {},
     "execution_count": 11
    }
   ],
   "cell_type": "code",
   "source": [
    "all(getindex.(values(sysstreams[\"Test\"].atomflows), \"C\") .== getindex.(values(sysstreams[\"Product\"].atomflows), \"C\"))"
   ],
   "metadata": {},
   "execution_count": 11
  },
  {
   "outputs": [
    {
     "output_type": "execute_result",
     "data": {
      "text/plain": "true"
     },
     "metadata": {},
     "execution_count": 12
    }
   ],
   "cell_type": "code",
   "source": [
    "all(getindex.(values(sysstreams[\"Test\"].atomflows), \"H\") .== getindex.(values(sysstreams[\"Product\"].atomflows), \"H\"))"
   ],
   "metadata": {},
   "execution_count": 12
  },
  {
   "cell_type": "markdown",
   "source": [
    "When we want to deal with streams with multiple historic data points, we read them from a file."
   ],
   "metadata": {}
  },
  {
   "cell_type": "markdown",
   "source": [
    "First, start with a new, empty stream list:"
   ],
   "metadata": {}
  },
  {
   "outputs": [
    {
     "output_type": "execute_result",
     "data": {
      "text/plain": "Stream list:\n\nStreams:\n\tEmpty list\n"
     },
     "metadata": {},
     "execution_count": 13
    }
   ],
   "cell_type": "code",
   "source": [
    "sysstreams = StreamList()"
   ],
   "metadata": {},
   "execution_count": 13
  },
  {
   "cell_type": "markdown",
   "source": [
    "Then we read the streams from file."
   ],
   "metadata": {}
  },
  {
   "outputs": [
    {
     "output_type": "execute_result",
     "data": {
      "text/plain": "Stream: Product\n\nMass flows:\n┌─────────────────────┬──────────┬─────────┬──────────┬──────────┐\n│\u001b[1m           timestamp \u001b[0m│\u001b[1m Ethylene \u001b[0m│\u001b[1m  Ethane \u001b[0m│\u001b[1m Hydrogen \u001b[0m│\u001b[1m Nitrogen \u001b[0m│\n│\u001b[90m      Dates.DateTime \u001b[0m│\u001b[90m  Float64 \u001b[0m│\u001b[90m Float64 \u001b[0m│\u001b[90m  Float64 \u001b[0m│\u001b[90m  Float64 \u001b[0m│\n├─────────────────────┼──────────┼─────────┼──────────┼──────────┤\n│ 2020-01-01T00:00:00 │  2.66076 │ 84.9202 │ 0.215866 │      0.0 │\n│ 2020-01-01T06:00:00 │  2.99313 │ 93.3901 │ 0.194023 │      0.0 │\n│ 2020-01-02T00:00:00 │  2.86944 │ 88.1101 │ 0.186885 │      0.0 │\n│ 2020-01-02T06:00:00 │  2.98391 │ 88.3229 │  0.20051 │      0.0 │\n│ 2020-01-03T00:00:00 │  3.01277 │ 92.5947 │ 0.217602 │      0.0 │\n│          ⋮          │    ⋮     │    ⋮    │    ⋮     │    ⋮     │\n└─────────────────────┴──────────┴─────────┴──────────┴──────────┘\n\u001b[36m                                                   22 rows omitted\u001b[0m\n\nMolar flows:\n┌─────────────────────┬───────────┬─────────┬───────────┬──────────┐\n│\u001b[1m           timestamp \u001b[0m│\u001b[1m  Ethylene \u001b[0m│\u001b[1m  Ethane \u001b[0m│\u001b[1m  Hydrogen \u001b[0m│\u001b[1m Nitrogen \u001b[0m│\n│\u001b[90m      Dates.DateTime \u001b[0m│\u001b[90m   Float64 \u001b[0m│\u001b[90m Float64 \u001b[0m│\u001b[90m   Float64 \u001b[0m│\u001b[90m  Float64 \u001b[0m│\n├─────────────────────┼───────────┼─────────┼───────────┼──────────┤\n│ 2020-01-01T00:00:00 │ 0.0948475 │  2.8242 │  0.107087 │      0.0 │\n│ 2020-01-01T06:00:00 │  0.106695 │ 3.10588 │ 0.0962513 │      0.0 │\n│ 2020-01-02T00:00:00 │  0.102286 │ 2.93028 │ 0.0927099 │      0.0 │\n│ 2020-01-02T06:00:00 │  0.106367 │ 2.93736 │ 0.0994692 │      0.0 │\n│ 2020-01-03T00:00:00 │  0.107396 │ 3.07943 │  0.107948 │      0.0 │\n│          ⋮          │     ⋮     │    ⋮    │     ⋮     │    ⋮     │\n└─────────────────────┴───────────┴─────────┴───────────┴──────────┘\n\u001b[36m                                                     22 rows omitted\u001b[0m\n\n\nAtom Flows:\n┌─────────────────────┬────────────────────────────────────────────┐\n│\u001b[1m           timestamp \u001b[0m│\u001b[1m                                  atomflows \u001b[0m│\n│\u001b[90m      Dates.DateTime \u001b[0m│\u001b[90m                      Dict{String, Float64} \u001b[0m│\n├─────────────────────┼────────────────────────────────────────────┤\n│ 2020-01-01T00:00:00 │ Dict(\"C\"=>5.83809, \"N\"=>0.0, \"H\"=>17.5387) │\n│ 2020-01-01T06:00:00 │ Dict(\"C\"=>6.42515, \"N\"=>0.0, \"H\"=>19.2546) │\n│ 2020-01-02T00:00:00 │ Dict(\"C\"=>6.06514, \"N\"=>0.0, \"H\"=>18.1763) │\n│ 2020-01-02T06:00:00 │ Dict(\"C\"=>6.08745, \"N\"=>0.0, \"H\"=>18.2486) │\n│ 2020-01-03T00:00:00 │  Dict(\"C\"=>6.37365, \"N\"=>0.0, \"H\"=>19.122) │\n│          ⋮          │                     ⋮                      │\n└─────────────────────┴────────────────────────────────────────────┘\n\u001b[36m                                                     22 rows omitted\u001b[0m\n\nData length:\t27\nData starts:\t2020-01-01T00:00:00\nData ends:\t2020-01-14T00:00:00\n"
     },
     "metadata": {},
     "execution_count": 14
    }
   ],
   "cell_type": "code",
   "source": [
    "sysstreams[\"Feed\"] = readstreamhistory(joinpath(\"streamhistories\", \"FeedStream.csv\"), \"Feed\", syscomps; ismoleflow=true)\n",
    "sysstreams[\"Product\"] = readstreamhistory(joinpath(\"streamhistories\", \"ProdStream.csv\"), \"Product\", syscomps; ismoleflow=true)"
   ],
   "metadata": {},
   "execution_count": 14
  },
  {
   "cell_type": "markdown",
   "source": [
    "In the data files (*.csv), we had columns of data for ethylene, ethane and hydrogen, but or list of components also include nitrogen.\n",
    "We automatically set zero flows for amy components not in the file, so all the streams contain all of the components (for our sanity)."
   ],
   "metadata": {}
  },
  {
   "cell_type": "markdown",
   "source": [
    "We can still add components to the component list after the streams were created.\n",
    "If we do, then we should also call `refreshcomplist(streamlist)` to add zero flows for all of these new components to the existing streams in the stream list."
   ],
   "metadata": {}
  },
  {
   "outputs": [],
   "cell_type": "code",
   "source": [
    "@comp begin\n",
    "    Ar --> 1\n",
    "end \"Argon\" syscomps\n",
    "\n",
    "refreshcomplist(sysstreams)\n",
    "\n",
    "sysstreams[\"Feed\"];"
   ],
   "metadata": {},
   "execution_count": 15
  },
  {
   "cell_type": "markdown",
   "source": [
    "## What can we do with streams?"
   ],
   "metadata": {}
  },
  {
   "cell_type": "markdown",
   "source": [
    "Operations defined on streams include addition and multiplication with a scalar. Addition of streams is effectively a mixer unit.\n",
    "Multiplication is used to allow correction factors for mass balance reconciliation."
   ],
   "metadata": {}
  },
  {
   "outputs": [
    {
     "output_type": "execute_result",
     "data": {
      "text/plain": "Stream: Product\n\nMass flows:\n┌─────────────────────┬──────────┬─────────┬──────────┬──────────┬─────────┐\n│\u001b[1m           timestamp \u001b[0m│\u001b[1m Ethylene \u001b[0m│\u001b[1m  Ethane \u001b[0m│\u001b[1m Hydrogen \u001b[0m│\u001b[1m Nitrogen \u001b[0m│\u001b[1m   Argon \u001b[0m│\n│\u001b[90m      Dates.DateTime \u001b[0m│\u001b[90m  Float64 \u001b[0m│\u001b[90m Float64 \u001b[0m│\u001b[90m  Float64 \u001b[0m│\u001b[90m  Float64 \u001b[0m│\u001b[90m Float64 \u001b[0m│\n├─────────────────────┼──────────┼─────────┼──────────┼──────────┼─────────┤\n│ 2020-01-01T00:00:00 │  5.32151 │  169.84 │ 0.431731 │      0.0 │     0.0 │\n│ 2020-01-01T06:00:00 │  5.98625 │  186.78 │ 0.388047 │      0.0 │     0.0 │\n│ 2020-01-02T00:00:00 │  5.73888 │  176.22 │ 0.373769 │      0.0 │     0.0 │\n│ 2020-01-02T06:00:00 │  5.96781 │ 176.646 │  0.40102 │      0.0 │     0.0 │\n│ 2020-01-03T00:00:00 │  6.02554 │ 185.189 │ 0.435204 │      0.0 │     0.0 │\n│          ⋮          │    ⋮     │    ⋮    │    ⋮     │    ⋮     │    ⋮    │\n└─────────────────────┴──────────┴─────────┴──────────┴──────────┴─────────┘\n\u001b[36m                                                             22 rows omitted\u001b[0m\n\nMolar flows:\n┌─────────────────────┬──────────┬─────────┬──────────┬──────────┬─────────┐\n│\u001b[1m           timestamp \u001b[0m│\u001b[1m Ethylene \u001b[0m│\u001b[1m  Ethane \u001b[0m│\u001b[1m Hydrogen \u001b[0m│\u001b[1m Nitrogen \u001b[0m│\u001b[1m   Argon \u001b[0m│\n│\u001b[90m      Dates.DateTime \u001b[0m│\u001b[90m  Float64 \u001b[0m│\u001b[90m Float64 \u001b[0m│\u001b[90m  Float64 \u001b[0m│\u001b[90m  Float64 \u001b[0m│\u001b[90m Float64 \u001b[0m│\n├─────────────────────┼──────────┼─────────┼──────────┼──────────┼─────────┤\n│ 2020-01-01T00:00:00 │ 0.189695 │ 5.64839 │ 0.214174 │      0.0 │     0.0 │\n│ 2020-01-01T06:00:00 │ 0.213391 │ 6.21176 │ 0.192503 │      0.0 │     0.0 │\n│ 2020-01-02T00:00:00 │ 0.204573 │ 5.86056 │  0.18542 │      0.0 │     0.0 │\n│ 2020-01-02T06:00:00 │ 0.212734 │ 5.87472 │ 0.198938 │      0.0 │     0.0 │\n│ 2020-01-03T00:00:00 │ 0.214791 │ 6.15885 │ 0.215896 │      0.0 │     0.0 │\n│          ⋮          │    ⋮     │    ⋮    │    ⋮     │    ⋮     │    ⋮    │\n└─────────────────────┴──────────┴─────────┴──────────┴──────────┴─────────┘\n\u001b[36m                                                             22 rows omitted\u001b[0m\n\n\nAtom Flows:\n┌─────────────────────┬───────────────────────────────────────────────────────┐\n│\u001b[1m           timestamp \u001b[0m│\u001b[1m                                             atomflows \u001b[0m│\n│\u001b[90m      Dates.DateTime \u001b[0m│\u001b[90m                                 Dict{String, Float64} \u001b[0m│\n├─────────────────────┼───────────────────────────────────────────────────────┤\n│ 2020-01-01T00:00:00 │ Dict(\"C\"=>11.6762, \"N\"=>0.0, \"Ar\"=>0.0, \"H\"=>35.0775) │\n│ 2020-01-01T06:00:00 │ Dict(\"C\"=>12.8503, \"N\"=>0.0, \"Ar\"=>0.0, \"H\"=>38.5091) │\n│ 2020-01-02T00:00:00 │ Dict(\"C\"=>12.1303, \"N\"=>0.0, \"Ar\"=>0.0, \"H\"=>36.3525) │\n│ 2020-01-02T06:00:00 │ Dict(\"C\"=>12.1749, \"N\"=>0.0, \"Ar\"=>0.0, \"H\"=>36.4971) │\n│ 2020-01-03T00:00:00 │ Dict(\"C\"=>12.7473, \"N\"=>0.0, \"Ar\"=>0.0, \"H\"=>38.2441) │\n│          ⋮          │                           ⋮                           │\n└─────────────────────┴───────────────────────────────────────────────────────┘\n\u001b[36m                                                                22 rows omitted\u001b[0m\n\nData length:\t27\nData starts:\t2020-01-01T00:00:00\nData ends:\t2020-01-14T00:00:00\n"
     },
     "metadata": {},
     "execution_count": 16
    }
   ],
   "cell_type": "code",
   "source": [
    "sysstreams[\"Prod2\"] = 2.0*sysstreams[\"Product\"]"
   ],
   "metadata": {},
   "execution_count": 16
  },
  {
   "cell_type": "markdown",
   "source": [
    "Check the answer"
   ],
   "metadata": {}
  },
  {
   "outputs": [
    {
     "output_type": "execute_result",
     "data": {
      "text/plain": "true"
     },
     "metadata": {},
     "execution_count": 17
    }
   ],
   "cell_type": "code",
   "source": [
    "sysstreams[\"Prod2\"] == 2.0*sysstreams[\"Product\"]"
   ],
   "metadata": {},
   "execution_count": 17
  },
  {
   "cell_type": "markdown",
   "source": [
    "Alternatively"
   ],
   "metadata": {}
  },
  {
   "outputs": [
    {
     "output_type": "execute_result",
     "data": {
      "text/plain": "true"
     },
     "metadata": {},
     "execution_count": 18
    }
   ],
   "cell_type": "code",
   "source": [
    "all(values(sysstreams[\"Prod2\"].totalmassflow) .== values(2.0 .* sysstreams[\"Product\"].totalmassflow))"
   ],
   "metadata": {},
   "execution_count": 18
  },
  {
   "cell_type": "markdown",
   "source": [
    "Note the use of `.==` and `.*` above. Internally the data are stored in `TimeArrays` from `TimeSeries.jl` and only the broadcasted operators are used on `TimeArray`s."
   ],
   "metadata": {}
  },
  {
   "cell_type": "markdown",
   "source": [
    "Comparison between `TimeArrays` returns a `TimeArray` and we extract the results as an aray using the `values()` function to get a `BitVector`."
   ],
   "metadata": {}
  },
  {
   "cell_type": "markdown",
   "source": [
    "We can also copy streams and copy with a multiplication factor:"
   ],
   "metadata": {}
  },
  {
   "outputs": [
    {
     "output_type": "execute_result",
     "data": {
      "text/plain": "true"
     },
     "metadata": {},
     "execution_count": 19
    }
   ],
   "cell_type": "code",
   "source": [
    "copystream!(sysstreams, \"Product\", \"MyStream\")\n",
    "copystream!(sysstreams, \"Product\", \"MyStream2\"; factor=2.0)\n",
    "sysstreams[\"MyStream2\"] ≈ 2.0 * sysstreams[\"MyStream\"]"
   ],
   "metadata": {},
   "execution_count": 19
  },
  {
   "cell_type": "markdown",
   "source": [
    "Copy and copy with multiply"
   ],
   "metadata": {}
  },
  {
   "outputs": [
    {
     "output_type": "execute_result",
     "data": {
      "text/plain": "true"
     },
     "metadata": {},
     "execution_count": 20
    }
   ],
   "cell_type": "code",
   "source": [
    "copystream!(sysstreams, \"Product\", \"MyStream\")\n",
    "sysstreams[\"Product\"] == sysstreams[\"MyStream\"]\n",
    "\n",
    "copystream!(sysstreams, \"Product\", \"MyStream2\"; factor=2.0) # double the flow!\n",
    "2.0 * sysstreams[\"Product\"] == sysstreams[\"MyStream2\"]"
   ],
   "metadata": {},
   "execution_count": 20
  },
  {
   "cell_type": "markdown",
   "source": [
    "The streams have different names, but we overload `==` to only check the molar flows of each component, so we get the expected answer."
   ],
   "metadata": {}
  },
  {
   "cell_type": "markdown",
   "source": [
    "Since the atomic flows are automatically calculated, they will also match"
   ],
   "metadata": {}
  },
  {
   "outputs": [
    {
     "output_type": "execute_result",
     "data": {
      "text/plain": "true"
     },
     "metadata": {},
     "execution_count": 21
    }
   ],
   "cell_type": "code",
   "source": [
    "all(getindex.(values(sysstreams[\"Product\"].atomflows), \"C\") .== getindex.(values(sysstreams[\"MyStream\"].atomflows), \"C\"))"
   ],
   "metadata": {},
   "execution_count": 21
  },
  {
   "outputs": [
    {
     "output_type": "execute_result",
     "data": {
      "text/plain": "true"
     },
     "metadata": {},
     "execution_count": 22
    }
   ],
   "cell_type": "code",
   "source": [
    "all(getindex.(values(sysstreams[\"Product\"].atomflows), \"H\") .== getindex.(values(sysstreams[\"MyStream\"].atomflows), \"H\"))"
   ],
   "metadata": {},
   "execution_count": 22
  },
  {
   "outputs": [
    {
     "output_type": "execute_result",
     "data": {
      "text/plain": "true"
     },
     "metadata": {},
     "execution_count": 23
    }
   ],
   "cell_type": "code",
   "source": [
    "all(getindex.(values(sysstreams[\"Product\"].atomflows), \"N\") .== getindex.(values(sysstreams[\"MyStream\"].atomflows), \"N\"))"
   ],
   "metadata": {},
   "execution_count": 23
  },
  {
   "cell_type": "markdown",
   "source": [
    "We can also rename or delete streams from the stream list:"
   ],
   "metadata": {}
  },
  {
   "outputs": [
    {
     "output_type": "execute_result",
     "data": {
      "text/plain": "Stream list:\n\nStreams:\n  Feed\n  Product\n  Prod2\n  MyStream2\n\nComponents:\n  Ethylene\n  Ethane\n  Hydrogen\n  Nitrogen\n  Argon\n\nData length:\t27\nData starts:\t2020-01-01T00:00:00\nData ends:\t2020-01-14T00:00:00\n"
     },
     "metadata": {},
     "execution_count": 24
    }
   ],
   "cell_type": "code",
   "source": [
    "renamestream!(sysstreams, \"MyStream\", \"Dummy\")\n",
    "deletestream!(sysstreams, \"Dummy\")\n",
    "sysstreams"
   ],
   "metadata": {},
   "execution_count": 24
  },
  {
   "cell_type": "markdown",
   "source": [
    "# UnitOps, Boundaries and KPIs"
   ],
   "metadata": {}
  },
  {
   "cell_type": "markdown",
   "source": [
    "Let's start with an empty stream list"
   ],
   "metadata": {}
  },
  {
   "outputs": [
    {
     "output_type": "execute_result",
     "data": {
      "text/plain": "Stream: C2\n\n┌─────────────┬──────────┬─────────┬──────────┬──────────┬───────┐\n│\u001b[1m             \u001b[0m│\u001b[1m Ethylene \u001b[0m│\u001b[1m  Ethane \u001b[0m│\u001b[1m Hydrogen \u001b[0m│\u001b[1m Nitrogen \u001b[0m│\u001b[1m Argon \u001b[0m│\n├─────────────┼──────────┼─────────┼──────────┼──────────┼───────┤\n│ Mass flows  │   2.8053 │ 27.0619 │      0.0 │      0.0 │   0.0 │\n│ Molar flows │      0.1 │     0.9 │      0.0 │      0.0 │   0.0 │\n└─────────────┴──────────┴─────────┴──────────┴──────────┴───────┘\n\nTotal mass flow: 29.867\n\n┌──────┬────────────┐\n│\u001b[1m Atom \u001b[0m│\u001b[1m Molar flow \u001b[0m│\n├──────┼────────────┤\n│    C │        2.0 │\n│    N │        0.0 │\n│   Ar │        0.0 │\n│    H │        5.8 │\n└──────┴────────────┘\n"
     },
     "metadata": {},
     "execution_count": 25
    }
   ],
   "cell_type": "code",
   "source": [
    "sysstreams = StreamList()\n",
    "\n",
    "@stream mole begin\n",
    "    \"Hydrogen\" --> 1.1\n",
    "end \"H2\" syscomps sysstreams\n",
    "\n",
    "@stream mole begin\n",
    "    \"Ethylene\" --> 0.1\n",
    "    \"Ethane\" --> 0.9\n",
    "end \"C2\" syscomps sysstreams"
   ],
   "metadata": {},
   "execution_count": 25
  },
  {
   "cell_type": "markdown",
   "source": [
    "We can also add an empty stream, since we don't measure the mixed stream. We'll calculate it with a mixer model later."
   ],
   "metadata": {}
  },
  {
   "outputs": [
    {
     "output_type": "execute_result",
     "data": {
      "text/plain": "Stream: Product\n\n┌─────────────┬──────────┬─────────┬──────────┬──────────┬───────┐\n│\u001b[1m             \u001b[0m│\u001b[1m Ethylene \u001b[0m│\u001b[1m  Ethane \u001b[0m│\u001b[1m Hydrogen \u001b[0m│\u001b[1m Nitrogen \u001b[0m│\u001b[1m Argon \u001b[0m│\n├─────────────┼──────────┼─────────┼──────────┼──────────┼───────┤\n│ Mass flows  │      0.0 │ 30.0688 │   2.0158 │      0.0 │   0.0 │\n│ Molar flows │      0.0 │     1.0 │      1.0 │      0.0 │   0.0 │\n└─────────────┴──────────┴─────────┴──────────┴──────────┴───────┘\n\nTotal mass flow: 32.085\n\n┌──────┬────────────┐\n│\u001b[1m Atom \u001b[0m│\u001b[1m Molar flow \u001b[0m│\n├──────┼────────────┤\n│    C │        2.0 │\n│    N │        0.0 │\n│   Ar │        0.0 │\n│    H │        8.0 │\n└──────┴────────────┘\n"
     },
     "metadata": {},
     "execution_count": 26
    }
   ],
   "cell_type": "code",
   "source": [
    "sysstreams[\"Mixed\"] = emptystream(sysstreams, \"Mixed\")\n",
    "\n",
    "@stream mole begin\n",
    "    \"Ethylene\" --> 0.0\n",
    "    \"Ethane\" --> 1.0\n",
    "    \"Hydrogen\" --> 1.0\n",
    "end \"Product\" syscomps sysstreams"
   ],
   "metadata": {},
   "execution_count": 26
  },
  {
   "cell_type": "markdown",
   "source": [
    "Now we define some unit operations. As with components and streams we need a container to be able to access the streams again later."
   ],
   "metadata": {}
  },
  {
   "outputs": [
    {
     "output_type": "execute_result",
     "data": {
      "text/plain": "Unit Operation:  Mixer\nFeed streams:    [\"H2\", \"C2\"]\n\nProduct streams: [\"Mixed\"]\n"
     },
     "metadata": {},
     "execution_count": 27
    }
   ],
   "cell_type": "code",
   "source": [
    "sysunitops = UnitOpList()\n",
    "\n",
    "@unitop begin\n",
    "    inlets --> [\"H2\", \"C2\"]\n",
    "    outlets --> [\"Mixed\"]\n",
    "    calc --> mixer!\n",
    "end \"Mixer\" sysstreams sysunitops"
   ],
   "metadata": {},
   "execution_count": 27
  },
  {
   "cell_type": "markdown",
   "source": [
    "And to execute the unit operation, we simply call it."
   ],
   "metadata": {}
  },
  {
   "outputs": [],
   "cell_type": "code",
   "source": [
    "sysunitops[\"Mixer\"]()"
   ],
   "metadata": {},
   "execution_count": 28
  },
  {
   "cell_type": "markdown",
   "source": [
    "This `UnitOp` takes the required inlet and outlet streams, but is also assigned a calculation.\n",
    "In this case, it is the predefined `mixer!` function, which is a simple stream mixer.\n",
    "This can however be any user-defined function, with the correct form.\n",
    "These calculations will supply the contents of the outlet streams based on the inlets streams and supplied model parameters.\n",
    "They are only needed if there is no information on the outlet streams."
   ],
   "metadata": {}
  },
  {
   "outputs": [
    {
     "output_type": "execute_result",
     "data": {
      "text/plain": "Unit Operation:  Reactor\nFeed streams:    [\"Mixed\"]\n\nProduct streams: [\"Product\"]\n"
     },
     "metadata": {},
     "execution_count": 29
    }
   ],
   "cell_type": "code",
   "source": [
    "@unitop begin\n",
    "    inlets --> [\"Mixed\"]\n",
    "    outlets --> [\"Product\"]\n",
    "end \"Reactor\" sysstreams sysunitops"
   ],
   "metadata": {},
   "execution_count": 29
  },
  {
   "cell_type": "markdown",
   "source": [
    "Our `Reactor` does not have an associated calculation. It is just a node in the flowsheet graph, so we shall need information for all of the inlets and outlets."
   ],
   "metadata": {}
  },
  {
   "cell_type": "markdown",
   "source": [
    "Let's split the product a little. We'll need some empty streams."
   ],
   "metadata": {}
  },
  {
   "outputs": [],
   "cell_type": "code",
   "source": [
    "sysstreams[\"Product1\"] = emptystream(sysstreams, \"Product1\");\n",
    "sysstreams[\"Product1a\"] = emptystream(sysstreams, \"Product1a\");\n",
    "sysstreams[\"Product1b\"] = emptystream(sysstreams, \"Product1b\");\n",
    "sysstreams[\"Product2\"] = emptystream(sysstreams, \"Product2\");\n",
    "sysstreams[\"Product3\"] = emptystream(sysstreams, \"Product3\");"
   ],
   "metadata": {},
   "execution_count": 30
  },
  {
   "cell_type": "markdown",
   "source": [
    "Let's also add a dummy stream with a fixed composition. We don't need it here, but it is easy to do"
   ],
   "metadata": {}
  },
  {
   "outputs": [
    {
     "output_type": "execute_result",
     "data": {
      "text/plain": "Stream: Dummy\n\n┌─────────────┬──────────┬────────┬──────────┬──────────┬────────────┐\n│\u001b[1m             \u001b[0m│\u001b[1m Ethylene \u001b[0m│\u001b[1m Ethane \u001b[0m│\u001b[1m Hydrogen \u001b[0m│\u001b[1m Nitrogen \u001b[0m│\u001b[1m      Argon \u001b[0m│\n├─────────────┼──────────┼────────┼──────────┼──────────┼────────────┤\n│ Mass flows  │     10.0 │    0.0 │      0.0 │      0.0 │        0.1 │\n│ Molar flows │ 0.356468 │    0.0 │      0.0 │      0.0 │ 0.00250325 │\n└─────────────┴──────────┴────────┴──────────┴──────────┴────────────┘\n\nTotal mass flow: 10.1\n\n┌──────┬────────────┐\n│\u001b[1m Atom \u001b[0m│\u001b[1m Molar flow \u001b[0m│\n├──────┼────────────┤\n│    C │   0.712936 │\n│    N │        0.0 │\n│   Ar │ 0.00250325 │\n│    H │    1.42587 │\n└──────┴────────────┘\n"
     },
     "metadata": {},
     "execution_count": 31
    }
   ],
   "cell_type": "code",
   "source": [
    "sysstreams[\"Dummy\"] = fixedstream(sysstreams, \"Dummy\", [10.0, 0.0, 0.0, 0.0, 0.1])"
   ],
   "metadata": {},
   "execution_count": 31
  },
  {
   "cell_type": "markdown",
   "source": [
    "A flow splitter that splits 50% of the product to each of Product1 and Product2. These streams will have identcal compositions"
   ],
   "metadata": {}
  },
  {
   "outputs": [],
   "cell_type": "code",
   "source": [
    "@unitop begin\n",
    "    inlets --> [\"Product\"]\n",
    "    outlets --> [\"Product1\", \"Product2\"]\n",
    "    calc --> flowsplitter!\n",
    "    params --> [0.5]\n",
    "end \"ProductSplitter\" sysstreams sysunitops\n",
    "\n",
    "sysunitops[\"ProductSplitter\"]()"
   ],
   "metadata": {},
   "execution_count": 32
  },
  {
   "cell_type": "markdown",
   "source": [
    "A component splitter that splits Product1 into Product1a and Product1b.\n",
    "These streams will have different compositions, with the hydrogen split 50:50, 70% of the ethane going to Product1b and the remainder of Product1, going to Product1b (the last stream listed)."
   ],
   "metadata": {}
  },
  {
   "outputs": [],
   "cell_type": "code",
   "source": [
    "@unitop begin\n",
    "    inlets --> [\"Product1\"]\n",
    "    outlets --> [\"Product1a\", \"Product1b\"]\n",
    "    calc --> componentplitter!\n",
    "    params --> Dict([\n",
    "        \"Hydrogen\" => Dict([\"Product1a\" => 0.5]),\n",
    "        \"Ethane\" => Dict([\"Product1b\" => 0.3])\n",
    "    ])\n",
    "end \"ComponentSplitter\" sysstreams sysunitops\n",
    "\n",
    "sysunitops[\"ComponentSplitter\"]()"
   ],
   "metadata": {},
   "execution_count": 33
  },
  {
   "cell_type": "markdown",
   "source": [
    "And then we mix it all again and check that we still have the original Product stream"
   ],
   "metadata": {}
  },
  {
   "outputs": [],
   "cell_type": "code",
   "source": [
    "@unitop begin\n",
    "    inlets --> [\"Product1a\", \"Product1b\", \"Product2\"]\n",
    "    outlets --> [\"Product3\"]\n",
    "    calc --> mixer!\n",
    "end \"Mixer2\" sysstreams sysunitops\n",
    "\n",
    "sysunitops[\"Mixer2\"]()"
   ],
   "metadata": {},
   "execution_count": 34
  },
  {
   "cell_type": "markdown",
   "source": [
    "Check that the two streams have the same flows"
   ],
   "metadata": {}
  },
  {
   "outputs": [
    {
     "output_type": "execute_result",
     "data": {
      "text/plain": "true"
     },
     "metadata": {},
     "execution_count": 35
    }
   ],
   "cell_type": "code",
   "source": [
    "sysstreams[\"Product\"] ≈ sysstreams[\"Product3\"]"
   ],
   "metadata": {},
   "execution_count": 35
  },
  {
   "cell_type": "markdown",
   "source": [
    "Mass balances and KPIs are defined on a boundary around a number of unit operations. We therefore define a `Boundary` and list the contained `UnitOp`s"
   ],
   "metadata": {}
  },
  {
   "outputs": [
    {
     "output_type": "execute_result",
     "data": {
      "text/plain": "Balance Boundary:\n\nEnclosed units: [\"Mixer\", \"Reactor\"]\n\nClosure:\n┌─────────────────────┬────────────────────┐\n│\u001b[1m           timestamp \u001b[0m│\u001b[1m Total Mass Closure \u001b[0m│\n│\u001b[90m      Dates.DateTime \u001b[0m│\u001b[90m            Float64 \u001b[0m│\n├─────────────────────┼────────────────────┤\n│ 0000-01-01T00:00:00 │                1.0 │\n└─────────────────────┴────────────────────┘\n\nCombined Feed Mass Flows:\n┌─────────────────────┬──────────┬─────────┬──────────┬──────────┬─────────┐\n│\u001b[1m           timestamp \u001b[0m│\u001b[1m Ethylene \u001b[0m│\u001b[1m  Ethane \u001b[0m│\u001b[1m Hydrogen \u001b[0m│\u001b[1m Nitrogen \u001b[0m│\u001b[1m   Argon \u001b[0m│\n│\u001b[90m      Dates.DateTime \u001b[0m│\u001b[90m  Float64 \u001b[0m│\u001b[90m Float64 \u001b[0m│\u001b[90m  Float64 \u001b[0m│\u001b[90m  Float64 \u001b[0m│\u001b[90m Float64 \u001b[0m│\n├─────────────────────┼──────────┼─────────┼──────────┼──────────┼─────────┤\n│ 0000-01-01T00:00:00 │   2.8053 │ 27.0619 │  2.21738 │      0.0 │     0.0 │\n└─────────────────────┴──────────┴─────────┴──────────┴──────────┴─────────┘\nCombined Product Mass Flows:\n┌─────────────────────┬──────────┬─────────┬──────────┬──────────┬─────────┐\n│\u001b[1m           timestamp \u001b[0m│\u001b[1m Ethylene \u001b[0m│\u001b[1m  Ethane \u001b[0m│\u001b[1m Hydrogen \u001b[0m│\u001b[1m Nitrogen \u001b[0m│\u001b[1m   Argon \u001b[0m│\n│\u001b[90m      Dates.DateTime \u001b[0m│\u001b[90m  Float64 \u001b[0m│\u001b[90m Float64 \u001b[0m│\u001b[90m  Float64 \u001b[0m│\u001b[90m  Float64 \u001b[0m│\u001b[90m Float64 \u001b[0m│\n├─────────────────────┼──────────┼─────────┼──────────┼──────────┼─────────┤\n│ 0000-01-01T00:00:00 │      0.0 │ 30.0688 │   2.0158 │      0.0 │     0.0 │\n└─────────────────────┴──────────┴─────────┴──────────┴──────────┴─────────┘\n\nElemental closures (-1.0 if not present):\n┌─────────────────────┬─────────────────────────────────────────────────┐\n│\u001b[1m           timestamp \u001b[0m│\u001b[1m                              Elemental Closures \u001b[0m│\n│\u001b[90m      Dates.DateTime \u001b[0m│\u001b[90m                           Dict{String, Float64} \u001b[0m│\n├─────────────────────┼─────────────────────────────────────────────────┤\n│ 0000-01-01T00:00:00 │ Dict(\"C\"=>1.0, \"N\"=>-1.0, \"Ar\"=>-1.0, \"H\"=>1.0) │\n└─────────────────────┴─────────────────────────────────────────────────┘\n"
     },
     "metadata": {},
     "execution_count": 36
    }
   ],
   "cell_type": "code",
   "source": [
    "@boundary begin\n",
    "    unitops --> [\"Mixer\", \"Reactor\"]\n",
    "end b sysunitops"
   ],
   "metadata": {},
   "execution_count": 36
  },
  {
   "cell_type": "markdown",
   "source": [
    "We can look at total mass and elemental closures, as well as the combined in- and outflows."
   ],
   "metadata": {}
  },
  {
   "outputs": [
    {
     "output_type": "execute_result",
     "data": {
      "text/plain": "1×1 TimeSeries.TimeArray{Dict{String, Float64}, 1, Dates.DateTime, Vector{Dict{String, Float64}}} 0000-01-01T00:00:00 to 0000-01-01T00:00:00\n┌─────────────────────┬─────────────────────────────────────────────────┐\n│\u001b[1m                     \u001b[0m│\u001b[1m Elemental Closures                              \u001b[0m│\n├─────────────────────┼─────────────────────────────────────────────────┤\n│ 0000-01-01T00:00:00 │ Dict(\"C\"=>1.0, \"N\"=>-1.0, \"Ar\"=>-1.0, \"H\"=>1.0) │\n└─────────────────────┴─────────────────────────────────────────────────┘"
     },
     "metadata": {},
     "execution_count": 37
    }
   ],
   "cell_type": "code",
   "source": [
    "b.atomclosures"
   ],
   "metadata": {},
   "execution_count": 37
  },
  {
   "outputs": [
    {
     "output_type": "execute_result",
     "data": {
      "text/plain": "1×1 TimeSeries.TimeArray{Float64, 1, Dates.DateTime, Vector{Float64}} 0000-01-01T00:00:00 to 0000-01-01T00:00:00\n┌─────────────────────┬────────────────────┐\n│\u001b[1m                     \u001b[0m│\u001b[1m Total Mass Closure \u001b[0m│\n├─────────────────────┼────────────────────┤\n│ 0000-01-01T00:00:00 │                1.0 │\n└─────────────────────┴────────────────────┘"
     },
     "metadata": {},
     "execution_count": 38
    }
   ],
   "cell_type": "code",
   "source": [
    "b.closure"
   ],
   "metadata": {},
   "execution_count": 38
  },
  {
   "outputs": [
    {
     "output_type": "execute_result",
     "data": {
      "text/plain": "1×1 TimeSeries.TimeArray{Float64, 1, Dates.DateTime, Vector{Float64}} 0000-01-01T00:00:00 to 0000-01-01T00:00:00\n┌─────────────────────┬────────────────┐\n│\u001b[1m                     \u001b[0m│\u001b[1m totalmassflows \u001b[0m│\n├─────────────────────┼────────────────┤\n│ 0000-01-01T00:00:00 │        32.0846 │\n└─────────────────────┴────────────────┘"
     },
     "metadata": {},
     "execution_count": 39
    }
   ],
   "cell_type": "code",
   "source": [
    "b.total_in.totalmassflow"
   ],
   "metadata": {},
   "execution_count": 39
  },
  {
   "outputs": [
    {
     "output_type": "execute_result",
     "data": {
      "text/plain": "1×1 TimeSeries.TimeArray{Float64, 1, Dates.DateTime, Vector{Float64}} 0000-01-01T00:00:00 to 0000-01-01T00:00:00\n┌─────────────────────┬────────────────┐\n│\u001b[1m                     \u001b[0m│\u001b[1m totalmassflows \u001b[0m│\n├─────────────────────┼────────────────┤\n│ 0000-01-01T00:00:00 │        32.0846 │\n└─────────────────────┴────────────────┘"
     },
     "metadata": {},
     "execution_count": 40
    }
   ],
   "cell_type": "code",
   "source": [
    "b.total_out.totalmassflow"
   ],
   "metadata": {},
   "execution_count": 40
  },
  {
   "cell_type": "markdown",
   "source": [
    "We can also define KPIs on the boundary. Here we use the pre-defined KPIs of `conversion(boundary, component)` and `selectivity(boundary, reactant, product)`"
   ],
   "metadata": {}
  },
  {
   "outputs": [
    {
     "output_type": "execute_result",
     "data": {
      "text/plain": "-0.11111111111111106"
     },
     "metadata": {},
     "execution_count": 41
    }
   ],
   "cell_type": "code",
   "source": [
    "conversion(b, \"Ethane\")"
   ],
   "metadata": {},
   "execution_count": 41
  },
  {
   "cell_type": "markdown",
   "source": [
    "Ethane was produced, not consumed, so has a negative value for conversion."
   ],
   "metadata": {}
  },
  {
   "outputs": [
    {
     "output_type": "execute_result",
     "data": {
      "text/plain": "(1.0, 0.09090909090909104)"
     },
     "metadata": {},
     "execution_count": 42
    }
   ],
   "cell_type": "code",
   "source": [
    "(conversion(b, \"Ethylene\"), conversion(b, \"Hydrogen\"))"
   ],
   "metadata": {},
   "execution_count": 42
  },
  {
   "cell_type": "markdown",
   "source": [
    "We had complete conversion of ethylene and only ~9% of hydrogen, due to the large excess fed."
   ],
   "metadata": {}
  },
  {
   "outputs": [
    {
     "output_type": "execute_result",
     "data": {
      "text/plain": "0.9999999999999998"
     },
     "metadata": {},
     "execution_count": 43
    }
   ],
   "cell_type": "code",
   "source": [
    "molar_selectivity(b, \"Ethylene\", \"Ethane\")"
   ],
   "metadata": {},
   "execution_count": 43
  },
  {
   "cell_type": "markdown",
   "source": [
    "All of the reacted ethylene was converted to ethane."
   ],
   "metadata": {}
  },
  {
   "cell_type": "markdown",
   "source": [
    "### For streams with time series data"
   ],
   "metadata": {}
  },
  {
   "cell_type": "markdown",
   "source": [
    "Now we can repeat this for streams with multiple historic data points attached:"
   ],
   "metadata": {}
  },
  {
   "outputs": [],
   "cell_type": "code",
   "source": [
    "sysstreams = StreamList() # Create a new container and dump the previous streams\n",
    "sysstreams[\"C2\"] = readstreamhistory(joinpath(\"streamhistories\", \"C2.csv\"), \"C2\", syscomps; ismoleflow=true)\n",
    "sysstreams[\"H2\"] = readstreamhistory(joinpath(\"streamhistories\", \"Hydrogen.csv\"), \"H2\", syscomps; ismoleflow=true)\n",
    "sysstreams[\"Product\"] = readstreamhistory(joinpath(\"streamhistories\", \"Product.csv\"), \"Product\", syscomps; ismoleflow=true)\n",
    "sysstreams[\"Mixed\"] = emptystream(sysstreams, \"Mixed\");\n",
    "sysstreams[\"Product1\"] = emptystream(sysstreams, \"Product1\");\n",
    "sysstreams[\"Product1a\"] = emptystream(sysstreams, \"Product1a\");\n",
    "sysstreams[\"Product1b\"] = emptystream(sysstreams, \"Product1b\");\n",
    "sysstreams[\"Product2\"] = emptystream(sysstreams, \"Product2\");\n",
    "sysstreams[\"Product3\"] = emptystream(sysstreams, \"Product3\");"
   ],
   "metadata": {},
   "execution_count": 44
  },
  {
   "cell_type": "markdown",
   "source": [
    "And just to show what happens when we create a fixed composition stream when the streams in the StreamList have time series data"
   ],
   "metadata": {}
  },
  {
   "outputs": [
    {
     "output_type": "execute_result",
     "data": {
      "text/plain": "Stream: Dummy\n\nMass flows:\n┌─────────────────────┬──────────┬─────────┬──────────┬──────────┬─────────┐\n│\u001b[1m           timestamp \u001b[0m│\u001b[1m Ethylene \u001b[0m│\u001b[1m  Ethane \u001b[0m│\u001b[1m Hydrogen \u001b[0m│\u001b[1m Nitrogen \u001b[0m│\u001b[1m   Argon \u001b[0m│\n│\u001b[90m      Dates.DateTime \u001b[0m│\u001b[90m  Float64 \u001b[0m│\u001b[90m Float64 \u001b[0m│\u001b[90m  Float64 \u001b[0m│\u001b[90m  Float64 \u001b[0m│\u001b[90m Float64 \u001b[0m│\n├─────────────────────┼──────────┼─────────┼──────────┼──────────┼─────────┤\n│ 2020-01-01T00:00:00 │     10.0 │     0.0 │      0.0 │      0.0 │     0.1 │\n│ 2020-01-01T06:00:00 │     10.0 │     0.0 │      0.0 │      0.0 │     0.1 │\n│ 2020-01-02T00:00:00 │     10.0 │     0.0 │      0.0 │      0.0 │     0.1 │\n│ 2020-01-02T06:00:00 │     10.0 │     0.0 │      0.0 │      0.0 │     0.1 │\n│ 2020-01-03T00:00:00 │     10.0 │     0.0 │      0.0 │      0.0 │     0.1 │\n│          ⋮          │    ⋮     │    ⋮    │    ⋮     │    ⋮     │    ⋮    │\n└─────────────────────┴──────────┴─────────┴──────────┴──────────┴─────────┘\n\u001b[36m                                                             22 rows omitted\u001b[0m\n\nMolar flows:\n┌─────────────────────┬──────────┬─────────┬──────────┬──────────┬────────────┐\n│\u001b[1m           timestamp \u001b[0m│\u001b[1m Ethylene \u001b[0m│\u001b[1m  Ethane \u001b[0m│\u001b[1m Hydrogen \u001b[0m│\u001b[1m Nitrogen \u001b[0m│\u001b[1m      Argon \u001b[0m│\n│\u001b[90m      Dates.DateTime \u001b[0m│\u001b[90m  Float64 \u001b[0m│\u001b[90m Float64 \u001b[0m│\u001b[90m  Float64 \u001b[0m│\u001b[90m  Float64 \u001b[0m│\u001b[90m    Float64 \u001b[0m│\n├─────────────────────┼──────────┼─────────┼──────────┼──────────┼────────────┤\n│ 2020-01-01T00:00:00 │ 0.356468 │     0.0 │      0.0 │      0.0 │ 0.00250325 │\n│ 2020-01-01T06:00:00 │ 0.356468 │     0.0 │      0.0 │      0.0 │ 0.00250325 │\n│ 2020-01-02T00:00:00 │ 0.356468 │     0.0 │      0.0 │      0.0 │ 0.00250325 │\n│ 2020-01-02T06:00:00 │ 0.356468 │     0.0 │      0.0 │      0.0 │ 0.00250325 │\n│ 2020-01-03T00:00:00 │ 0.356468 │     0.0 │      0.0 │      0.0 │ 0.00250325 │\n│          ⋮          │    ⋮     │    ⋮    │    ⋮     │    ⋮     │     ⋮      │\n└─────────────────────┴──────────┴─────────┴──────────┴──────────┴────────────┘\n\u001b[36m                                                                22 rows omitted\u001b[0m\n\n\nAtom Flows:\n┌─────────────────────┬───────────────────────────────────────────────────────────────┐\n│\u001b[1m           timestamp \u001b[0m│\u001b[1m                                                     atomflows \u001b[0m│\n│\u001b[90m      Dates.DateTime \u001b[0m│\u001b[90m                                         Dict{String, Float64} \u001b[0m│\n├─────────────────────┼───────────────────────────────────────────────────────────────┤\n│ 2020-01-01T00:00:00 │ Dict(\"C\"=>0.712936, \"N\"=>0.0, \"Ar\"=>0.00250325, \"H\"=>1.42587) │\n│ 2020-01-01T06:00:00 │ Dict(\"C\"=>0.712936, \"N\"=>0.0, \"Ar\"=>0.00250325, \"H\"=>1.42587) │\n│ 2020-01-02T00:00:00 │ Dict(\"C\"=>0.712936, \"N\"=>0.0, \"Ar\"=>0.00250325, \"H\"=>1.42587) │\n│ 2020-01-02T06:00:00 │ Dict(\"C\"=>0.712936, \"N\"=>0.0, \"Ar\"=>0.00250325, \"H\"=>1.42587) │\n│ 2020-01-03T00:00:00 │ Dict(\"C\"=>0.712936, \"N\"=>0.0, \"Ar\"=>0.00250325, \"H\"=>1.42587) │\n│          ⋮          │                               ⋮                               │\n└─────────────────────┴───────────────────────────────────────────────────────────────┘\n\u001b[36m                                                                        22 rows omitted\u001b[0m\n\nData length:\t27\nData starts:\t2020-01-01T00:00:00\nData ends:\t2020-01-14T00:00:00\n"
     },
     "metadata": {},
     "execution_count": 45
    }
   ],
   "cell_type": "code",
   "source": [
    "sysstreams[\"Dummy\"] = fixedstream(sysstreams, \"Dummy\", [10.0, 0.0, 0.0, 0.0, 0.1])"
   ],
   "metadata": {},
   "execution_count": 45
  },
  {
   "cell_type": "markdown",
   "source": [
    "Empty the unit operation list as well, so we start fresh."
   ],
   "metadata": {}
  },
  {
   "outputs": [],
   "cell_type": "code",
   "source": [
    "sysunitops = UnitOpList()\n",
    "\n",
    "@unitop begin\n",
    "    inlets --> [\"H2\", \"C2\"]\n",
    "    outlets --> [\"Mixed\"]\n",
    "    calc --> mixer!\n",
    "end \"Mixer\" sysstreams sysunitops\n",
    "sysunitops[\"Mixer\"]()\n",
    "\n",
    "@unitop begin\n",
    "    inlets --> [\"Mixed\"]\n",
    "    outlets --> [\"Product\"]\n",
    "end \"Reactor\" sysstreams sysunitops\n",
    "\n",
    "@unitop begin\n",
    "    inlets --> [\"Product\"]\n",
    "    outlets --> [\"Product1\", \"Product2\"]\n",
    "    calc --> flowsplitter!\n",
    "    params --> [0.5]\n",
    "end \"ProductSplitter\" sysstreams sysunitops\n",
    "sysunitops[\"ProductSplitter\"]()\n",
    "\n",
    "@unitop begin\n",
    "    inlets --> [\"Product1\"]\n",
    "    outlets --> [\"Product1a\", \"Product1b\"]\n",
    "    calc --> componentplitter!\n",
    "    params --> Dict([\n",
    "        \"Hydrogen\" => Dict([\"Product1a\" => 0.5]),\n",
    "        \"Ethane\" => Dict([\"Product1b\" => 0.3])\n",
    "    ])\n",
    "end \"ComponentSplitter\" sysstreams sysunitops\n",
    "sysunitops[\"ComponentSplitter\"]()\n",
    "\n",
    "@unitop begin\n",
    "    inlets --> [\"Product1a\", \"Product1b\", \"Product2\"]\n",
    "    outlets --> [\"Product3\"]\n",
    "    calc --> mixer!\n",
    "end \"Mixer2\" sysstreams sysunitops\n",
    "sysunitops[\"Mixer2\"]()"
   ],
   "metadata": {},
   "execution_count": 46
  },
  {
   "cell_type": "markdown",
   "source": [
    "Check that the two streams have the same flows."
   ],
   "metadata": {}
  },
  {
   "outputs": [
    {
     "output_type": "execute_result",
     "data": {
      "text/plain": "true"
     },
     "metadata": {},
     "execution_count": 47
    }
   ],
   "cell_type": "code",
   "source": [
    "sysstreams[\"Product\"] ≈ sysstreams[\"Product3\"]"
   ],
   "metadata": {},
   "execution_count": 47
  },
  {
   "cell_type": "markdown",
   "source": [
    "Define the mass balance boundary for closures and KPIs"
   ],
   "metadata": {}
  },
  {
   "outputs": [
    {
     "output_type": "execute_result",
     "data": {
      "text/plain": "(-0.11361804202204312, 0.9988638054742306, 0.9999999999999998)"
     },
     "metadata": {},
     "execution_count": 48
    }
   ],
   "cell_type": "code",
   "source": [
    "@boundary begin\n",
    "    unitops --> [\"Mixer\", \"Reactor\"]\n",
    "end b sysunitops\n",
    "\n",
    "b.atomclosures\n",
    "\n",
    "b.closure\n",
    "\n",
    "b.total_in.totalmassflow\n",
    "\n",
    "b.total_out.totalmassflow\n",
    "\n",
    "c1 = conversion(b, \"Ethane\")\n",
    "c2 = conversion(b, \"Ethylene\")\n",
    "\n",
    "sc2 = molar_selectivity(b, \"Ethylene\", \"Ethane\")\n",
    "\n",
    "(mean(values(c1)), mean(values(c2)), mean(values(sc2)))"
   ],
   "metadata": {},
   "execution_count": 48
  },
  {
   "cell_type": "markdown",
   "source": [
    "So, we have average conversions of ethane (-11%, meaning it was produced, not consumed), ethylene (99.9%) and selectivity of ethylene conversion to ethane (~100%) similar to the single data point above."
   ],
   "metadata": {}
  },
  {
   "cell_type": "markdown",
   "source": [
    "## Mass balance reconciliation"
   ],
   "metadata": {}
  },
  {
   "cell_type": "markdown",
   "source": [
    "The mass balance reconciliation algorithm is currently *VERY BASIC*! This will be updated at the first opportunity, but will be invisible to the end-user and will not have major impacts on the user interface unless additional user input is required."
   ],
   "metadata": {}
  },
  {
   "cell_type": "markdown",
   "source": [
    "To demomstrate the use of the reconciliation tool, we repeat the flowsheet above, but introduce some (artificial) flow measurement errors."
   ],
   "metadata": {}
  },
  {
   "outputs": [
    {
     "output_type": "execute_result",
     "data": {
      "text/plain": "Balance Boundary:\n\nEnclosed units: [\"eMixer\", \"eReactor\"]\n\nClosure:\n┌─────────────────────┬────────────────────┐\n│\u001b[1m           timestamp \u001b[0m│\u001b[1m Total Mass Closure \u001b[0m│\n│\u001b[90m      Dates.DateTime \u001b[0m│\u001b[90m            Float64 \u001b[0m│\n├─────────────────────┼────────────────────┤\n│ 2020-01-01T00:00:00 │           0.958788 │\n│ 2020-01-01T06:00:00 │           0.958655 │\n│ 2020-01-02T00:00:00 │           0.958268 │\n│ 2020-01-02T06:00:00 │           0.958248 │\n│ 2020-01-03T00:00:00 │           0.958608 │\n│          ⋮          │         ⋮          │\n└─────────────────────┴────────────────────┘\n\u001b[36m                             22 rows omitted\u001b[0m\n\nCombined Feed Mass Flows:\n┌─────────────────────┬──────────┬─────────┬──────────┬──────────┬─────────┐\n│\u001b[1m           timestamp \u001b[0m│\u001b[1m Ethylene \u001b[0m│\u001b[1m  Ethane \u001b[0m│\u001b[1m Hydrogen \u001b[0m│\u001b[1m Nitrogen \u001b[0m│\u001b[1m   Argon \u001b[0m│\n│\u001b[90m      Dates.DateTime \u001b[0m│\u001b[90m  Float64 \u001b[0m│\u001b[90m Float64 \u001b[0m│\u001b[90m  Float64 \u001b[0m│\u001b[90m  Float64 \u001b[0m│\u001b[90m Float64 \u001b[0m│\n├─────────────────────┼──────────┼─────────┼──────────┼──────────┼─────────┤\n│ 2020-01-01T00:00:00 │   3.1588 │ 28.1775 │  2.13952 │      0.0 │     0.0 │\n│ 2020-01-01T06:00:00 │  3.16289 │  28.312 │  2.10149 │      0.0 │     0.0 │\n│ 2020-01-02T00:00:00 │  2.71523 │  31.114 │  2.11069 │      0.0 │     0.0 │\n│ 2020-01-02T06:00:00 │  3.12498 │ 30.6418 │  2.09903 │      0.0 │     0.0 │\n│ 2020-01-03T00:00:00 │  3.04658 │ 29.1502 │  2.13223 │      0.0 │     0.0 │\n│          ⋮          │    ⋮     │    ⋮    │    ⋮     │    ⋮     │    ⋮    │\n└─────────────────────┴──────────┴─────────┴──────────┴──────────┴─────────┘\n\u001b[36m                                                             22 rows omitted\u001b[0m\nCombined Product Mass Flows:\n┌─────────────────────┬──────────┬─────────┬──────────┬──────────┬─────────┐\n│\u001b[1m           timestamp \u001b[0m│\u001b[1m Ethylene \u001b[0m│\u001b[1m  Ethane \u001b[0m│\u001b[1m Hydrogen \u001b[0m│\u001b[1m Nitrogen \u001b[0m│\u001b[1m   Argon \u001b[0m│\n│\u001b[90m      Dates.DateTime \u001b[0m│\u001b[90m  Float64 \u001b[0m│\u001b[90m Float64 \u001b[0m│\u001b[90m  Float64 \u001b[0m│\u001b[90m  Float64 \u001b[0m│\u001b[90m Float64 \u001b[0m│\n├─────────────────────┼──────────┼─────────┼──────────┼──────────┼─────────┤\n│ 2020-01-01T00:00:00 │      0.0 │ 30.0603 │  2.03596 │      0.0 │     0.0 │\n│ 2020-01-01T06:00:00 │      0.0 │ 30.1925 │  1.99564 │      0.0 │     0.0 │\n│ 2020-01-02T00:00:00 │      0.0 │ 32.4041 │  2.03596 │      0.0 │     0.0 │\n│ 2020-01-02T06:00:00 │      0.0 │ 32.3727 │  1.99564 │      0.0 │     0.0 │\n│ 2020-01-03T00:00:00 │      0.0 │ 30.8721 │  2.03596 │      0.0 │     0.0 │\n│          ⋮          │    ⋮     │    ⋮    │    ⋮     │    ⋮     │    ⋮    │\n└─────────────────────┴──────────┴─────────┴──────────┴──────────┴─────────┘\n\u001b[36m                                                             22 rows omitted\u001b[0m\n\nElemental closures (-1.0 if not present):\n┌─────────────────────┬───────────────────────────────────────────────────────────┐\n│\u001b[1m           timestamp \u001b[0m│\u001b[1m                                        Elemental Closures \u001b[0m│\n│\u001b[90m      Dates.DateTime \u001b[0m│\u001b[90m                                     Dict{String, Float64} \u001b[0m│\n├─────────────────────┼───────────────────────────────────────────────────────────┤\n│ 2020-01-01T00:00:00 │ Dict(\"C\"=>0.952381, \"N\"=>-1.0, \"Ar\"=>-1.0, \"H\"=>0.978346) │\n│ 2020-01-01T06:00:00 │ Dict(\"C\"=>0.952381, \"N\"=>-1.0, \"Ar\"=>-1.0, \"H\"=>0.977917) │\n│ 2020-01-02T00:00:00 │  Dict(\"C\"=>0.952381, \"N\"=>-1.0, \"Ar\"=>-1.0, \"H\"=>0.97654) │\n│ 2020-01-02T06:00:00 │ Dict(\"C\"=>0.952381, \"N\"=>-1.0, \"Ar\"=>-1.0, \"H\"=>0.976538) │\n│ 2020-01-03T00:00:00 │  Dict(\"C\"=>0.952381, \"N\"=>-1.0, \"Ar\"=>-1.0, \"H\"=>0.97773) │\n│          ⋮          │                             ⋮                             │\n└─────────────────────┴───────────────────────────────────────────────────────────┘\n\u001b[36m                                                                    22 rows omitted\u001b[0m\n"
     },
     "metadata": {},
     "execution_count": 49
    }
   ],
   "cell_type": "code",
   "source": [
    "copystream!(sysstreams, \"C2\", \"eC2\", factor = 1.05)\n",
    "copystream!(sysstreams, \"H2\", \"eH2\", factor = 0.95)\n",
    "copystream!(sysstreams, \"Product\", \"eProduct\")\n",
    "sysstreams[\"eMixed\"] = emptystream(sysstreams, \"eMixed\") # We'll calculate this stream with the mixer model\n",
    "\n",
    "@unitop begin\n",
    "    inlets --> [\"eH2\", \"eC2\"]\n",
    "    outlets --> [\"eMixed\"]\n",
    "    calc --> mixer!\n",
    "end \"eMixer\" sysstreams sysunitops\n",
    "sysunitops[\"eMixer\"]()\n",
    "\n",
    "@unitop begin\n",
    "    inlets --> [\"eMixed\"]\n",
    "    outlets --> [\"eProduct\"]\n",
    "end \"eReactor\" sysstreams sysunitops\n",
    "\n",
    "@boundary begin\n",
    "    unitops --> [\"eMixer\", \"eReactor\"]\n",
    "end b sysunitops"
   ],
   "metadata": {},
   "execution_count": 49
  },
  {
   "cell_type": "markdown",
   "source": [
    "We can request the correction factors, without applying them."
   ],
   "metadata": {}
  },
  {
   "outputs": [
    {
     "output_type": "execute_result",
     "data": {
      "text/plain": "Dict{String, Float64} with 3 entries:\n  \"eH2\"      => 1.04648\n  \"eC2\"      => 0.95095\n  \"eProduct\" => 0.998"
     },
     "metadata": {},
     "execution_count": 50
    }
   ],
   "cell_type": "code",
   "source": [
    "corrections = calccorrections(b)"
   ],
   "metadata": {},
   "execution_count": 50
  },
  {
   "cell_type": "markdown",
   "source": [
    "We can also pass through a custom additional error function to minimize.\n",
    "We have a custom function that receives a dictionary of the correction factors and can do any arbitrary calculation.\n",
    "The retured value is added to the weighted square errors of the total mass and element balances.\n",
    "You can, for example, add distance from equilibrium for a reaction to the reconciliation."
   ],
   "metadata": {}
  },
  {
   "outputs": [
    {
     "output_type": "execute_result",
     "data": {
      "text/plain": "Dict{String, Float64} with 3 entries:\n  \"eH2\"      => 0.999576\n  \"eC2\"      => 0.988278\n  \"eProduct\" => 1.01187"
     },
     "metadata": {},
     "execution_count": 51
    }
   ],
   "cell_type": "code",
   "source": [
    "myerr(factorDict) = 100.0 * sum(abs2, 1.0 .- values(factorDict))\n",
    "corrections = calccorrections(b, myerr)"
   ],
   "metadata": {},
   "execution_count": 51
  },
  {
   "cell_type": "markdown",
   "source": [
    "The previous example uses a constant weight for all elements, but we can specifiy individual weights as well."
   ],
   "metadata": {}
  },
  {
   "outputs": [
    {
     "output_type": "execute_result",
     "data": {
      "text/plain": "Dict{String, Float64} with 3 entries:\n  \"eH2\"      => 1.04676\n  \"eC2\"      => 0.95073\n  \"eProduct\" => 0.997889"
     },
     "metadata": {},
     "execution_count": 52
    }
   ],
   "cell_type": "code",
   "source": [
    "weights = Dict([\"H\" => 1.0, \"C\" => 1.5, \"O\" => 1.0, \"Ar\" => 0.0, \"N\" => 0.0])\n",
    "corrections2 = calccorrections(b, setelements=true, elementweights=weights)"
   ],
   "metadata": {},
   "execution_count": 52
  },
  {
   "cell_type": "markdown",
   "source": [
    "`calccorrections` takes a boundary for which to calculate the correction factors, and then optional weights for the total mass balance error and the elemental errors.\n",
    "These latter values default to 1.0 each. It uses [Ridge Regression](https://www.ibm.com/topics/ridge-regression?_sm_au_=iF5HM658VZnjn6Sr0GLqHKHB1jtC6) with a default λ = 0.1\n",
    "\n",
    "  function calccorrections_anchor(boundary::BalanceBoundary, anchor::String; totalweight=1.0, elementweight = 1.0,\n",
    "        setelements = false, elementweights::Dict{String, Float64} = Dict{String, Float64}())"
   ],
   "metadata": {}
  },
  {
   "cell_type": "markdown",
   "source": [
    "An alternative option is to use an anchor stream, rather than Ridge Regression. The correction factor for the anchor stream will be 1.0, i.e. there is no adjustment."
   ],
   "metadata": {}
  },
  {
   "outputs": [
    {
     "output_type": "execute_result",
     "data": {
      "text/plain": "Dict{String, Float64} with 3 entries:\n  \"eH2\"      => 0.998918\n  \"eC2\"      => 0.983266\n  \"eProduct\" => 1.0"
     },
     "metadata": {},
     "execution_count": 53
    }
   ],
   "cell_type": "code",
   "source": [
    "corrections_a = calccorrections_anchor(b, \"eProduct\")\n",
    "corrections_a = calccorrections_anchor(b, \"eProduct\", myerr)"
   ],
   "metadata": {},
   "execution_count": 53
  },
  {
   "cell_type": "markdown",
   "source": [
    "Or again, with inidividual element weights"
   ],
   "metadata": {}
  },
  {
   "outputs": [
    {
     "output_type": "execute_result",
     "data": {
      "text/plain": "Dict{String, Float64} with 3 entries:\n  \"eH2\"      => 1.05263\n  \"eC2\"      => 0.952381\n  \"eProduct\" => 1.0"
     },
     "metadata": {},
     "execution_count": 54
    }
   ],
   "cell_type": "code",
   "source": [
    "corrections_a = calccorrections_anchor(b, \"eProduct\", setelements=true, elementweights=weights)"
   ],
   "metadata": {},
   "execution_count": 54
  },
  {
   "cell_type": "markdown",
   "source": [
    "`calccorrections_anchor` takes a boundary for which to calculate the correction factors, an anchor stream, for which the correction is always 1.0 - no change, and then optional weights for the total mass balance error and the elemental errors.\n",
    "These latter values default to 1.0 each.\n",
    "\n",
    "  `function calccorrections(boundary::BalanceBoundary, anchor::String; totalweight=1.0, elementweight=1.0)`"
   ],
   "metadata": {}
  },
  {
   "cell_type": "markdown",
   "source": [
    "We can apply the corrections, with `closemb()`, which will take a `Dict` of correction factors."
   ],
   "metadata": {}
  },
  {
   "outputs": [
    {
     "output_type": "execute_result",
     "data": {
      "text/plain": "Balance Boundary:\n\nEnclosed units: [\"eMixer\", \"eReactor\"]\n\nClosure:\n┌─────────────────────┬────────────────────┐\n│\u001b[1m           timestamp \u001b[0m│\u001b[1m Total Mass Closure \u001b[0m│\n│\u001b[90m      Dates.DateTime \u001b[0m│\u001b[90m            Float64 \u001b[0m│\n├─────────────────────┼────────────────────┤\n│ 2020-01-01T00:00:00 │            1.02305 │\n│ 2020-01-01T06:00:00 │            1.02307 │\n│ 2020-01-02T00:00:00 │            1.02312 │\n│ 2020-01-02T06:00:00 │            1.02312 │\n│ 2020-01-03T00:00:00 │            1.02307 │\n│          ⋮          │         ⋮          │\n└─────────────────────┴────────────────────┘\n\u001b[36m                             22 rows omitted\u001b[0m\n\nCombined Feed Mass Flows:\n┌─────────────────────┬──────────┬─────────┬──────────┬──────────┬─────────┐\n│\u001b[1m           timestamp \u001b[0m│\u001b[1m Ethylene \u001b[0m│\u001b[1m  Ethane \u001b[0m│\u001b[1m Hydrogen \u001b[0m│\u001b[1m Nitrogen \u001b[0m│\u001b[1m   Argon \u001b[0m│\n│\u001b[90m      Dates.DateTime \u001b[0m│\u001b[90m  Float64 \u001b[0m│\u001b[90m Float64 \u001b[0m│\u001b[90m  Float64 \u001b[0m│\u001b[90m  Float64 \u001b[0m│\u001b[90m Float64 \u001b[0m│\n├─────────────────────┼──────────┼─────────┼──────────┼──────────┼─────────┤\n│ 2020-01-01T00:00:00 │  2.97311 │ 26.5212 │  2.25117 │      0.0 │     0.0 │\n│ 2020-01-01T06:00:00 │  2.97696 │ 26.6477 │  2.21116 │      0.0 │     0.0 │\n│ 2020-01-02T00:00:00 │  2.55562 │  29.285 │  2.22083 │      0.0 │     0.0 │\n│ 2020-01-02T06:00:00 │  2.94128 │ 28.8406 │  2.20856 │      0.0 │     0.0 │\n│ 2020-01-03T00:00:00 │  2.86749 │ 27.4367 │   2.2435 │      0.0 │     0.0 │\n│          ⋮          │    ⋮     │    ⋮    │    ⋮     │    ⋮     │    ⋮    │\n└─────────────────────┴──────────┴─────────┴──────────┴──────────┴─────────┘\n\u001b[36m                                                             22 rows omitted\u001b[0m\nCombined Product Mass Flows:\n┌─────────────────────┬───────────┬─────────┬──────────┬──────────┬─────────┐\n│\u001b[1m           timestamp \u001b[0m│\u001b[1m  Ethylene \u001b[0m│\u001b[1m  Ethane \u001b[0m│\u001b[1m Hydrogen \u001b[0m│\u001b[1m Nitrogen \u001b[0m│\u001b[1m   Argon \u001b[0m│\n│\u001b[90m      Dates.DateTime \u001b[0m│\u001b[90m   Float64 \u001b[0m│\u001b[90m Float64 \u001b[0m│\u001b[90m  Float64 \u001b[0m│\u001b[90m  Float64 \u001b[0m│\u001b[90m Float64 \u001b[0m│\n├─────────────────────┼───────────┼─────────┼──────────┼──────────┼─────────┤\n│ 2020-01-01T00:00:00 │       0.0 │  30.417 │  2.06012 │      0.0 │     0.0 │\n│ 2020-01-01T06:00:00 │       0.0 │ 30.5508 │  2.01933 │      0.0 │     0.0 │\n│ 2020-01-02T00:00:00 │       0.0 │ 32.7887 │  2.06012 │      0.0 │     0.0 │\n│ 2020-01-02T06:00:00 │       0.0 │ 32.7569 │  2.01933 │      0.0 │     0.0 │\n│ 2020-01-03T00:00:00 │       0.0 │ 31.2385 │  2.06012 │      0.0 │     0.0 │\n│          ⋮          │     ⋮     │    ⋮    │    ⋮     │    ⋮     │    ⋮    │\n└─────────────────────┴───────────┴─────────┴──────────┴──────────┴─────────┘\n\u001b[36m                                                              22 rows omitted\u001b[0m\n\nElemental closures (-1.0 if not present):\n┌─────────────────────┬─────────────────────────────────────────────────────────┐\n│\u001b[1m           timestamp \u001b[0m│\u001b[1m                                      Elemental Closures \u001b[0m│\n│\u001b[90m      Dates.DateTime \u001b[0m│\u001b[90m                                   Dict{String, Float64} \u001b[0m│\n├─────────────────────┼─────────────────────────────────────────────────────────┤\n│ 2020-01-01T00:00:00 │ Dict(\"C\"=>1.02387, \"N\"=>-1.0, \"Ar\"=>-1.0, \"H\"=>1.02062) │\n│ 2020-01-01T06:00:00 │ Dict(\"C\"=>1.02387, \"N\"=>-1.0, \"Ar\"=>-1.0, \"H\"=>1.02067) │\n│ 2020-01-02T00:00:00 │ Dict(\"C\"=>1.02387, \"N\"=>-1.0, \"Ar\"=>-1.0, \"H\"=>1.02084) │\n│ 2020-01-02T06:00:00 │ Dict(\"C\"=>1.02387, \"N\"=>-1.0, \"Ar\"=>-1.0, \"H\"=>1.02084) │\n│ 2020-01-03T00:00:00 │ Dict(\"C\"=>1.02387, \"N\"=>-1.0, \"Ar\"=>-1.0, \"H\"=>1.02069) │\n│          ⋮          │                            ⋮                            │\n└─────────────────────┴─────────────────────────────────────────────────────────┘\n\u001b[36m                                                                  22 rows omitted\u001b[0m\n"
     },
     "metadata": {},
     "execution_count": 55
    }
   ],
   "cell_type": "code",
   "source": [
    "b2 = closemb(b, corrections)\n",
    "b3 = closemb(b, corrections_a)"
   ],
   "metadata": {},
   "execution_count": 55
  },
  {
   "cell_type": "markdown",
   "source": [
    "Let's compare the raw and reconciled closures:"
   ],
   "metadata": {}
  },
  {
   "outputs": [
    {
     "output_type": "execute_result",
     "data": {
      "text/plain": "(0.9587129966186322, 0.9808892557804018, 1.0230590006155555)"
     },
     "metadata": {},
     "execution_count": 56
    }
   ],
   "cell_type": "code",
   "source": [
    "(mean(values(b.closure)), mean(values(b2.closure)), mean(values(b3.closure)))"
   ],
   "metadata": {},
   "execution_count": 56
  },
  {
   "cell_type": "markdown",
   "source": [
    "We can now write corrected streams back to file"
   ],
   "metadata": {}
  },
  {
   "outputs": [],
   "cell_type": "code",
   "source": [
    "writestreamhistory(sysstreams[\"C2\"], \"corrected.csv\")"
   ],
   "metadata": {},
   "execution_count": 57
  },
  {
   "cell_type": "markdown",
   "source": [
    "We can also request some information from a bounary. This is given in table form, packed into a string."
   ],
   "metadata": {}
  },
  {
   "outputs": [
    {
     "name": "stdout",
     "output_type": "stream",
     "text": [
      "Mass Balance Boundary:\n",
      "----------------------\n",
      "\n",
      "Total Mass Flows In:\n",
      "┌─────────────────────┬──────────┬─────────┬──────────┬──────────┬─────────┐\n",
      "│           timestamp │ Ethylene │  Ethane │ Hydrogen │ Nitrogen │   Argon │\n",
      "│      Dates.DateTime │  Float64 │ Float64 │  Float64 │  Float64 │ Float64 │\n",
      "├─────────────────────┼──────────┼─────────┼──────────┼──────────┼─────────┤\n",
      "│ 2020-01-01T00:00:00 │  3.12177 │ 27.8472 │  2.13862 │      0.0 │     0.0 │\n",
      "│ 2020-01-01T06:00:00 │  3.12581 │ 27.9801 │   2.1006 │      0.0 │     0.0 │\n",
      "│ 2020-01-02T00:00:00 │   2.6834 │ 30.7493 │  2.10979 │      0.0 │     0.0 │\n",
      "│ 2020-01-02T06:00:00 │  3.08835 │ 30.2827 │  2.09813 │      0.0 │     0.0 │\n",
      "│ 2020-01-03T00:00:00 │  3.01087 │ 28.8085 │  2.13132 │      0.0 │     0.0 │\n",
      "│ 2020-01-03T06:00:00 │  2.98263 │ 29.6122 │  2.09118 │      0.0 │     0.0 │\n",
      "│ 2020-01-04T00:00:00 │  3.19725 │  27.627 │  2.14358 │      0.0 │     0.0 │\n",
      "│ 2020-01-04T06:00:00 │  3.16428 │ 28.2181 │  2.10313 │      0.0 │     0.0 │\n",
      "│ 2020-01-05T00:00:00 │  2.84402 │  25.914 │  2.12035 │      0.0 │     0.0 │\n",
      "│ 2020-01-05T06:00:00 │  2.99581 │ 30.5398 │  2.09205 │      0.0 │     0.0 │\n",
      "│ 2020-01-06T00:00:00 │  3.02489 │ 27.1575 │  2.13225 │      0.0 │     0.0 │\n",
      "│ 2020-01-06T06:00:00 │  3.07613 │ 27.0981 │  2.09733 │      0.0 │     0.0 │\n",
      "│ 2020-01-07T00:00:00 │  2.90681 │ 25.7615 │  2.12448 │      0.0 │     0.0 │\n",
      "│ 2020-01-07T06:00:00 │  2.91321 │  28.798 │  2.08662 │      0.0 │     0.0 │\n",
      "│ 2020-01-08T00:00:00 │   2.7639 │ 25.7717 │  2.11508 │      0.0 │     0.0 │\n",
      "│ 2020-01-08T06:00:00 │   2.8004 │ 30.8169 │   2.0792 │      0.0 │     0.0 │\n",
      "│ 2020-01-09T00:00:00 │   2.6823 │ 27.7424 │  2.10972 │      0.0 │     0.0 │\n",
      "│ 2020-01-09T06:00:00 │  2.79365 │ 30.0652 │  2.07876 │      0.0 │     0.0 │\n",
      "│ 2020-01-10T00:00:00 │  3.16605 │ 30.2028 │  2.14153 │      0.0 │     0.0 │\n",
      "│ 2020-01-10T06:00:00 │  2.82263 │ 29.0442 │  2.08066 │      0.0 │     0.0 │\n",
      "│ 2020-01-11T00:00:00 │  2.78116 │ 25.7324 │  2.11622 │      0.0 │     0.0 │\n",
      "│ 2020-01-11T06:00:00 │  2.96641 │ 29.3711 │  2.09012 │      0.0 │     0.0 │\n",
      "│ 2020-01-12T00:00:00 │  3.12567 │  29.169 │  2.13887 │      0.0 │     0.0 │\n",
      "│ 2020-01-12T06:00:00 │  2.98737 │ 25.4797 │  2.09149 │      0.0 │     0.0 │\n",
      "│ 2020-01-13T00:00:00 │  2.83893 │ 25.3826 │  2.12002 │      0.0 │     0.0 │\n",
      "│ 2020-01-13T06:00:00 │  3.17351 │ 26.1819 │  2.10373 │      0.0 │     0.0 │\n",
      "│ 2020-01-14T00:00:00 │  3.10142 │  26.674 │  2.13728 │      0.0 │     0.0 │\n",
      "└─────────────────────┴──────────┴─────────┴──────────┴──────────┴─────────┘\n",
      "\n",
      "\n",
      "Total Mass Flows In:\n",
      "┌─────────────────────┬─────────────┬─────────┬──────────┬──────────┬─────────┐\n",
      "│           timestamp │    Ethylene │  Ethane │ Hydrogen │ Nitrogen │   Argon │\n",
      "│      Dates.DateTime │     Float64 │ Float64 │  Float64 │  Float64 │ Float64 │\n",
      "├─────────────────────┼─────────────┼─────────┼──────────┼──────────┼─────────┤\n",
      "│ 2020-01-01T00:00:00 │         0.0 │  30.417 │  2.06012 │      0.0 │     0.0 │\n",
      "│ 2020-01-01T06:00:00 │         0.0 │ 30.5508 │  2.01933 │      0.0 │     0.0 │\n",
      "│ 2020-01-02T00:00:00 │         0.0 │ 32.7887 │  2.06012 │      0.0 │     0.0 │\n",
      "│ 2020-01-02T06:00:00 │         0.0 │ 32.7569 │  2.01933 │      0.0 │     0.0 │\n",
      "│ 2020-01-03T00:00:00 │         0.0 │ 31.2385 │  2.06012 │      0.0 │     0.0 │\n",
      "│ 2020-01-03T06:00:00 │         0.0 │ 31.9927 │  2.01933 │      0.0 │     0.0 │\n",
      "│ 2020-01-04T00:00:00 │         0.0 │ 30.2812 │  2.06012 │      0.0 │     0.0 │\n",
      "│ 2020-01-04T06:00:00 │         0.0 │ 30.8232 │  2.01933 │      0.0 │     0.0 │\n",
      "│ 2020-01-05T00:00:00 │   0.0283859 │ 28.2112 │  2.06216 │      0.0 │     0.0 │\n",
      "│ 2020-01-05T06:00:00 │         0.0 │  32.911 │  2.01933 │      0.0 │     0.0 │\n",
      "│ 2020-01-06T00:00:00 │         0.0 │ 29.6433 │  2.06012 │      0.0 │     0.0 │\n",
      "│ 2020-01-06T06:00:00 │         0.0 │ 29.6388 │  2.01933 │      0.0 │     0.0 │\n",
      "│ 2020-01-07T00:00:00 │   0.0567719 │ 28.0977 │   2.0642 │      0.0 │     0.0 │\n",
      "│ 2020-01-07T06:00:00 │ 0.000283859 │ 31.1258 │  2.01935 │      0.0 │     0.0 │\n",
      "│ 2020-01-08T00:00:00 │         0.0 │ 28.0192 │  2.06012 │      0.0 │     0.0 │\n",
      "│ 2020-01-08T06:00:00 │         0.0 │ 32.9769 │  2.01933 │      0.0 │     0.0 │\n",
      "│ 2020-01-09T00:00:00 │         0.0 │ 29.8555 │  2.06012 │      0.0 │     0.0 │\n",
      "│ 2020-01-09T06:00:00 │ 0.000851578 │ 32.2359 │  2.01939 │      0.0 │     0.0 │\n",
      "│ 2020-01-10T00:00:00 │         0.0 │ 32.7603 │  2.06012 │      0.0 │     0.0 │\n",
      "│ 2020-01-10T06:00:00 │         0.0 │ 31.2715 │  2.01933 │      0.0 │     0.0 │\n",
      "│ 2020-01-11T00:00:00 │         0.0 │ 27.9989 │  2.06012 │      0.0 │     0.0 │\n",
      "│ 2020-01-11T06:00:00 │         0.0 │ 31.7406 │  2.01933 │      0.0 │     0.0 │\n",
      "│ 2020-01-12T00:00:00 │         0.0 │   31.71 │  2.06012 │      0.0 │     0.0 │\n",
      "│ 2020-01-12T06:00:00 │         0.0 │  27.968 │  2.01933 │      0.0 │     0.0 │\n",
      "│ 2020-01-13T00:00:00 │         0.0 │ 27.7182 │  2.06012 │      0.0 │     0.0 │\n",
      "│ 2020-01-13T06:00:00 │         0.0 │ 28.8472 │  2.01933 │      0.0 │     0.0 │\n",
      "│ 2020-01-14T00:00:00 │         0.0 │ 29.2518 │  2.06012 │      0.0 │     0.0 │\n",
      "└─────────────────────┴─────────────┴─────────┴──────────┴──────────┴─────────┘\n"
     ]
    }
   ],
   "cell_type": "code",
   "source": [
    "print(showdata(b2))"
   ],
   "metadata": {},
   "execution_count": 58
  },
  {
   "cell_type": "markdown",
   "source": [
    "## Flowsheets"
   ],
   "metadata": {}
  },
  {
   "cell_type": "markdown",
   "source": [
    "Lastly, for convenience, we can creat a `Flowsheet` object, which holds a number of unit operations and an execution order.\n",
    "If the flowsheet is then executed, each unit operation is execute in order, as specified.\n",
    "Unit operations can be added or deleted with utility functions and the execution order can be modified."
   ],
   "metadata": {}
  },
  {
   "outputs": [
    {
     "name": "stdout",
     "output_type": "stream",
     "text": [
      "1  Reactor\n",
      "2  Mixer\n",
      "3  ProductSplitter\n",
      "4  ComponentSplitter\n",
      "5  Mixer2\n"
     ]
    }
   ],
   "cell_type": "code",
   "source": [
    "fs = Flowsheet(sysunitops, [\"Reactor\"], [1])\n",
    "addunitop!(fs, [\"Mixer\", \"ProductSplitter\", \"ComponentSplitter\", \"Mixer2\"])\n",
    "\n",
    "fs()"
   ],
   "metadata": {},
   "execution_count": 59
  },
  {
   "cell_type": "markdown",
   "source": [
    "Lastly, once a `Flowsheet` object is created, a block flow diagram can also be generated."
   ],
   "metadata": {}
  },
  {
   "outputs": [
    {
     "output_type": "display_data",
     "data": {
      "image/svg+xml": [
       "<svg id=\"mermaid-svg\" width=\"100%\" xmlns=\"http://www.w3.org/2000/svg\" style=\"max-width: 1127.09375px;\" viewBox=\"-8 -8 1127.09375 119.5\" role=\"graphics-document document\" aria-roledescription=\"flowchart-v2\" xmlns:xlink=\"http://www.w3.org/1999/xlink\"><style xmlns=\"http://www.w3.org/1999/xhtml\">@import url(\"https://cdnjs.cloudflare.com/ajax/libs/font-awesome/6.5.2/css/all.min.css\");</style><style>#mermaid-svg{font-family:\"trebuchet ms\",verdana,arial,sans-serif;font-size:14;fill:#eee;}#mermaid-svg .error-icon{fill:hsl(29.6, 100%, 60.8823529412%);}#mermaid-svg .error-text{fill:rgb(0, 101.0799999999, 199.4999999999);stroke:rgb(0, 101.0799999999, 199.4999999999);}#mermaid-svg .edge-thickness-normal{stroke-width:2px;}#mermaid-svg .edge-thickness-thick{stroke-width:3.5px;}#mermaid-svg .edge-pattern-solid{stroke-dasharray:0;}#mermaid-svg .edge-pattern-dashed{stroke-dasharray:3;}#mermaid-svg .edge-pattern-dotted{stroke-dasharray:2;}#mermaid-svg .marker{fill:#1e90ff;stroke:#1e90ff;}#mermaid-svg .marker.cross{stroke:#1e90ff;}#mermaid-svg svg{font-family:\"trebuchet ms\",verdana,arial,sans-serif;font-size:14;}#mermaid-svg .label{font-family:\"trebuchet ms\",verdana,arial,sans-serif;color:#eee;}#mermaid-svg .cluster-label text{fill:rgb(0, 101.0799999999, 199.4999999999);}#mermaid-svg .cluster-label span,#mermaid-svg p{color:rgb(0, 101.0799999999, 199.4999999999);}#mermaid-svg .label text,#mermaid-svg span,#mermaid-svg p{fill:#eee;color:#eee;}#mermaid-svg .node rect,#mermaid-svg .node circle,#mermaid-svg .node ellipse,#mermaid-svg .node polygon,#mermaid-svg .node path{fill:#1e90ff;stroke:hsl(209.6, 60%, 65.8823529412%);stroke-width:1px;}#mermaid-svg .flowchart-label text{text-anchor:middle;}#mermaid-svg .node .katex path{fill:#000;stroke:#000;stroke-width:1px;}#mermaid-svg .node .label{text-align:center;}#mermaid-svg .node.clickable{cursor:pointer;}#mermaid-svg .arrowheadPath{fill:#0b0b0b;}#mermaid-svg .edgePath .path{stroke:#1e90ff;stroke-width:2.0px;}#mermaid-svg .flowchart-link{stroke:#1e90ff;fill:none;}#mermaid-svg .edgeLabel{background-color:hsl(89.6, 100%, 25.8823529412%);text-align:center;}#mermaid-svg .edgeLabel rect{opacity:0.5;background-color:hsl(89.6, 100%, 25.8823529412%);fill:hsl(89.6, 100%, 25.8823529412%);}#mermaid-svg .labelBkg{background-color:rgba(66.8800000001, 132.0000000001, 0, 0.5);}#mermaid-svg .cluster rect{fill:hsl(29.6, 100%, 60.8823529412%);stroke:hsl(29.6, 60%, 70.8823529412%);stroke-width:1px;}#mermaid-svg .cluster text{fill:rgb(0, 101.0799999999, 199.4999999999);}#mermaid-svg .cluster span,#mermaid-svg p{color:rgb(0, 101.0799999999, 199.4999999999);}#mermaid-svg div.mermaidTooltip{position:absolute;text-align:center;max-width:200px;padding:2px;font-family:\"trebuchet ms\",verdana,arial,sans-serif;font-size:12px;background:hsl(29.6, 100%, 60.8823529412%);border:1px solid hsl(29.6, 60%, 70.8823529412%);border-radius:2px;pointer-events:none;z-index:100;}#mermaid-svg .flowchartTitleText{text-anchor:middle;font-size:18px;fill:#eee;}#mermaid-svg :root{--mermaid-font-family:\"trebuchet ms\",verdana,arial,sans-serif;}</style><g><marker id=\"mermaid-svg_flowchart-pointEnd\" class=\"marker flowchart\" viewBox=\"0 0 10 10\" refX=\"6\" refY=\"5\" markerUnits=\"userSpaceOnUse\" markerWidth=\"12\" markerHeight=\"12\" orient=\"auto\"><path d=\"M 0 0 L 10 5 L 0 10 z\" class=\"arrowMarkerPath\" style=\"stroke-width: 1; stroke-dasharray: 1, 0;\"/></marker><marker id=\"mermaid-svg_flowchart-pointStart\" class=\"marker flowchart\" viewBox=\"0 0 10 10\" refX=\"4.5\" refY=\"5\" markerUnits=\"userSpaceOnUse\" markerWidth=\"12\" markerHeight=\"12\" orient=\"auto\"><path d=\"M 0 5 L 10 10 L 10 0 z\" class=\"arrowMarkerPath\" style=\"stroke-width: 1; stroke-dasharray: 1, 0;\"/></marker><marker id=\"mermaid-svg_flowchart-circleEnd\" class=\"marker flowchart\" viewBox=\"0 0 10 10\" refX=\"11\" refY=\"5\" markerUnits=\"userSpaceOnUse\" markerWidth=\"11\" markerHeight=\"11\" orient=\"auto\"><circle cx=\"5\" cy=\"5\" r=\"5\" class=\"arrowMarkerPath\" style=\"stroke-width: 1; stroke-dasharray: 1, 0;\"/></marker><marker id=\"mermaid-svg_flowchart-circleStart\" class=\"marker flowchart\" viewBox=\"0 0 10 10\" refX=\"-1\" refY=\"5\" markerUnits=\"userSpaceOnUse\" markerWidth=\"11\" markerHeight=\"11\" orient=\"auto\"><circle cx=\"5\" cy=\"5\" r=\"5\" class=\"arrowMarkerPath\" style=\"stroke-width: 1; stroke-dasharray: 1, 0;\"/></marker><marker id=\"mermaid-svg_flowchart-crossEnd\" class=\"marker cross flowchart\" viewBox=\"0 0 11 11\" refX=\"12\" refY=\"5.2\" markerUnits=\"userSpaceOnUse\" markerWidth=\"11\" markerHeight=\"11\" orient=\"auto\"><path d=\"M 1,1 l 9,9 M 10,1 l -9,9\" class=\"arrowMarkerPath\" style=\"stroke-width: 2; stroke-dasharray: 1, 0;\"/></marker><marker id=\"mermaid-svg_flowchart-crossStart\" class=\"marker cross flowchart\" viewBox=\"0 0 11 11\" refX=\"-1\" refY=\"5.2\" markerUnits=\"userSpaceOnUse\" markerWidth=\"11\" markerHeight=\"11\" orient=\"auto\"><path d=\"M 1,1 l 9,9 M 10,1 l -9,9\" class=\"arrowMarkerPath\" style=\"stroke-width: 2; stroke-dasharray: 1, 0;\"/></marker><g class=\"root\"><g class=\"clusters\"/><g class=\"edgePaths\"><path d=\"M18.75,27.25L24.488,27.25C30.227,27.25,41.703,27.25,52.399,29.876C63.095,32.501,73.01,37.752,77.968,40.378L82.926,43.003\" id=\"L-H2-Mixer-0\" class=\" edge-thickness-normal edge-pattern-solid flowchart-link LS-H2 LE-Mixer\" style=\"fill:none;\" marker-end=\"url(#mermaid-svg_flowchart-pointEnd)\"/><path d=\"M18.75,92.25L24.488,92.25C30.227,92.25,41.703,92.25,52.399,89.624C63.095,86.999,73.01,81.748,77.968,79.122L82.926,76.497\" id=\"L-C2-Mixer-0\" class=\" edge-thickness-normal edge-pattern-solid flowchart-link LS-C2 LE-Mixer\" style=\"fill:none;\" marker-end=\"url(#mermaid-svg_flowchart-pointEnd)\"/><path d=\"M141.484,59.75L149.116,59.75C156.747,59.75,172.01,59.75,186.39,59.75C200.77,59.75,214.266,59.75,221.014,59.75L227.763,59.75\" id=\"L-Mixer-Reactor-0\" class=\" edge-thickness-normal edge-pattern-solid flowchart-link LS-Mixer LE-Reactor\" style=\"fill:none;\" marker-end=\"url(#mermaid-svg_flowchart-pointEnd)\"/><path d=\"M302.938,59.75L311.68,59.75C320.422,59.75,337.906,59.75,354.507,59.75C371.108,59.75,386.826,59.75,394.685,59.75L402.544,59.75\" id=\"L-Reactor-ProductSplitter-0\" class=\" edge-thickness-normal edge-pattern-solid flowchart-link LS-Reactor LE-ProductSplitter\" style=\"fill:none;\" marker-end=\"url(#mermaid-svg_flowchart-pointEnd)\"/><path d=\"M531.266,43.717L540.707,41.264C550.148,38.812,569.031,33.906,587.031,31.453C605.03,29,622.146,29,630.704,29L639.263,29\" id=\"L-ProductSplitter-ComponentSplitter-0\" class=\" edge-thickness-normal edge-pattern-solid flowchart-link LS-ProductSplitter LE-ComponentSplitter\" style=\"fill:none;\" marker-end=\"url(#mermaid-svg_flowchart-pointEnd)\"/><path d=\"M794.578,18.254L804.762,16.795C814.945,15.336,835.313,12.418,854.866,14.921C874.42,17.424,893.16,25.348,902.53,29.31L911.9,33.272\" id=\"L-ComponentSplitter-Mixer2-0\" class=\" edge-thickness-normal edge-pattern-solid flowchart-link LS-ComponentSplitter LE-Mixer2\" style=\"fill:none;\" marker-end=\"url(#mermaid-svg_flowchart-pointEnd)\"/><path d=\"M794.578,39.746L804.762,41.205C814.945,42.664,835.313,45.582,854.796,47.041C874.28,48.5,892.881,48.5,902.181,48.5L911.481,48.5\" id=\"L-ComponentSplitter-Mixer2-1\" class=\" edge-thickness-normal edge-pattern-solid flowchart-link LS-ComponentSplitter LE-Mixer2\" style=\"fill:none;\" marker-end=\"url(#mermaid-svg_flowchart-pointEnd)\"/><path d=\"M528.302,76.75L538.238,79.625C548.173,82.5,568.044,88.25,599.921,91.125C631.799,94,675.685,94,720.313,94C764.94,94,810.31,94,842.386,89.367C874.463,84.734,893.245,75.469,902.637,70.836L912.028,66.203\" id=\"L-ProductSplitter-Mixer2-0\" class=\" edge-thickness-normal edge-pattern-solid flowchart-link LS-ProductSplitter LE-Mixer2\" style=\"fill:none;\" marker-end=\"url(#mermaid-svg_flowchart-pointEnd)\"/><path d=\"M979.047,48.5L988.488,48.5C997.93,48.5,1016.813,48.5,1034.812,48.5C1052.811,48.5,1069.928,48.5,1078.486,48.5L1087.044,48.5\" id=\"L-Mixer2-Product3-0\" class=\" edge-thickness-normal edge-pattern-solid flowchart-link LS-Mixer2 LE-Product3\" style=\"fill:none;\" marker-end=\"url(#mermaid-svg_flowchart-pointEnd)\"/></g><g class=\"edgeLabels\"><g class=\"edgeLabel\" transform=\"translate(53.1796875, 27.25)\"><g class=\"label\" transform=\"translate(-9.4296875, -9.5)\"><foreignObject width=\"18.859375\" height=\"19\"><div xmlns=\"http://www.w3.org/1999/xhtml\" style=\"display: inline-block; white-space: nowrap;\"><span class=\"edgeLabel\">H2</span></div></foreignObject></g></g><g class=\"edgeLabel\" transform=\"translate(53.1796875, 92.25)\"><g class=\"label\" transform=\"translate(-8.984375, -9.5)\"><foreignObject width=\"17.96875\" height=\"19\"><div xmlns=\"http://www.w3.org/1999/xhtml\" style=\"display: inline-block; white-space: nowrap;\"><span class=\"edgeLabel\">C2</span></div></foreignObject></g></g><g class=\"edgeLabel\" transform=\"translate(187.2734375, 59.75)\"><g class=\"label\" transform=\"translate(-20.7890625, -9.5)\"><foreignObject width=\"41.578125\" height=\"19\"><div xmlns=\"http://www.w3.org/1999/xhtml\" style=\"display: inline-block; white-space: nowrap;\"><span class=\"edgeLabel\">Mixed</span></div></foreignObject></g></g><g class=\"edgeLabel\" transform=\"translate(355.390625, 59.75)\"><g class=\"label\" transform=\"translate(-27.453125, -9.5)\"><foreignObject width=\"54.90625\" height=\"19\"><div xmlns=\"http://www.w3.org/1999/xhtml\" style=\"display: inline-block; white-space: nowrap;\"><span class=\"edgeLabel\">Product</span></div></foreignObject></g></g><g class=\"edgeLabel\" transform=\"translate(587.9140625, 29)\"><g class=\"label\" transform=\"translate(-31.6484375, -9.5)\"><foreignObject width=\"63.296875\" height=\"19\"><div xmlns=\"http://www.w3.org/1999/xhtml\" style=\"display: inline-block; white-space: nowrap;\"><span class=\"edgeLabel\">Product1</span></div></foreignObject></g></g><g class=\"edgeLabel\" transform=\"translate(855.6796875, 9.5)\"><g class=\"label\" transform=\"translate(-35.8515625, -9.5)\"><foreignObject width=\"71.703125\" height=\"19\"><div xmlns=\"http://www.w3.org/1999/xhtml\" style=\"display: inline-block; white-space: nowrap;\"><span class=\"edgeLabel\">Product1a</span></div></foreignObject></g></g><g class=\"edgeLabel\" transform=\"translate(855.6796875, 48.5)\"><g class=\"label\" transform=\"translate(-36.1015625, -9.5)\"><foreignObject width=\"72.203125\" height=\"19\"><div xmlns=\"http://www.w3.org/1999/xhtml\" style=\"display: inline-block; white-space: nowrap;\"><span class=\"edgeLabel\">Product1b</span></div></foreignObject></g></g><g class=\"edgeLabel\" transform=\"translate(719.5703125, 94)\"><g class=\"label\" transform=\"translate(-31.6484375, -9.5)\"><foreignObject width=\"63.296875\" height=\"19\"><div xmlns=\"http://www.w3.org/1999/xhtml\" style=\"display: inline-block; white-space: nowrap;\"><span class=\"edgeLabel\">Product2</span></div></foreignObject></g></g><g class=\"edgeLabel\" transform=\"translate(1035.6953125, 48.5)\"><g class=\"label\" transform=\"translate(-31.6484375, -9.5)\"><foreignObject width=\"63.296875\" height=\"19\"><div xmlns=\"http://www.w3.org/1999/xhtml\" style=\"display: inline-block; white-space: nowrap;\"><span class=\"edgeLabel\">Product3</span></div></foreignObject></g></g></g><g class=\"nodes\"><g class=\"node default default flowchart-label\" id=\"flowchart-H2-0\" data-node=\"true\" data-id=\"H2\" transform=\"translate(9.375, 27.25)\"><rect style=\"\" rx=\"7.5\" ry=\"7.5\" x=\"-9.375\" y=\"-7.5\" width=\"18.75\" height=\"15\"/><g class=\"label\" style=\"\" transform=\"translate(0, 0)\"><rect/><foreignObject width=\"0\" height=\"0\"><div xmlns=\"http://www.w3.org/1999/xhtml\" style=\"display: inline-block; white-space: nowrap;\"><span class=\"nodeLabel\"></span></div></foreignObject></g></g><g class=\"node default default flowchart-label\" id=\"flowchart-Mixer-1\" data-node=\"true\" data-id=\"Mixer\" transform=\"translate(114.546875, 59.75)\"><rect class=\"basic label-container\" style=\"\" rx=\"0\" ry=\"0\" x=\"-26.9375\" y=\"-17\" width=\"53.875\" height=\"34\"/><g class=\"label\" style=\"\" transform=\"translate(-19.4375, -9.5)\"><rect/><foreignObject width=\"38.875\" height=\"19\"><div xmlns=\"http://www.w3.org/1999/xhtml\" style=\"display: inline-block; white-space: nowrap;\"><span class=\"nodeLabel\">Mixer</span></div></foreignObject></g></g><g class=\"node default default flowchart-label\" id=\"flowchart-C2-2\" data-node=\"true\" data-id=\"C2\" transform=\"translate(9.375, 92.25)\"><rect style=\"\" rx=\"7.5\" ry=\"7.5\" x=\"-9.375\" y=\"-7.5\" width=\"18.75\" height=\"15\"/><g class=\"label\" style=\"\" transform=\"translate(0, 0)\"><rect/><foreignObject width=\"0\" height=\"0\"><div xmlns=\"http://www.w3.org/1999/xhtml\" style=\"display: inline-block; white-space: nowrap;\"><span class=\"nodeLabel\"></span></div></foreignObject></g></g><g class=\"node default default flowchart-label\" id=\"flowchart-Reactor-5\" data-node=\"true\" data-id=\"Reactor\" transform=\"translate(268, 59.75)\"><rect class=\"basic label-container\" style=\"\" rx=\"0\" ry=\"0\" x=\"-34.9375\" y=\"-17\" width=\"69.875\" height=\"34\"/><g class=\"label\" style=\"\" transform=\"translate(-27.4375, -9.5)\"><rect/><foreignObject width=\"54.875\" height=\"19\"><div xmlns=\"http://www.w3.org/1999/xhtml\" style=\"display: inline-block; white-space: nowrap;\"><span class=\"nodeLabel\">Reactor</span></div></foreignObject></g></g><g class=\"node default default flowchart-label\" id=\"flowchart-ProductSplitter-7\" data-node=\"true\" data-id=\"ProductSplitter\" transform=\"translate(469.5546875, 59.75)\"><rect class=\"basic label-container\" style=\"\" rx=\"0\" ry=\"0\" x=\"-61.7109375\" y=\"-17\" width=\"123.421875\" height=\"34\"/><g class=\"label\" style=\"\" transform=\"translate(-54.2109375, -9.5)\"><rect/><foreignObject width=\"108.421875\" height=\"19\"><div xmlns=\"http://www.w3.org/1999/xhtml\" style=\"display: inline-block; white-space: nowrap;\"><span class=\"nodeLabel\">ProductSplitter</span></div></foreignObject></g></g><g class=\"node default default flowchart-label\" id=\"flowchart-ComponentSplitter-9\" data-node=\"true\" data-id=\"ComponentSplitter\" transform=\"translate(719.5703125, 29)\"><rect class=\"basic label-container\" style=\"\" rx=\"0\" ry=\"0\" x=\"-75.0078125\" y=\"-17\" width=\"150.015625\" height=\"34\"/><g class=\"label\" style=\"\" transform=\"translate(-67.5078125, -9.5)\"><rect/><foreignObject width=\"135.015625\" height=\"19\"><div xmlns=\"http://www.w3.org/1999/xhtml\" style=\"display: inline-block; white-space: nowrap;\"><span class=\"nodeLabel\">ComponentSplitter</span></div></foreignObject></g></g><g class=\"node default default flowchart-label\" id=\"flowchart-Mixer2-11\" data-node=\"true\" data-id=\"Mixer2\" transform=\"translate(947.9140625, 48.5)\"><rect class=\"basic label-container\" style=\"\" rx=\"0\" ry=\"0\" x=\"-31.1328125\" y=\"-17\" width=\"62.265625\" height=\"34\"/><g class=\"label\" style=\"\" transform=\"translate(-23.6328125, -9.5)\"><rect/><foreignObject width=\"47.265625\" height=\"19\"><div xmlns=\"http://www.w3.org/1999/xhtml\" style=\"display: inline-block; white-space: nowrap;\"><span class=\"nodeLabel\">Mixer2</span></div></foreignObject></g></g><g class=\"node default default flowchart-label\" id=\"flowchart-Product3-17\" data-node=\"true\" data-id=\"Product3\" transform=\"translate(1101.71875, 48.5)\"><rect style=\"\" rx=\"7.5\" ry=\"7.5\" x=\"-9.375\" y=\"-7.5\" width=\"18.75\" height=\"15\"/><g class=\"label\" style=\"\" transform=\"translate(0, 0)\"><rect/><foreignObject width=\"0\" height=\"0\"><div xmlns=\"http://www.w3.org/1999/xhtml\" style=\"display: inline-block; white-space: nowrap;\"><span class=\"nodeLabel\"></span></div></foreignObject></g></g></g></g></g></svg>"
      ]
     },
     "metadata": {}
    },
    {
     "output_type": "execute_result",
     "data": {
      "text/plain": "\"./myflowsheet.svg\""
     },
     "metadata": {},
     "execution_count": 60
    }
   ],
   "cell_type": "code",
   "source": [
    "generateBFD(fs, \"./myflowsheet.svg\")"
   ],
   "metadata": {},
   "execution_count": 60
  },
  {
   "cell_type": "markdown",
   "source": [
    "---\n",
    "\n",
    "*This notebook was generated using [Literate.jl](https://github.com/fredrikekre/Literate.jl).*"
   ],
   "metadata": {}
  }
 ],
 "nbformat_minor": 3,
 "metadata": {
  "language_info": {
   "file_extension": ".jl",
   "mimetype": "application/julia",
   "name": "julia",
   "version": "1.10.2"
  },
  "kernelspec": {
   "name": "julia-1.10",
   "display_name": "Julia 1.10.2",
   "language": "julia"
  }
 },
 "nbformat": 4
}
